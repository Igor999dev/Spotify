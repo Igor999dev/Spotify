{
 "cells": [
  {
   "cell_type": "markdown",
   "metadata": {
    "application/vnd.databricks.v1+cell": {
     "cellMetadata": {
      "byteLimit": 2048000,
      "rowLimit": 10000
     },
     "inputWidgets": {},
     "nuid": "87a31060-76e6-459f-aad9-77a9abae09e5",
     "showTitle": false,
     "tableResultSettingsMap": {},
     "title": ""
    }
   },
   "source": [
    "# **Análise de dados sobre os hábitos de escuta dos usuários do spotify**\n",
    "### **Aluno:** Igor Klippel Campos\n",
    "### **MVP (Produto Mínimo Viável) do Sprint:** Engenharia de Dados (40530010057_20250_01)"
   ]
  },
  {
   "cell_type": "markdown",
   "metadata": {
    "application/vnd.databricks.v1+cell": {
     "cellMetadata": {
      "byteLimit": 2048000,
      "rowLimit": 10000
     },
     "inputWidgets": {},
     "nuid": "58b638cd-a6aa-4c7e-9d4b-f560b32a455b",
     "showTitle": false,
     "tableResultSettingsMap": {},
     "title": ""
    }
   },
   "source": [
    "#Introdução\n",
    "\n",
    "O Spotify é uma das principais plataformas de streaming de áudio do mundo, oferecendo acesso a um vasto catálogo de músicas e podcasts. Lançado em 2006, o serviço está presente em mais de 180 países e territórios, com um acervo superior a 100 milhões de faixas. Em julho de 2023, a plataforma contabilizava mais de 527 milhões de usuários ativos globalmente.\n",
    "\n",
    "###*Sobre o Dataset:*\n",
    "\n",
    "O conjunto de dados utilizado neste MVP foi obtido no Kaggle em 28 de março de 2025. Ele contém informações diárias sobre as 50 músicas mais tocadas em 73 países, abrangendo o período de 17 de outubro de 2023 até 28 de março de 2025.(dia do download).\n",
    "\n",
    "**Link do dataset:**: https://www.kaggle.com/datasets/asaniczka/top-spotify-songs-in-73-countries-daily-updated\n",
    "\n",
    "###*Objetivos Principais:*\n",
    "\n",
    "Explorar e analisar os dados para entender as principais tendências musicais no Spotify, utilizando atributos técnicos das faixas. Especificamente, quero saber se músicas com conteúdo explícito são mais populares do que aquelas sem conteúdo explícito ou censuradas.\n",
    "\n",
    "###*Sobre a Carga do Dataset:*\n",
    "\n",
    "O dataset foi baixado no formato CSV e carregado no ambiente Databricks via DBFS (Databricks File System), sendo posteriormente processado com Apache Spark.\n",
    "\n",
    "###*Qualidade de dados:*\n",
    "\n",
    "- Total de 1.869.020 registros distribuídos em 25 colunas.\n",
    "- Presença de valores nulos em algumas colunas.\n",
    "- Algumas faixas possuem duração de 0 segundos, o que exige atenção no tratamento de dados.\n",
    "\n",
    "###*Desafios Técnicos:*\n",
    "\n",
    "- Utilização do Databricks Community Edition, com recursos de cluster limitados.\n",
    "- Processamento dos dados utilizando Apache Spark ao invés de SQL ou Pandas.\n",
    "- Estruturação do projeto seguindo o modelo de camadas em medalhão (bronze, silver, gold).\n",
    "\n",
    "###*Autoavaliação:*\n",
    "\n",
    "- Trabalhar em um ambiente em nuvem como o Databricks foi uma experiência enriquecedora. Apesar da limitação da versão gratuita como a necessidade de reinicializar o cluster a cada sessão, foi possível conduzir o projeto de forma eficiente.\n",
    "- Utilizar Spark apresentou um grau maior de complexidade em comparação a ferramentas mais familiares pra mim como Pandas e SQL, mas proporcionou aprendizado sobre processamento distribuído e escalabilidade.\n",
    "- A aplicação do modelo de medalhão foi essencial para estruturar as etapas da pipeline de forma clara e organizada.\n",
    "- A ausência de uma coluna com o gênero musical foi uma limitação para certas análises qualitativas infelizmente, não foi possível inferir com precisão os gêneros apenas com os atributos disponíveis.\n",
    "- Consegui alcançar o objetivo original do projeto. Para trabalhos futuros, pretendo aplicar algoritmos de aprendizado de máquina com o intuito de identificar padrões que contribuam para a popularidade de músicas em diferentes países."
   ]
  },
  {
   "cell_type": "markdown",
   "metadata": {
    "application/vnd.databricks.v1+cell": {
     "cellMetadata": {
      "byteLimit": 2048000,
      "rowLimit": 10000
     },
     "inputWidgets": {},
     "nuid": "4af4a103-29e2-4dbc-b73c-df3d2cce3fec",
     "showTitle": false,
     "tableResultSettingsMap": {},
     "title": ""
    }
   },
   "source": [
    "## Catálogo de Dados\n",
    "\n",
    "| Coluna               | Tipo     | Descrição                                      | Valores Válidos                          | Observações                                  |\n",
    "|----------------------|----------|-----------------------------------------------|------------------------------------------|---------------------------------------------|\n",
    "| **spotify_id**       | string   | Identificador único da música no Spotify      | Formato alfanumérico (ex: \"3LPLRNr58Z9Pn0clnEtkXb\") | Chave primária                             |\n",
    "| **name**             | string   | Nome da música                                | Texto livre                              | -                                           |\n",
    "| **artists**          | string   | Artistas participantes                        | Texto com múltiplos artistas separados por vírgula | Pode conter \"Various Artists\"             |\n",
    "| **daily_rank**       | int      | Posição no ranking diário                     | 1 a 50                                   | 1 = mais tocada                            |\n",
    "| **daily_movement**   | int      | Variação diária na posição                    | -49 a +49                                | Positivo = subiu no ranking                |\n",
    "| **weekly_movement**  | int      | Variação semanal na posição                   | -49 a +49                                | Comparação com 7 dias atrás                |\n",
    "| **country**          | string   | País de origem do ranking                     | Código ISO 2 letras (ex: \"BR\") ou \"GLOBAL\" | 1.37% nulos (tratados como \"GLOBAL\")      |\n",
    "| **snapshot_date**    | string   | Data da coleta                                | Formato \"yyyy-mm-dd\"                     | -                                           |\n",
    "| **popularity**       | int      | Score de popularidade                         | 0 a 100                                  | 100 = mais popular                         |\n",
    "| **is_explicit**      | boolean  | Conteúdo explícito                            | true/false                               | -                                           |\n",
    "| **duration_ms**      | int      | Duração em milissegundos                      | > 30.000 (30 segundos)                   | Convertido para minutos na silver          |\n",
    "| **album_name**       | string   | Nome do álbum                                 | Texto livre                              | 0.04% nulos (substituídos por \"[Unknown Album]\") |\n",
    "| **album_release_date** | string | Data de lançamento do álbum                   | Formato \"yyyy-mm-dd\"                     | 0.03% nulos (substituídos pela snapshot_date) |\n",
    "| **danceability**     | double   | Score de dançabilidade                        | 0.0 a 1.0                                | Baseado em algoritmos do Spotify           |\n",
    "| **energy**           | double   | Intensidade e atividade                       | 0.0 a 1.0                                | Baseado em algoritmos do Spotify                                           |\n",
    "| **key**              | int      | Tom musical                                   | 0 a 11                                   | 0 = C, 1 = C#, etc.                        |\n",
    "| **loudness**         | double   | Volume médio em dB                            | -60.0 a 0.0                              | Valores negativos são normais              |\n",
    "| **mode**             | int      | Modalidade musical                            | 0 (menor) ou 1 (maior)                   | -                                           |\n",
    "| **speechiness**      | double   | Presença de voz falada                        | 0.0 a 1.0                                | >0.66 = provavelmente podcast              |\n",
    "| **acousticness**     | double   | Confiança de ser acústico                     | 0.0 a 1.0                                | -                                           |\n",
    "| **instrumentalness** | double   | Predominância instrumental                    | 0.0 a 1.0                                | >0.5 = provavelmente sem vocais            |\n",
    "| **liveness**         | double   | Probabilidade de gravação ao vivo             | 0.0 a 1.0                                | -                                           |\n",
    "| **valence**          | double   | Positividade emocional                        | 0.0 a 1.0                                | 0 = triste, 1 = feliz                      |\n",
    "| **tempo**            | double   | BPM (batidas por minuto)                      | > 0                                      | -                                           |\n",
    "| **time_signature**   | int      | Compasso musical                              | 1 a 7                                    | 4 = 4/4 (mais comum)                       |"
   ]
  },
  {
   "cell_type": "code",
   "execution_count": 0,
   "metadata": {
    "application/vnd.databricks.v1+cell": {
     "cellMetadata": {
      "byteLimit": 2048000,
      "rowLimit": 10000
     },
     "inputWidgets": {},
     "nuid": "b488ec8b-42e6-455c-b418-bec045a6088b",
     "showTitle": false,
     "tableResultSettingsMap": {},
     "title": ""
    }
   },
   "outputs": [],
   "source": [
    "# Começo do código com a importação de bibliotecas e inicialização do Spark.\n",
    "\n",
    "# Bibliotecas essenciais\n",
    "from pyspark.sql import SparkSession\n",
    "from pyspark.sql.functions import col, when, split, round, to_date, count, sum as spark_sum\n",
    "from pyspark.ml.stat import Correlation\n",
    "from pyspark.ml.feature import VectorAssembler\n",
    "from pyspark.sql.window import Window\n",
    "import pandas as pd\n",
    "import matplotlib.pyplot as plt\n",
    "import seaborn as sns\n",
    "\n",
    "# Configurações de visualização\n",
    "plt.style.use('ggplot')\n",
    "sns.set_palette(\"husl\")\n",
    "\n",
    "# Inicializar Spark\n",
    "spark = (SparkSession.builder\n",
    "         .appName(\"Spotify_MVP\")\n",
    "         .config(\"spark.sql.legacy.timeParserPolicy\", \"LEGACY\")\n",
    "\n",
    "         .getOrCreate())"
   ]
  },
  {
   "cell_type": "code",
   "execution_count": 0,
   "metadata": {
    "application/vnd.databricks.v1+cell": {
     "cellMetadata": {
      "byteLimit": 2048000,
      "rowLimit": 10000
     },
     "inputWidgets": {},
     "nuid": "66816e46-92c5-4740-bc41-c16340a1dff8",
     "showTitle": false,
     "tableResultSettingsMap": {},
     "title": ""
    }
   },
   "outputs": [
    {
     "output_type": "stream",
     "name": "stdout",
     "output_type": "stream",
     "text": [
      "Camada bronze salva com sucesso!\n"
     ]
    }
   ],
   "source": [
    "# Importação do dataset e criação da tabela bronze.\n",
    "\n",
    "BRONZE_PATH = \"dbfs:/mnt/spotify/bronze\"\n",
    "dbutils.fs.mkdirs(BRONZE_PATH)\n",
    "\n",
    "try:\n",
    "    bronze_df = (spark.read\n",
    "                .option(\"header\", \"true\")\n",
    "                .option(\"inferSchema\", \"true\")\n",
    "                .option(\"escape\", \"\\\"\")\n",
    "                .csv(\"dbfs:/FileStore/tables/universal_top_spotify_songs.csv\"))\n",
    "    \n",
    "    bronze_df.write.mode(\"overwrite\").format(\"delta\").save(\"dbfs:/mnt/spotify/bronze/universal_top_songs\")\n",
    "    print(\"Camada bronze salva com sucesso!\")\n",
    "    \n",
    "    \n",
    "except Exception as e:\n",
    "    print(f\"Erro na camada bronze: {str(e)}\")\n",
    "    raise"
   ]
  },
  {
   "cell_type": "markdown",
   "metadata": {
    "application/vnd.databricks.v1+cell": {
     "cellMetadata": {
      "byteLimit": 2048000,
      "rowLimit": 10000
     },
     "inputWidgets": {},
     "nuid": "7832a7b8-a265-42bb-a8a5-df4c83400660",
     "showTitle": false,
     "tableResultSettingsMap": {},
     "title": ""
    }
   },
   "source": [
    "Agora vamos fazer uma análise dos dados que temos no dataset."
   ]
  },
  {
   "cell_type": "code",
   "execution_count": 0,
   "metadata": {
    "application/vnd.databricks.v1+cell": {
     "cellMetadata": {
      "byteLimit": 2048000,
      "rowLimit": 10000
     },
     "inputWidgets": {},
     "nuid": "b1643c2f-ff46-4e6d-ac4e-d14920b1f9a4",
     "showTitle": false,
     "tableResultSettingsMap": {},
     "title": ""
    }
   },
   "outputs": [
    {
     "output_type": "stream",
     "name": "stdout",
     "output_type": "stream",
     "text": [
      "Total de registros: 1869020\n\nEstatísticas descritivas (colunas numéricas):\n+-------+------------------+------------------+------------------+------------------+------------------+-------------------+-------------------+------------------+------------------+-------------------+-------------------+------------------+--------------------+-------------------+-------------------+------------------+------------------+\n|summary|        daily_rank|    daily_movement|   weekly_movement|        popularity|       duration_ms|       danceability|             energy|               key|          loudness|               mode|        speechiness|      acousticness|    instrumentalness|           liveness|            valence|             tempo|    time_signature|\n+-------+------------------+------------------+------------------+------------------+------------------+-------------------+-------------------+------------------+------------------+-------------------+-------------------+------------------+--------------------+-------------------+-------------------+------------------+------------------+\n|  count|           1869020|           1869020|           1869020|           1869020|           1869020|            1869020|            1869020|           1869020|           1869020|            1869020|            1869020|           1869020|             1869020|            1869020|            1869020|           1869020|           1869020|\n|   mean| 25.49253138008154|0.9137071834437299|2.7649035323324522| 75.87082321216467|193904.50440872757| 0.6779684253245254| 0.6484438863906077| 5.542497137537319|-6.694250445688155| 0.5377978833827354|0.09520735016212714|0.2742090879393842|0.021698922845834377|0.17081068062405041| 0.5477714262555223|122.15853910231819|3.9007528009331094|\n| stddev|14.428974161865803|6.9816959838724015|12.134125478519588|15.820820253216482| 49753.10663281375|0.14240249112356612|0.16786792818890223|3.5848306651623005|3.6039139754425134|0.49856940640937303|0.09113877016845691|0.2509862379949223| 0.10888957529626074| 0.1247409934445181|0.23045279102624738| 27.95169128218351|0.4054484583059759|\n|    min|                 1|               -49|               -49|                 0|                 0|                0.0|            2.01E-5|                 0|           -54.341|                  0|                0.0|           3.45E-6|                 0.0|             0.0139|                0.0|               0.0|                 0|\n|    max|                50|                49|                49|               100|            939666|              0.988|              0.998|                11|             3.233|                  1|              0.955|             0.996|               0.995|              0.983|              0.992|           236.089|                 5|\n+-------+------------------+------------------+------------------+------------------+------------------+-------------------+-------------------+------------------+------------------+-------------------+-------------------+------------------+--------------------+-------------------+-------------------+------------------+------------------+\n\n\nValores únicos (colunas categóricas):\n\nColuna: spotify_id\n+----------------------+\n|spotify_id            |\n+----------------------+\n|3LPLRNr58Z9Pn0clnEtkXb|\n|4wJ5Qq0jBN4ajy7ouZIV1c|\n|7so0lgd0zP2Sbgs2d7a1SZ|\n|2RkZ5LkEzeHGRsmDqKwmaJ|\n|6dOtVTDdiauQNBQEDOtlAB|\n+----------------------+\nonly showing top 5 rows\n\n\nColuna: name\n+------------------+\n|name              |\n+------------------+\n|BIRDS OF A FEATHER|\n|Die With A Smile  |\n|Ordinary          |\n|APT.              |\n|luther (with sza) |\n+------------------+\nonly showing top 5 rows\n\n\nColuna: artists\n+---------------------+\n|artists              |\n+---------------------+\n|Billie Eilish        |\n|Lady Gaga, Bruno Mars|\n|Alex Warren          |\n|ROSÉ, Bruno Mars     |\n|Doechii              |\n+---------------------+\nonly showing top 5 rows\n\n\nColuna: country\n+-------+\n|country|\n+-------+\n|null   |\n|VE     |\n|ZA     |\n|US     |\n|UY     |\n+-------+\nonly showing top 5 rows\n\n\nColuna: snapshot_date\n+-------------+\n|snapshot_date|\n+-------------+\n|2025-03-26   |\n|2025-03-23   |\n|2025-03-25   |\n|2025-03-24   |\n|2025-03-28   |\n+-------------+\nonly showing top 5 rows\n\n\nColuna: album_name\n+-------------------------------------+\n|album_name                           |\n+-------------------------------------+\n|You'll Be Alright, Kid (Chapter 1)   |\n|HIT ME HARD AND SOFT                 |\n|Alligator Bites Never Heal (Extended)|\n|GNX                                  |\n|MAYHEM                               |\n+-------------------------------------+\nonly showing top 5 rows\n\n\nColuna: album_release_date\n+------------------+\n|album_release_date|\n+------------------+\n|2025-03-07        |\n|2025-03-14        |\n|2024-12-06        |\n|2024-11-21        |\n|2024-09-27        |\n+------------------+\nonly showing top 5 rows\n\n"
     ]
    }
   ],
   "source": [
    "# Contagem total de registros\n",
    "total_records = bronze_df.count()\n",
    "print(f\"Total de registros: {total_records}\")\n",
    "\n",
    "# Estatísticas descritivas para colunas numéricas\n",
    "numeric_cols = [col_name for col_name, dtype in bronze_df.dtypes if dtype in (\"int\", \"double\", \"float\")]\n",
    "print(\"\\nEstatísticas descritivas (colunas numéricas):\")\n",
    "bronze_df.select(numeric_cols).describe().show()\n",
    "\n",
    "# Valores únicos para colunas categóricas\n",
    "categorical_cols = [col_name for col_name, dtype in bronze_df.dtypes if dtype == \"string\"]\n",
    "print(\"\\nValores únicos (colunas categóricas):\")\n",
    "for col_name in categorical_cols:\n",
    "    print(f\"\\nColuna: {col_name}\")\n",
    "    bronze_df.select(col_name).distinct().show(5, truncate=False)  # Mostra 5 valores únicos"
   ]
  },
  {
   "cell_type": "code",
   "execution_count": 0,
   "metadata": {
    "application/vnd.databricks.v1+cell": {
     "cellMetadata": {
      "byteLimit": 2048000,
      "rowLimit": 10000
     },
     "inputWidgets": {},
     "nuid": "e680a28e-1f4d-42c8-a34b-265122896ebc",
     "showTitle": false,
     "tableResultSettingsMap": {},
     "title": ""
    }
   },
   "outputs": [
    {
     "output_type": "stream",
     "name": "stdout",
     "output_type": "stream",
     "text": [
      "\nLinhas duplicadas: 0\n"
     ]
    }
   ],
   "source": [
    "# Verifica linhas duplicadas\n",
    "duplicates = bronze_df.groupBy(bronze_df.columns).count().filter(\"count > 1\")\n",
    "print(f\"\\nLinhas duplicadas: {duplicates.count()}\")\n",
    "if duplicates.count() > 0:\n",
    "    display(duplicates.limit(5))"
   ]
  },
  {
   "cell_type": "code",
   "execution_count": 0,
   "metadata": {
    "application/vnd.databricks.v1+cell": {
     "cellMetadata": {
      "byteLimit": 2048000,
      "rowLimit": 10000
     },
     "inputWidgets": {},
     "nuid": "789d426d-bdb4-4bf2-8186-e76143f359d5",
     "showTitle": false,
     "tableResultSettingsMap": {},
     "title": ""
    }
   },
   "outputs": [
    {
     "output_type": "display_data",
     "data": {
      "text/html": [
       "<style scoped>\n",
       "  .table-result-container {\n",
       "    max-height: 300px;\n",
       "    overflow: auto;\n",
       "  }\n",
       "  table, th, td {\n",
       "    border: 1px solid black;\n",
       "    border-collapse: collapse;\n",
       "  }\n",
       "  th, td {\n",
       "    padding: 5px;\n",
       "  }\n",
       "  th {\n",
       "    text-align: left;\n",
       "  }\n",
       "</style><div class='table-result-container'><table class='table-result'><thead style='background-color: white'><tr><th>Coluna</th><th>Tipo</th><th>Nulos</th><th>% Nulos</th><th>Valores Únicos</th></tr></thead><tbody><tr><td>spotify_id</td><td>string</td><td>0</td><td>0.00%</td><td>21923</td></tr><tr><td>name</td><td>string</td><td>30</td><td>0.00%</td><td>19230</td></tr><tr><td>artists</td><td>string</td><td>29</td><td>0.00%</td><td>12307</td></tr><tr><td>daily_rank</td><td>int</td><td>0</td><td>0.00%</td><td>50</td></tr><tr><td>daily_movement</td><td>int</td><td>0</td><td>0.00%</td><td>99</td></tr><tr><td>weekly_movement</td><td>int</td><td>0</td><td>0.00%</td><td>99</td></tr><tr><td>country</td><td>string</td><td>25557</td><td>1.37%</td><td>73</td></tr><tr><td>snapshot_date</td><td>string</td><td>0</td><td>0.00%</td><td>516</td></tr><tr><td>popularity</td><td>int</td><td>0</td><td>0.00%</td><td>101</td></tr><tr><td>is_explicit</td><td>boolean</td><td>0</td><td>0.00%</td><td>2</td></tr><tr><td>duration_ms</td><td>int</td><td>0</td><td>0.00%</td><td>16517</td></tr><tr><td>album_name</td><td>string</td><td>822</td><td>0.04%</td><td>14579</td></tr><tr><td>album_release_date</td><td>string</td><td>659</td><td>0.04%</td><td>2742</td></tr><tr><td>danceability</td><td>double</td><td>0</td><td>0.00%</td><td>797</td></tr><tr><td>energy</td><td>double</td><td>0</td><td>0.00%</td><td>951</td></tr><tr><td>key</td><td>int</td><td>0</td><td>0.00%</td><td>12</td></tr><tr><td>loudness</td><td>double</td><td>0</td><td>0.00%</td><td>8920</td></tr><tr><td>mode</td><td>int</td><td>0</td><td>0.00%</td><td>2</td></tr><tr><td>speechiness</td><td>double</td><td>0</td><td>0.00%</td><td>1280</td></tr><tr><td>acousticness</td><td>double</td><td>0</td><td>0.00%</td><td>2672</td></tr><tr><td>instrumentalness</td><td>double</td><td>0</td><td>0.00%</td><td>3950</td></tr><tr><td>liveness</td><td>double</td><td>0</td><td>0.00%</td><td>1448</td></tr><tr><td>valence</td><td>double</td><td>0</td><td>0.00%</td><td>1163</td></tr><tr><td>tempo</td><td>double</td><td>0</td><td>0.00%</td><td>14898</td></tr><tr><td>time_signature</td><td>int</td><td>0</td><td>0.00%</td><td>5</td></tr></tbody></table></div>"
      ]
     },
     "metadata": {
      "application/vnd.databricks.v1+output": {
       "addedWidgets": {},
       "aggData": [],
       "aggError": "",
       "aggOverflow": false,
       "aggSchema": [],
       "aggSeriesLimitReached": false,
       "aggType": "",
       "arguments": {},
       "columnCustomDisplayInfos": {},
       "data": [
        [
         "spotify_id",
         "string",
         0,
         "0.00%",
         21923
        ],
        [
         "name",
         "string",
         30,
         "0.00%",
         19230
        ],
        [
         "artists",
         "string",
         29,
         "0.00%",
         12307
        ],
        [
         "daily_rank",
         "int",
         0,
         "0.00%",
         50
        ],
        [
         "daily_movement",
         "int",
         0,
         "0.00%",
         99
        ],
        [
         "weekly_movement",
         "int",
         0,
         "0.00%",
         99
        ],
        [
         "country",
         "string",
         25557,
         "1.37%",
         73
        ],
        [
         "snapshot_date",
         "string",
         0,
         "0.00%",
         516
        ],
        [
         "popularity",
         "int",
         0,
         "0.00%",
         101
        ],
        [
         "is_explicit",
         "boolean",
         0,
         "0.00%",
         2
        ],
        [
         "duration_ms",
         "int",
         0,
         "0.00%",
         16517
        ],
        [
         "album_name",
         "string",
         822,
         "0.04%",
         14579
        ],
        [
         "album_release_date",
         "string",
         659,
         "0.04%",
         2742
        ],
        [
         "danceability",
         "double",
         0,
         "0.00%",
         797
        ],
        [
         "energy",
         "double",
         0,
         "0.00%",
         951
        ],
        [
         "key",
         "int",
         0,
         "0.00%",
         12
        ],
        [
         "loudness",
         "double",
         0,
         "0.00%",
         8920
        ],
        [
         "mode",
         "int",
         0,
         "0.00%",
         2
        ],
        [
         "speechiness",
         "double",
         0,
         "0.00%",
         1280
        ],
        [
         "acousticness",
         "double",
         0,
         "0.00%",
         2672
        ],
        [
         "instrumentalness",
         "double",
         0,
         "0.00%",
         3950
        ],
        [
         "liveness",
         "double",
         0,
         "0.00%",
         1448
        ],
        [
         "valence",
         "double",
         0,
         "0.00%",
         1163
        ],
        [
         "tempo",
         "double",
         0,
         "0.00%",
         14898
        ],
        [
         "time_signature",
         "int",
         0,
         "0.00%",
         5
        ]
       ],
       "datasetInfos": [],
       "dbfsResultPath": null,
       "isJsonSchema": true,
       "metadata": {},
       "overflow": false,
       "plotOptions": {
        "customPlotOptions": {},
        "displayType": "table",
        "pivotAggregation": null,
        "pivotColumns": null,
        "xColumns": null,
        "yColumns": null
       },
       "removedWidgets": [],
       "schema": [
        {
         "metadata": "{}",
         "name": "Coluna",
         "type": "\"string\""
        },
        {
         "metadata": "{}",
         "name": "Tipo",
         "type": "\"string\""
        },
        {
         "metadata": "{}",
         "name": "Nulos",
         "type": "\"long\""
        },
        {
         "metadata": "{}",
         "name": "% Nulos",
         "type": "\"string\""
        },
        {
         "metadata": "{}",
         "name": "Valores Únicos",
         "type": "\"long\""
        }
       ],
       "type": "table"
      }
     },
     "output_type": "display_data"
    }
   ],
   "source": [
    "# Cria um resumo em Pandas para visualização\n",
    "summary_data = []\n",
    "for col_name in bronze_df.columns:\n",
    "    dtype = dict(bronze_df.dtypes)[col_name]\n",
    "    null_count = bronze_df.filter(col(col_name).isNull()).count()\n",
    "    unique_count = bronze_df.select(col_name).distinct().count()\n",
    "    \n",
    "    summary_data.append({\n",
    "        \"Coluna\": col_name,\n",
    "        \"Tipo\": dtype,\n",
    "        \"Nulos\": null_count,\n",
    "        \"% Nulos\": f\"{(null_count / total_records) * 100:.2f}%\",\n",
    "        \"Valores Únicos\": unique_count\n",
    "    })\n",
    "\n",
    "# Exibe como tabela formatada\n",
    "summary_df = pd.DataFrame(summary_data)\n",
    "display(summary_df)"
   ]
  },
  {
   "cell_type": "markdown",
   "metadata": {
    "application/vnd.databricks.v1+cell": {
     "cellMetadata": {
      "byteLimit": 2048000,
      "rowLimit": 10000
     },
     "inputWidgets": {},
     "nuid": "b67a7a72-8ec3-4764-be6f-0da8adeadf9c",
     "showTitle": false,
     "tableResultSettingsMap": {},
     "title": ""
    }
   },
   "source": [
    "Temos 1.869.020 registros não temos nenhuma entrada duplicada, porém, temos alguns dados nulos, principalmente em Country(País), assim como alguns dados estão 0 sendo que não deveria ser possível, como no tempo de duração da música.\n",
    "\n",
    "Vou fazer uma análise dos dados nulos em país para ver se descobrimos o porque de ter 25.557 nulos quando a segunda coluna com a maior quantidade de nulos tem apenas 822."
   ]
  },
  {
   "cell_type": "code",
   "execution_count": 0,
   "metadata": {
    "application/vnd.databricks.v1+cell": {
     "cellMetadata": {
      "byteLimit": 2048000,
      "rowLimit": 10000
     },
     "inputWidgets": {},
     "nuid": "23b25aca-8c0c-44d6-8c0f-f86d9187009f",
     "showTitle": false,
     "tableResultSettingsMap": {},
     "title": ""
    }
   },
   "outputs": [
    {
     "output_type": "display_data",
     "data": {
      "text/html": [
       "<style scoped>\n",
       "  .table-result-container {\n",
       "    max-height: 300px;\n",
       "    overflow: auto;\n",
       "  }\n",
       "  table, th, td {\n",
       "    border: 1px solid black;\n",
       "    border-collapse: collapse;\n",
       "  }\n",
       "  th, td {\n",
       "    padding: 5px;\n",
       "  }\n",
       "  th {\n",
       "    text-align: left;\n",
       "  }\n",
       "</style><div class='table-result-container'><table class='table-result'><thead style='background-color: white'><tr><th>snapshot_date</th><th>count</th></tr></thead><tbody><tr><td>2023-11-20</td><td>54</td></tr><tr><td>2024-03-16</td><td>53</td></tr><tr><td>2023-10-27</td><td>52</td></tr><tr><td>2024-03-18</td><td>51</td></tr><tr><td>2025-02-25</td><td>50</td></tr><tr><td>2025-03-20</td><td>50</td></tr><tr><td>2025-01-23</td><td>50</td></tr><tr><td>2025-01-28</td><td>50</td></tr><tr><td>2025-01-25</td><td>50</td></tr><tr><td>2025-03-26</td><td>50</td></tr><tr><td>2025-03-12</td><td>50</td></tr><tr><td>2025-03-07</td><td>50</td></tr><tr><td>2025-01-22</td><td>50</td></tr><tr><td>2025-02-15</td><td>50</td></tr><tr><td>2025-02-05</td><td>50</td></tr><tr><td>2025-02-04</td><td>50</td></tr><tr><td>2025-03-06</td><td>50</td></tr><tr><td>2025-02-06</td><td>50</td></tr><tr><td>2025-03-23</td><td>50</td></tr><tr><td>2025-03-14</td><td>50</td></tr><tr><td>2025-02-01</td><td>50</td></tr><tr><td>2025-02-21</td><td>50</td></tr><tr><td>2025-03-11</td><td>50</td></tr><tr><td>2025-02-19</td><td>50</td></tr><tr><td>2025-02-09</td><td>50</td></tr><tr><td>2025-03-25</td><td>50</td></tr><tr><td>2025-02-17</td><td>50</td></tr><tr><td>2025-02-02</td><td>50</td></tr><tr><td>2025-03-19</td><td>50</td></tr><tr><td>2025-02-27</td><td>50</td></tr><tr><td>2025-02-10</td><td>50</td></tr><tr><td>2025-03-17</td><td>50</td></tr><tr><td>2025-01-26</td><td>50</td></tr><tr><td>2025-03-08</td><td>50</td></tr><tr><td>2025-02-22</td><td>50</td></tr><tr><td>2025-02-07</td><td>50</td></tr><tr><td>2025-03-24</td><td>50</td></tr><tr><td>2025-02-18</td><td>50</td></tr><tr><td>2025-02-20</td><td>50</td></tr><tr><td>2025-03-15</td><td>50</td></tr><tr><td>2025-03-10</td><td>50</td></tr><tr><td>2025-02-08</td><td>50</td></tr><tr><td>2025-03-02</td><td>50</td></tr><tr><td>2025-02-03</td><td>50</td></tr><tr><td>2025-02-23</td><td>50</td></tr><tr><td>2025-02-13</td><td>50</td></tr><tr><td>2025-03-01</td><td>50</td></tr><tr><td>2025-03-16</td><td>50</td></tr><tr><td>2025-02-26</td><td>50</td></tr><tr><td>2025-02-16</td><td>50</td></tr><tr><td>2025-01-31</td><td>50</td></tr><tr><td>2025-03-03</td><td>50</td></tr><tr><td>2025-01-24</td><td>50</td></tr><tr><td>2025-02-28</td><td>50</td></tr><tr><td>2025-03-05</td><td>50</td></tr><tr><td>2025-01-29</td><td>50</td></tr><tr><td>2025-03-13</td><td>50</td></tr><tr><td>2025-03-28</td><td>50</td></tr><tr><td>2025-01-30</td><td>50</td></tr><tr><td>2025-02-12</td><td>50</td></tr><tr><td>2025-02-11</td><td>50</td></tr><tr><td>2025-01-27</td><td>50</td></tr><tr><td>2025-03-04</td><td>50</td></tr><tr><td>2025-03-18</td><td>50</td></tr><tr><td>2025-02-24</td><td>50</td></tr><tr><td>2025-02-14</td><td>50</td></tr><tr><td>2025-03-22</td><td>50</td></tr><tr><td>2025-03-27</td><td>50</td></tr><tr><td>2025-03-21</td><td>50</td></tr><tr><td>2025-03-09</td><td>50</td></tr><tr><td>2024-12-12</td><td>50</td></tr><tr><td>2025-01-03</td><td>50</td></tr><tr><td>2024-12-09</td><td>50</td></tr><tr><td>2024-11-20</td><td>50</td></tr><tr><td>2024-11-08</td><td>50</td></tr><tr><td>2024-11-24</td><td>50</td></tr><tr><td>2025-01-11</td><td>50</td></tr><tr><td>2024-12-17</td><td>50</td></tr><tr><td>2025-01-13</td><td>50</td></tr><tr><td>2024-12-19</td><td>50</td></tr><tr><td>2024-12-06</td><td>50</td></tr><tr><td>2024-12-28</td><td>50</td></tr><tr><td>2025-01-01</td><td>50</td></tr><tr><td>2024-12-14</td><td>50</td></tr><tr><td>2024-12-15</td><td>50</td></tr><tr><td>2024-11-19</td><td>50</td></tr><tr><td>2024-11-22</td><td>50</td></tr><tr><td>2025-01-05</td><td>50</td></tr><tr><td>2025-01-19</td><td>50</td></tr><tr><td>2024-11-15</td><td>50</td></tr><tr><td>2024-12-25</td><td>50</td></tr><tr><td>2025-01-18</td><td>50</td></tr><tr><td>2025-01-14</td><td>50</td></tr><tr><td>2025-01-04</td><td>50</td></tr><tr><td>2024-12-13</td><td>50</td></tr><tr><td>2025-01-09</td><td>50</td></tr><tr><td>2024-12-26</td><td>50</td></tr><tr><td>2024-11-11</td><td>50</td></tr><tr><td>2024-12-18</td><td>50</td></tr><tr><td>2025-01-07</td><td>50</td></tr><tr><td>2024-12-22</td><td>50</td></tr><tr><td>2024-12-29</td><td>50</td></tr><tr><td>2024-11-27</td><td>50</td></tr><tr><td>2025-01-10</td><td>50</td></tr><tr><td>2024-12-16</td><td>50</td></tr><tr><td>2024-11-21</td><td>50</td></tr><tr><td>2024-11-16</td><td>50</td></tr><tr><td>2024-11-09</td><td>50</td></tr><tr><td>2024-11-13</td><td>50</td></tr><tr><td>2024-11-10</td><td>50</td></tr><tr><td>2025-01-20</td><td>50</td></tr><tr><td>2024-12-21</td><td>50</td></tr><tr><td>2024-11-18</td><td>50</td></tr><tr><td>2025-01-02</td><td>50</td></tr><tr><td>2024-12-31</td><td>50</td></tr><tr><td>2024-11-07</td><td>50</td></tr><tr><td>2024-11-12</td><td>50</td></tr><tr><td>2025-01-17</td><td>50</td></tr><tr><td>2024-12-23</td><td>50</td></tr><tr><td>2024-11-17</td><td>50</td></tr><tr><td>2024-12-24</td><td>50</td></tr><tr><td>2024-11-23</td><td>50</td></tr><tr><td>2025-01-15</td><td>50</td></tr><tr><td>2024-12-27</td><td>50</td></tr><tr><td>2025-01-21</td><td>50</td></tr><tr><td>2024-12-11</td><td>50</td></tr><tr><td>2024-11-26</td><td>50</td></tr><tr><td>2024-12-20</td><td>50</td></tr><tr><td>2025-01-16</td><td>50</td></tr><tr><td>2025-01-08</td><td>50</td></tr><tr><td>2025-01-06</td><td>50</td></tr><tr><td>2024-11-14</td><td>50</td></tr><tr><td>2024-12-30</td><td>50</td></tr><tr><td>2024-11-25</td><td>50</td></tr><tr><td>2025-01-12</td><td>50</td></tr><tr><td>2024-12-10</td><td>50</td></tr><tr><td>2024-10-24</td><td>50</td></tr><tr><td>2024-09-15</td><td>50</td></tr><tr><td>2024-10-22</td><td>50</td></tr><tr><td>2024-10-10</td><td>50</td></tr><tr><td>2024-09-21</td><td>50</td></tr><tr><td>2024-09-10</td><td>50</td></tr><tr><td>2024-09-22</td><td>50</td></tr><tr><td>2024-10-12</td><td>50</td></tr><tr><td>2024-10-08</td><td>50</td></tr><tr><td>2024-11-01</td><td>50</td></tr><tr><td>2024-10-30</td><td>50</td></tr><tr><td>2024-11-05</td><td>50</td></tr><tr><td>2024-10-09</td><td>50</td></tr><tr><td>2024-10-06</td><td>50</td></tr><tr><td>2024-09-14</td><td>50</td></tr><tr><td>2024-10-04</td><td>50</td></tr><tr><td>2024-09-05</td><td>50</td></tr><tr><td>2024-10-02</td><td>50</td></tr><tr><td>2024-11-06</td><td>50</td></tr><tr><td>2024-09-07</td><td>50</td></tr><tr><td>2024-09-25</td><td>50</td></tr><tr><td>2024-10-18</td><td>50</td></tr><tr><td>2024-09-18</td><td>50</td></tr><tr><td>2024-10-05</td><td>50</td></tr><tr><td>2024-09-19</td><td>50</td></tr><tr><td>2024-10-28</td><td>50</td></tr><tr><td>2024-10-13</td><td>50</td></tr><tr><td>2024-10-23</td><td>50</td></tr><tr><td>2024-09-17</td><td>50</td></tr><tr><td>2024-09-06</td><td>50</td></tr><tr><td>2024-09-16</td><td>50</td></tr><tr><td>2024-09-04</td><td>50</td></tr><tr><td>2024-10-16</td><td>50</td></tr><tr><td>2024-10-27</td><td>50</td></tr><tr><td>2024-10-26</td><td>50</td></tr><tr><td>2024-11-03</td><td>50</td></tr><tr><td>2024-10-29</td><td>50</td></tr><tr><td>2024-10-03</td><td>50</td></tr><tr><td>2024-09-11</td><td>50</td></tr><tr><td>2024-09-26</td><td>50</td></tr><tr><td>2024-10-01</td><td>50</td></tr><tr><td>2024-09-28</td><td>50</td></tr><tr><td>2024-09-24</td><td>50</td></tr><tr><td>2024-09-30</td><td>50</td></tr><tr><td>2024-09-03</td><td>50</td></tr><tr><td>2024-10-21</td><td>50</td></tr><tr><td>2024-09-29</td><td>50</td></tr><tr><td>2024-10-14</td><td>50</td></tr><tr><td>2024-10-07</td><td>50</td></tr><tr><td>2024-09-09</td><td>50</td></tr><tr><td>2024-09-27</td><td>50</td></tr><tr><td>2024-09-20</td><td>50</td></tr><tr><td>2024-10-20</td><td>50</td></tr><tr><td>2024-10-17</td><td>50</td></tr><tr><td>2024-09-12</td><td>50</td></tr><tr><td>2024-11-02</td><td>50</td></tr><tr><td>2024-10-31</td><td>50</td></tr><tr><td>2024-10-11</td><td>50</td></tr><tr><td>2024-11-04</td><td>50</td></tr><tr><td>2024-10-25</td><td>50</td></tr><tr><td>2024-09-08</td><td>50</td></tr><tr><td>2024-10-15</td><td>50</td></tr><tr><td>2024-10-19</td><td>50</td></tr><tr><td>2024-09-13</td><td>50</td></tr><tr><td>2024-09-23</td><td>50</td></tr><tr><td>2024-08-20</td><td>50</td></tr><tr><td>2024-07-14</td><td>50</td></tr><tr><td>2024-08-06</td><td>50</td></tr><tr><td>2024-07-12</td><td>50</td></tr><tr><td>2024-07-11</td><td>50</td></tr><tr><td>2024-07-01</td><td>50</td></tr><tr><td>2024-08-02</td><td>50</td></tr><tr><td>2024-08-29</td><td>50</td></tr><tr><td>2024-08-16</td><td>50</td></tr><tr><td>2024-07-23</td><td>50</td></tr><tr><td>2024-07-05</td><td>50</td></tr><tr><td>2024-07-19</td><td>50</td></tr><tr><td>2024-08-21</td><td>50</td></tr><tr><td>2024-08-14</td><td>50</td></tr><tr><td>2024-07-16</td><td>50</td></tr><tr><td>2024-07-02</td><td>50</td></tr><tr><td>2024-08-30</td><td>50</td></tr><tr><td>2024-07-03</td><td>50</td></tr><tr><td>2024-08-11</td><td>50</td></tr><tr><td>2024-07-17</td><td>50</td></tr><tr><td>2024-08-17</td><td>50</td></tr><tr><td>2024-08-18</td><td>50</td></tr><tr><td>2024-08-23</td><td>50</td></tr><tr><td>2024-08-12</td><td>50</td></tr><tr><td>2024-07-30</td><td>50</td></tr><tr><td>2024-08-13</td><td>50</td></tr><tr><td>2024-08-08</td><td>50</td></tr><tr><td>2024-08-26</td><td>50</td></tr><tr><td>2024-08-19</td><td>50</td></tr><tr><td>2024-07-31</td><td>50</td></tr><tr><td>2024-08-27</td><td>50</td></tr><tr><td>2024-07-06</td><td>50</td></tr><tr><td>2024-08-25</td><td>50</td></tr><tr><td>2024-07-18</td><td>50</td></tr><tr><td>2024-08-09</td><td>50</td></tr><tr><td>2024-09-02</td><td>50</td></tr><tr><td>2024-08-01</td><td>50</td></tr><tr><td>2024-07-10</td><td>50</td></tr><tr><td>2024-08-31</td><td>50</td></tr><tr><td>2024-08-04</td><td>50</td></tr><tr><td>2024-08-10</td><td>50</td></tr><tr><td>2024-07-22</td><td>50</td></tr><tr><td>2024-08-05</td><td>50</td></tr><tr><td>2024-07-28</td><td>50</td></tr><tr><td>2024-07-29</td><td>50</td></tr><tr><td>2024-07-27</td><td>50</td></tr><tr><td>2024-07-25</td><td>50</td></tr><tr><td>2024-07-04</td><td>50</td></tr><tr><td>2024-07-24</td><td>50</td></tr><tr><td>2024-08-07</td><td>50</td></tr><tr><td>2024-08-03</td><td>50</td></tr><tr><td>2024-07-21</td><td>50</td></tr><tr><td>2024-08-24</td><td>50</td></tr><tr><td>2024-07-13</td><td>50</td></tr><tr><td>2024-07-07</td><td>50</td></tr><tr><td>2024-07-26</td><td>50</td></tr><tr><td>2024-08-22</td><td>50</td></tr><tr><td>2024-07-15</td><td>50</td></tr><tr><td>2024-06-30</td><td>50</td></tr><tr><td>2024-09-01</td><td>50</td></tr><tr><td>2024-07-20</td><td>50</td></tr><tr><td>2024-07-08</td><td>50</td></tr><tr><td>2024-07-09</td><td>50</td></tr><tr><td>2024-08-28</td><td>50</td></tr><tr><td>2024-08-15</td><td>50</td></tr><tr><td>2024-06-23</td><td>50</td></tr><tr><td>2024-05-19</td><td>50</td></tr><tr><td>2024-04-27</td><td>50</td></tr><tr><td>2024-05-24</td><td>50</td></tr><tr><td>2024-06-19</td><td>50</td></tr><tr><td>2024-06-28</td><td>50</td></tr><tr><td>2024-05-03</td><td>50</td></tr><tr><td>2024-06-29</td><td>50</td></tr><tr><td>2024-05-28</td><td>50</td></tr><tr><td>2024-06-18</td><td>50</td></tr><tr><td>2024-06-07</td><td>50</td></tr><tr><td>2024-05-12</td><td>50</td></tr><tr><td>2024-06-26</td><td>50</td></tr><tr><td>2024-05-18</td><td>50</td></tr><tr><td>2024-06-21</td><td>50</td></tr><tr><td>2024-06-20</td><td>50</td></tr><tr><td>2024-06-09</td><td>50</td></tr><tr><td>2024-05-13</td><td>50</td></tr><tr><td>2024-06-01</td><td>50</td></tr><tr><td>2024-05-20</td><td>50</td></tr><tr><td>2024-04-30</td><td>50</td></tr><tr><td>2024-06-25</td><td>50</td></tr><tr><td>2024-06-10</td><td>50</td></tr><tr><td>2024-06-16</td><td>50</td></tr><tr><td>2024-06-27</td><td>50</td></tr><tr><td>2024-05-04</td><td>50</td></tr><tr><td>2024-05-30</td><td>50</td></tr><tr><td>2024-05-26</td><td>50</td></tr><tr><td>2024-06-15</td><td>50</td></tr><tr><td>2024-05-07</td><td>50</td></tr><tr><td>2024-06-12</td><td>50</td></tr><tr><td>2024-06-06</td><td>50</td></tr><tr><td>2024-05-14</td><td>50</td></tr><tr><td>2024-06-24</td><td>50</td></tr><tr><td>2024-05-27</td><td>50</td></tr><tr><td>2024-05-25</td><td>50</td></tr><tr><td>2024-05-09</td><td>50</td></tr><tr><td>2024-06-03</td><td>50</td></tr><tr><td>2024-05-16</td><td>50</td></tr><tr><td>2024-05-06</td><td>50</td></tr><tr><td>2024-06-08</td><td>50</td></tr><tr><td>2024-05-31</td><td>50</td></tr><tr><td>2024-06-02</td><td>50</td></tr><tr><td>2024-04-28</td><td>50</td></tr><tr><td>2024-06-17</td><td>50</td></tr><tr><td>2024-05-08</td><td>50</td></tr><tr><td>2024-06-22</td><td>50</td></tr><tr><td>2024-05-02</td><td>50</td></tr><tr><td>2024-05-01</td><td>50</td></tr><tr><td>2024-05-10</td><td>50</td></tr><tr><td>2024-05-21</td><td>50</td></tr><tr><td>2024-05-15</td><td>50</td></tr><tr><td>2024-05-23</td><td>50</td></tr><tr><td>2024-05-11</td><td>50</td></tr><tr><td>2024-05-05</td><td>50</td></tr><tr><td>2024-06-04</td><td>50</td></tr><tr><td>2024-05-17</td><td>50</td></tr><tr><td>2024-04-29</td><td>50</td></tr><tr><td>2024-05-29</td><td>50</td></tr><tr><td>2024-05-22</td><td>50</td></tr><tr><td>2024-06-13</td><td>50</td></tr><tr><td>2024-06-05</td><td>50</td></tr><tr><td>2024-06-11</td><td>50</td></tr><tr><td>2024-06-14</td><td>50</td></tr><tr><td>2024-04-03</td><td>50</td></tr><tr><td>2024-02-28</td><td>50</td></tr><tr><td>2024-02-20</td><td>50</td></tr><tr><td>2024-04-14</td><td>50</td></tr><tr><td>2024-04-10</td><td>50</td></tr><tr><td>2024-04-07</td><td>50</td></tr><tr><td>2024-03-03</td><td>50</td></tr><tr><td>2024-03-26</td><td>50</td></tr><tr><td>2024-02-26</td><td>50</td></tr><tr><td>2024-04-01</td><td>50</td></tr><tr><td>2024-03-25</td><td>50</td></tr><tr><td>2024-04-16</td><td>50</td></tr><tr><td>2024-04-06</td><td>50</td></tr><tr><td>2024-03-22</td><td>50</td></tr><tr><td>2024-04-04</td><td>50</td></tr><tr><td>2024-03-23</td><td>50</td></tr><tr><td>2024-04-12</td><td>50</td></tr><tr><td>2024-03-30</td><td>50</td></tr><tr><td>2024-03-10</td><td>50</td></tr><tr><td>2024-04-11</td><td>50</td></tr><tr><td>2024-03-06</td><td>50</td></tr><tr><td>2024-03-08</td><td>50</td></tr><tr><td>2024-02-23</td><td>50</td></tr><tr><td>2024-04-15</td><td>50</td></tr><tr><td>2024-03-28</td><td>50</td></tr><tr><td>2024-03-20</td><td>50</td></tr><tr><td>2024-02-19</td><td>50</td></tr><tr><td>2024-04-26</td><td>50</td></tr><tr><td>2024-03-11</td><td>50</td></tr><tr><td>2024-03-27</td><td>50</td></tr><tr><td>2024-02-21</td><td>50</td></tr><tr><td>2024-03-12</td><td>50</td></tr><tr><td>2024-03-01</td><td>50</td></tr><tr><td>2024-03-29</td><td>50</td></tr><tr><td>2024-03-02</td><td>50</td></tr><tr><td>2024-03-19</td><td>50</td></tr><tr><td>2024-04-09</td><td>50</td></tr><tr><td>2024-04-17</td><td>50</td></tr><tr><td>2024-03-21</td><td>50</td></tr><tr><td>2024-04-02</td><td>50</td></tr><tr><td>2024-02-25</td><td>50</td></tr><tr><td>2024-03-07</td><td>50</td></tr><tr><td>2024-02-24</td><td>50</td></tr><tr><td>2024-04-25</td><td>50</td></tr><tr><td>2024-03-05</td><td>50</td></tr><tr><td>2024-04-13</td><td>50</td></tr><tr><td>2024-04-08</td><td>50</td></tr><tr><td>2024-03-09</td><td>50</td></tr><tr><td>2024-02-22</td><td>50</td></tr><tr><td>2024-02-29</td><td>50</td></tr><tr><td>2024-04-18</td><td>50</td></tr><tr><td>2024-04-19</td><td>50</td></tr><tr><td>2024-02-27</td><td>50</td></tr><tr><td>2024-04-05</td><td>50</td></tr><tr><td>2024-03-14</td><td>50</td></tr><tr><td>2024-03-13</td><td>50</td></tr><tr><td>2024-03-04</td><td>50</td></tr><tr><td>2024-04-20</td><td>50</td></tr><tr><td>2024-03-31</td><td>50</td></tr><tr><td>2024-01-19</td><td>50</td></tr><tr><td>2024-02-08</td><td>50</td></tr><tr><td>2024-01-13</td><td>50</td></tr><tr><td>2024-01-06</td><td>50</td></tr><tr><td>2023-12-31</td><td>50</td></tr><tr><td>2024-02-04</td><td>50</td></tr><tr><td>2024-02-15</td><td>50</td></tr><tr><td>2024-02-12</td><td>50</td></tr><tr><td>2024-01-14</td><td>50</td></tr><tr><td>2023-12-17</td><td>50</td></tr><tr><td>2023-12-29</td><td>50</td></tr><tr><td>2024-02-06</td><td>50</td></tr><tr><td>2024-01-10</td><td>50</td></tr><tr><td>2024-02-03</td><td>50</td></tr><tr><td>2024-01-08</td><td>50</td></tr><tr><td>2023-12-20</td><td>50</td></tr><tr><td>2024-01-17</td><td>50</td></tr><tr><td>2024-01-18</td><td>50</td></tr><tr><td>2024-01-02</td><td>50</td></tr><tr><td>2024-02-16</td><td>50</td></tr><tr><td>2024-01-16</td><td>50</td></tr><tr><td>2024-01-12</td><td>50</td></tr><tr><td>2023-12-22</td><td>50</td></tr><tr><td>2024-01-29</td><td>50</td></tr><tr><td>2024-02-10</td><td>50</td></tr><tr><td>2024-01-15</td><td>50</td></tr><tr><td>2023-12-25</td><td>50</td></tr><tr><td>2023-12-18</td><td>50</td></tr><tr><td>2024-02-05</td><td>50</td></tr><tr><td>2024-01-30</td><td>50</td></tr><tr><td>2024-01-04</td><td>50</td></tr><tr><td>2024-02-14</td><td>50</td></tr><tr><td>2024-02-11</td><td>50</td></tr><tr><td>2024-02-17</td><td>50</td></tr><tr><td>2023-12-16</td><td>50</td></tr><tr><td>2024-01-03</td><td>50</td></tr><tr><td>2023-12-23</td><td>50</td></tr><tr><td>2024-01-25</td><td>50</td></tr><tr><td>2023-12-26</td><td>50</td></tr><tr><td>2024-01-22</td><td>50</td></tr><tr><td>2023-12-27</td><td>50</td></tr><tr><td>2023-12-24</td><td>50</td></tr><tr><td>2024-01-27</td><td>50</td></tr><tr><td>2024-02-02</td><td>50</td></tr><tr><td>2024-01-05</td><td>50</td></tr><tr><td>2024-01-23</td><td>50</td></tr><tr><td>2024-02-07</td><td>50</td></tr><tr><td>2024-01-20</td><td>50</td></tr><tr><td>2024-01-31</td><td>50</td></tr><tr><td>2024-02-18</td><td>50</td></tr><tr><td>2024-01-09</td><td>50</td></tr><tr><td>2024-01-21</td><td>50</td></tr><tr><td>2024-01-28</td><td>50</td></tr><tr><td>2023-12-28</td><td>50</td></tr><tr><td>2024-02-13</td><td>50</td></tr><tr><td>2024-01-11</td><td>50</td></tr><tr><td>2023-12-30</td><td>50</td></tr><tr><td>2024-01-26</td><td>50</td></tr><tr><td>2023-12-19</td><td>50</td></tr><tr><td>2024-01-01</td><td>50</td></tr><tr><td>2024-01-07</td><td>50</td></tr><tr><td>2023-12-21</td><td>50</td></tr><tr><td>2024-01-24</td><td>50</td></tr><tr><td>2024-02-09</td><td>50</td></tr><tr><td>2024-02-01</td><td>50</td></tr><tr><td>2023-10-26</td><td>50</td></tr><tr><td>2023-10-18</td><td>50</td></tr><tr><td>2023-11-07</td><td>50</td></tr><tr><td>2023-11-09</td><td>50</td></tr><tr><td>2023-12-08</td><td>50</td></tr><tr><td>2023-11-16</td><td>50</td></tr><tr><td>2023-11-24</td><td>50</td></tr><tr><td>2023-11-29</td><td>50</td></tr><tr><td>2023-11-03</td><td>50</td></tr><tr><td>2023-12-04</td><td>50</td></tr><tr><td>2023-12-14</td><td>50</td></tr><tr><td>2023-11-21</td><td>50</td></tr><tr><td>2023-11-11</td><td>50</td></tr><tr><td>2023-10-23</td><td>50</td></tr><tr><td>2023-11-13</td><td>50</td></tr><tr><td>2023-11-27</td><td>50</td></tr><tr><td>2023-10-22</td><td>50</td></tr><tr><td>2023-12-09</td><td>50</td></tr><tr><td>2023-12-01</td><td>50</td></tr><tr><td>2023-11-10</td><td>50</td></tr><tr><td>2023-12-03</td><td>50</td></tr><tr><td>2023-11-06</td><td>50</td></tr><tr><td>2023-11-01</td><td>50</td></tr><tr><td>2023-11-12</td><td>50</td></tr><tr><td>2023-12-12</td><td>50</td></tr><tr><td>2023-11-02</td><td>50</td></tr><tr><td>2023-12-06</td><td>50</td></tr><tr><td>2023-10-31</td><td>50</td></tr><tr><td>2023-12-11</td><td>50</td></tr><tr><td>2023-12-15</td><td>50</td></tr><tr><td>2023-11-17</td><td>50</td></tr><tr><td>2023-11-30</td><td>50</td></tr><tr><td>2023-11-26</td><td>50</td></tr><tr><td>2023-10-19</td><td>50</td></tr><tr><td>2023-11-22</td><td>50</td></tr><tr><td>2023-11-15</td><td>50</td></tr><tr><td>2023-10-25</td><td>50</td></tr><tr><td>2023-11-05</td><td>50</td></tr><tr><td>2023-10-20</td><td>50</td></tr><tr><td>2023-10-28</td><td>50</td></tr><tr><td>2023-11-28</td><td>50</td></tr><tr><td>2023-10-29</td><td>50</td></tr><tr><td>2023-12-13</td><td>50</td></tr><tr><td>2023-11-23</td><td>50</td></tr><tr><td>2023-12-07</td><td>50</td></tr><tr><td>2023-11-25</td><td>50</td></tr><tr><td>2023-11-18</td><td>50</td></tr><tr><td>2023-10-21</td><td>50</td></tr><tr><td>2023-12-10</td><td>50</td></tr><tr><td>2023-11-14</td><td>50</td></tr><tr><td>2023-12-02</td><td>50</td></tr><tr><td>2023-10-30</td><td>50</td></tr><tr><td>2023-12-05</td><td>50</td></tr><tr><td>2023-11-08</td><td>50</td></tr><tr><td>2023-11-04</td><td>50</td></tr><tr><td>2023-10-24</td><td>50</td></tr><tr><td>2024-03-24</td><td>47</td></tr></tbody></table></div>"
      ]
     },
     "metadata": {
      "application/vnd.databricks.v1+output": {
       "addedWidgets": {},
       "aggData": [],
       "aggError": "",
       "aggOverflow": false,
       "aggSchema": [],
       "aggSeriesLimitReached": false,
       "aggType": "",
       "arguments": {},
       "columnCustomDisplayInfos": {},
       "data": [
        [
         "2023-11-20",
         54
        ],
        [
         "2024-03-16",
         53
        ],
        [
         "2023-10-27",
         52
        ],
        [
         "2024-03-18",
         51
        ],
        [
         "2025-02-25",
         50
        ],
        [
         "2025-03-20",
         50
        ],
        [
         "2025-01-23",
         50
        ],
        [
         "2025-01-28",
         50
        ],
        [
         "2025-01-25",
         50
        ],
        [
         "2025-03-26",
         50
        ],
        [
         "2025-03-12",
         50
        ],
        [
         "2025-03-07",
         50
        ],
        [
         "2025-01-22",
         50
        ],
        [
         "2025-02-15",
         50
        ],
        [
         "2025-02-05",
         50
        ],
        [
         "2025-02-04",
         50
        ],
        [
         "2025-03-06",
         50
        ],
        [
         "2025-02-06",
         50
        ],
        [
         "2025-03-23",
         50
        ],
        [
         "2025-03-14",
         50
        ],
        [
         "2025-02-01",
         50
        ],
        [
         "2025-02-21",
         50
        ],
        [
         "2025-03-11",
         50
        ],
        [
         "2025-02-19",
         50
        ],
        [
         "2025-02-09",
         50
        ],
        [
         "2025-03-25",
         50
        ],
        [
         "2025-02-17",
         50
        ],
        [
         "2025-02-02",
         50
        ],
        [
         "2025-03-19",
         50
        ],
        [
         "2025-02-27",
         50
        ],
        [
         "2025-02-10",
         50
        ],
        [
         "2025-03-17",
         50
        ],
        [
         "2025-01-26",
         50
        ],
        [
         "2025-03-08",
         50
        ],
        [
         "2025-02-22",
         50
        ],
        [
         "2025-02-07",
         50
        ],
        [
         "2025-03-24",
         50
        ],
        [
         "2025-02-18",
         50
        ],
        [
         "2025-02-20",
         50
        ],
        [
         "2025-03-15",
         50
        ],
        [
         "2025-03-10",
         50
        ],
        [
         "2025-02-08",
         50
        ],
        [
         "2025-03-02",
         50
        ],
        [
         "2025-02-03",
         50
        ],
        [
         "2025-02-23",
         50
        ],
        [
         "2025-02-13",
         50
        ],
        [
         "2025-03-01",
         50
        ],
        [
         "2025-03-16",
         50
        ],
        [
         "2025-02-26",
         50
        ],
        [
         "2025-02-16",
         50
        ],
        [
         "2025-01-31",
         50
        ],
        [
         "2025-03-03",
         50
        ],
        [
         "2025-01-24",
         50
        ],
        [
         "2025-02-28",
         50
        ],
        [
         "2025-03-05",
         50
        ],
        [
         "2025-01-29",
         50
        ],
        [
         "2025-03-13",
         50
        ],
        [
         "2025-03-28",
         50
        ],
        [
         "2025-01-30",
         50
        ],
        [
         "2025-02-12",
         50
        ],
        [
         "2025-02-11",
         50
        ],
        [
         "2025-01-27",
         50
        ],
        [
         "2025-03-04",
         50
        ],
        [
         "2025-03-18",
         50
        ],
        [
         "2025-02-24",
         50
        ],
        [
         "2025-02-14",
         50
        ],
        [
         "2025-03-22",
         50
        ],
        [
         "2025-03-27",
         50
        ],
        [
         "2025-03-21",
         50
        ],
        [
         "2025-03-09",
         50
        ],
        [
         "2024-12-12",
         50
        ],
        [
         "2025-01-03",
         50
        ],
        [
         "2024-12-09",
         50
        ],
        [
         "2024-11-20",
         50
        ],
        [
         "2024-11-08",
         50
        ],
        [
         "2024-11-24",
         50
        ],
        [
         "2025-01-11",
         50
        ],
        [
         "2024-12-17",
         50
        ],
        [
         "2025-01-13",
         50
        ],
        [
         "2024-12-19",
         50
        ],
        [
         "2024-12-06",
         50
        ],
        [
         "2024-12-28",
         50
        ],
        [
         "2025-01-01",
         50
        ],
        [
         "2024-12-14",
         50
        ],
        [
         "2024-12-15",
         50
        ],
        [
         "2024-11-19",
         50
        ],
        [
         "2024-11-22",
         50
        ],
        [
         "2025-01-05",
         50
        ],
        [
         "2025-01-19",
         50
        ],
        [
         "2024-11-15",
         50
        ],
        [
         "2024-12-25",
         50
        ],
        [
         "2025-01-18",
         50
        ],
        [
         "2025-01-14",
         50
        ],
        [
         "2025-01-04",
         50
        ],
        [
         "2024-12-13",
         50
        ],
        [
         "2025-01-09",
         50
        ],
        [
         "2024-12-26",
         50
        ],
        [
         "2024-11-11",
         50
        ],
        [
         "2024-12-18",
         50
        ],
        [
         "2025-01-07",
         50
        ],
        [
         "2024-12-22",
         50
        ],
        [
         "2024-12-29",
         50
        ],
        [
         "2024-11-27",
         50
        ],
        [
         "2025-01-10",
         50
        ],
        [
         "2024-12-16",
         50
        ],
        [
         "2024-11-21",
         50
        ],
        [
         "2024-11-16",
         50
        ],
        [
         "2024-11-09",
         50
        ],
        [
         "2024-11-13",
         50
        ],
        [
         "2024-11-10",
         50
        ],
        [
         "2025-01-20",
         50
        ],
        [
         "2024-12-21",
         50
        ],
        [
         "2024-11-18",
         50
        ],
        [
         "2025-01-02",
         50
        ],
        [
         "2024-12-31",
         50
        ],
        [
         "2024-11-07",
         50
        ],
        [
         "2024-11-12",
         50
        ],
        [
         "2025-01-17",
         50
        ],
        [
         "2024-12-23",
         50
        ],
        [
         "2024-11-17",
         50
        ],
        [
         "2024-12-24",
         50
        ],
        [
         "2024-11-23",
         50
        ],
        [
         "2025-01-15",
         50
        ],
        [
         "2024-12-27",
         50
        ],
        [
         "2025-01-21",
         50
        ],
        [
         "2024-12-11",
         50
        ],
        [
         "2024-11-26",
         50
        ],
        [
         "2024-12-20",
         50
        ],
        [
         "2025-01-16",
         50
        ],
        [
         "2025-01-08",
         50
        ],
        [
         "2025-01-06",
         50
        ],
        [
         "2024-11-14",
         50
        ],
        [
         "2024-12-30",
         50
        ],
        [
         "2024-11-25",
         50
        ],
        [
         "2025-01-12",
         50
        ],
        [
         "2024-12-10",
         50
        ],
        [
         "2024-10-24",
         50
        ],
        [
         "2024-09-15",
         50
        ],
        [
         "2024-10-22",
         50
        ],
        [
         "2024-10-10",
         50
        ],
        [
         "2024-09-21",
         50
        ],
        [
         "2024-09-10",
         50
        ],
        [
         "2024-09-22",
         50
        ],
        [
         "2024-10-12",
         50
        ],
        [
         "2024-10-08",
         50
        ],
        [
         "2024-11-01",
         50
        ],
        [
         "2024-10-30",
         50
        ],
        [
         "2024-11-05",
         50
        ],
        [
         "2024-10-09",
         50
        ],
        [
         "2024-10-06",
         50
        ],
        [
         "2024-09-14",
         50
        ],
        [
         "2024-10-04",
         50
        ],
        [
         "2024-09-05",
         50
        ],
        [
         "2024-10-02",
         50
        ],
        [
         "2024-11-06",
         50
        ],
        [
         "2024-09-07",
         50
        ],
        [
         "2024-09-25",
         50
        ],
        [
         "2024-10-18",
         50
        ],
        [
         "2024-09-18",
         50
        ],
        [
         "2024-10-05",
         50
        ],
        [
         "2024-09-19",
         50
        ],
        [
         "2024-10-28",
         50
        ],
        [
         "2024-10-13",
         50
        ],
        [
         "2024-10-23",
         50
        ],
        [
         "2024-09-17",
         50
        ],
        [
         "2024-09-06",
         50
        ],
        [
         "2024-09-16",
         50
        ],
        [
         "2024-09-04",
         50
        ],
        [
         "2024-10-16",
         50
        ],
        [
         "2024-10-27",
         50
        ],
        [
         "2024-10-26",
         50
        ],
        [
         "2024-11-03",
         50
        ],
        [
         "2024-10-29",
         50
        ],
        [
         "2024-10-03",
         50
        ],
        [
         "2024-09-11",
         50
        ],
        [
         "2024-09-26",
         50
        ],
        [
         "2024-10-01",
         50
        ],
        [
         "2024-09-28",
         50
        ],
        [
         "2024-09-24",
         50
        ],
        [
         "2024-09-30",
         50
        ],
        [
         "2024-09-03",
         50
        ],
        [
         "2024-10-21",
         50
        ],
        [
         "2024-09-29",
         50
        ],
        [
         "2024-10-14",
         50
        ],
        [
         "2024-10-07",
         50
        ],
        [
         "2024-09-09",
         50
        ],
        [
         "2024-09-27",
         50
        ],
        [
         "2024-09-20",
         50
        ],
        [
         "2024-10-20",
         50
        ],
        [
         "2024-10-17",
         50
        ],
        [
         "2024-09-12",
         50
        ],
        [
         "2024-11-02",
         50
        ],
        [
         "2024-10-31",
         50
        ],
        [
         "2024-10-11",
         50
        ],
        [
         "2024-11-04",
         50
        ],
        [
         "2024-10-25",
         50
        ],
        [
         "2024-09-08",
         50
        ],
        [
         "2024-10-15",
         50
        ],
        [
         "2024-10-19",
         50
        ],
        [
         "2024-09-13",
         50
        ],
        [
         "2024-09-23",
         50
        ],
        [
         "2024-08-20",
         50
        ],
        [
         "2024-07-14",
         50
        ],
        [
         "2024-08-06",
         50
        ],
        [
         "2024-07-12",
         50
        ],
        [
         "2024-07-11",
         50
        ],
        [
         "2024-07-01",
         50
        ],
        [
         "2024-08-02",
         50
        ],
        [
         "2024-08-29",
         50
        ],
        [
         "2024-08-16",
         50
        ],
        [
         "2024-07-23",
         50
        ],
        [
         "2024-07-05",
         50
        ],
        [
         "2024-07-19",
         50
        ],
        [
         "2024-08-21",
         50
        ],
        [
         "2024-08-14",
         50
        ],
        [
         "2024-07-16",
         50
        ],
        [
         "2024-07-02",
         50
        ],
        [
         "2024-08-30",
         50
        ],
        [
         "2024-07-03",
         50
        ],
        [
         "2024-08-11",
         50
        ],
        [
         "2024-07-17",
         50
        ],
        [
         "2024-08-17",
         50
        ],
        [
         "2024-08-18",
         50
        ],
        [
         "2024-08-23",
         50
        ],
        [
         "2024-08-12",
         50
        ],
        [
         "2024-07-30",
         50
        ],
        [
         "2024-08-13",
         50
        ],
        [
         "2024-08-08",
         50
        ],
        [
         "2024-08-26",
         50
        ],
        [
         "2024-08-19",
         50
        ],
        [
         "2024-07-31",
         50
        ],
        [
         "2024-08-27",
         50
        ],
        [
         "2024-07-06",
         50
        ],
        [
         "2024-08-25",
         50
        ],
        [
         "2024-07-18",
         50
        ],
        [
         "2024-08-09",
         50
        ],
        [
         "2024-09-02",
         50
        ],
        [
         "2024-08-01",
         50
        ],
        [
         "2024-07-10",
         50
        ],
        [
         "2024-08-31",
         50
        ],
        [
         "2024-08-04",
         50
        ],
        [
         "2024-08-10",
         50
        ],
        [
         "2024-07-22",
         50
        ],
        [
         "2024-08-05",
         50
        ],
        [
         "2024-07-28",
         50
        ],
        [
         "2024-07-29",
         50
        ],
        [
         "2024-07-27",
         50
        ],
        [
         "2024-07-25",
         50
        ],
        [
         "2024-07-04",
         50
        ],
        [
         "2024-07-24",
         50
        ],
        [
         "2024-08-07",
         50
        ],
        [
         "2024-08-03",
         50
        ],
        [
         "2024-07-21",
         50
        ],
        [
         "2024-08-24",
         50
        ],
        [
         "2024-07-13",
         50
        ],
        [
         "2024-07-07",
         50
        ],
        [
         "2024-07-26",
         50
        ],
        [
         "2024-08-22",
         50
        ],
        [
         "2024-07-15",
         50
        ],
        [
         "2024-06-30",
         50
        ],
        [
         "2024-09-01",
         50
        ],
        [
         "2024-07-20",
         50
        ],
        [
         "2024-07-08",
         50
        ],
        [
         "2024-07-09",
         50
        ],
        [
         "2024-08-28",
         50
        ],
        [
         "2024-08-15",
         50
        ],
        [
         "2024-06-23",
         50
        ],
        [
         "2024-05-19",
         50
        ],
        [
         "2024-04-27",
         50
        ],
        [
         "2024-05-24",
         50
        ],
        [
         "2024-06-19",
         50
        ],
        [
         "2024-06-28",
         50
        ],
        [
         "2024-05-03",
         50
        ],
        [
         "2024-06-29",
         50
        ],
        [
         "2024-05-28",
         50
        ],
        [
         "2024-06-18",
         50
        ],
        [
         "2024-06-07",
         50
        ],
        [
         "2024-05-12",
         50
        ],
        [
         "2024-06-26",
         50
        ],
        [
         "2024-05-18",
         50
        ],
        [
         "2024-06-21",
         50
        ],
        [
         "2024-06-20",
         50
        ],
        [
         "2024-06-09",
         50
        ],
        [
         "2024-05-13",
         50
        ],
        [
         "2024-06-01",
         50
        ],
        [
         "2024-05-20",
         50
        ],
        [
         "2024-04-30",
         50
        ],
        [
         "2024-06-25",
         50
        ],
        [
         "2024-06-10",
         50
        ],
        [
         "2024-06-16",
         50
        ],
        [
         "2024-06-27",
         50
        ],
        [
         "2024-05-04",
         50
        ],
        [
         "2024-05-30",
         50
        ],
        [
         "2024-05-26",
         50
        ],
        [
         "2024-06-15",
         50
        ],
        [
         "2024-05-07",
         50
        ],
        [
         "2024-06-12",
         50
        ],
        [
         "2024-06-06",
         50
        ],
        [
         "2024-05-14",
         50
        ],
        [
         "2024-06-24",
         50
        ],
        [
         "2024-05-27",
         50
        ],
        [
         "2024-05-25",
         50
        ],
        [
         "2024-05-09",
         50
        ],
        [
         "2024-06-03",
         50
        ],
        [
         "2024-05-16",
         50
        ],
        [
         "2024-05-06",
         50
        ],
        [
         "2024-06-08",
         50
        ],
        [
         "2024-05-31",
         50
        ],
        [
         "2024-06-02",
         50
        ],
        [
         "2024-04-28",
         50
        ],
        [
         "2024-06-17",
         50
        ],
        [
         "2024-05-08",
         50
        ],
        [
         "2024-06-22",
         50
        ],
        [
         "2024-05-02",
         50
        ],
        [
         "2024-05-01",
         50
        ],
        [
         "2024-05-10",
         50
        ],
        [
         "2024-05-21",
         50
        ],
        [
         "2024-05-15",
         50
        ],
        [
         "2024-05-23",
         50
        ],
        [
         "2024-05-11",
         50
        ],
        [
         "2024-05-05",
         50
        ],
        [
         "2024-06-04",
         50
        ],
        [
         "2024-05-17",
         50
        ],
        [
         "2024-04-29",
         50
        ],
        [
         "2024-05-29",
         50
        ],
        [
         "2024-05-22",
         50
        ],
        [
         "2024-06-13",
         50
        ],
        [
         "2024-06-05",
         50
        ],
        [
         "2024-06-11",
         50
        ],
        [
         "2024-06-14",
         50
        ],
        [
         "2024-04-03",
         50
        ],
        [
         "2024-02-28",
         50
        ],
        [
         "2024-02-20",
         50
        ],
        [
         "2024-04-14",
         50
        ],
        [
         "2024-04-10",
         50
        ],
        [
         "2024-04-07",
         50
        ],
        [
         "2024-03-03",
         50
        ],
        [
         "2024-03-26",
         50
        ],
        [
         "2024-02-26",
         50
        ],
        [
         "2024-04-01",
         50
        ],
        [
         "2024-03-25",
         50
        ],
        [
         "2024-04-16",
         50
        ],
        [
         "2024-04-06",
         50
        ],
        [
         "2024-03-22",
         50
        ],
        [
         "2024-04-04",
         50
        ],
        [
         "2024-03-23",
         50
        ],
        [
         "2024-04-12",
         50
        ],
        [
         "2024-03-30",
         50
        ],
        [
         "2024-03-10",
         50
        ],
        [
         "2024-04-11",
         50
        ],
        [
         "2024-03-06",
         50
        ],
        [
         "2024-03-08",
         50
        ],
        [
         "2024-02-23",
         50
        ],
        [
         "2024-04-15",
         50
        ],
        [
         "2024-03-28",
         50
        ],
        [
         "2024-03-20",
         50
        ],
        [
         "2024-02-19",
         50
        ],
        [
         "2024-04-26",
         50
        ],
        [
         "2024-03-11",
         50
        ],
        [
         "2024-03-27",
         50
        ],
        [
         "2024-02-21",
         50
        ],
        [
         "2024-03-12",
         50
        ],
        [
         "2024-03-01",
         50
        ],
        [
         "2024-03-29",
         50
        ],
        [
         "2024-03-02",
         50
        ],
        [
         "2024-03-19",
         50
        ],
        [
         "2024-04-09",
         50
        ],
        [
         "2024-04-17",
         50
        ],
        [
         "2024-03-21",
         50
        ],
        [
         "2024-04-02",
         50
        ],
        [
         "2024-02-25",
         50
        ],
        [
         "2024-03-07",
         50
        ],
        [
         "2024-02-24",
         50
        ],
        [
         "2024-04-25",
         50
        ],
        [
         "2024-03-05",
         50
        ],
        [
         "2024-04-13",
         50
        ],
        [
         "2024-04-08",
         50
        ],
        [
         "2024-03-09",
         50
        ],
        [
         "2024-02-22",
         50
        ],
        [
         "2024-02-29",
         50
        ],
        [
         "2024-04-18",
         50
        ],
        [
         "2024-04-19",
         50
        ],
        [
         "2024-02-27",
         50
        ],
        [
         "2024-04-05",
         50
        ],
        [
         "2024-03-14",
         50
        ],
        [
         "2024-03-13",
         50
        ],
        [
         "2024-03-04",
         50
        ],
        [
         "2024-04-20",
         50
        ],
        [
         "2024-03-31",
         50
        ],
        [
         "2024-01-19",
         50
        ],
        [
         "2024-02-08",
         50
        ],
        [
         "2024-01-13",
         50
        ],
        [
         "2024-01-06",
         50
        ],
        [
         "2023-12-31",
         50
        ],
        [
         "2024-02-04",
         50
        ],
        [
         "2024-02-15",
         50
        ],
        [
         "2024-02-12",
         50
        ],
        [
         "2024-01-14",
         50
        ],
        [
         "2023-12-17",
         50
        ],
        [
         "2023-12-29",
         50
        ],
        [
         "2024-02-06",
         50
        ],
        [
         "2024-01-10",
         50
        ],
        [
         "2024-02-03",
         50
        ],
        [
         "2024-01-08",
         50
        ],
        [
         "2023-12-20",
         50
        ],
        [
         "2024-01-17",
         50
        ],
        [
         "2024-01-18",
         50
        ],
        [
         "2024-01-02",
         50
        ],
        [
         "2024-02-16",
         50
        ],
        [
         "2024-01-16",
         50
        ],
        [
         "2024-01-12",
         50
        ],
        [
         "2023-12-22",
         50
        ],
        [
         "2024-01-29",
         50
        ],
        [
         "2024-02-10",
         50
        ],
        [
         "2024-01-15",
         50
        ],
        [
         "2023-12-25",
         50
        ],
        [
         "2023-12-18",
         50
        ],
        [
         "2024-02-05",
         50
        ],
        [
         "2024-01-30",
         50
        ],
        [
         "2024-01-04",
         50
        ],
        [
         "2024-02-14",
         50
        ],
        [
         "2024-02-11",
         50
        ],
        [
         "2024-02-17",
         50
        ],
        [
         "2023-12-16",
         50
        ],
        [
         "2024-01-03",
         50
        ],
        [
         "2023-12-23",
         50
        ],
        [
         "2024-01-25",
         50
        ],
        [
         "2023-12-26",
         50
        ],
        [
         "2024-01-22",
         50
        ],
        [
         "2023-12-27",
         50
        ],
        [
         "2023-12-24",
         50
        ],
        [
         "2024-01-27",
         50
        ],
        [
         "2024-02-02",
         50
        ],
        [
         "2024-01-05",
         50
        ],
        [
         "2024-01-23",
         50
        ],
        [
         "2024-02-07",
         50
        ],
        [
         "2024-01-20",
         50
        ],
        [
         "2024-01-31",
         50
        ],
        [
         "2024-02-18",
         50
        ],
        [
         "2024-01-09",
         50
        ],
        [
         "2024-01-21",
         50
        ],
        [
         "2024-01-28",
         50
        ],
        [
         "2023-12-28",
         50
        ],
        [
         "2024-02-13",
         50
        ],
        [
         "2024-01-11",
         50
        ],
        [
         "2023-12-30",
         50
        ],
        [
         "2024-01-26",
         50
        ],
        [
         "2023-12-19",
         50
        ],
        [
         "2024-01-01",
         50
        ],
        [
         "2024-01-07",
         50
        ],
        [
         "2023-12-21",
         50
        ],
        [
         "2024-01-24",
         50
        ],
        [
         "2024-02-09",
         50
        ],
        [
         "2024-02-01",
         50
        ],
        [
         "2023-10-26",
         50
        ],
        [
         "2023-10-18",
         50
        ],
        [
         "2023-11-07",
         50
        ],
        [
         "2023-11-09",
         50
        ],
        [
         "2023-12-08",
         50
        ],
        [
         "2023-11-16",
         50
        ],
        [
         "2023-11-24",
         50
        ],
        [
         "2023-11-29",
         50
        ],
        [
         "2023-11-03",
         50
        ],
        [
         "2023-12-04",
         50
        ],
        [
         "2023-12-14",
         50
        ],
        [
         "2023-11-21",
         50
        ],
        [
         "2023-11-11",
         50
        ],
        [
         "2023-10-23",
         50
        ],
        [
         "2023-11-13",
         50
        ],
        [
         "2023-11-27",
         50
        ],
        [
         "2023-10-22",
         50
        ],
        [
         "2023-12-09",
         50
        ],
        [
         "2023-12-01",
         50
        ],
        [
         "2023-11-10",
         50
        ],
        [
         "2023-12-03",
         50
        ],
        [
         "2023-11-06",
         50
        ],
        [
         "2023-11-01",
         50
        ],
        [
         "2023-11-12",
         50
        ],
        [
         "2023-12-12",
         50
        ],
        [
         "2023-11-02",
         50
        ],
        [
         "2023-12-06",
         50
        ],
        [
         "2023-10-31",
         50
        ],
        [
         "2023-12-11",
         50
        ],
        [
         "2023-12-15",
         50
        ],
        [
         "2023-11-17",
         50
        ],
        [
         "2023-11-30",
         50
        ],
        [
         "2023-11-26",
         50
        ],
        [
         "2023-10-19",
         50
        ],
        [
         "2023-11-22",
         50
        ],
        [
         "2023-11-15",
         50
        ],
        [
         "2023-10-25",
         50
        ],
        [
         "2023-11-05",
         50
        ],
        [
         "2023-10-20",
         50
        ],
        [
         "2023-10-28",
         50
        ],
        [
         "2023-11-28",
         50
        ],
        [
         "2023-10-29",
         50
        ],
        [
         "2023-12-13",
         50
        ],
        [
         "2023-11-23",
         50
        ],
        [
         "2023-12-07",
         50
        ],
        [
         "2023-11-25",
         50
        ],
        [
         "2023-11-18",
         50
        ],
        [
         "2023-10-21",
         50
        ],
        [
         "2023-12-10",
         50
        ],
        [
         "2023-11-14",
         50
        ],
        [
         "2023-12-02",
         50
        ],
        [
         "2023-10-30",
         50
        ],
        [
         "2023-12-05",
         50
        ],
        [
         "2023-11-08",
         50
        ],
        [
         "2023-11-04",
         50
        ],
        [
         "2023-10-24",
         50
        ],
        [
         "2024-03-24",
         47
        ]
       ],
       "datasetInfos": [],
       "dbfsResultPath": null,
       "isJsonSchema": true,
       "metadata": {},
       "overflow": false,
       "plotOptions": {
        "customPlotOptions": {},
        "displayType": "table",
        "pivotAggregation": null,
        "pivotColumns": null,
        "xColumns": null,
        "yColumns": null
       },
       "removedWidgets": [],
       "schema": [
        {
         "metadata": "{}",
         "name": "snapshot_date",
         "type": "\"string\""
        },
        {
         "metadata": "{}",
         "name": "count",
         "type": "\"long\""
        }
       ],
       "type": "table"
      }
     },
     "output_type": "display_data"
    },
    {
     "output_type": "stream",
     "name": "stdout",
     "output_type": "stream",
     "text": [
      "+---------------------+-------------------------------------+\n|artists              |album_name                           |\n+---------------------+-------------------------------------+\n|Gracie Abrams        |The Secret of Us (Deluxe)            |\n|Doechii              |Alligator Bites Never Heal (Extended)|\n|Lady Gaga, Bruno Mars|MAYHEM                               |\n|Kendrick Lamar, SZA  |GNX                                  |\n|Bad Bunny            |DeBÍ TiRAR MáS FOToS                 |\n|Gigi Perez           |Sailor Song                          |\n|Kendrick Lamar       |Not Like Us                          |\n|Alex Warren          |You'll Be Alright, Kid (Chapter 1)   |\n|JENNIE               |Ruby                                 |\n|Billie Eilish        |HIT ME HARD AND SOFT                 |\n+---------------------+-------------------------------------+\nonly showing top 10 rows\n\n"
     ]
    }
   ],
   "source": [
    "# Verificar distribuição de nulos por data\n",
    "display(\n",
    "  bronze_df.filter(col(\"country\").isNull())\n",
    "    .groupBy(\"snapshot_date\")\n",
    "    .count()\n",
    "    .orderBy(col(\"count\").desc())\n",
    ")\n",
    "\n",
    "# Verificar artistas/álbuns associados a nulos\n",
    "bronze_df.filter(col(\"country\").isNull()) \\\n",
    "  .select(\"artists\", \"album_name\") \\\n",
    "  .distinct() \\\n",
    "  .show(10, truncate=False)"
   ]
  },
  {
   "cell_type": "markdown",
   "metadata": {
    "application/vnd.databricks.v1+cell": {
     "cellMetadata": {
      "byteLimit": 2048000,
      "rowLimit": 10000
     },
     "inputWidgets": {},
     "nuid": "da93b9cd-fe1c-4b96-b07b-bfe755ca9643",
     "showTitle": false,
     "tableResultSettingsMap": {},
     "title": ""
    }
   },
   "source": [
    "Temos algumas variações que podem ser justificadas com falhas na API, porém, o dados é quase que inteiro de 50 entradas nulas por dia, isso vai de encontro com a hipótese dessas entradas nulas serem o top 50 global, vamos ajustar os nulos de países e das outros colunas para a tabela silver."
   ]
  },
  {
   "cell_type": "code",
   "execution_count": 0,
   "metadata": {
    "application/vnd.databricks.v1+cell": {
     "cellMetadata": {
      "byteLimit": 2048000,
      "rowLimit": 10000
     },
     "inputWidgets": {},
     "nuid": "ac79c6f1-a688-4035-9a60-106075e3e6f3",
     "showTitle": false,
     "tableResultSettingsMap": {},
     "title": ""
    }
   },
   "outputs": [
    {
     "output_type": "stream",
     "name": "stdout",
     "output_type": "stream",
     "text": [
      "Executando verificações de qualidade...\n\n=== Nulos por coluna ===\n"
     ]
    },
    {
     "output_type": "display_data",
     "data": {
      "text/html": [
       "<style scoped>\n",
       "  .table-result-container {\n",
       "    max-height: 300px;\n",
       "    overflow: auto;\n",
       "  }\n",
       "  table, th, td {\n",
       "    border: 1px solid black;\n",
       "    border-collapse: collapse;\n",
       "  }\n",
       "  th, td {\n",
       "    padding: 5px;\n",
       "  }\n",
       "  th {\n",
       "    text-align: left;\n",
       "  }\n",
       "</style><div class='table-result-container'><table class='table-result'><thead style='background-color: white'><tr><th>spotify_id_nulls</th><th>name_nulls</th><th>artists_nulls</th><th>daily_rank_nulls</th><th>daily_movement_nulls</th><th>weekly_movement_nulls</th><th>country_nulls</th><th>snapshot_date_nulls</th><th>popularity_nulls</th><th>is_explicit_nulls</th><th>album_name_nulls</th><th>album_release_date_nulls</th><th>danceability_nulls</th><th>energy_nulls</th><th>key_nulls</th><th>loudness_nulls</th><th>mode_nulls</th><th>speechiness_nulls</th><th>acousticness_nulls</th><th>instrumentalness_nulls</th><th>liveness_nulls</th><th>valence_nulls</th><th>tempo_nulls</th><th>time_signature_nulls</th><th>artists_array_nulls</th><th>duration_min_nulls</th><th>is_global_nulls</th></tr></thead><tbody><tr><td>0</td><td>0</td><td>0</td><td>0</td><td>0</td><td>0</td><td>0</td><td>0</td><td>0</td><td>0</td><td>0</td><td>0</td><td>0</td><td>0</td><td>0</td><td>0</td><td>0</td><td>0</td><td>0</td><td>0</td><td>0</td><td>0</td><td>0</td><td>0</td><td>0</td><td>0</td><td>0</td></tr></tbody></table></div>"
      ]
     },
     "metadata": {
      "application/vnd.databricks.v1+output": {
       "addedWidgets": {},
       "aggData": [],
       "aggError": "",
       "aggOverflow": false,
       "aggSchema": [],
       "aggSeriesLimitReached": false,
       "aggType": "",
       "arguments": {},
       "columnCustomDisplayInfos": {},
       "data": [
        [
         0,
         0,
         0,
         0,
         0,
         0,
         0,
         0,
         0,
         0,
         0,
         0,
         0,
         0,
         0,
         0,
         0,
         0,
         0,
         0,
         0,
         0,
         0,
         0,
         0,
         0,
         0
        ]
       ],
       "datasetInfos": [],
       "dbfsResultPath": null,
       "isJsonSchema": true,
       "metadata": {},
       "overflow": false,
       "plotOptions": {
        "customPlotOptions": {},
        "displayType": "table",
        "pivotAggregation": null,
        "pivotColumns": null,
        "xColumns": null,
        "yColumns": null
       },
       "removedWidgets": [],
       "schema": [
        {
         "metadata": "{}",
         "name": "spotify_id_nulls",
         "type": "\"long\""
        },
        {
         "metadata": "{}",
         "name": "name_nulls",
         "type": "\"long\""
        },
        {
         "metadata": "{}",
         "name": "artists_nulls",
         "type": "\"long\""
        },
        {
         "metadata": "{}",
         "name": "daily_rank_nulls",
         "type": "\"long\""
        },
        {
         "metadata": "{}",
         "name": "daily_movement_nulls",
         "type": "\"long\""
        },
        {
         "metadata": "{}",
         "name": "weekly_movement_nulls",
         "type": "\"long\""
        },
        {
         "metadata": "{}",
         "name": "country_nulls",
         "type": "\"long\""
        },
        {
         "metadata": "{}",
         "name": "snapshot_date_nulls",
         "type": "\"long\""
        },
        {
         "metadata": "{}",
         "name": "popularity_nulls",
         "type": "\"long\""
        },
        {
         "metadata": "{}",
         "name": "is_explicit_nulls",
         "type": "\"long\""
        },
        {
         "metadata": "{}",
         "name": "album_name_nulls",
         "type": "\"long\""
        },
        {
         "metadata": "{}",
         "name": "album_release_date_nulls",
         "type": "\"long\""
        },
        {
         "metadata": "{}",
         "name": "danceability_nulls",
         "type": "\"long\""
        },
        {
         "metadata": "{}",
         "name": "energy_nulls",
         "type": "\"long\""
        },
        {
         "metadata": "{}",
         "name": "key_nulls",
         "type": "\"long\""
        },
        {
         "metadata": "{}",
         "name": "loudness_nulls",
         "type": "\"long\""
        },
        {
         "metadata": "{}",
         "name": "mode_nulls",
         "type": "\"long\""
        },
        {
         "metadata": "{}",
         "name": "speechiness_nulls",
         "type": "\"long\""
        },
        {
         "metadata": "{}",
         "name": "acousticness_nulls",
         "type": "\"long\""
        },
        {
         "metadata": "{}",
         "name": "instrumentalness_nulls",
         "type": "\"long\""
        },
        {
         "metadata": "{}",
         "name": "liveness_nulls",
         "type": "\"long\""
        },
        {
         "metadata": "{}",
         "name": "valence_nulls",
         "type": "\"long\""
        },
        {
         "metadata": "{}",
         "name": "tempo_nulls",
         "type": "\"long\""
        },
        {
         "metadata": "{}",
         "name": "time_signature_nulls",
         "type": "\"long\""
        },
        {
         "metadata": "{}",
         "name": "artists_array_nulls",
         "type": "\"long\""
        },
        {
         "metadata": "{}",
         "name": "duration_min_nulls",
         "type": "\"long\""
        },
        {
         "metadata": "{}",
         "name": "is_global_nulls",
         "type": "\"long\""
        }
       ],
       "type": "table"
      }
     },
     "output_type": "display_data"
    },
    {
     "output_type": "stream",
     "name": "stdout",
     "output_type": "stream",
     "text": [
      "\n=== Valores fora do domínio esperado ===\n"
     ]
    },
    {
     "output_type": "display_data",
     "data": {
      "text/html": [
       "<style scoped>\n",
       "  .table-result-container {\n",
       "    max-height: 300px;\n",
       "    overflow: auto;\n",
       "  }\n",
       "  table, th, td {\n",
       "    border: 1px solid black;\n",
       "    border-collapse: collapse;\n",
       "  }\n",
       "  th, td {\n",
       "    padding: 5px;\n",
       "  }\n",
       "  th {\n",
       "    text-align: left;\n",
       "  }\n",
       "</style><div class='table-result-container'><table class='table-result'><thead style='background-color: white'><tr><th>invalid_ranks</th><th>invalid_popularity</th><th>invalid_duration</th></tr></thead><tbody><tr><td>0</td><td>0</td><td>0</td></tr></tbody></table></div>"
      ]
     },
     "metadata": {
      "application/vnd.databricks.v1+output": {
       "addedWidgets": {},
       "aggData": [],
       "aggError": "",
       "aggOverflow": false,
       "aggSchema": [],
       "aggSeriesLimitReached": false,
       "aggType": "",
       "arguments": {},
       "columnCustomDisplayInfos": {},
       "data": [
        [
         0,
         0,
         0
        ]
       ],
       "datasetInfos": [],
       "dbfsResultPath": null,
       "isJsonSchema": true,
       "metadata": {},
       "overflow": false,
       "plotOptions": {
        "customPlotOptions": {},
        "displayType": "table",
        "pivotAggregation": null,
        "pivotColumns": null,
        "xColumns": null,
        "yColumns": null
       },
       "removedWidgets": [],
       "schema": [
        {
         "metadata": "{}",
         "name": "invalid_ranks",
         "type": "\"long\""
        },
        {
         "metadata": "{}",
         "name": "invalid_popularity",
         "type": "\"long\""
        },
        {
         "metadata": "{}",
         "name": "invalid_duration",
         "type": "\"long\""
        }
       ],
       "type": "table"
      }
     },
     "output_type": "display_data"
    },
    {
     "output_type": "stream",
     "name": "stdout",
     "output_type": "stream",
     "text": [
      "\n=== Distribuição de registros globais ===\n"
     ]
    },
    {
     "output_type": "display_data",
     "data": {
      "text/html": [
       "<style scoped>\n",
       "  .table-result-container {\n",
       "    max-height: 300px;\n",
       "    overflow: auto;\n",
       "  }\n",
       "  table, th, td {\n",
       "    border: 1px solid black;\n",
       "    border-collapse: collapse;\n",
       "  }\n",
       "  th, td {\n",
       "    padding: 5px;\n",
       "  }\n",
       "  th {\n",
       "    text-align: left;\n",
       "  }\n",
       "</style><div class='table-result-container'><table class='table-result'><thead style='background-color: white'><tr><th>is_global</th><th>count</th></tr></thead><tbody><tr><td>1</td><td>25550</td></tr><tr><td>0</td><td>1842647</td></tr></tbody></table></div>"
      ]
     },
     "metadata": {
      "application/vnd.databricks.v1+output": {
       "addedWidgets": {},
       "aggData": [],
       "aggError": "",
       "aggOverflow": false,
       "aggSchema": [],
       "aggSeriesLimitReached": false,
       "aggType": "",
       "arguments": {},
       "columnCustomDisplayInfos": {},
       "data": [
        [
         1,
         25550
        ],
        [
         0,
         1842647
        ]
       ],
       "datasetInfos": [],
       "dbfsResultPath": null,
       "isJsonSchema": true,
       "metadata": {},
       "overflow": false,
       "plotOptions": {
        "customPlotOptions": {},
        "displayType": "table",
        "pivotAggregation": null,
        "pivotColumns": null,
        "xColumns": null,
        "yColumns": null
       },
       "removedWidgets": [],
       "schema": [
        {
         "metadata": "{}",
         "name": "is_global",
         "type": "\"integer\""
        },
        {
         "metadata": "{}",
         "name": "count",
         "type": "\"long\""
        }
       ],
       "type": "table"
      }
     },
     "output_type": "display_data"
    },
    {
     "output_type": "stream",
     "name": "stdout",
     "output_type": "stream",
     "text": [
      "\nProcesso concluído com sucesso!\nTotal de registros processados: 1868197\n"
     ]
    }
   ],
   "source": [
    "# Configuração inicial\n",
    "SILVER_PATH = \"dbfs:/mnt/spotify/silver\"\n",
    "dbutils.fs.mkdirs(SILVER_PATH)\n",
    "\n",
    "# Transformações principais\n",
    "silver_df = (\n",
    "    bronze_df\n",
    "    # Tratamento de valores nulos\n",
    "    .withColumn(\"country\", \n",
    "                when(col(\"country\").isNull(), \"GLOBAL\")\n",
    "                .otherwise(col(\"country\")))\n",
    "    \n",
    "    # Remove linhas com nulos em QUALQUER coluna + condições adicionais\n",
    ".na.drop()\n",
    ".filter(\n",
    "    (col(\"duration_ms\") > 0) &\n",
    "    (col(\"time_signature\") > 0)\n",
    ")\n",
    "    \n",
    "    # Transformações de dados\n",
    "    .withColumn(\"artists_array\", split(col(\"artists\"), \",\\\\s*\"))\n",
    "    .withColumn(\"duration_min\", round(col(\"duration_ms\")/60000, 2))\n",
    "    .withColumn(\"snapshot_date\", to_date(col(\"snapshot_date\"), \"yyyy-MM-dd\"))\n",
    "    .withColumn(\"is_global\", when(col(\"country\") == \"GLOBAL\", 1).otherwise(0))\n",
    "    .drop(\"duration_ms\")\n",
    ")\n",
    "\n",
    "# Controle de qualidade completo\n",
    "def run_quality_checks(df):\n",
    "    \n",
    "    # Verificação de nulos\n",
    "    print(\"\\n=== Nulos por coluna ===\")\n",
    "    null_check = df.select([\n",
    "        spark_sum(col(c).isNull().cast(\"int\")).alias(f\"{c}_nulls\")\n",
    "        for c in df.columns\n",
    "    ])\n",
    "    display(null_check)\n",
    "    \n",
    "    # Verificação de valores inválidos\n",
    "    print(\"\\n=== Valores fora do domínio esperado ===\")\n",
    "    domain_check = df.select(\n",
    "        count(when(~col(\"daily_rank\").between(1, 50), True)).alias(\"invalid_ranks\"),\n",
    "        count(when(~col(\"popularity\").between(0, 100), True)).alias(\"invalid_popularity\"),\n",
    "        count(when(col(\"duration_min\") <= 0, True)).alias(\"invalid_duration\")\n",
    "    )\n",
    "    display(domain_check)\n",
    "    \n",
    "    # Análise de distribuição\n",
    "    print(\"\\n=== Distribuição de registros globais ===\")\n",
    "    global_stats = df.groupBy(\"is_global\").count()\n",
    "    display(global_stats)\n",
    "\n",
    "# Execução das validações\n",
    "print(\"Executando verificações de qualidade...\")\n",
    "run_quality_checks(silver_df)\n",
    "\n",
    "# Persistência dos dados\n",
    "(\n",
    "    silver_df.write\n",
    "    .mode(\"overwrite\")\n",
    "    .format(\"delta\")\n",
    "    .option(\"overwriteSchema\", \"true\")\n",
    "    .partitionBy(\"country\", \"is_global\")\n",
    "    .save(f\"{SILVER_PATH}/processed_songs\")\n",
    ")\n",
    "\n",
    "print(\"\\nProcesso concluído com sucesso!\")\n",
    "print(f\"Total de registros processados: {silver_df.count()}\")"
   ]
  },
  {
   "cell_type": "code",
   "execution_count": 0,
   "metadata": {
    "application/vnd.databricks.v1+cell": {
     "cellMetadata": {
      "byteLimit": 2048000,
      "rowLimit": 10000
     },
     "inputWidgets": {},
     "nuid": "a00e6f03-d2e7-4e14-a59f-d8531e61524a",
     "showTitle": false,
     "tableResultSettingsMap": {},
     "title": ""
    }
   },
   "outputs": [
    {
     "output_type": "stream",
     "name": "stdout",
     "output_type": "stream",
     "text": [
      "Camada Gold criada com sucesso!\nTotal de artistas únicos: 12882\nTotal de streams registrados: 2600127\n"
     ]
    }
   ],
   "source": [
    "# CAMADA GOLD VAMOS FAZER O ESQUEMA ESTRELA\n",
    "\n",
    "GOLD_PATH = \"dbfs:/mnt/spotify/gold\"\n",
    "dbutils.fs.mkdirs(GOLD_PATH)\n",
    "\n",
    "# ALIAS DO DATAFRAME SILVER\n",
    "silver = silver_df.alias(\"silver\")\n",
    "\n",
    "# DIMENSÕES PRINCIPAIS\n",
    "\n",
    "# Dim_Artist\n",
    "dim_artist = (silver\n",
    "    .select(\n",
    "        col(\"artists\").alias(\"artist_name\"),\n",
    "        col(\"artists_array\"),\n",
    "        col(\"is_explicit\")\n",
    "    )\n",
    "    .distinct()\n",
    "    .withColumn(\"artist_id\", monotonically_increasing_id())\n",
    "    .alias(\"dim_artist\"))\n",
    "\n",
    "# Dim_Track\n",
    "dim_track = (silver\n",
    "    .select(\n",
    "        col(\"spotify_id\"),\n",
    "        col(\"name\").alias(\"track_name\"),\n",
    "        col(\"duration_min\"),\n",
    "        col(\"danceability\"),\n",
    "        col(\"energy\"),\n",
    "        col(\"key\"),\n",
    "        col(\"loudness\"),\n",
    "        col(\"mode\"),\n",
    "        col(\"speechiness\"),\n",
    "        col(\"acousticness\"),\n",
    "        col(\"instrumentalness\"),\n",
    "        col(\"liveness\"),\n",
    "        col(\"valence\"),\n",
    "        col(\"tempo\"),\n",
    "        col(\"time_signature\")\n",
    "    )\n",
    "    .distinct()\n",
    "    .alias(\"dim_track\"))\n",
    "\n",
    "# Dim_Album\n",
    "dim_album = (silver\n",
    "    .select(\n",
    "        col(\"album_name\"),\n",
    "        col(\"album_release_date\")\n",
    "    )\n",
    "    .distinct()\n",
    "    .withColumn(\"album_id\", monotonically_increasing_id())\n",
    "    .alias(\"dim_album\"))\n",
    "\n",
    "# Dim_Date\n",
    "dim_date = (silver\n",
    "    .select(\n",
    "        col(\"snapshot_date\").alias(\"date\"),\n",
    "        year(\"snapshot_date\").alias(\"year\"),\n",
    "        month(\"snapshot_date\").alias(\"month\"),\n",
    "        dayofweek(\"snapshot_date\").alias(\"day_of_week\")\n",
    "    )\n",
    "    .distinct()\n",
    "    .alias(\"dim_date\"))\n",
    "\n",
    "# Dim_Location\n",
    "dim_location = (silver\n",
    "    .select(\n",
    "        col(\"country\"),\n",
    "        col(\"is_global\")\n",
    "    )\n",
    "    .distinct()\n",
    "    .alias(\"dim_location\"))\n",
    "\n",
    "# TABELA DE FATOS\n",
    "fact_streams = (silver\n",
    "    .join(dim_artist, col(\"silver.artists\") == col(\"dim_artist.artist_name\"))\n",
    "    .join(dim_track, col(\"silver.spotify_id\") == col(\"dim_track.spotify_id\"))\n",
    "    .join(dim_album, (col(\"silver.album_name\") == col(\"dim_album.album_name\")) &\n",
    "                     (col(\"silver.album_release_date\") == col(\"dim_album.album_release_date\")))\n",
    "    .select(\n",
    "        col(\"dim_artist.artist_id\"),\n",
    "        col(\"dim_track.spotify_id\"),\n",
    "        col(\"dim_album.album_id\"),\n",
    "        col(\"silver.snapshot_date\").alias(\"date\"),\n",
    "        col(\"silver.country\"),\n",
    "        col(\"silver.daily_rank\"),\n",
    "        col(\"silver.daily_movement\"),\n",
    "        col(\"silver.weekly_movement\"),\n",
    "        col(\"silver.popularity\"),\n",
    "        lit(1).alias(\"stream_count\")\n",
    "    ))\n",
    "\n",
    "# PERSISTÊNCIA DAS TABELAS GOLD\n",
    "dim_artist.write.mode(\"overwrite\").format(\"delta\").save(f\"{GOLD_PATH}/dim_artist\")\n",
    "dim_track.write.mode(\"overwrite\").format(\"delta\").save(f\"{GOLD_PATH}/dim_track\") \n",
    "dim_album.write.mode(\"overwrite\").format(\"delta\").save(f\"{GOLD_PATH}/dim_album\")\n",
    "dim_date.write.mode(\"overwrite\").format(\"delta\").save(f\"{GOLD_PATH}/dim_date\")\n",
    "dim_location.write.mode(\"overwrite\").format(\"delta\").save(f\"{GOLD_PATH}/dim_location\")\n",
    "\n",
    "(fact_streams.write\n",
    "    .mode(\"overwrite\")\n",
    "    .format(\"delta\")\n",
    "    .partitionBy(\"date\")\n",
    "    .save(f\"{GOLD_PATH}/fact_streams\"))\n",
    "\n",
    "# REGISTRAR NO CATALOG\n",
    "spark.sql(\"CREATE DATABASE IF NOT EXISTS spotify_gold\")\n",
    "\n",
    "tables = {\n",
    "    \"dim_artist\": dim_artist,\n",
    "    \"dim_track\": dim_track,\n",
    "    \"dim_album\": dim_album,\n",
    "    \"dim_date\": dim_date,\n",
    "    \"dim_location\": dim_location,\n",
    "    \"fact_streams\": fact_streams\n",
    "}\n",
    "\n",
    "for name, df in tables.items():\n",
    "    df.write.mode(\"overwrite\").saveAsTable(f\"spotify_gold.{name}\")\n",
    "\n",
    "print(\"Camada Gold criada com sucesso!\")\n",
    "print(f\"Total de artistas únicos: {dim_artist.count()}\")\n",
    "print(f\"Total de streams registrados: {fact_streams.count()}\")"
   ]
  },
  {
   "cell_type": "markdown",
   "metadata": {
    "application/vnd.databricks.v1+cell": {
     "cellMetadata": {
      "byteLimit": 2048000,
      "rowLimit": 10000
     },
     "inputWidgets": {},
     "nuid": "15993d41-d96f-4132-8c61-620dc974de50",
     "showTitle": false,
     "tableResultSettingsMap": {},
     "title": ""
    }
   },
   "source": [
    "Finalizamos agora o tratamento dos dados. Vamos prosseguir com as análises, eu escolhi alguns países de interesse para nossas consultas:"
   ]
  },
  {
   "cell_type": "code",
   "execution_count": 0,
   "metadata": {
    "application/vnd.databricks.v1+cell": {
     "cellMetadata": {
      "byteLimit": 2048000,
      "rowLimit": 10000
     },
     "inputWidgets": {},
     "nuid": "93eb2a7a-cabd-404a-9d32-cc9252b62d57",
     "showTitle": false,
     "tableResultSettingsMap": {},
     "title": ""
    }
   },
   "outputs": [
    {
     "output_type": "stream",
     "name": "stdout",
     "output_type": "stream",
     "text": [
      "\n=== TOP 10 MÚSICAS - GLOBAL ===\n+---------------------+-----------------+\n|track_name           |avg_popularity   |\n+---------------------+-----------------+\n|greedy               |98.03352332824069|\n|BIRDS OF A FEATHER   |96.93095455503266|\n|Espresso             |96.07808958898744|\n|Cruel Summer         |96.05518323114217|\n|My Love Mine All Mine|95.96528555431131|\n|Die With A Smile     |95.95317875841437|\n|Si No Estás          |95.81444358776665|\n|Lovin On Me          |95.40124902419984|\n|DtMF                 |95.20608475190149|\n|Strangers            |94.78278173439463|\n+---------------------+-----------------+\n\n\n=== TOP 10 MÚSICAS - BRASIL ===\n+-------------------------------+-----------------+\n|track_name                     |avg_popularity   |\n+-------------------------------+-----------------+\n|greedy                         |99.41666666666667|\n|i like the way you kiss me     |99.125           |\n|All I Want for Christmas Is You|98.5             |\n|Cruel Summer                   |98.42857142857143|\n|End of Beginning               |98.0             |\n|BIRDS OF A FEATHER             |97.25263157894737|\n|Espresso                       |96.18181818181819|\n|Last Christmas                 |95.5             |\n|Die With A Smile               |95.4739336492891 |\n|Jingle Bell Rock               |93.5             |\n+-------------------------------+-----------------+\n\n\n=== TOP 10 MÚSICAS - ESTADOS UNIDOS ===\n+--------------------------+-----------------+\n|track_name                |avg_popularity   |\n+--------------------------+-----------------+\n|greedy                    |98.73118279569893|\n|Strangers                 |96.96153846153847|\n|BIRDS OF A FEATHER        |96.80066445182725|\n|Cruel Summer              |96.76271186440678|\n|La Diabla                 |96.67961165048544|\n|My Love Mine All Mine     |96.24747474747475|\n|Gata Only                 |96.14678899082568|\n|MONACO                    |96.08196721311475|\n|i like the way you kiss me|95.9375          |\n|Die With A Smile          |95.37914691943128|\n+--------------------------+-----------------+\n\n\n=== TOP 10 MÚSICAS - ÍNDIA ===\n+----------------------------------------------------+-----------------+\n|track_name                                          |avg_popularity   |\n+----------------------------------------------------+-----------------+\n|Espresso                                            |97.58695652173913|\n|I Wanna Be Yours                                    |95.0             |\n|Die With A Smile                                    |94.99230769230769|\n|APT.                                                |90.3298969072165 |\n|Who                                                 |89.66666666666667|\n|Big Dawgs                                           |89.28571428571429|\n|Perfect                                             |89.0             |\n|blue                                                |87.78823529411764|\n|Night Changes                                       |87.66666666666667|\n|Bye Bye Bye - From Deadpool and Wolverine Soundtrack|86.79310344827586|\n+----------------------------------------------------+-----------------+\n\n\n=== TOP 10 MÚSICAS - FRANÇA ===\n+-------------------------------+-----------------+\n|track_name                     |avg_popularity   |\n+-------------------------------+-----------------+\n|Cruel Summer                   |98.7872340425532 |\n|greedy                         |98.67692307692307|\n|Lovin On Me                    |98.66666666666667|\n|Good Luck, Babe!               |97.0             |\n|End of Beginning               |96.9375          |\n|Espresso                       |96.92548435171386|\n|BIRDS OF A FEATHER             |96.70609318996416|\n|All I Want for Christmas Is You|96.5             |\n|Strangers                      |96.44604316546763|\n|Die With A Smile               |96.23076923076923|\n+-------------------------------+-----------------+\n\n\n=== TOP 10 MÚSICAS - COREIA DO SUL ===\n+---------------------------------+-----------------+\n|track_name                       |avg_popularity   |\n+---------------------------------+-----------------+\n|Lovin On Me                      |99.0             |\n|All I Want for Christmas Is You  |98.21052631578948|\n|My Love Mine All Mine            |98.01219512195122|\n|i like the way you kiss me       |98.0             |\n|Espresso                         |97.08507462686568|\n|Rockin' Around The Christmas Tree|97.0             |\n|BIRDS OF A FEATHER               |96.97472924187726|\n|Cruel Summer                     |96.42038216560509|\n|Die With A Smile                 |95.4392523364486 |\n|Please Please Please             |94.74074074074075|\n+---------------------------------+-----------------+\n\n\n=== TOP 10 MÚSICAS - ÁFRICA DO SUL ===\n+---------------------------------+-----------------+\n|track_name                       |avg_popularity   |\n+---------------------------------+-----------------+\n|greedy                           |99.10714285714286|\n|Cruel Summer                     |99.0             |\n|All I Want for Christmas Is You  |98.57142857142857|\n|Espresso                         |97.75331125827815|\n|Strangers                        |97.75            |\n|Stick Season                     |96.9423076923077 |\n|End of Beginning                 |96.88888888888889|\n|BIRDS OF A FEATHER               |96.87333333333333|\n|Rockin' Around The Christmas Tree|96.75            |\n|Die With A Smile                 |96.1116504854369 |\n+---------------------------------+-----------------+\n\n"
     ]
    }
   ],
   "source": [
    "# Função para gerar o ranking dos 10 tracks mais populares por país\n",
    "def top_musicas_por_pais(pais_nome):\n",
    " \n",
    "    df = spark.table(\"spotify_gold.fact_streams\")\n",
    "    \n",
    "    if pais_nome != \"GLOBAL\":\n",
    "        df = df.filter(col(\"country\") == pais_nome)\n",
    "\n",
    "    return (\n",
    "        df.join(spark.table(\"spotify_gold.dim_track\"), \"spotify_id\")\n",
    "        .groupBy(\"track_name\")\n",
    "        .agg(avg(\"popularity\").alias(\"avg_popularity\"))\n",
    "        .orderBy(col(\"avg_popularity\").desc())\n",
    "        .limit(10)\n",
    "    )\n",
    "\n",
    "# Lista de países com nomes legíveis\n",
    "paises = {\n",
    "    \"GLOBAL\": \"GLOBAL\",\n",
    "    \"BR\": \"BRASIL\",\n",
    "    \"US\": \"ESTADOS UNIDOS\",\n",
    "    \"IN\": \"ÍNDIA\",\n",
    "    \"FR\": \"FRANÇA\",\n",
    "    \"KR\": \"COREIA DO SUL\",\n",
    "    \"ZA\": \"ÁFRICA DO SUL\"\n",
    "}\n",
    "\n",
    "# Gera e exibe os rankings\n",
    "for codigo, nome_exibicao in paises.items():\n",
    "    print(f\"\\n=== TOP 10 MÚSICAS - {nome_exibicao} ===\")\n",
    "    ranking = top_musicas_por_pais(codigo)\n",
    "    ranking.show(truncate=False)\n"
   ]
  },
  {
   "cell_type": "code",
   "execution_count": 0,
   "metadata": {
    "application/vnd.databricks.v1+cell": {
     "cellMetadata": {
      "byteLimit": 2048000,
      "rowLimit": 10000
     },
     "inputWidgets": {},
     "nuid": "f8913a56-0720-4476-9d4c-d2e4632457b9",
     "showTitle": false,
     "tableResultSettingsMap": {},
     "title": ""
    }
   },
   "outputs": [
    {
     "output_type": "display_data",
     "data": {
      "image/png": "[encoded data removed]"
     },
     "metadata": {
      "application/vnd.databricks.v1+output": {
       "addedWidgets": {},
       "arguments": {},
       "data": "data:image/png;base64,iVBORw0KGgoAAAANSUhEUgAAAzwAAAI4CAYAAACvEOxMAAAAOXRFWHRTb2Z0d2FyZQBNYXRwbG90bGliIHZlcnNpb24zLjUuMSwgaHR0cHM6Ly9tYXRwbG90bGliLm9yZy/YYfK9AAAACXBIWXMAAAsTAAALEwEAmpwYAAEAAElEQVR4nOzdd1xV5R/A8c+dbEEUBGSogCIo4N57pKlpjpbb1DTSUiNHWa4ckZolae40zcz6WaaWI7fmNpGhoggoe8nmzt8fN28SoFgyxOf9evmqe+95zvk+51zOPd/zjCPR6/V6BEEQBEEQBEEQqiBpRQcgCIIgCIIgCIJQVkTCIwiCIAiCIAhClSUSHkEQBEEQBEEQqiyR8AiCIAiCIAiCUGWJhEcQBEEQBEEQhCpLJDyCIAiCIAiCIFRZIuERBEEQhEpAq9Wybt06Ll++XNGhPFXUajVfffUVERERFR3KM2P//v3s2rWrosMQhFITCY8gCILwxMyYMYNRo0Y9kXV17dqVL7/8sly2N3z4cN5///3/vJ7/4tNPP+X06dN4e3s/ctl/7pvS7Kt/48yZMzRo0ICEhIQnvu4nJSgoiJCQEOrXr1/qMnfu3KFBgwacP3++DCOrmk6fPs3ChQtp1qzZv15HQkICrVq1qtTfq9LKzs6mXbt2IuGu5ETCIwiC8JSbMWMGDRo0oEGDBnh7e9OlSxc+/PBD0tPTKzq0/2Tnzp1PLHkqD/eTg0aNGpGWllboM7VaTdu2bWnQoAE//fRTkbJ79+7l0qVLfPHFFyiVysfe9tO2rx70X/bb/v37CQ0NZenSpUilpb+kcXR05MSJE/j5+f3n+J8mXbt2NZ4rGjduTK9evVi7di06na5U5WNjY/noo4/46quvcHFx+ddxLF26lH79+uHg4MAXX3xhjKmkfz/++OO/3lZJkpKSmDZtGn369MHb27vEv5+kpCTefvttmjZtStOmTZkyZQqpqanGzy0tLRk1ahSLFy9+4jEKT468ogMQBEEQ/rvmzZvz2WefodVquXr1Kh988AEJCQmsWbOmokN7bCqVCqVSia2tbUWH8q/Y2dnx008/MXr0aON7Bw4cwNTUtMQyzz//PM8///y/3ubTuq8e9G/2W8+ePenZs+djb0smk2FnZ/ev4qzsdDoder0emUxW7Ofjxo1j5MiR5Ofnc+jQIRYvXoxEImHs2LGPXLeLiwv79+//T/ElJSWxb98+Y5e4MWPG8Morrxg/nzRpErVr12bGjBnG96ysrP7TNoujUqmwsbFh1KhR/Prrr2i12iLL6HQ6JkyYgEQiYePGjej1eubOnUtAQADffvstEokEgIEDB/LZZ59x/fr1x2ppFMqPaOERBEGoAhQKBXZ2djg4ONC9e3dGjhzJ8ePHyc/PR6/Xs379erp160ajRo3o3r07mzZtKlS+a9euLF++nPfff5+mTZvSqlUrli1bVujOb3Hdpt5//32GDx9eYlyhoaGMHTuWNm3a0KRJEwYNGsSxY8eK3facOXNo1aoVQ4cOLXZ7GRkZvPPOO/j7+9O2bVuWL1+OXq8vtK6TJ08yfPhwWrZsSbNmzRg2bBhXrlwptMzdu3d5/fXX8fX1pVOnTmzZsqVI3Gq1mi+++IKuXbvSuHFj+vTpw/bt20us54MGDRrE999/X+i9HTt2MGjQoCLL5uTksGDBAjp06ICfnx8DBgwockEZERHBK6+8QqNGjejZsyd79+4tsp5/7qvdu3czZMgQmjVrRqtWrRg/fjxRUVGPjH3Lli107NgRPz8/Xn/9deLj4wt9fu/ePd599106d+6Mr68vzz33HBs2bCh0HG7cuMHrr79O8+bN8ff3p3fv3qUa7/E4+624Fp9Ro0YVukg+ePAgAwYMwM/Pj+bNmzN48GDCwsKA4ru0paamMnPmTNq2bUvjxo157rnn2LlzJwB6vZ4PPviA7t274+vrS7du3Vi2bBkqlcpYPiEhgUmTJtGqVSsaN25Mt27dWLduXYn1vd+y9fvvvzN48GAaN25M3759OX36dKHlLl++zNChQ/H19aVFixZMmzatUAvDF198QY8ePdi7dy+9evWiUaNG3L59u8TtmpubY2dnh4uLC6NGjaJNmzYcOHAAgK+//pr+/fvTpEkT2rVrx5QpU0hKSjKWLW6/rV692nhuad26Na+//jr5+fklbn/v3r3Url0bDw8PACwsLLCzszP+UygUmJqaGl+bmZmxcOFCWrduTaNGjRg4cCAnTpwoEtNPP/3EyJEjjcdnz549JcYA4OzszOzZsxkyZEiJye+pU6cIDQ0lKCgIPz8//P39+eSTT7h06RJnz541LlejRg2aNGnCzz///NBtChVHJDyCIAhVkKmpKTqdDo1Gw7Zt21ixYgXjx4/nl19+4fXXX2fp0qVFLi63bNmCvb09O3fuZObMmWzevLnYZOBxZGdn8/zzz7N582Z+/PFH2rdvz5tvvlnk4nvLli3UqFGD7du3s2jRomLX9f777xMaGsqqVav4+uuvuXv3rvFC7b7c3FxeffVVtm/fzvbt23Fzc2Ps2LHG7n16vZ633nqLjIwMtmzZwurVq/n9998JDQ0ttJ7Zs2ezf/9+5s2bx969ewkICODTTz8tss+K06dPHxITE40XhTExMZw7d47BgwcXWk6v1zNhwgSuXbvG8uXL+eWXX3j11VeZOnWq8aI3Pz+fcePGYWVlxc6dO1myZAnr168vdMFbHJVKxcSJE/nf//7Hxo0bkUqlvPHGG4Uu0P/p4MGDLFq0iNGjR7Nr1y569erFJ598UmS99evXJzg4mD179vDmm2/yxRdfFOpyNHXqVGxsbNi+fTu7d+9mxowZWFtbP7H9VhrJycm888479OnTh19++YXvvvuOkSNHltjqkZ+fz7Bhw4iIiODTTz9l7969zJ49GzMzM8BwrGrUqMHSpUvZu3cvs2bN4scff2T16tXGdcyZM4esrCw2bdrEvn37+Pjjj3FwcHhkrIsXLyYgIIBdu3bh6+vLxIkTjUlGcnIyY8aMwcHBge+//55Vq1Zx/fp1Jk+eXGgdSUlJbNu2jSVLlrBnzx5q1apV6n1lYmKCWq02vp4+fTo///wzK1euJD4+nqlTp5ZYdv/+/axZs4b333+f/fv3s3HjRjp06PDQ7Z07d47GjRuXOr5Zs2Zx4sQJgoKC+Omnn2jatCkTJkzg5s2bhZYLCgpi0KBB7Nq1i759+/Luu+8aE9x/6+LFizg7O1OvXj3je56enjg4OHDhwoVCy/r6+nLmzJn/tD2h7IgubYIgCFVMZGQkW7duxc/PD0tLS9asWcOwYcN4+eWXAahTpw5RUVGsXr2aIUOGGMt5eXnx9ttvA1CvXj1u3brFhg0bGDly5L+OpVWrVoVeT5kyhcOHD/Prr78yceJE4/uNGzdm0qRJJa4nOjqagwcPsmHDBtq0aQPAwoUL6datW6HlevToUej1/Pnz2b9/P8ePH+eFF17g9OnThIWF8euvv1K3bl3AMJ6gc+fOxjKxsbHs2rWLPXv24O7uDhi68ty6dYtvvvmm0D4rjpmZGf369eP777+nefPm7Nixgw4dOhS5CD179iyXL1/m1KlTxi47L7/8MpcvX2bLli20adOG3bt3k52dzaeffmpMGhYtWkS/fv0eGsM/W0UWL15Mq1atCAkJKXGw+fr16+ndu7exS1ndunWN34H77OzsGD9+vPG1i4sLISEh/PLLL8ZtxsXFMXr0aOMd/NKO9SjtfiuN5ORk1Go1vXv3xtnZGcB4LIuze/du7ty5w4EDB4xJyoNxS6VSpkyZYnzt7OxMbGws27ZtMyYfcXFx9OjRg4YNGxqXKY1x48bRpUsXAObNm8fp06fZtm0b77zzDlu3bsXS0pJFixYZx3YFBQXRv39/zp07R4sWLQAoKCjgk08+wcnJqVTbBEN3rWPHjnHixAnj+JUH/9ZdXFz48MMPefHFF0lMTCz2OMTFxWFnZ0eHDh1QKBQ4OTkZ61+SO3fu0L59+1LFGB0dzW+//caaNWuMidQHH3zAhQsXWLduXaGbI4MHD+aFF14ADOeZM2fOsHHjRoKCgkq1reIkJycX2/pTs2ZNkpOTC73n4OBAbGzsv96WULZEwiMIglAFnD17liZNmqDValGpVLRp04Z58+aRnZ1NQkKC8cLovpYtW7J582by8vKMd7H9/f0LLdO0aVO++uorsrOzsbS0/FdxpaWl8fnnn/PHH3+QkpKCVquloKCAuLi4Qsv5+vo+dD2RkZEANGnSxPieUqmkcePG5ObmGt+LjY3l888/5/Lly6SmpqLX68nLyzNuLzIykurVqxuTHTCMf3nw9dWrV9Hr9UVaFjQaTYktBP/08ssv88orrzB9+nT+97//MX/+/CLLhISEoFar6dixY6H31Wo1bm5uxnjr1atXqIWkfv36jxzTEB4ezsqVKwkPDy80eUVcXFyJCc/Nmzfp27dvofeaNWtWKOHR6XSsW7eOPXv2kJCQgEqlQq1WU7t2beMyY8aM4YMPPuB///sfLVu2pGvXrvj4+Dw03vtKs99Ko0GDBrRv355+/frRtm1bWrZsSc+ePXF0dCx2+dDQUDw8PB7aIrNjxw6+//577t69S15eHhqNplBXvpEjR/LRRx9x7NgxWrZsSefOnYv83RXnwe+0XC6ncePGxu97ZGQk/v7+hSay8PLywsrKihs3bhjXX7NmzVInO19++SVr1641tuq8+OKLxpsNZ86cYc2aNURGRpKZmWms3927d4tNeHr37s3mzZvp0qUL7du3p3Xr1nTv3v2h54v8/HxMTExKFev9/dC8efNC7zdv3rzI9O0P7sf7r//4449SbedJMDExoaCgoNy2JzwekfAIgiBUAb6+vixZsgSZTIa9vb3xAik7O/uJbUMikRQZM6PRaB5aZsaMGcTHxxMYGIizszOmpqZMmTKlUBcawJh0/VcTJkygevXqfPjhhzg6OqJQKHjttdeKbO9h7tfx22+/LRLX/UHKj9KwYUM8PT2ZOnUqMpmMTp06FVlGp9MZu6r9k0KhKHW8/5SXl8eYMWNo1qwZixYtombNmoChy9jj7IfibNiwga+++oqZM2fi7e2NhYUFmzZt4ujRo8ZlAgICeOGFFzh27Bhnzpzhq6++4vXXXy/UQlKS0uw3ePR3USaTsW7dOkJCQjh16hT79+9n6dKlrFixwtia8jj27dvHvHnzmDZtGi1atMDS0pJff/2V5cuXG5cZNGgQHTp04Pjx45w5c4Zx48bRvXt3Pv3008fe3uN6nL+foUOH8tprrxnHydyf3S4uLo7x48fTv39/3nzzTapXr05iYiKjRo0q8XtTq1Ytfv31V/744w/++OMPVq1aZez6WVJyaWtry7179x6/khXAzs6OU6dOFXk/NTW1SMvPvXv3qF69enmFJjwmMYZHEAShCjA1NcXNzQ1nZ+dCd4MtLS1xcHDg3LlzhZY/e/Yszs7OhS6U/vzzz0LLXLp0iVq1ahnv1taoUaPQAGbgkX3kz507x6uvvkq3bt1o0KABdnZ23Llz57Hrd7971KVLl4zvqVQqQkJCjK/T09OJjIxk3LhxdOjQAQ8PD0xMTAqNd/Hw8CA9Pb3QoO60tLRCY4rut0bEx8fj5uZW6J+rq2upY3755Zc5ffo0gwYNKrZlqHHjxmRmZlJQUFBkO/fv1nt4eHDr1i0yMzON5W7cuEFWVlaJ27158yZpaWlMmTKFVq1a4e7uzr1794okCP/k7u7OxYsXC733z3EK58+fp0OHDgwePBhvb2/c3NyIjo4usi4XFxeGDh3K559/zuTJk0s94QM8er9B0e+iSqUytgbcJ5FI8PX1ZcKECWzdupUWLVqUOL2xj48PkZGRJT4X5vz58zRs2JDRo0fTqFEj6tSpw927d4ssZ29vz6BBg/jkk0/4+OOPjV0SH+bBlgqNRkNISIix+52HhweXL18uNPYqIiKCrKysfz0bmLW1NW5ubtSqVavQVN4hISHk5+cza9YsmjVrRr169UhJSXnk+pRKJR07duS9995j9+7d5Ofnc/DgwRKX9/Hx4caNG6WK1dPTE6DI85LOnz9v/Oy+f7b4XLp06aHdGEujadOm3Llzp9D5IjIykvj4+CItpdeuXaNRo0b/aXtC2REJjyAIQhU3fvx4vvnmG3bs2MHt27fZvn073377LW+88Uah5cLDw/niiy+Iiopi9+7dbN68mTFjxhg/b9OmDfv27ePEiRPcunWLhQsXFuma9k9169Zl9+7dXLt2jfDwcKZOnVrs9K+P4ubmRteuXZk3bx5//PEHkZGRfPDBB+Tk5BiXsba2xtbWlu+//56oqCguXbrE1KlTC01r3KZNG7y8vAgMDOTKlSuEh4cTGBiIXC4vtK1BgwYxe/Zsdu3aRXR0NBEREezcufOxpvkeOHAgp0+f5s033yz289atW9O2bVsmTZrEwYMHiY2N5erVq2zZsoUdO3YA0LdvXywsLAgMDCQiIoLLly8za9ash07V7OTkhFKpZMuWLcTExHD69Gk+/vjjR7ZOjRkzhn379vH1119z+/ZtfvjhhyKzTtWtW5ezZ8/yxx9/EBUVxfLlywslyjk5OcydO5fTp08TGxtLWFgYx48ff6wLz0ftNzAcx+3bt3Pp0iWuX7/OjBkzCrVCXLx4keDgYP7880/i4uI4ffo0165dKzGOvn374uTkxMSJEzl16hSxsbGcPn3aOCNe3bp1uX79OgcPHiQmJoavv/66yGx68+bN4+jRo8TExHDjxg3279+Po6MjFhYWD63v2rVrOXr0KDdv3mTOnDmkpaXx2muvATBs2DCys7OZOXMm169f5/z58wQGBtK8efMi3bz+Kzc3NyQSCRs2bCA2NpaDBw8SHBz80DLff/89O3bsICIigrt37/Lzzz+Tk5NjvEFRnI4dOxqTq0dxdXWlV69ezJ07l+PHj3Pz5k0WLFhgnAnwQTt37mT37t1ERUWxYsUKLl++XGiK8+KEh4cTHh5ORkYGubm5xtf3tW3bFh8fH+P54s8//+S9997D39+fli1bGpfT6/WcP3++0FhAoXIRXdoEQRCquNdee428vDxWr17N3LlzcXBwYNq0aUUG3w8fPpy4uDgGDRqEQqFg6NChjBgxwvj5uHHjiIuLY8qUKcjlcl577TV69epFTExMidtetGgRH330EUOGDKFmzZqPnLL2YRYuXMicOXOYMGECpqamDBkyhB49epCYmAgYBpavWLGCBQsW8MILL+Dk5MTUqVMLdSmSSCQEBwfz4YcfMnToUKpXr87rr79eZPay+fPns2HDBlavXs2dO3ewsLDA09PTOGV2achksoc+H0cikbBq1SpWrlzJwoULSUpKwtraGi8vL+MzUczMzFizZg1z585l8ODBODg4MGXKFJYuXVriem1tbQkKCmLZsmX88MMPuLu7M2vWrEc+mLRHjx5Mnz6ddevWsXTpUpo2bcq7775baKrnN998k7i4ON58800UCgXPP/88w4cPNyZGcrmczMxM3n//fZKTk7G0tKRVq1ZMnz79ie03MMwkNnv2bF5//XWsrKx44403Cj201MrKisuXL7Nt2zbu3buHnZ0d/fr1KzGJMjMz45tvviEoKIgpU6aQm5tL7dq1jRM0vPzyy1y/fp1Zs2ah0Wjo0qULkyZNKjTGSK/Xs3DhQuLj4zEzM8PPz4+1a9c+MtF87733WLFiBdevX8fV1ZUvv/zSOF6mZs2abNiwgaCgIAYPHoxSqaRTp07MmjWrVPvycXh5eTF79mzWrFnD6tWr8fHxYdasWYwbN67EMtbW1sb4VCoVLi4uzJs3zzixSHHat29PjRo1OHDgwCMn3wD4+OOP+eSTTwgMDCQ7O5v69euzevXqIsnrtGnT2LFjB7NmzcLOzo6goKBHjh0bMGBAsa+vXbsGGM4pq1evZsGCBYwcORKJRELHjh2ZPXt2oeN65swZcnNz6d279yPrI1QMif5RbdyCIAhClde1a1cGDx780LvqgiA8OWfOnGHEiBEcPXq0VNNXVyW7du3i66+/5scffyz1uLiS3Llzh27durF169Yn3upVWuPGjaNFixaFZjAUKhfRwiMIgiAIgiCUm/79+5OSkkJSUtK/mna8MsnOzsbf3/+RLahCxRIJjyAIgiAIglBuJBKJsdvm087S0pKAgICKDkN4BNGlTRAEQRAEQRCEKkvM0iYIgiAIgiAIQpUlurQJgiCUg0dN3ywIlc3AwG8rOoQy92PQqxUdgiCU2v3nc5UlXcK/e75TaUkdrpfp+kvcboVsVRAEQRAEQRAEoRyIFh5BEARBEARBENChK9P1V1RLi0h4BEF4pmRnZ/PGG2/QvXt341O4jxw5wqZNm7Czs0Oj0VC7dm0mTJjAqlWrSEpKAiA6OhpXV1ckEgk2Nja8//77FVkNQXiqvPRcE/p38UUigZ8Oh/DdrxepZmHKgkl9cbSrRnxyJu9/vpus3IJC5RxqWrHknf5IpBLkMinf77/E/w5dqaBaCILwtBIJjyAIz5QTJ05Qv359Tp48yfDhw5HLDafBxo0bM23aNHQ6HcuXL+eHH34gMDDQWO6ll15iwYIFmJqaVlTogvBUqudcg/5dfBnz4VY0Gi2fTR/EyUu3GNDVl3OhMWzZfZbh/Voy4oWWBG8/XqhsSnoOY+d8i1qjxcxEwbYlIzl+4SYpGTkVVBtBqNq0+rJt4amoxEOM4REE4Zly+PBhBg4ciJubG+fOnSvyuVQqpVGjRmKSAUF4Quo41SD0ZjwFKg1anZ6L4Xfo3MKTDk3d2Xs8FIC9x0Pp2MyjSFmNVodaowVAoZAhkUjKNXZBeNbo0Jfpv4oiEh5BEJ4Z0dHRZGdn06hRIzp37szhw4eLLKNWqzl//jx169atgAgFoeq5dScF/wa1qWZpiolSTlv/utSytcLW2pzUv1pqUjNysLU2L7a8va0V3ywawc+fj2fLL+dE644gCI9NdGkTBOGZ8fvvv9OxY0ckEgmtWrViw4YNpKWlARASEmLswtagQQMGDBhQgZEKQtVxOy6NLbvP8fmMweQVqLkRnYRWV7TbTEn3fpPSshg2czM1bSxYMrU/h89cJy0zt2yDFoRnVFlPWlBRRMIjCMIzQaPRcOLECRQKBceOHQNAq9Vy5MgRbG1tjWN4BEF48nYfvcruo1cBmPBSe5LTski7l0sNGwtSM3KoYWNB+r2HJzEpGTncik3Fz6s2h8/eKI+wBUGoIkTCIwjCM+HcuXM4OTkxf/5843vXr19n5cqVDBw4sAIjE4Sqr3o1M9Iz86hVw4rOLTwZ+9E2HO2seb6DD1t2n+X5Dj4cv3izSDk7W0sys/IpUGuwMjfBr4ET23+9UAE1EIRng1ZfceNsypJIeARBeCYcPnyYDh06FHqvfv366PV6kpOTH2tdN2/eZMeOHcycOfNJhigIVdait1/A2soMjUbLp5sOkZ1bwObdZ/l4Ul9e6NyIhJRM3v/8FwC86tZiYDc/Fq7bT12nGkwe2gm9Xo9EImHrnvPcjE2p4NoIgvC0kej1VTSVEwRBqETErG/C02Zg4LcVHUKZ+zHo1YoOQRBKzcnJqcy3kRHnUqbrt3GKLdP1l0TM0iYIgiAIgiAIQpUlurQJgiAIgiAIgoC2Ap+VU5ZEC48gCIIgCIIgCFWWGMMjCIJQDv6MKdt+0ZXFquTOFR1CmfvQcUlFhyA8ITdUnSs6hDLnqTxS0SGUi1Rty4oOocw1drlT5ttIjqtdpuu3c7pbpusviWjhEQRBEARBEAShyhJjeARBEARBEARBEM/hEQRBEARBEASh6tJVdABlRCQ8wlMrOzubN954g+7duzN69Gjj+zt27CA/P58RI0Zw5MgRLly4wLRp04qUDw4Oxt3dnV69ehV6f/v27WRlZTFu3DgALly4wJIlS1i6dCkuLoZxGIsXL6Zly5Z07dr1sePOycnh4MGD9O/fv8Rltm/fzh9//EG1atWYN2/eY2/jQXFxcWzdupXo6GgsLS1RKBT069ePli1bMmfOHPr160ezZs0euZ60tDS++OILPvrooxKXSUpK4sqVK3Tv3v0/xfxvvfTSS2zevBlTU9NHLhsWFsaqVasICgoyLn/s2DH279/PvHnzkEord4/fvT/KObRPjl4P3Z7X0GeghtuREtauUKJSSZDJ9IydrMbDq+jP18vPmeFax3AXr6a9junzVeUdfqnE7ksg/nAyej04dbXDpbcDAHd+S+Du/iSQSqjRxBqP11yLlD09+TIyMxkSqQSJFJp/3Ki8wxeeMYf+B8f3gV4PHXpD94EQexO++RzUKpDJ4LW3oK5X4XKxN2HrF5CXA1IZPP8KtOhcIVUQ/rLnRzkH9yrQ66H782r6DtIQFSllzWdK1GrDcRo3WYVnMefX5EQJq5aZkJosQQLMWpiPvUPVbDV5moiER3hqnThxgvr163Py5EmGDx+OXP5kvs4+Pj5s2LDB+DosLAxPT09CQ0NxcXFBp9MRERHBqFGj/tX6c3Jy+Pnnnx+a8OzevZtVq1ZRrVq1Uq9Xp9MhkUiQSCTG99LT0/noo48YPnw4gYGBAGRkZPDnn38+VsxarRZbW9uHJjsAycnJHDx4sMISnsfh7e1N06ZN2bp1K6+//joZGRls27aNDz/8sNInOzFREg7tk7Pwi3zkClg404RmrbR8s1bJ4OFqmrTUcfGMlG/WKpiztKBIeaUSgr7Kr4DISy87Npf4w8k0m++NRC7lyuJr1GhiQ0GqipTzGbRY3AipQorqnrrEdfi/74WymqIcoxaeVXdvG5KdmZ+DXAErZoFvK9i5DvoOg8YtIOQs/LAe3g0qXFZpAqMDoVZtyEiFBW+BT3Mwt6yQqjzzYqIkHNyrYPHKPOQKWDDDlGattWxZq2TICDVNW2q5eEbGljVK5i0reh79YokJg4aq8GumIy8PpJJiNlKJVdVpqUXCIzy1Dh8+zLBhw9i1axfnzp2jTZs2T2S9DRo0ICkpiYyMDGxsbAgLC2PIkCEcOXKEXr16ERUVhZmZGQ4ODmzevJnw8HA0Gg1WVlZMnDgROzs7kpKSmDlzJt27d+fSpUsUFBQwceJEvLy8WL9+PTk5OQQGBmJiYsKCBQsKbf/DDz9ErVYzb948/Pz8GD58OLt27eL48eMAuLu7M2bMGExNTdmxYwd37twhNzeXlJQUFixYgKXl37+Sv/32Gz4+PnTs2NH4no2NDZ06dTK+DgsLY9euXaSnp9OmTRuGDh0KwJw5c6hTpw43btzA0tKS119/nZkzZ7J+/XoKCgoIDg4mNjYWuVyOo6MjU6dOZf369SQlJREYGIiDgwPTpk0jICCADh06EBISQlpaGkOHDuXevXucOHGC7OxsJk6ciLe3N1qtlsWLF5OVlYVKpcLDw4Px48cjl8u5du0aGzZsQKfTodVqGThwIO3bty/xGOp0OjZs2MDVq1dRKBSYmpoyf/78Isu99tprvPfee1y9epW9e/fywgsvGI/r/aTQz8+PYcOGIZVKi7SIPU4L2ZN0N0aKh5cOk78ashr6ajlzQoZEAnm5hl/X3BwJ1Ws8vT9cuXfzqeZhgcxEBoBNQyuSz6WTdSsH1xcckSoMSanSWiQ0QsWLjzG03Nz/m6zvCxdPgkQC+TmG9/JywMa2aNlazn//v00NqGYNWfdEwlNR7sRI8fTSGo+lt5+WMyfkSNCT99exzM0B22LOr7HREnRa8GtmaPkxMyuvqIVHEQmP8FSKjo4mOzubRo0akZGRweHDh59YwqNUKvHw8CAsLIwmTZpQUFCAv78/mzZtAiA0NBQfHx8ABgwYwIgRIwA4dOgQW7du5Z133gEgKyuL+vXr8+qrr3L8+HG2bt3K/PnzjYlDUFBQcZtn3rx5vPTSSyxYsABTU1MuXbrE8ePHmT9/PmZmZgQHB7Nz506GDRsGwI0bN1iyZEmxrUFRUVH4+vo+tL4pKSnMnTuX/Px8Jk2aRNeuXXF0dAQgMTGRefPmIZPJSEpKMpb5888/ycvLY/ny5YCheyHA66+/zpYtW1i8eHGhbajVaj7++GMiIyOZO3cuQ4cOZdGiRZw6dYpvv/2W+fPnI5VKmTx5MlZWVuj1eoKDg/n999/p2bMnP/30E/369aN9+/bo9Xpyc3MfWqfo6GhCQ0NZtmwZUqnUGN8/mZiY8Oabb7J48WLc3Nzo3bs3Bw4cIDo6miVLDFMPL1y4kIMHD9KzZ8+HbrM8udTRsX2jgqxMQ2vNpbMy3OvrGDlRxcczTdiyRoFOBwtWFG3dAUP3mhlvmiCTQf9XNLRspy3nGjyahYsZt3bEos5SI1VKSb2cgVU9C/IS8rl3LYtbO+4gVUjxGOpCNfdirgwl8OfiawDU7maPUzf7cq6B8CypXQd2bYLsTFAo4eo5cPOElyfAZ7Ng51pDV7fpyx++nqgI0GjAzrE8ohaK41pHx7cblGTdM7S+XTpjOL+OflPFghmmbF4Deh18/HnR1p34O1LMLfV8MseEpHgJvk21DB2rRiargIr8S9qn9z7ZQ4mER3gq/f7773Ts2BGJREKrVq3YsGEDaWlp2NoWc/vsX/D29iY0NBQzMzO8vLyQSqU4OjoSGxtLWFgYrVq1AuDy5cv89ttv5Ofno9UWvmg0NTU13vn39PRk8+bN/yqWkJAQ2rZti7m5OQDdu3dn48aNxs+bNGnyWF3f/qlNmzZIpVLMzc2pXbs2iYmJxoSnffv2yIo5U7u5uXHnzh3WrVuHj48PTZs2feg22rZtC0C9evUoKCgo9DohIQEAvV7P7t27uXTpEjqdjpycHJRKJWDoZvjjjz+SmJiIr68vnp6eD91erVq10Gg0rF69mkaNGj00vgYNGuDi4kKfPn2QSCRcuXKFTp06GbtIdu7cmbNnz1aqhMfZTU//l9UsmGGKqameOu46pFLY/4uckRPVtO6g5dRRGauXKpn9SdGk58ut+djW1JMYL2FeoAmudXU4OFWuXzmL2ma49nPi8qJryExlWLpZIJFK0Gv1qLM1NJvnTdbNHEI/j6T1Z36FunICNP3IGxNbJap7ai4visDcyRSbhv/+70QQHsbRFXq9BJ/NNLTyuNQDqRSO/gIvvQHNOsD5o/D1MphawmOcMlJhQxCMftdQVqgYzm56BryiZv4MU0xMMZxfZfDbbgWjJqpo3VHLqSMyvvzUhI+CCic9Wi1EhMgIWp1HzVp6ls034ch+Od16ayqoNsJ94k9KeOpoNBpOnDjB4cOHCQgIYMqUKWi1Wo4cOfLEtuHj40NYWBhhYWF4e3sD0LBhQ0JCQoiIiMDHx4fk5GS+/vpr3n77bZYuXcrEiRNRq/8eT6BQ/N3VRiqVotOVzdwnDxugX7duXSIjIx9a/p9xPpi4lbTuWrVqsWzZMnx9fQkJCSEwMBCVquSB7/e3cX9szP1E5sH9cuLECSIiIpg3bx5Lly6lZ8+exv3Zp08f3nvvPapVq8aGDRvYvn37Q+tkbm7OsmXLaNu2LdHR0UybNo2MjIwSl5dKpaUatyOTyXjwWc0PHu/y1rW3liVf5jN3WQEWluDorOfofjmt2huOX5uOWiKvFV8n25qGOtRy1OPtq+N2ZOX8KXDqYkeLhY1o+mFD5BYyzB1NMbFVYtfCFolEQjUPS5BIUGcVvZgwsTV8x5TWCuyaVyfzZk55hy88Y9r3gg+CIXCpoTtaLWc4dQCa/tX7tllHuH29+LJ5OfDFhzBgFNRrWG4hCyXo1lvDJ6vymb88HwsrPY61dYbza4e/zq+dij+/1qipp46HjlpOemQyaNlOy60blfP8WhJdGf+rKE/XURAE4Ny5czg5ObF69WqCg4MJDg7mgw8+eKIJT/369UlKSuLMmTOFEp7ffvsNCwsL7O3tycvLQy6XY2Njg06n48CBA6Vat7m5OQUFBUVahErSuHFjTp06RV5eHnq9nkOHDj2ym9p9PXv25OrVq5w4ccL43r179zh69GipypckNTUVqVRKy5YtGTlyJJmZmWRnZ2NmZvbI7mYlycnJwcrKyriOkydPGj+Li4vDwcGBHj168Pzzzz8yicvMzDR2RRw6dCjm5uYkJiaWKg5fX1+OHj2KRqNBo9Fw9OhR4/6uVauWcdt37tzh9u3b/6quT8K9dMN/U5IknD0po31XDbY19IRdMZzWr16S4lC7aKtNdpahSxtA5j24FirF2a1yTkR6f0KC/JQCUs6lY9+2BjWbVyc9LBOA3Pg89Bo9CqvCnRW0+Vo0eVrj/6eFZGLhIjrTC2UrM8Pw39Qkw/idll0MY3KuXzG8H3EZ7J2KltOoYdU8aNPN0BIkVLz759fkRAlnTsjp0E1D9Zp6Qv80nF9DLklxrF30vOneQEdONtzLMLy+ernynl+fNaJLm/DUOXz4MB06FP5VqF+/Pnq9nrCwsCeyDaVSiaenZ6Fucu7u7qSlpdG6dWsAXF1dad26NVOmTKFatWo0adKE8PDwR67b0tKS9u3b8+6772JhYVFk0oJ/atKkCdHR0XzwwQeAoRvYoEGDSlUPW1tb5syZw9atW9m+fTsmJiaYmpoyYMCAUpUvSUxMDNu2bQMMEwQMGDAAW1tbrK2tcXJyYtq0acb/llanTp04f/4877zzDtbW1nh5eRlbjfbt20doaChyuRyFQlFoGvLipKSk8NVXXxknOfD3939kN7j7unfvTkJCAtOnTwcMkxbcn3Wuf//+LFu2jHPnzlG3bl3q1KlT6vo9aUvnmZCVKUEuh9ffUmFhCW9MVbHxSyU6LSiUet54x9Cd7eY1KQd+kTNhmoq7MYapVaVS0OlgwCtqnN0qV3e2+65+dgN1tgaJTILnaDcUFnIcO9ck4qsozr4XgkQuoeHEekgkEgrSVUSsicJvegNU99SELL8BgF4LtdrVoIafTcVWRqjyVs+DnKy/p582t4Th78B3q0CnBbnS8BoMLT3H9sCIKXD+GFwPMYz/OfXXfbPR74KLe0XVRAiaa0p2pgSZXM/YSYZW9AlTCtj4pRKt1jBO640pht+nyL/OrxOnqZDJYMQbKuYGmoEe6tXX0v35p6s7m5anbFq5UpLo9VX0kaqCIAiVyJ8xLhUdQrlYldy5okMocx86ljAIQ3jq3FB1rugQypyn8khFh1AuUrUtKzqEMtfY5U6Zb+PGnWKaIZ8gT+e4Ml1/SUQLjyAIgiAIgiAI6KpoM4hIeARBEARBEARBqLJd2kTCIwiCUA5+z3k2pl6ylJc8W19V8Vny2xUdQrl4x25FRYdQ5g5nV/2/yz3aZ+P7qpA8C13aKjqCp5dIeARBEARBEARBqLItPGJaakEQBEEQBEEQqizRwiMIgiAIgiAIAjp91WzhEQmPIFSAgIAAFAoFCoUCtVqNl5cXY8eORS6Xc+TIES5cuMC0adNISkpi8uTJuLi4oNfrkcvljB49mgYNGgCwY8cO9u/fj62tLQUFBZibm9OhQwd69eqFVGpowP311185cOAAUqkUtVpN06ZNGTFiRLFxnT17lh9++MH4YNQWLVrw6quvolAoisQN4OPjw6hRo4pd1507d5g6dSojRoygb9++Je6Ll156CVdXVyQSw0m2Q4cOvPDCCwQHBxMSEoKVlZVx2UGDBhmfgwQwa9Ys1Go1QUFBZGVlMW/ePADy8/NJT0/H0dERgKZNm+Lr68uWLVtYvHixsXxMTAxLliwhODi42PoBBAYGYm9vX+gzjUZD37596datW4n1KmtXdmcSfiAb9NCwhyW+L1TjQFAyGXcND+ssyNFhYiFlyGeFpxjVqPT89H4COrUenRbqtTWnxas2FVCDR7u1N5mYQ6no9eDWzZZ6fewBiNqXTNRvKUikEmo1rYb3sMJ1zI7L58Ly28bXuUkqGrzkYCxfmdzcm0L0oVT4q47ufewAuLUvhajfUpFIoVbTavgMcyxa9pdkon9PAwlUczGlyZsuyJSi40ZFufZLGjcPZqDXg3sPG7z62nJy6V0y4wzj2tQ5WhQWMnovrVukbNylbC5uSEKv0+PezQbvgTXKO/xSexa+szf2pBJ1KB30ULd7dTz7GI5H5L5Ubv6ahkQqwaGpJb7DHUpdVqhYIuERhAoydepUXF1d0el0fPjhh5w9e5a2bdsWWc7CwoKgoCAA9u/fz+rVq1m+fLnx844dOxoTmMTERL744gsSEhIYM2YMkZGR7N27l0WLFmFhYYFOpyM2NrbYeMLCwtiwYQOzZs3C1dUVlUpFcHAw69evZ8KECUXifpTDhw/TqFEjjhw58tCEB2DBggWYmpoWeX/AgAH06tWr2DKxsbFkZGQgl8u5desW9erVM+6n0NDQIslNaGjoI2OGh9fv/mcxMTFMnz6dJk2aGB9MW57SolWEH8hmYJADMrmEPXOTcGthRo9AO+MypzakobQoeiEhU8AL82qhMJOi1ej5aWYCrk3NqNXApDyr8EiZMXnEHEql/cL6SOUSziy8Sa1m1uSlqEg4f49OQQ2QKaQU3FMXKWvpZEqnIC8A9Do9B94IxaGlTTnX4NEyY/KJPpRKx4WeSOUSTi+MolazauSlqIk/n0nnIM+/6lj0wYV5aWpu7Uuh6/IGyJRSzi2L5u6pDFw7l//3UYCMmAJuHsyg55I6SOUSjsyPpXYzS9pNq21c5uKmRJTmsiJldVo9F9Ym0uVDF8xqKNg//Ta1W1hi7VK5/ibh2fjO3ovJJ+pQOl0X1UMql3Di42gcm1qSm6oh7lwW3T91R6aQkl9MHUsqa+lY+Y5lScQYHkEQyoRKpUKtVmNhYfHIZb29vUlJSSnx81q1ajFx4kQOHDhAbm4uaWlpmJubG5MJqVSKm5tbsWW///57Bg4caLzYVyqVjBs3jpMnT5KcnPxYddJqtRw/fpzx48ejUqmIjIx8rPKlcfjwYTp27EinTp34/fffn/j6H8bV1RVLS0vS0tLKdbv3pd9RU8tTicJEilQmwcnHhFunc42f6/V6bp7MxaND0e+URCJBYWY49eu0hlaeyvj7ln23ABsPc+R/1bFGQ0viz2Rwe38qHv1rIVMY6mBirXjoepJDsjB3MMHcTlkeYT+WrLv5VH+gjjUbWhB/5h6396fi2d/ugToWf29SpwOtSodOq0er0mFa/eH7Qig7mXcKqOFpZjyW9j7mxJ7JMn6u1+uJPZWFW/tqRcqmReZj6aDE0kGJTCHBtX017pzLLs/wS+1Z+M5m3S3A1uPvY1nT25y7Z7O4tT+NBgNqGutoWkwdSyorVDzRwiMIFWTZsmUoFAoSExPx9fXFz8/vkWVKagV6UO3atVEqlcTFxeHr68tPP/3Em2++ibe3Nz4+PnTo0AETk6J3m2JiYhg5cmSh9ywtLXFwcCAmJgY7O7tCcQMMHToUf3//Iuu6ePEijo6OODg40LlzZw4fPoyHh0eJMX/wwQfGLm2TJk0yJl27du3i0KFDxuUCAgKoU6cOGo2G48ePM3/+fORyOdOnT2fEiBEolQ+/qL1z5w6BgYHG12p10daBB+snk8kKtRLdFxERgZWVFXXq1Hno9sqKrauSs1szyM/UIjOREHMxDzv3v49pfFgB5jYybJyKv5jQafX8MC2eewkaGvW2olb9ynf30crFlIjt8aiyNEiVUpIuZWLtbk5OfD5pEdlEbI9HqpDgM7w2Nh7mJa4n7mQGtdvZlF/gj6Gaiynh2xOMdUy8lIWNuxnZ8QWkReQQvj0BmUKKz3BHqv+jjma2Cjz62bF/YgQypQR7Pyvs/axK2JJQ1qxdTbiyLZmCLC0ypYS4i9nYuv/dap0cloepjRwrp6LnqNw0NeY1/74cM7eVk3ojr1ziflzPwne2mospV79NoiBLg0wpJeFiNtXdzciKU5ESnsvVb5OQKST4jnDA1sOsVGWfJtoq2hYiEh5BqCD3u0epVCqWLl3Knj176NOnT5HlcnJyCAwMJDMzE7VazcKFC0u9DVNTUxYsWMDNmzeJiIjg0KFD/PbbbyxatAi5vPCfv15fuscrl6ZL2+HDh+nUqRNg6HL33nvvMXLkyBITksft0nbx4kWcnJxwcDD0n65Tpw5nz56lffv2D43L2dm52DE8pa3fsmXL0Ov1JCQkMHXq1CL7sLxUd1Hg/2I1fpmThMJUQo26SiQP/EZFHs8ptnXnPqlMwpDPnCjI1vHb4iTSolXYulWuFhArZ1M8+tvzx4KbyEylVKtjhkQKeh2osrW0/9iTjJu5nF9+m24rGxoT5gfpNDoSLtyj4WtFxxJUBlbOpnj2t+fUgijkplKs65gikUrQ6/SosrV0/NiDjJt5nF8eTfeVXoXqqMrWkHDuHj2CvVCYyzi3LJrYY+m4dKxegTV6dlk7m9BwQA0Oz4tBbiKl+l/H8r7oE5m4tq98F/eP61n4zlZzNqFB/5ocnx+N3FSKTR3Tv849hjp2XViX9Mg8/lgWS+9gz0J1LKmsUPFEwiMIFUypVNKsWTMuXLhQbMJzfwyPTqdj06ZNfP7553z88cfFXuABxMXFoVKpcHIyDOSWSCR4eHjg4eFBr169GDt2LDExMdSrV69QOTc3N65fv16o1SI7O5uEhARcXEr/tLOMjAz+/PNPoqKi+OGHHwAoKCjgzJkzdOjQodTreZjff/+dO3fuEBAQABgmKTh8+PAjE57/6n4ydPr0ab788ksaNGiAjY1NmW6zJA17WNGwh+EC6syWdCxqGE7nOq2eqNO5DFr66It8E0spTo1NibmUV+kSHgDXrjVw7WoY8Bu+LQ6zGkqy7xbg2NIaiURCdQ8LJFJQZWkxqVb05yzpUhbWdc0xsal83Wbuc+tqi1tXwxiGsG3xmNVQkH1X8UAdzUEqKVLH5JBszO2VxvccW1mTdj230l08Pkvcu9vg3t0GgD+3JmP+wN9k7JksegXVKbacua2C3JS/x4PkpmkwqyG+sxWpbrfq1O1miCtkWyLmNRRk3VVRu1U1JBIJtp7mhnNPprZI973iyj5NquosbSLvFIQKptPpCAsLM84oVhKpVMqwYcNIT0/n3LlzxS6TlJTEqlWr6NGjB+bm5ty9e5eYmBjj53FxcWg0GmrUKDprzODBg/nxxx+Ny6tUKtauXUubNm2wty/97FbHjh2jVatWrFq1iuDgYIKDg5k4cSKHDx8u9ToeJiMjg/DwcFauXGlc/6pVq7h169ZDxzc9SW3atMHPz49du3aVy/aKk5ehBSArWUPUH7l4djS06Nz5Mx8bZwWWNYu/n5V3T0tBtg4ATYGOO5fzqV67cv4g35+QIDdFRfzZe9Rub4NDC2tSQg3jG7Lj8tFp9Citig4EB7h7Mr3Sdme77/7gbkMdM3FuX/0fdSwoto5mNZWk38hFU6BDr9eTEpKNVe3K1zXxWXJ/EHtOsprYP7Jw62AYr5NwJYdqtZUlXvjaepiSFa8iO1GFVq0n5kQmzs0tyy3ux/UsfGfvH8vcZBVxZzJxaW+NU0srkq/mAJB1v47Vip57iiv7NNEiKdN/FUW08AhCBbk/VkSj0eDi4sLgwYMfWUapVPLKK6+wc+dOWrRoARgSjKtXrxqnpW7fvj29e/cGDC0rX3/9Nffu3UOhUCCVSpk0aRLW1kVPwD4+PowePZqVK1eiUqnQaDQ0b96c11577bHqdfjw4SLTXrdo0YK1a9eSlJT0WMnTP8fw9OjRg9zcXPz9/TEz+7tftFKppEWLFhw+fJghQ4Y8Vrz/9OAYHoAJEybg7u5eZLnXXnuN6dOn079/f6pXL/87lL8tSaYgS4dUDu3H22Jiabh/VVx3tpw0DUdWptLnw1rkpmv5fUUKeh2G6XPbmePWouQxMBXp/NLbhrECcgmNX3dGYSHHtastl7+M5ci0CCRyCU0CDFOa56ep+fOrGFrNNBwrTb6W5CtZ+I4vfetkRTi79DaqLC1SuQTf151QWMhw61qdS1/e4fdp15DKJTQNcEEikZCXpubyV3doM7Mutp7mOLW25uj0G0hkYF3HDLfulWu2q2fNiaC7FGRpkcokNB9XC6WF4WI45kRmkckKctPUnP0ygc4fuBiWH1uLI/Nj0eugXldrrF0rZyIAz8Z39vSnsX/VEfzHOqK0kFG3iw3nV8Wxf2okUrmEFgG1jXW8sDqO9rPcSiwrVDyJvrQd9wVBEIR/bXl4z4oOoVzcVVW+7ilPmhRdRYdQLt6xW1HRIZS5NWkTKzqEMperrXzdVcuCQqKt6BDK3Me+P5b5No7fLnmCoSehQ50nP2traYgubYIgCIIgCIIgVFmiS5sgCIIgCIIgCOiqaFtI1ayVIAiCIAiCIAgCooVHEAShXLxsvamiQxCExzJs+OaKDqHMfbNlVUWHIAiVSkXOpFaWRAuPIAiCIAiCIAhVlmjhEQRBEARBEAQBrb5qtoWIhEcQhDIVEBCAQqFAoVCgVqvx8vJi7NixyOVy9u/fj0qlom/fvo+1zjlz5pCSkoKZmRn5+fnY29vTp08fmjZtWka1EAThvxg8qAXPP++LXg9RUcks+WQPjXycmTChC3K5jOs3EggK2otOV/hJGbXsqzFv3kAkEglyuZT//e8Cu3+5XDGVEAThqSUSHkEQytzUqVNxdXVFp9Px4YcfcvbsWdq2bUvPnv/+2TSjR4+mWbNmAISGhvLZZ58xduxYWrVq9aTCFgThCahZ05IXX2zG6DHrUKk0fDi7P926+TBqZHveDfyWO3fSGTWqA88915h9+64UKpuals1bk7agVmsxNVWwYf1YTp2OJDU1u4JqIwhVm64SjeG5ePEi3333HRqNBktLSwICArC3t+fChQt899133H+U6ODBgx/52y8SHkEQyo1KpUKtVmNhYQHAjh07yM/PZ8SIEWg0GtavX09YWBjVqlWjTp06ZGRkMG3atEeu18fHhyFDhrBr1y5atWpFTEwM69ato6CgAJVKRffu3enTpw/5+fkEBASwdu1apFIpU6ZMwcfHh7FjxxIZGcmmTZtYsGABaWlprFy5koyMDGrVqoVer8ff359evXpx8OBB9uzZg1wuR6/XM2XKFGrXrl3Wu04QnmoymRQTEzkajRYTUwX5+So0Gi137qQDcOFCFK+92qZIwqPR/P2QV6VShqTyXIsJglCGsrOzCQ4OZv78+Tg5OXHs2DHWrl3LrFmzWLlyJXPnzsXV1ZXo6Ghmz55NixYtkEpL7o4nEh5BEMrcsmXLUCgUJCYm4uvri5+fX5FlDhw4QEpKCsuWLUOr1TJ37lxsbW1LvQ1PT082bzbMKmVnZ8fs2bNRKBTk5+czc+ZM/Pz8cHZ2xsnJicjISOzs7DAxMeHatWsAhISE0KhRIwA2bNiAj48PgwYNIjk5mXfffRd/f38AtmzZwmeffUb16tVRq9XodLpi4xEEwSAlJZsd359l+7dvUlCg4fz5KI4cieCN8V2oX9+B69cT6NjRCzs7q2LL29lZsXDhEGo7VeerNYdF644glCFtGc9nlpOTQ05OTpH3LSwsjDdDARISErC2tsbJyQmApk2bsnLlSrKyspBIJOTm5hrXV7169YcmOyASHkEQysH9Lm0qlYqlS5eyZ88e+vTpU2iZ0NBQOnbsiEwmQyaT0a5dO8LDw0u9jftN2wAFBQWsXbuW6OhopFIp6enpREdH4+zsTOPGjQkJCcHOzo5mzZoRGhpKamoqISEhDBw40BjLmDFjAEPydD8RAmjUqBHBwcE0a9aMpk2bUqtWrf+yawShyrO0NKFdW09eG7qK7OwCPvpoAN27+zB/wU+8+WY3lAoZ589HFRm/c19ychbjxm2gRg1L5s8byLFjEaSn55ZzLQTh2VDWkxbs2bOHnTt3Fnl/8ODBvPTSS8bXTk5OZGRkEBkZiYeHB8ePHwcgJSWFKVOmEBQUhImJCXl5ecycOfOR2xUJjyAI5UapVNKsWTMuXLhQJOH5r27evImLiwsA3377LTY2NgQEBCCTyViwYAFqtRowJCzff/89NWvWpFu3bkgkEi5cuEBUVBQNGjR45Hbeffddbt68ydWrV5k7dy7jxo2jSZMmT7QuglCVNGtah/iEDO7dywPg+PHr+HjX5uDBUN55ZysAzZvVwdn54S26qanZREWl0LixC8eOXSvzuAVBePL69OlD586di7z/YOsOgLm5Oe+88w5ff/01arUaf39/LCwskMlk7Nq1i8DAQLy8vIiIiGD58uUsX74cU1PTErdbNeeeEwShUtLpdISFheHo6FjkM29vb06cOIFWq0WlUnHq1KlSrzc8PJzvv/+e/v37A4Ym7po1ayKTyYiJiSnUUlS/fn1u377N9evX8fDwwNfXl59++ol69eqhUCgAw5igI0eOAIa7SVevXgVAq9WSmJiIh4cHAwYMwNfXl6ioqH+7OwThmZCYlIl3QydMTAz3WJs2dSMmJhUbG3MAFAoZr7zSmt27LxcpW7OmFUqloZylpQmNGjsTG5tWbrELwrNGh7RM/1lYWGBvb1/k3z8THgBfX1/mz5/P4sWL6dWrFyqVipycHNLS0vDy8gLAy8sLU1NT7ty589B6iRYeQRDK3P0xPBqNBhcXFwYPHlxkmZ49exIdHc3UqVOxsrJ65EQAGzduZPv27RQUFGBnZ8cbb7xhnLVt0KBBrFy5kt9//x1HR0e8vb2N5eRyOR4eHkilUuRyOe7u7mRnZxfqtjZq1CiCg4M5ceIE9vb2eHh4YG5ujk6n48svvyQnJwepVEqNGjUYOnToE9pLglA1RUTEc/TYNb5aPRqtVkdkZCK/7LnMmNEdad3aHalUws8/X+LS5WgA6td3oF+/Jixdug83txpMmNAV9IAEduw4Q1RUcsVWSBCEcpGRkYGNjQ06nY5vv/2WHj164OTkRFpaGnFxcTg5OXHnzh0yMjJwcHB46Lok+gc7vguCIFSgvLw8zMzMUKvVfPLJJ7Ru3Zpu3bqVexwqlco4lig9PZ2ZM2fy4YcfGgdP/htxcXFPMEJBKHvDhm+u6BDK3DdbRlR0CIJQav/lN6i0frxZtl20B7pfKvWyq1ev5tq1a2g0Gnx9fRk5ciRKpZLjx4+za9cu40QFQ4YMoWXLlg9dl2jhEQSh0pg/fz5qtRq1Wk3jxo2L7edbHuLj41m5ciUAGo2GwYMHl8sPjSAIgiAIBhMmTCj2/Q4dOtChQ4fHWpdIeARBqDQWLlxY0SEA4ObmRlBQUEWHIQiCIAjlqqynpa4oVbNWgiAIgiAIgiAIiBYeQRAEQRCKITt8oaJDKAdiDI8gPEhXxs/hqShVs1aCIAiCIAiCIAiIFh5BEARBEARBEKi6Y3jKJeEJCAhAoVCgUChQq9V4eXkxduxY5PIns/kdO3awf/9+qlevDhie5j5u3Djq1KnzRNaflJTE5MmTjU9x12g09OjRg+eff/6JrP9RQkNDWbRoUaGHNY4cObLQc0PKettOTk5oNBoA/Pz8GDRoEJaWlk90O1u2bGHx4sVPbJ0PmjNnDv369TM+p+VJO3LkCBcuXGDatGmF3j906BBnzpxh1qxZAMTExPDuu+8yY8YMmjZtCsD69euxsLDglVdeKXH9AQEBTJ8+HVdX1ycW8+rVq+nUqRMNGzZ8IuvT6/Xs2LGDM2fOIJPJ0Gg0dOvWjb59+z6R9T9KcHAw7u7u9OrVi7Nnz2Jra4uHh8cT3UZZf48Eoaoa+E4fer/eDb1ez+2QGILGfIm6QM3oBa/ScXBrdFodu1fvZ9cX+4qUHbtkGK2eb4pUKuHCwSt8+fbGCqiBIDwbtHpJRYdQJsqthWfq1Km4urqi0+n48MMPOXv2LG3btn1i6+/YsSMjRhj64v72229s27bNeJH5JFhYWBhnbcrMzCQgIIC2bdtiY2PzxLbxMM7Ozg9NBrRaLTKZrMy3nZeXx9dff838+fNZtGiRcQ50oXg+Pj5s3rzZeHzCwsLw9PQkNDTUmPCEhYUxatSoco1Lp9OVON3jv/XHH39w9epVFi9ejFKpRK1Wk5iY+ES3UVrnzp3D3d29xIRHp9OJ764glJMaTrYMmPQ8Y32moMpX8cH2KXR5pR0SCdg512BMw3fQ6/XY2FUrUta7TX0atW3AG37vArD8+Hx8O3lz5WhYeVdDEISnWLl3aVOpVKjVaiwsLFCpVLz11lssWbLE2DqzYcMGbGxsGDhwIDdu3GDbtm3k5uYC8PLLLxsvEh8mNzcXCwsLANatW4e9vT0vvPACAFFRUXz22Wd89tln5OXlsXnzZqKjo1Gr1fj4+DBy5MhHXgjl5eUhl8tRKpVERkayatUqli5davw8MDCQsWPH0qBBA44cOcL+/fvRarWYm5szbty4J/Y8jzlz5lCnTh1u3LiBpaUl06dP55tvvuHPP/8EDC0xw4YNQyqVEhwcjEKhID4+nsTERFq2bEnz5s3ZsWMHqamp9OnTp1QtVmZmZowdO5ZJkyZx+fJlmjZtSlxcHJs2bSIrKwuNRsPzzz9Ply5dAPj888+Ji4tDrVbj4ODAxIkTjS1D27dv5+TJk1haWuLt7W3cRmhoKJs2bcLNzY1bt25hYmJCQEAAzs7OAOzatYvjx48D4O7uzpgxYzA1NSU/P58NGzZw8+ZNwJAE9+/f/6H10Wq1LF68mKysLFQqFR4eHowfPx65XM6RI0c4ceIEFhYWxMbGYmFhwbRp07CxsUGj0bBhwwauXr2KlZUVdevWLXb9Dg4OmJubc+vWLTw9PQkLC2PgwIH88MMPgCF5TkhIoEGDBmRkZLB27VoSExPR6/W88MILdOrUqdD6IiIi2LBhA5988onxvRkzZjBixAi8vb1L/L4dOXKE48ePY2pqSkJCApMmTWLTpk3G1ooHvx+pqanUr1+fgIAAJBIJubm5pfo7SU1NxcrKCoVCAYBCoTAes4cdtwdbZqBwS83D4kpLS2PlypWkp6djb2+PRGK4K3X58mXOnz9PSEgIhw4dom/fvtSsWZONGzdSr149oqKieOWVV8jLy2Pv3r3Glsvhw4fTuHFjAO7cucOmTZvIyMhAr9fTr1+/Is8EOnnyJL/88gvvvvsuNWrUeOj3TBCedTK5FBMzJRq1BhNzE1Lj0hg1/1UWDV3B/eefZyRnFimn14PCVIlcKUciAblCRkbivfIOXxCeGTrRpe2/WbZsGQqFgsTERHx9ffHz8wOgU6dOHDx4kCFDhpCfn8+pU6dYunQpOTk5rF27lpkzZ1K9enXj086XLl1qTGYedOzYMUJCQsjOzkar1TJnzhwAevXqxZIlS+jXrx8SiYRff/2V5557DolEwubNm/H29mbChAnodDo+//xzfv/9d7p3715k/Tk5OQQGBqLT6YiPj2fo0KGYm5vj4eGBqakpYWFheHt7Ex4ejkQioUGDBoSHh3P69Gnmzp2LQqHg0qVLrFq1ivnz5z/2/rtz5w6BgYGA4ULy/vNKEhMTmTdvHjKZjP379xMdHc2SJUsAwzNNDh48SM+ePQGIjY3lww8/RKfTERAQQG5uLnPmzCEjI4O3336brl27Ympq+shY5HI5devWJTY2Fj8/P1asWMHkyZOpXbs2eXl5zJgxg/r161O7dm1GjRpFtWqGu3bbt2/np59+YujQoZw/f57z588TFBSEUqksdAEPEB0dzejRo3nrrbc4cuQIK1euZPHixVy6dInjx48zf/58zMzMCA4OZufOnQwbNoydO3ei0+n49NNPycvL44MPPsDV1ZUmTUp+arBUKmXy5MlYWVmh1+sJDg7m999/N+6zmzdvEhQURM2aNVm9ejX79u3j1Vdf5cCBAyQlJbFs2TK0Wi0fffQRdnZ2xW7Dx8eH0NBQPD09iYqK4u2332b79u3k5uYSFhaGh4cHSqWS4OBgXFxcCAwMJD09nRkzZlC3bt1C3di8vLzIz88nOjoaNzc3YmJiyMnJoWHDho/8vl2/fp2goCAcHByKjTM2NpbZs2cjlUp57733CAkJwdfXt9R/J+3atePAgQNMnjyZhg0b0qhRI9q1a4dMJnvocXuUkuLasGEDDRs2ZMiQISQmJhIYGIi/vz/+/v40b968UBIVGhpKbGws48ePp379+gBkZWXRrl07JBIJcXFxzJs3j9WrV6PVagkKCuKVV16hTZs2xmUf9NNPP3HlyhVmz56Nubn5I+sgCM+y1Lg0di7dzdboVRTkqbiw/08uHLjCrG3v0PnltrQb0JKM5Ey+fHsDdyMTCpUN/+M6fx65yndxa5BIJPwU/CsxEXcrqCaCIDytyr1Lm0qlYunSpezZs4c+ffrw3HPP8dFHHzFw4ECOHTuGr68v1tbWXLx4kaSkpEIPIpRIJCQkJODu7l5k/Q92aTt69CifffYZn3zyCc7OztSqVYvLly/j6enJ+fPnGTlyJADnz58nMjKS3bt3A4bWp5Lu1D7YpS0tLY3Zs2fj5eWFu7s7vXv35rfffsPb25vffvuN5557DoALFy4QHR1dqGtddnb2v9p/JXVpa9++vbEr25UrV+jUqZNxbFTnzp05e/as8eK9RYsWxrvvTk5ONG3aFKlUiq2tLZaWlqSmplK7du1SxXP/jlx8fDx3797ls88+M36m0Wi4e/cutWvX5tixYxw/fhyNRkNBQYFxHFJoaCht27Y1Jlhdu3blxx9/NK7DwcHB2OrTsWNH1qxZQ25uLiEhIbRt29Z4kdm9e3c2bjT05w4JCWH06NFIJBLMzc1p164dISEhD0149Ho9u3fv5tKlS+h0OnJyclAqlcbPGzRoQM2aNQGoX78+V65cMcZ/f1/L5XI6dOhAREREsdvw9vbmjz/+oHnz5jg4OCCTyWjQoAERERGEhobi4+NjjP/+d7h69eo0adKE0NDQIuN2OnXqxJEjRxg5ciRHjhyhU6dOSCSSR37fvLy8Skx2wPD9uF/3unXrkpCQgK+vb6n/TqpXr86yZcu4fv06ERER/O9//+P48eO8//77Dz1uj1JSXKGhoYwZMwaAWrVqPXJMm6OjozHZAcPNghUrVpCWloZMJiMjI4OMjAyysrLQarXGZAfAysrK+P/ff/89NWvWZObMmU9sHKIgVGWWNha0eaEFw+sFkJ2Rw+wdU+k2tAMKEwWqfBUBLWfQ/sWWTFv/JlM7fViorJO7A65ezrzqYuiCu2T/bBq19+LqieLPt4Ig/DfaKjotdbn/WiuVSpo1a8aFCxfo06cPNWvWpF69epw7d47ffvuNN954w7ism5sbc+fOfexttGnThuDgYDIzM6lWrZoxIblz5w6tWrUyXnTp9XoCAwOpVavWY63//mDo0NBQ3N3dad26Ndu2bSMqKorQ0FAmTpxoXH+XLl14+eWXH7q+y5cvs3XrVgA6dOhg7H5XGqVpkbnvwQt5qVRqTH7uv9ZqtaVaj0aj4fbt2/To0QO9Xo+VlVWxT6UPDw9n//79LFiwgGrVqnHixAkOHjxY6njLw4kTJ4iIiGDevHmYmZnx448/Eh8fb/z83+6jBzVq1Iivv/6aq1evGicIaNiwIaGhoYSFhTF69OjHWl+nTp14//33efXVVzl58iQLFiwAHv19e9R35Z/fD51OZ1xvaf9OZDIZDRs2pGHDhnTp0oXx48c/MsmXyWTGbQGo1epSxfW4/ln/FStWMHz4cFq2bIlOp2P48OGoVKpHrsfT05MrV66QnJxcaCIRQRCK17R7YxJuJ3EvxdBl7cT/zuDdtgHJd1I58ePZv947y7sbAoqUbfdiS8LPXCc/Jx+Ac79ewrtNfZHwCILwWMo9jdPpdISFhRW6UOjduzdff/01crnceAe2fv36xMfHc/XqVeNykZGRxpaFh7k/ruL+WJEmTZoQHx/PL7/8Ymx9AWjevDm7du0yXkBlZmaSlJT0yPXn5eVx69YtYx3kcjldunThk08+oX379piYmADQrFkzjh07RmpqqrHut27dKrI+f39/goKCCAoKeqxk5598fX05evQoGo0GjUbD0aNH8fX1/dfrK879cTLVqlXD398fJycnTExMOHbsmHGZu3fvkpubS05ODubm5lhaWqJWqzl8+LBxmUaNGnH69Gny8/PR6XQcOXKk0HYSExMJDw8HDEmJq6sr5ubmNG7cmFOnTpGXl4der+fQoUPGOjZu3Jjff/8dvV5PXl4ep06demT9c3JysLKywszMjNzcXE6ePFmq/dCoUSOOHTuGVqtFpVJx4sSJEpe1t7fH0tKSffv2GVtzGjZsyLlz50hMTDR+5xs3bsyhQ4cAyMjI4NKlS8W2WtSsWRNnZ2c2btyIs7OzsStdab9vj6u0fye3bt0q9H5UVBQWFhaPPG4ODg7GcVfp6emEhoaWKq5GjRoZv1NJSUmFzhX3j+fD5OTkYG9vD8Dhw4eNiZaTkxMymYzTp08bl32wS5u/vz/jxo1j0aJFxMbGlipWQXiWJcWk0LCVJyZmhpsXTbo2Jib8Dqd+OodfF8M50beTN3euxxVb1rejN1KZFJlchm9Hb2LCRZc2QSgrOiRl+q+ilPsYHo1Gg4uLC4MHDzZ+5u3tjUKhMHa9ArC0tOS9997jm2++4euvv0aj0WBvb8/06dONg5MfdH8MDxjuGE+ZMsU4qFoqldKpUycuXbqEm5ubscyoUaP45ptvCo2NGTVqlPEi6EH3x/CA4Q50u3btaNGihfHzbt26sXPnzkJ18Pb25pVXXuGTTz5Bp9Oh0Who3bo19erV+1f78FG6d+9OQkIC06dPBwyTFhQ3Hulx3R8/pNVq0ev1+Pn5GcdUAEyfPp1Nmzbx888/o9PpsLa2ZsqUKfj7+3P8+HHefvttqlWrRsOGDYmMjAQMF+fXr18nMDDQOGlBWlqacZuurq4cOnSIdevWoVQqeeuttwBD8hodHc0HH3wAQL169Rg0aBAAgwcPZv369bz7rmE2nw4dOuDv7//QunXq1Inz58/zzjvvYG1tjZeXV6nu8nfv3p3o6GimTJmClZUV7u7u3LtX8kDa+93a7nfHtLW1BTCO3wEYPXo0a9as4d1330Wv1/Paa68Zp0IvLu6VK1ca98v9bZTF9620fyeZmZmsW7fOOKmHiYkJgYGBSKXShx63bt26sWzZMqZMmYKjo2Opp5IePXo0K1eu5MSJE9jb2xea+KJjx458+eWXnD592jhpQXH1CgoKwtLSEj8/P2O3NZlMRmBgIBs2bGDnzp1IpVL69etHx44djWUbNWrEm2++ySeffMLUqVNLnLRCEASIOBvJ8R/+4MsLn6DVaLl56TZ71xxEaaZk5jdvM+idvuRl57Ns3GoA6jerR98JPVk2bjXHd/6Bf9dGrL2yFL0ezv12mT9+uVDBNRIE4Wkj0ZemyaSMJSUlMXv2bD7//HNj68iTNn/+fLp3716oX/6TdOzYMU6ePMnMmTPLZP3PkrJ+Jo8gVIS4uKJ3rwWhMhvp/HZFh1Dmvr6zoqJDEIRSe1Kz/D7MV9c6PXqh/+CNBkfLdP0lqfARt9999x2HDx9m+PDhZZLs3Lx5k88++4w6derQqlWrJ75+gI8//rhQy4ogCIIgCIIgCJVDpWjhEQRBqOpEC4/wtBEtPIJQuZRHC8+X17qU6frfbHD40QuVgao595wgCIIgCIIgCAKVoEubIAjCs+Cupm1Fh1Au7KQFFR1CmVNKn41B889C68ecuKo/7tZG8fAZK6uKQLtTFR1COSj7GQp1+oqbSa0siYRHEARBEARBEAS0VbTzV9WslSAIgiAIgiAIAqKFRxCEv2g0Gn744QdOnTqFQqFAKpXSqFEjXnvtNeTyJ3eqeOmll9i8eTOmpqZFtr9p0ybCwsKQSqXo9XpefPFF2rdv/8S2XZX8+qOMI/uk6PXQ5XkdvQZqiY6UsGGFHLUKZDIYNVmDu1fx89Lk5sD0sUqat9UxcpKmnKMvnf/9oGTfXgV6PfTuo2bgIBU3I6V8/pkpKpUEmQzeejsPLy9dkbLrvjLhzBk5ej00baZhYkABxTzCTRCemDu/xhN/OAn04NjFHufehoeT3/0tgbsHEpBIJdj62+D+mlux5fU6PRc/CEFZXUnjQK/yDP2x3NybQvShVNCDWzdb3PsYHn59a18KUb+lIpFCrabV8BnmWLTsL8lE/54GEqjmYkqTN12QKSvfvfcdOxXs3mM4f7zQV8NLg9XciJTy6XIT8vLAwUHPR+/nY2FRtOwfZ2WsWGmCTgt9+6gZ/pq6/CvwH+j0le94PAki4REEAYAvv/wSlUrF4sWLMTMzQ6vVcvjwYTQaTZGER6fTGR88+6Ts3buXrKwsPv30U6RSKfn5+aSnpz/RbZQFrVaLTCYr123GRkk4sk/K3C/UyBXwyUwF/q20fLtWzsDhWvxa6rh8Rsq3a+V8sLT4H9udm2R4NS6aKFQWt6Ok7Nur4PPgHBQKmDXDnFat1axbY8qw4SpatNJw9oyc9WtMCVpWeIxCaKiM0FAZq9fmADDtbXOu/CnDz19bEVURngE5sbnEH06i6bxGSOVSriwJp0aT6uSnFpByIY3mi3yRKqSo7pV88Xvn1wTMnczQ5FXe72lmTD7Rh1LpuNATqVzC6YVR1GpWjbwUNfHnM+kc5IlMIaXgXtGbKHlpam7tS6Hr8gbIlFLOLYvm7qkMXDvbVkBNSnYrSsruPXLWrspDroBp75nSto2GJZ+aEDChgCb+On7ZK2fbd0rGjSn8oHKtFpatMGF5UB72dnrGTjCjfVsNdeuICZErmkh4BEEgPj6ec+fOsWrVKszMzACQyWR0794dgCNHjnD8+HFMTU1JSEhg0qRJBAUFMX36dFxdXQEICAgwvo6Li2PTpk1kZWWh0Wh4/vnn6dLl4VNdpqamYmNjY0ykTE1NcXQ03CHcsWMH+fn5jBgxosjrHTt2EBcXR15eHnFxcdSrV48BAwawefNmUlJSaNmyJcOHDwdgzpw51KtXj8jISJKTk+nduze2trb8+uuvpKenM2zYMOPDiW/cuMG2bdvIzTVcTL/88ss0bdqUpKQkZs6cSadOnQgNDaVbt2707NnzSR6OR4qLkeDupcfkr0YyL18d50/IkEgg769r/9wcqF6j+B/ZqOsSMjMk+DbXEXW9ct7Ni4mR4uWl5X5DoK+vhpPHFUgkkPNXHXNywLaYOkoAlUqCRgN6PWi0EqpXFxccQtnJjcujmrslMhPDzQ+bhtVIPpdGdlQ2ri/URqow/J0prRXFli9ILSDtcjqu/WtzZ298ucX9uLLu5lPdwxy5iaE+NRtaEH/mHhk38/Dsb4fsr3qaWBd/eanTgValQyKToFXpMK1e/P6oSLejJXg31BnPPU38tBw9Jif2jhR/P8NNohbNtUx7r2jCEx4hxdlJR20nw/mme1cNJ07KqVvn6Wnl0VI1m8JFwiMIAlFRUTg4OGBpaVniMtevXycoKAgHB4eHrkur1bJixQomT55M7dq1ycvLY8aMGdSvX5/atWuXWK5bt258/PHHXL16lQYNGuDv70/Lli1LFf+tW7dYvHgxpqamTJ8+nW3btjFr1iy0Wi1vvfUW3bt3NyZPqampzJkzh4yMDCZPnkyfPn1YsGABkZGRfPrpp7Rp04acnBzWrl3LzJkzqV69Ounp6cycOZOlS5cCkJWVhYeHhzEBK2/OdfR8v1FCViYolfDnWSl16+sZNlHDJzMVbFsDeh18tEJVpKxOB1u/kjNxhprQi5Uz2QGoU0fHpvUyMu9JUJroOXdGjmcDHRPezGfWDHPWfmWo4/IvcoqU9fbR4uev4dUhVuiBF/qrcHWrvK1ZwtPP3NmcqB2xqLPUSJVSUi9nYFXPgtz4fO5FZBK1IwapQkq919yo5l70PBu5JZp6r7qircStO2Dohha+PQFVlgapUkripSxs3M3Iji8gLSKH8O0JyBRSfIY7Ut3DvFBZM1sFHv3s2D8xAplSgr2fFfZ+VhVUk5LVq6tjzXoZ9+6BiQmcPiPHq4GWunV0HD8po2N7LYePyElMKpoYJKdIsLf/++aKnZ2esPDKe559loiERxCEUvHy8npksgOG1qK7d+/y2WefGd/TaDTcvXv3oQmPq6srX3zxBeHh4Vy7do2NGzdy+fJlxo8f/8ht+vn5YW5ublyPm5sbCoUChUKBk5MTiYmJxoSnTZs2SKVSbG1tsbKyMiZV9erVIy0tDZVKxbVr10hKSmLhwoXGbUgkEhISErCyskKhUBhbgipCbTc9fV/WsmSGAhNTcHPXI5XqOfSLlKETNbTsoOOPo1LWLlUw85PCdxYP/izFv6WOGnYVFHwpubrpeOkVFTOnm2Nqqqeehw6pVM8vuxW8MTGfDh01HD0iZ9mnZiwJKtyl7e5dCbExUrZ+lwXAzEBzQq7IaOxbuS8mhaeXRW0zXPo5cWVxBDITKZZu5kikEvQ6PeocDU3mNiLrVg7hX9yg5XJ/JA8MKEu9mI7SWoFVXUsywu5VYC0ezcrZFM/+9pxaEIXcVIp1HVNjPVXZWjp+7EHGzTzOL4+m+0qvQvVUZWtIOHePHsFeKMxlnFsWTeyxdFw6Vq/AGhVVx03PsFdUTAk0w8wMPD10SKUw8718PvvChE2blbRvp0FR+RqnnggxhkcQhCqrbt26JCQkkJ2dXWIrzz8nGbg/scB9KpWhNUGv12NlZUVQUNBjx6FUKvHz88PPz48mTZqwYMECxo8fj0wmK7QttbrwRbzigV8eqVSKUqks9Fqr1Za47P3X97vS6XSGlgA3Nzfmzp1bJMakpCRMTU0L/ZBXhM69dXTubYj1u/UybO307FgvZ/ibhuPQqqOOdcuKnuIjw6VcC5FycLeM/DzQaMDETMYrYytfMtDreTW9njcc6w3rTLCz07FhvSkTAwyJTMdOGj5balak3KkTCrwaavmrdybNW2oIDxMJj1C2HDvb49jZHoBb38VgYqskNy6Pms1tkUgkhpYdCaizNCir/X0eunc9i5QL6aReTken1qPN0xL+ZSQN3/SoqKo8lFtXW9y6GsbdhG2Lx6yGguy7ChxbWiORSAwtO1IJqiwtJtX+Pgclh2Rjbq80vufYypq067mVLuEB6NtHQ98+hnFIX61VYmenw81Vz/KgfABiYiWc/qPo+dWupp6kB1p+kpMl2NUU3Wkrg6qZxgmC8FgcHR1p1qwZa9asIS8vDzBc+B86dIj8/Pxiyzg4OHDz5k0AQkJCuHfPcGfSyckJExMTjh07Zlz27t27xrEwJQkPDzeuAwzd7Ozt7Y3bunXrFjqdjry8PC5evPjvK1sK9evXJz4+nqtXrxrfi4yMLJR0VbR7f83nkJIE509KadtVR/UaesKvGH5sQy9JcKhdNN43Z2pYsU3FZ9+oeG28hg7ddZUy2QHISDfUJSlRwskTcrp0U1Ojho4rfxrGSVy+JMOpdtGuanb2Oq5ckaPVGhK6kCtyXF1FlzahbN2fkCA/pYCUc2nUaluTms1syQjPBCA3Pg+9Ro/CqvCFcr1XXGmzsimtVzTF+y0PbLyrVdpkBzBOSJCboiL+bCbO7avj0MKalNBsALLjCtBp9CitCk/mYlZTSfqNXDQFOvR6PSkh2VjVNin3+Esj/a9zT0KihKPH5fTorjG+p9PB11uU9O9XdFyOl5eO2LtS4uIlqNVw8Hc57dpWzvNrSbRIyvRfRREtPIIgAPDWW2/x/fffM2PGDORyOTqdjiZNmpQ4JfXLL79McHAw+/bto1GjRtSsWRMwTHYwffp0Nm3axM8//4xOp8Pa2popU6Y8dPvJycls3LgRjUaDVCrF2tqaSZMmAdCqVStOnTrFlClTqFmzJnXr1n2ylf8HS0tL3nvvPb755hu+/vprNBoN9vb2TJ8+vUy3+zhWzFOQnQlyOYx8S4OFJbw+VcOWL+XotKBQwuvvGC5Mbl2TcOgXGeOmVc7pp0syb44ZWZkSZHJ4a3I+lpbwztR8VgWbotUaxi+9M9WQoF+/JmXPbiVT3jV0d/vzkpw3xlogAZq30NC67dNVd+HpE7riOposDRK5BM9RdZFbyHHobMe1Nbc4N/1PpHIJDSa4I5FIKEhXcX3tLRq/V3mnny7J2aW3UWVpkcol+L7uhMJChlvX6lz68g6/T7uGVC6haYALEomEvDQ1l7+6Q5uZdbH1NMeptTVHp99AIgPrOma4da9cM7Td9/5HpmRmSpDJ9Ex9uwArS9ixU86PPxla5jp10NCnt+GckpIiYfGnJny6OB+5DKZOLmDqe2bodNCnt5p6dcXNlspAoq9MtywFQRCqqHMxdSo6hHJhJy2o6BDKnFJ6oaJDEJ6QOXEzKzqEMmejeHjrelURaHeqokMoc3ZOd8t8Gx+H9i3T9b/v80uZrr8kooVHEARBEARBEAS0VXTSgqpZK0EQBEEQBEEQBEQLjyAIgiAIgiAIgE48eFQQBEH4twJvDK7oEMqFi2VGRYdQ5qKzl1d0COUiM9/00Qs95aqZ2ld0CGVOp6+aF7D/9FZujYoOocx951TRETy9RMIjCIIgCIIgCIIYwyMIgiAIgiAIgvC0ES08giAIgiAIgiBU2S6QIuERhCooICAAhUKBQqEgPz8fFxcX+vfvT4MGDQDYv38/KpWKvn1LP9/+9u3bycrKYty4cQBcuHCBJUuWsHTpUlxcXABYvHgxLVu2pFq1aoSHhzN8+HCSkpK4cuUK3bt3LxTf9OnTcXV1LdW29+/fz7p161iyZEmJDx3VaDRs2rSJsLAwpFIper2eF198kfbt25e6jgDfffcdLi4utG3blh07dpCfn8+IESMeax1lbZBLe/o6tQZgT9wZdsYeZ1TdnvRxasU9teFp52tv7uNMakSRstvbziJXW4BOr0Or1/HGuRXlGvvjSPjtLslHEgCw6+SAQ6/ahvf33yXpUDwSqQRrP1tcXyn8nShILeDWmmuo76mQSCTYdXbA4bna5R5/aQx2aU9fp1ZIgF/izvB97AlG1+1BX6dWZKhzAMOx/KOYYwkgRcKalm+TUnCPGX9uLMfIH89rdVoz0LU5EiT8GHOerbdPM8GzCwNdm5NeYKjnF9cOcCL5RpGybe08eM+7D1KJhP/FXmDjzePlHX6pPCvHcohLO/rVNtTz57tn+T72BGPq9aCfU0tjPb+K/PWh9VzXajLJ+ZlMr6T1TN4fS+rReNDrse3khP1zht+45AN3SDl0F4kUqvnVwOlljyJlY9aHk3k5FXk1JV4ftyzv0IUSiIRHEKqoqVOnGhOKM2fOsGjRIt5//308PT3p2bPnY6/Px8eHDRs2GF+HhYXh6elJaGgoLi4u6HQ6IiIiGDVqFA4ODjRv3hyA5ORkDh48WCjheVyHDx+mUaNGHD58uMSEZ+/evWRlZfHpp58ilUrJz88nPT39sbf18ssv/+s4y0NdCwf6OrVmwrkVaPRaPvEfy+mUMAB2xh7ju5ijj1zHlIuruKeu3A8jzL2TQ/KRBLzn+COVS7kWdBWbJraoUgvIuJhGowVNkSqkqDNVRcpKZBJcX62HRR1LtHkarn54GetGNpjVtqiAmpSsrkUt+jq14o1zn6PRawnyH8uplHAAvo89zvZSHMvBLh2IzknCQm5S1uH+a+6W9gx0bc6wE1+h1msJbjmCY0nXAPgm6hSbb50ssawUCTN9+jHhzCYS8zPZ2n4CRxMjuJWdXF7hl8qzcizrWtSiX+1WjDv7BRq9lqX+rxvruSPmON/GHHvkOoa4tic6JwlzWeWcFCPvTjapR+Op/2EzJHIJN5dewdq/Bqq0Au5dSqHB/BYlnnsAbNs7UrObMzFrw8s58idDW0VHu4iERxCeAa1atSIyMpLdu3czderUIi0Xu3bt4syZM+h0OqpXr86ECROwsbEptI4GDRqQlJRERkYGNjY2hIWFMWTIEI4cOUKvXr2IiorCzMwMBwcHjhw5woULF5g2bRrr168nKSmJwMBAHBwcmDZtGgCnT5/mq6++IiMjg379+tGrV69iY4+JieHevXtMmTKFmTNnMnz4cBQKRZHlUlNTsbGxQSo1nKxNTU1xdHQE4MiRI5w4cQJzc3NiYmKwtbVlzJgxbNmyhYSEBNzd3Zk0aRISiYTg4GDc3d2Ljac0+6msuVrYE5YZTYFODcDl9Ft0sGtcrjGUh/y4XCzcrZCZyACw8rIm/XwKOVHZOPZ1RqowHGdFNWWRskobJUobw/syMzlmTmao0lWVLuFxs6hFeGZMoWPZ8TGOpZ2JNW1qerHl9iFecu1YVmH+Z/Us7QjJuEP+X/W8kHqbbg7epSrbyMaZ2NxU7uYZbl78FhdC51oNK13C86wcyzoW9oTd+7uelzJu0cm+UanL36/n5qjfebmS1rMgLhfzetWQ/nXusWxgQ8aFZPKisqjVx/Wh5577yxck55VbvELpVM00ThCEIjw9PYmNjS3y/rFjx0hMTOTjjz9myZIlNG3alM2bNxdZTqlU4uHhQVhYGHl5eRQUFODv78/t27cBCA0NxcfHp0i5119/HWdnZ4KCgozJDkBBQQEff/wxH330EVu3biU/P7/YuH///Xc6deqEvb09derU4dy5c8Uu161bN/744w+mTZvGmjVrOHv2bKHPb968yciRI/nss89QKpWsWLGCyZMns2zZMmJiYggJCSlx3z3OfiprUdkJ+NrUo5rcHBOpgtY1vbA3tQHgRed2rG85lfcavoSl3KzY8nogyH88X7V4h75Orcov8MdkVtuCrGuZqLPUaAu0ZPyZRkFqAfkJeWRdzyR0zmXCP/6T7FtZD11PQXI+udE5WLpblVPkpWc4lnX/cSytAXjRuS0bW05lesMhJR7LSfVfYFXkHnR6fXmG/dgis5NoWt0Na4UZplIF7e09qWVmqOcrbq3Y0SGAOb4DsJIXveNvb1qNhLx7xteJ+fewNxXHsqLcyk7Ez6Yu1RSGerap8ff5Z6BLWza1msJM7yFYlVDPyfX7serGXvRU3nqaOluQcz0DTbYaXYGWzCupqP8692Rfv8f1eee5segiubcyKzrUMqHTS8r0X0URLTyC8IzQl/BDev78eW7dusX06dMB0Ol0mJubF7ust7c3oaGhmJmZ4eXlhVQqxdHRkdjYWMLCwmjVqvQX0O3atQPA3t4eS0tLUlNTqV278DgLjUbDyZMnmT9/PgCdO3fm8OHDtG3btsj6XF1d+eKLLwgPD+fatWts3LiRy5cvM378eMDQQlWjhuE5DXXq1MHOzg4LC8Mdfzc3NxISEvD19S0x3sfZT2UpJjeJb28fJqjJePK1KiKz4tDpdfx09xSbow6gB8bUe443PfvxSfiOIuUnXVhJSkEmNgpLPm0ynpjcZK5k3Cr3ejyKWW1znPo6cy3oKjITKRZuFkikEvRaPZpsNd4f+ZFzK5vIleH4LW2BRFL0h1Sbr+XGF+G4Dq2HzKzy/dxF5yax7fZhljYZ98Cx1LPr7mm+jjqIHni93nMEePZlSfj3hcq2qdGQdFU217Pu4m9Tr2IqUEpR2clsvHWcVa1GkqdRcy0zAZ1ex47os6y5cQQ9ENCgG9O8ezHnyq6KDvdfeVaOZXRuEt9EH2F5k7HkaVXcyDacf/535zSbbhnqOc69J2/V78uisML1bFuzIRmqbK5l3aVJ9cpbT1MnC+yfd+Vm0GWkJjLMXC1BKgGdHm22Gs/ZzciNyuL2l6E0DGpd7LlHqHwq3y+AIAhl4ubNm8bJBf5p4MCBdO3a9ZHr8PHxYf369Zibm+PtbeiS0rBhQ0JCQoiIiGDMmDGljufBbmlSqRStVltkmfPnz5Obm2tMeHQ6HRkZGaSkpFCzZs0iyyuVSvz8/PDz86NJkyYsWLDAmPD8c3v/fK3T6R4Zc2n3U1nbG3+WvfGGFqyx7r1Jzr9Huirb+PmeuDMs8nu92LIpBYa7khnqbE4kX6VhNZdKmfCAYaICu04OAMR+fxtldSX58XnYNq+JRCLB0t0KiVSCJktdpHuJTqPjxudh1Ghjh22Lot+VymJP/Dn2xBtaLce59ypyLH+JO8Niv6J/V41t6tCupjeta3ihlCqwkJvwgferLAj7ttxifxy7Yi+yK/YiAJMadCcxP5M0VY7x8x9jzvN5i2FFyiXlZ+LwV2sQQC1Ta5LyH96qV1GelWO5J+4ce+IM9Rzv3ovkgsL1/PnuWT7xH12kXGNrN9rZedO65t/1nO3zCvNDt5db7KVVo5MTNToZnvIZt/MmyuqmFMTnYt3cDolEgkW9aiABbZYaeQld255Wuira+atq1koQhELOnTvH/v376devX5HPmjdvzv79+8nONvxgqdVqYze1f6pfvz5JSUmcOXOmUMLz22+/YWFhgb190aeWm5mZkZv77wbIHz58mDFjxhAcHExwcDCrVq2iS5cuHDlypMiy4eHh3Lv3d9eXqKioYuP5tx5nP5U1G4UlAPYmNnS0a8yhxIvYKv/u5tPerhFROfFFyplKlZjJTIz/39y2PlHZCeUT9L9wf1BwQUo+6edTqNHGnurNapAZngFAXnwueo0OuVXhMV16vZ6o9TcwczLHsbdzeYf9WGwUhlbG+8fyYOIlajxwLDvYNSIqp+gxWnNzH4NPfszLpxYx9+o3XEyPrLQXyADVlYZ6Opha09XBm313r1DTxNL4eVeHhkRmJRUpF3rvLq4WNXAys0EukfGcU2OOJhY/+1dFe1aO5f161jKxoZN9Iw4kFK5nR/tG3CrmvPLVzV8ZeGIhQ04uZs7VrVxIu1kpkx34+9yjSs3n3vkUbFrbY920JtnhhrFk+Qm56LV6ZFZFx5M+7bR6SZn+qyiihUcQqqhly5YZp6V2dnZm5syZeHp6FlmuY8eOZGZmMmfOHMBwsdizZ0/q1KlTZFmlUomnpydpaWnY2toC4O7uTlpaGq1bty42Djc3N5ycnJg2bZrxv6WRlpZGWFgYkydPLvR++/btWbVqFYMGDSrUlSA5OZmNGzei0WiQSqVYW1szadKkUm2rNB5nP5W1eb4jqKawQKPT8tm1H8nW5DPL+0U8rJzQ6/Uk5KezNGInADWU1QhsOIQZf66nutKS+b6jAJBJpBxKvMTZtGvlHn9p3fg8HE22GolMitsId+QWcmp2rEXUuuuEzLyARC6h3vgGSCQSVOkFRK2/QYN3G5F9PZPUk0mYuZhz9QNDq4LzkDrY+NlWcI2Kmu87Auu/juXya/8jW5PP294D8LRyQq+HhPw0Po34ATAcy+kNB/PenxsesdbKZ2mzV7BWmKPR61h09ReyNPlM9xlEg2qO6NETl5fBgpCfALAzseIj3wG8dW4LWr2OxVd/YVXLkUglUn66c5Gb2UUTo8rgWTmWH/uOoJrCHK1ey7KIXWRr8nnHp/8D9UwnKPzves7wHkzg5aernrdXXv3r3CPBeYQncgsFth0diV0fQcT7Z5HIJbiObYhEIkGdXkDMxgjcp/oZyq4KJTvCMAYodMopHAbUMbYWCRVHoi+pY78gCILwxHQ+9G5Fh1AuXCwzKjqEMhedXb2iQygXmfmVc9rgJ6maafGTpVQlVfVBkv9U26JqTiLwoO/arC7zbbx96dUyXf+KJhXTeim6tAmCIAiCIAiCUGWJLm2CIAiCIAiCIKDTV822kKpZK0EQBEEQBEEQBEQLjyAIQrl4r96vFR1CuTidXXRijKpmicu8ig5BEIR/CE55q6JDqBK0VM0xX6KFRxAEQRAEQRCEKku08AiCIAiCIAiCUGVn9RMJjyBUIQEBASgUChSKvx+GFhgY+NgP4HzppZfYvHkzpqaln5Y2Pj6e5cuXA9CvXz86dOhg/CwpKYnJkyfj4uICgEajoUePHjz//POPFdc/LVq0iNGjR+Pg4PCv17F69Wo6depEw4YN/1Ms5e3oLi1/7NOh10Ob3lI6vSjj7k0933+hRa3SI5VJGPyWFLcGRRvyzx7QceBbLQA9XpXRskflbOy/vieVWwczQA/1uttQv28NAG7sTSPy1zQkUgmOzSzxG16r1GUFQRAe5caeVKIOpYMe6navjmcfw/kjcl8qN/869zg0tcR3eNHfnpLKChVLJDyCUMVMnToVV1fXct/umTNnqF+/PmPHji32cwsLC4KCggDIzMwkICCAtm3bYmNj86+3OXPmzH9d9r4JEyb853WUt/jbev7Yp2PKCjkyBXz1vhbvVnp+Xq/luaFSGraQEnZWx+51Ot4KKpzM5GTp+W2rlqlfyJEASydpaNRagrlV5bqrdy8mn1sHM+i+uC5SuYRjC2JwbGZFXqqau+ey6Lm0HjKFlPx7mlKXtXJUVkBNBEF4mtyLySfqUDpdF9VDKpdw4uNoHJtakpuqIe5cFt0/dX/ouae4spaOJhVQk3+nqs7SJhIeQXhGvPTSS7zyyiucO3eOrKwshg0bRuvWrQFDsvLtt9+iUCho1apVievIz89nw4YN3Lx5E4COHTvSv39/jh8/zp49e9Dr9Vy7do1p06Y9tNUlLy8PuVyOUmm4AE1PT2fDhg2kpKSgUqlo164dAwcOBCA8PJx169YhkUjw8fHh3LlzzJgxA1dXVwICApg+fTqurq7MmTMHd3d3rl+/Tnp6Om3atGHo0KEAj/ysX79+NGvWjODgYBQKBfHx8aSmplK/fn0CAgKQSCSkpaWxcuVKMjIyqFWrFnq9Hn9/f3r16vXfD85jSozR49ZAgtLUkKR4NJZw5aQOCZCfa1gmPwesi7mxeO28ngZNpFj8leA0aCIl4ryepl0qV8KTeUdFDU8z5CaGH187b3Punskk7WY+DV+sgUxheN/UuujPWEllvQbULL8KCILwVMq6W4Ctx9/nj5re5tw9m0X6zTwaDKj50HNPSWUb9H+KEp4qOmmBSHgEoYpZtmyZsUubTCZj8eLFxs/Mzc1ZtGgRERERLF++nNatW5ORkcFXX33FggULcHJy4qeffipx3Tt37kSn0/Hpp5+Sl5fHBx98gKurKx06dCA+Pp78/HxGjBhRbNmcnBwCAwPR6XTEx8czdOhQzM3NAVi5ciWDBg3C29sbjUbDvHnz8PDwoGHDhqxYsYK3336bhg0bcvbsWfbt21difCkpKcydO5f8/HwmTZpE165dcXR0fORnD4qNjWX27NlIpVLee+89QkJC8PX1ZcOGDfj4+DBo0CCSk5N599138ff3f+TxKAuOdSTs/VpPTqYehRLCzulxqS/hxQkyVr+v4ee1WvR6mLys6Cn+XqoeG7u/X9vUNLxX2Vi7mhDybRIFWRpkSikJl7Kp7m5KdnwByeG5hGxLQqaU4jeiFrYeZqUqKwiC8CjVXEy5+uD542I21d3NyIpTkRKey9Vvk5ApJPiOcChy7imprFDxRMIjCFXMw7q0tW3bFoD69euTnp6OSqUiMjKSunXr4uTkBED37t3ZunVrseVDQkIYPXo0EokEc3Nz2rVrR0hICE2aNHlkXA92aUtLS2P27Nl4eXlRu3ZtwsLCyMzMNC6bn5/PnTt3sLa2RqlUGsfXtGzZEgsLixK30aZNG6RSKebm5tSuXZvExERjUvOwzx7UokULY8tT3bp1SUhIwNfXl9DQUMaMGQOAnZ0djRo1emSdy0otVwldh8hYPUuD0lRCbXcJUimc/EXHgDdk+LWXcumYju3Ltby5+Ok8zVdzNsFrQA2OzY9BZiLFpo4pEqkEnRZU2Vq6LapLWmQ+p5fd4flgDyQSySPLCoIgPEo1ZxMa9K/J8fnRyE3vnz9Ar9OjytbSdWFd0iPz+GNZLL2DPYuce4or+zTRikkLBEF42t2/kJdKDWdgnU5XIXHY2tri4eFBaGioMdFatGgRcnnhU1J0dPRjrffByRqkUilarbZUnz3o/j66v1xF7aNHad1LSutehuO4Z6MW65qwZ6OOFyca9qF/BwnffVa05ca6hoTIK3+/n5ECHr6V8weuXrfq1OtWHYArWxMxr6Eg624Bzq2qIZFIqOFpBhIoyNQW6V5SXFlBEITSqNutOnX/On+EbLt/7lFR+69zj62nORIpqDK1mPzj3FNcWaHiPWV5pyAIT5qnpye3b98mPj4egEOHDpW4bOPGjfn999/R6/Xk5eVx6tQpfH19H3ubeXl53Lp1C0dHR8zMzGjYsCG7du0yfp6SkkJGRgZOTk4UFBQQEREBwLlz58jJyXns7T0JPj4+HDlyxBjf1atXKySO+7IyDElLepKeKyd1NOsipVoNuPlXMnPjsh47p6LlGjSXcO2ijtwsPblZeq5d1NGgeeVMeO4PCs5JVnP3TBauHaxxamFF0lXDdyArrgCdRo9JNVmpygqCIJTG/fNHbrKKuDOZuLS3xqmlFcn/OPcoH3LuebDs00Snl5bpv4oiWngEoYp5cAwPGGYhc3d3L3F5a2trxo8fz5IlS1AqlQ+dtGDw4MGsX7+ed999F4AOHTqUehzL/TE8AGq1mnbt2tGiRQsAJk+ezKZNm5g2bRoAZmZmTJw4ERsbG95++23Wrl2LRCLB29sba2tr49if8jRq1CiCg4M5ceIE9vb2eHh4VEgc922cryU3S49MBoMCZJhZSnj5bRn/W61Fp9UiV0p46W3DKT7muo5Te3S8MkWOhZWEnq/JWD7Z8KPcc6jMOIFBZXMqKBZVthaJTELTsQ4oLWTU7Vqdc1/G8euUm0jlElq+VRuJREJemppzq+Lp+L5riWUFQRBK4/SnsaiytEjl4D/W0XDu6WLD+VVx7J8aiVQuoUXA3+eeC6vjaD/LrcSyQsWT6PX6yjdaVRAE4S95eXmYmRkGfV69epUvv/ySlStXGrvllReVSoVMJkMmk5Gens7MmTP58MMPjV3yHmVvVMWN+SlPp7M9KzqEMjexRnBFhyAIwj8Ep7xV0SGUuY99fyzzbQw/U/yjJZ6ULa3Wlen6SyJaeARBqNTOnDnDnj170Ol0KJVKJk+eXO7JDhgerLpy5UrA8ODUwYMHlzrZEQRBEASh4oiERxCESq1z58507ty5osPAzc3NOMucIAiCIFRFVfU5PGLSAkEQBEEQBEEQqizRwiMIglAOtia1qegQykU985SKDkF4Qn7NfqmiQyhz8Wqbig6hzI2uvqaiQygXvuaxFR1ClaATz+ERBEEQBEEQBKGqqsipo8tS1ayVIAiCIAiCIAgCooVHEIRKICAgAIVCUej5QYGBgdjb21dgVJVX4m93ST5ieFCsXScHavVyNry//y7Jh+JAKsHazxaXV+oVKqdKzSdqzTXU99QgAbvOjtR6rna5x19a1/ekcutgBuihXncb6vetAcCNvWlE/pqGRCrBsZklfsNrlbqsUDHO/5zLn7/lo9eD33OmtOhvzk9LMkm7a3geVH6OHlMLCaM/ty1SNj9bx74vskiJ1oIEnn/bitpele/p9eG/pHPjQCZ6wLN7Nbz7Vefop/FkxqkAUOXoUFpI6bfMrUjZkysTuXs+B1NrGS+sKPq5UL5O/1TAhd/U6PXQ7DkFbQeYsGNxLil3dMDf39c3V1oWKXvqfwVc2K9GIoFablIGTDFDoXx6uolVpi5tFy9e5LvvvkOj0WBpaUlAQAD29vaoVCq+/vprQkJCUCgU1K9fnzfeeOOh6xIJjyAIlcLUqVNxdXV9ouvU6XQVMoV1Wcq7k0PykXgazmmCVC7lelAI1k1qoEotIONiKt4LmiFVSFFnqooWlklwfrUeFnWs0OZpCPvwEtUa2WBW26L8K/II92LyuXUwg+6L6yKVSzi2IAbHZlbkpaq5ey6LnkvrIVNIjU81L01ZK0dlBdRESI7W8Odv+YxYWh2ZAnZ8dA+PFib0n17NuMzv67MxMS/+QuvQ2mzqNVXy4kwztGo96oLK9/jA9OgCbhzI5PlPXJDKJRycfxfn5hZ0etfRuMz5jckoLIo/H3l0qYZXb2tOfp5YXiELJUi8reXCb2rGL7NApoAts3Np0FLBSzP+ftD0r+vyi/2+Zqbo+GO3ikmrLFGYSPhuUS5Xj6pp0kOcex5XdnY2wcHBzJ8/HycnJ44dO8batWt5//33+eabb1AoFKxYsQKJREJGRsYj1ycSHkEQKqWCggKCg4OJjY1FLpfj6OjI1KlTCQ0NZdOmTbi5uXHr1i1MTEwICAjA2dmZ0NBQNm7cSL169YiKiuKVV17B0dGRTZs2kZWVhUaj4fnnn6dLly4lrj8uLo7g4GBUKhU6nY5OnTrxwgsvkJ+fz4YNG7h58yYAHTt2pH///uW+X/LicrF0t0JmYnh6t5WX9f/Zu/Owqsq1gcO/PTHPIpOKoIgKijhbKpqZWTaYmZXl1EnTUHPIzNKTQ6blVCZqTiWmlnnMMutkKYioOc/iCArKJCIys8fvDz53cQAFFVB47uviyr3Wet/1rMVus5/1Ttw4mEZuXBaez9RDqSn8QqVxKP4H1sLJEgsnSwBU1mqsvWzQ3tA+kAlP5hUttRpZo7YsvJ7aATZc3ZdJ+sV8mr5QC9X/X6eVY/E/Y6WVbdLbtfIuQJhdTzDg2ViDxqrwC2K9ZhrO7S2g/YuFXyBNJhNnogt4ZaZjsbIFOUYSTup4eow9ACqNApXmwXkCfcvNq1pc/a3M7zmPAGvi/8qm2QuFLVYmk4lLe7LpMa3kFlX3QGuyU3WVFq8o3bUEI3X9VVj8//vVp7ma03t0dO5b+NlpMpk4uUvHkE9sSixvNIBOC0q1CV0B2Nd6uB66VfS01Dk5OeTk5BTbbmtri63t33+LkpOTcXR0NK9316pVKxYtWsT169eJiopi6dKlKBSFsTo5Od3xvJLwCCEeCPPnzzd3aVOpVPTp04e8vDwWLFgAFD7tueXy5csMGTKEkSNHEhkZyaJFi5g9ezYACQkJDBs2DH9/fwwGAx988AGjR4+mTp065OXl8f777+Pv78/Vq1dLrP/333+nTZs2vPDCC0W2b9y4EaPRyNy5c8nLy2Py5Ml4e3vTsmXLyrlB/8+6ji1Xf7iEPkuHwkLJzWPp2Prak5+cR9a5m1zdeAmFRkm9Vxtg28C+1HoKruWTezkbu4alH1OVHL0tObE+lYIsPSoLJclHsnFuaEV2UgHXYnI5sS4VlYWSFgPdcfGzLlNZUTVc66uIWqMjL9OI2kJB7EEtHo3+/vpx5ZQOWyclLl7Fv5JkpBixcVTy6+dZpF4y4NFQzePD7MxfRh8UTt6WHFl7nfwsA2oLBVcO51KroaV5f+rpfKydVDh4yZP+B517fSXbww3k/v/79dxBPXX8/k5aLp8yYOekoFYdVbGyDq5KOvaxYP7gLNQWCvxaqfBrJV+1/2nr1q1s3Lix2Pa+ffvSr9/fM0N6eXmRkZHBhQsX8PPzY9euXQCkpKRgb2/PDz/8wKlTp7CysuKVV16hSZMmtz2v/BaEEA+E/+3SlpKSwpUrV1ixYgWBgYG0atXKvM/Dw4OAgACgsKVl2bJl5ObmAuDp6Ym/vz8ASUlJXL16lc8//9xcVq/Xc/XqVerXr19i/U2bNmXt2rUUFBTQrFkzAgMDAThx4gRDhgxBoVBgY2NDx44dOXHiRBUkPDZ4PFOXc3NOoLRUYlPfDpQKTAYThmw9TT4KJic2i4uLTtN8XjvzE7B/MuQbuPjlaeq91hCV9YP5Z8ChriVNetciakY8KkslTj5WKJQKjAbQZht4fJYv6Rfy2Tv/Ck+H+RW5ztLKiqrhWk9N+xet+f7fN9FYKXBroC7y+zgdVUDTEMsSyxoNJpIv6un+lh1ejTX8uSybvzbmEvL6g9Uq6VTXgmYvOPPntKuorRS4+Fqi/Mc1xkVn4dPpwXy4IIqq7a2iU18LVk/OxcJKgWcDJQrV37/LEzt1NO9S8hiyvCwTZ/7SM3aVHVa2Cr6flcexHVpadHt4Et2KHsPTq1evEhcT/2frDoCNjQ1jxoxh9erV6HQ6goODzcekpKTg6+vLgAEDOH/+PJ9++ikLFy7ExqbkVjeQhEcI8YByd3dn/vz5nDhxgqNHj7J+/Xrmzp17x3JWVn8/yTeZTNjb2zNnzpwSjy2p/g4dOuDv78/x48fZvHkzO3bsYPTo0fftuu6H2l08qd2lcGzAlR/isHC2JD8pF6c2rigUCuwaOqBQKtBn6Yp1bTPqjVxceBqXR9xwbvtgd/Fq8LgzDR53BuD42hRsamnIulpA3fYOKBQKajWyBgUUZBqKdW0rqayoOi16WNOiR2FL3M7wbOxrFT4dNxpMnNtbwKAFziWWs3dVYe+qxKtx4e+vcUcL/tqYVzlBl1Oj7o406l7YLe/wt2nY1Cp8TxoNJuL/yqbXnHpVGZ4oh9ZPWtD6ycLPzj9W5+P4/93SDAYTp/foGf5FyQn3xaN6nN2V2DoWHh/wqJr4GAMtulVO3A+D/+26djtBQUEEBQUBkJGRwZYtW6hduzYqlYqOHTsC0KhRI+zt7UlKSqJhw4al1vVwdSwUQtQY169fR6lU0q5dOwYNGkRmZqa5e1lKSgoxMTEAREdH4+3tXeKTHS8vLywtLYmKijJvu3r1Krm5uaXWn5ycjJOTE127dqVv377mMTvNmzdnx44dmEwm8vLy2LNnj/mDuLLdmpCgIC2fjINpuDzihlPrWmTFZACQn5SLUW9EbV/0S77JZOLyynNYedng8VTdyg673G5NSJBzTcfVfVl4d3bEq609qScL+39nJRZg1JuwdCjetaSksqLq5GQUzm6VmWrg3B4tAV0KW3QuHdVRq44aB9fiv0MAO2clDq5Krl8p/H1ePqbDtV7Jx1a1vIzCGLOv6Yjfl02DkMIWnaRjuTjWscDWVZLuh0X2/79fM1KNxOzR07xr4e8u9ogB17pKHF1L/vrsWFtBwlkD2nwTJpOJ2GMGaj+g79fSGE2KCv0pj1uTERiNRtavX88TTzxB7dq1CQwM5Pjx4wAkJiaSmZmJh4fHbeuSFh4hxAPhn2N4ANq3b8++ffuAwg+73r174+LiQlJSEt7e3mzfvp0VK1ZgYWHByJEjS6xTpVIxceJEvvnmG37++WeMRiOOjo6MHTuW+Ph41q1bV6z+TZs2ER0djVqtRqFQMHjwYKCwf/HKlSt59913AejcuTPBwcEVd0Nu4+LC0+iz9ShUCrwH+qG2VeMa4sGlFec4OekgSrUS32GNUSgUaG8UcGnlOfzfbU72uUyu707Fup4tpyYfAqDOS744tSg+FfCDYM+cBLTZBhQqBa3e9MDCVoVvN2cOLE7kv2MvolQraDeyDgqFgrx0HQeWJBHyoXepZUXV2TzrJnlZJpQqeGKEHVZ2hV8YY6LyadqlaHe2rOsG/vtlNi9NLUxSu79lzy/zsjDoTTi5q8wTGDxods5JoiDLiFIF7Ye6md9zl3Zn4dO56PTFuel69i5O4fHJhZMYRM1PIuVkHvlZBja+GUeLV1zMrUWi8n33SR55mSaUaug1wgpru8Iv6ieidAT9T3e2zOtGflqYz4BpNtRroiawo5ql7+SgVIFnAxVtnpJE92599913nD17Fr1eT1BQEP379wdg6NChLFmyhPDwcNRqNSNHjrxjq5HCZDI9ePM7CiFEKU6dOsWaNWvMkxQ8LF7bN7SqQ6gUDWzSqjqECjeiVlhVh1Ap/pvd784HPeSSdE5VHUKFG+K8rKpDqBS7cit/1szK9rLfgQo/x7O7RlVo/Vs6f1mh9ZdGurQJIYQQQgghqi3p0iaEeKgEBgY+dK07QgghxMOgomdpqyqS8AghhBBCCCEqfOHRqiIJjxBCVII59aZVdQhClEtPuw1VHYK4D8bHT63qECrFPO+fqjoE8QCThEcIIYQQQghRbbu0yaQFQgghhBBCiGpLWniEEJVGr9ezadMmdu/ejUqlQqVS4eHhwcsvv0zdurdfCDMyMhJ/f3+8vLzKfd7s7GzWrFnDqVOnUKlUODg40L9/f5o2bXrHshs2bCA/P5+BAweW+7xCCFGdpG67QlpkEpjAtasnbk8Wfm6n/nGVa9uvolAocAh2oe7LxVe8v7ziLDePXkftoCHgk7aVHbooo+rawiMJjxCi0ixevBitVssnn3yCra0tJpOJI0eOkJiYWKaEx97e/q4SngULFlCvXj0WLlyIUqnk9OnTzJ07l5kzZ95xdWYhhBCQdyWHtMgkmnzUCoVayYW5x3EIroUuPZ+bh9NoOqMNSo0SXaa2xPIundyp3d2LS8vOVHLkQkjCI4SoJElJSRw4cIAlS5aYV0RWKBS0atXKfMyJEyf47rvv0Ol0GAwG+vTpQ8eOHYmIiODixYt8/fXXfPfddwwYMAAnJydWrFhBQUEBWq2W7t2706tXr2LnPX36NImJiUyaNAmlsrAXb0BAAI899hg//vgjI0aMYMOGDSQmJpKXl0dKSgru7u6MGzcOS8uiK8CPHz+eESNG4OfnB8Avv/zC1atXeeuttyrqtgkhxAMhPzEX24YOKC1VANg1cSLj4DVy47Jxf8Ybpabw81XjYFFiefsmThRcy6+0eMXdkRYeIYS4B3FxcXh4eGBnZ1fqMb6+vsyYMQOlUklGRgbvv/8+LVq04LHHHmPnzp08++yztG7dGoC8vDymTJmCRqMhPz+fSZMm0aJFi2ItRfHx8fj6+qJWF/248/f3Z9OmTebXsbGxzJo1CxsbG2bOnMmuXbvo3r17kTJPPvkk27Ztw8/PD5PJxLZt2xg3bty93hohhHjgWdW1IXFjHPpsHUqNksxj17HxtacgJZfsszdJ3BiHUqOkzisNsG3gUNXhClGEJDxCiCpx5coVvvjiC7RaLcHBwQwZMoTMzEyWLFlCcnIySqWS7OxsEhMT8ff3L1a+oKCA5cuXc/nyZZRKJTdu3ODy5cvFEh6TyVSmeFq0aGFuefLz8yMlJaXYMSEhIfznP/8hOzubCxcu4OjoiI+PT/kvXgghHjLWXra496rH+c+Oo7JUYe1tB0oFJoMJQ46Oxv9uSW5sFnFhMQTObYdCUT1bCqo7aeERQoh74OvrS3JyMjk5Odja2lK3bl3mzJnDf//7Xy5evAjAihUraNOmDe+++y4KhYJ33nkHnU5XYn3r16/HycmJ0NBQVCoVH3/8cYnH1q9fn59//hm9Xl+klefcuXN4e3ubX2s0GvO/lUolWm3xfuhWVlbmLnanTp3iySefvOv7IYQQDxvXLp64dvEE4OoPsVi4WFKQlItTG1cUCgW2DR1AAfosXald24SoCjIttRCiUnh6etKmTRu++uorcnNzzdvz8//u052Tk0Pt2rVRKBQcP36c5ORk8z5ra+si5XJycnB1dUWlUhEfH09MTEyJ5w0ICMDDw4Nvv/0Wo9EIFI7riYiI4IUXXij3dfTs2ZNff/2VuLg4OnToUO7yQgjxsLo1IYH2ej4Zh9Jw7uCOYytXsmIyAMhPzsVkMKG219ymFvEgM5kUFfpTVaSFRwhRaUJDQ9m4cSOTJk1CpVJha2uLs7MzvXv3BuC1115jxYoVbNiwgYYNGxZpgenevTvh4eH8/PPPDBgwgBdffJFFixaxY8cOPD09CQgIKPW848ePJzw8nFGjRqFWq7Gzs2PcuHF4enqW+xrc3Nzw8vKiUaNGxcYFCSFEdRb75SkM2XoUKgX1BjRCbaumVogHl1ec5fQHB1ColfgMbYxCoUB7o4D4VefwG98cgLjFp8k6cxN9to4TY/bi+YKPubVIPDiMVM8ubQpTWTu4CyGEIDc3l7FjxzJr1ixcXFzKXC4xMbECoxJCiJKNj59a1SFUinneU6s6hAp3N8sylFfI9gkVWn/U43MqtP7SyONJIYQoo23btrFp0yaeeeaZciU7QgghxMNAJi0QQogarkePHvTo0aOqwxBCCCFEOUjCI4QQQgghhKjSiQUqkiQ8Qggh7ptl6SOqOoQKN8xlSVWHIESZ1YSxLULciSQ8QgghhBBCiGo7hkfW4RFCCCGEEEJUW9LCI4QQQgghhJAxPEKIB5der2fTpk3s3r0blUqFSqXCw8ODl19+mbp169638/Tr14/w8HCsrKyKbI+MjOTQoUOMHz/+ns8RFhZGw4YN6dmzZ5nLpKamMnr0aOrVqwcU3o8nnniCp59++o5lS7umO9mwYQP5+fkMHDiwXOVE2Z39JZ2Lf2ZgMkHDJ5xo8owLu+ddJTOxcLV3XY4Bja2Kp+b5FiubeCSbw6tSMRlNNHzciYA+tSo7fCGEEA8ISXiEqAYWL16MVqvlk08+wdbWFpPJxJEjR0hMTLyvCc+DzNbWljlzChc0y8zMJDQ0lEcffRQnJ6eqDUzclYz4Ai7+mUGPT31QqhVEzkigTms7Oo6vYz7m8DcpWNioipU1GkwcWp7CY/+uh3UtDdsmXqJOWzsc61lW5iUIIcRDp7qO4ZGER4iHXFJSEgcOHGDJkiXY2toCoFAoaNWqlfmY/Px8Vq1axcWLFwEICQnh+eefByA5OZlly5aRmZmJSqXi1VdfJTg4GIB9+/axfv16NBoN7du3L3dsU6dO5dlnn6V169bFXqenp7Nq1SqSk5MB6NixIy+88EKR8idPnuSbb75h9OjReHt7l/m8eXl5qNVqLCwsANiyZQt79uzBYDCg0WgYOnQoPj4+5uN//vlnDhw4gFar5dVXX6VDhw4AnD9/nnXr1pGbmwvAyy+/XOS+ioqTeaWAWo2sUVsWDjV1C7QhYV8WAb0LW2pMJhMJe7LoNrX4+yL9Qj52HhbYeRT+/r07OXDlQLYkPEIIUUNJwiPEQy4uLg4PDw/s7OxKPWbjxo0YjUbmzp1LXl4ekydPxtvbm5YtW7Jw4UK6d+9Ot27duHLlCh999BELFizAaDTy1Vdf8fHHH+Pl5cVPP/10X+P+8ssvadmyJe+++y5Q2CrzT7t27eLXX3/lgw8+wMXF5Y715eTkMGHCBIxGI0lJSbz22mvY2NgA0KVLF5599lkAjh8/zvLly5k5c6a5rFKpZM6cOSQmJjJ58mSaNm2KWq1m+fLlTJo0CWdnZ27cuMGkSZOYN2+eObEUFcfR25Lj665RkGVAZaEg8XA2Lg3/7nZ47XQeVk5q7L0sipXNTddh4/r3nzcbFzXXz+dVStxCCPEwM5mqOoKKIQmPENXMlStX+OKLL9BqtQQHBzNkyBBOnDjBkCFDUCgU2NjY0LFjR06cOEGTJk24dOkSXbt2BaBu3br4+Phw7tw5AHx9ffHy8gKge/furF279r7EmJ+fz9mzZ5k8ebJ5m4ODg/nfERERWFhYMGXKFHPScif/7NKWnp7OlClTaNKkCQ0bNiQ2NpYff/yR7OxsFAoFSUlJRcp269YNAC8vL3x9fTl//jxKpZLU1FQ++eQT83EKhYLk5GQaNmx419cuysaxriVNe9ciYno8akslzj5WKJR/d7W4HJ2Jdyf7KoxQCCGqHyPSpU0I8QDy9fUlOTmZnJwcbG1tqVu3LnPmzOG///2vuQtbVVGpVJj+8bhIp9OVqVz9+vWJiYnh6tWrNGrUqNzndXFxwc/Pj1OnTlG/fn3mzZvHtGnTaNCgAenp6QwfPrzMcUybNq3Eff369St3XKJ8GnZ3omF3JwCOrb2GTa3CP1lGg4mEfVn0nONTYjkbFw25aXrz69x0Pda1NBUdrhBCiAeUrMMjxEPO09OTNm3a8NVXX5nHmkBhK8otzZs3Z8eOHZhMJvLy8tizZw9BQUFYW1vj4+PDzp07gcLWoUuXLuHv70+jRo24dOmSuTVk+/bt5Y7N3d2dCxcuFKkbwMrKisaNG7N161bzsf/s0tagQQPeffddFi5cyOnTp83bx4wZQ3p6+h3Pm5eXR2xsLJ6enmi1WoxGI66urgBs27at2PERERFA4XioS5cu0ahRI/z9/UlKSuLkyZPm4y5cuFAkgRMVK/9mYdKSc01Hwl9Z1O9c2AqYfDwHhzoW2JSSxLj4WZGVpCU7RYtBZyI+OpO6bUrv8imEEKKQyaSo0J+qIi08QlQDoaGhbNy4kUmTJqFSqbC1tcXZ2ZnevXsD0LdvX1auXGkeL9O5c2fzxASjR49m2bJlbN26FZVKxahRo8zdy4YNG8ann36KhYXFHSctOHLkSJGWk65du/L8888zf/58Dhw4gK+vb5GJAkaNGsWKFSvYuXMnSqWSjh07muOFwtaV999/n08//ZQ33niDBg0akJWVVepYpVtjeKCwJaljx460bdsWKGyNmTRpEnZ2duYJCf7JYDDw3nvvUVBQwNChQ3F0dATgvffe49tvv2X16tXo9Xrc3NyYOHEiCoWCbdu2odVqeeaZZ257X8Tdi55zlYIsA0qVgjZD3bGwLZyRLT46k/qdHIocm5uuY//iZLpOrld4/JvuRM5IwGSEBt0ccfSWCQuEEKKmUpjkcaUQ4iGwb98+rly5wosvvljVodyVxMTEqg6hUixLH1HVIVS4YS5LqjoEIUQNdGtMbUUK3jqlQus/2mtGhdZfGmnhEUI8FNq3b39XU2MLIYQQomaThEcIIYQQQggh01ILIYQQdyLdvaqPp49U/9/lry2rfxdMIYQkPEIIIYQQQgio0pnUKpJMSy2EEEIIIYSotqSFRwghhBBCCCEtPEKIB19oaCjx8fHFtk+ZMoU9e/aYX4eHh/Pmm2+aXxuNRgYPHkxycnKlxFmafv368e677zJhwgTGjBnD+vXry1Vep9Mxbtw4jhw5Yt6WlZXFiBEjzIueCiEqX3+fDmwMGcl/Qkbxms8jAAxv9BjbHp/A953e5vtOb9OpdqMSyz5a24/NXd7h565jGNKwc2WGLUSNYzQpKvSnqkgLjxA1QGBgIKdOneLRRx8FICYmBjc3NxISEqhXrx5xcXFYW1vj4eFRxZHCxx9/jJWVFQUFBYwbN442bdrQqFHJX4T+l0aj4e2332bBggXMmTMHGxsbVq5cSffu3Yssenq3jEYjSqU8JxKiPBraudHHuw2vR3+FzmQgrN1AolLPAvBt3B7CY3eXWlaJgkmBzzJ83zek5GeyttNwdqacITb7WmWFL4SoBiThEaIGCAwMZNWqVQDk5eWh1Wrp2rUrp06dol69epw6dYrAwEAMBgOzZ88mKysLrVaLn58fw4YNQ61WExkZSXR0NLa2tiQkJGBra8v48eNxcnK67b74+HhWrFhBQUEBWq2W7t2706tXrzvGXFBQgMFgwNbWFoDc3FzCw8O5fPkyOp2OwMBABg0aVCwB8fPzo3PnznzzzTe0adOGlJQURo0axdGjR1m3bh1GoxEHBweGDRuGh4cHkZGRHDp0iPHjxwMUeR0ZGcmuXbuwsrIiOTmZUaNGceDAAXbv3o1Go0GhUPDRRx+ZYxRCFNfArjYnMq6Qb9QBcOj6JR73CChT2WZOdUnIvc7VvBsA/J54gq7uTSXhEaKCyLTUQoiHVuPGjUlNTSUjI4PY2FgaN25M06ZN+fnnn+nZsyenT5+mXbt2KJVKRo8ejb29PSaTibCwMHbs2EGPHj0AuHjxInPmzMHV1ZWlS5fy22+/8eqrr952X+3atZkyZQoajYb8/HwmTZpEixYtqFu3bomxTp48GYCkpCR69OhhXlk6PDycgIAAhg8fjtFoZOHChezYsYPu3bsXq6Nv375MmjSJI0eO8NFHH5Gdnc2XX37JtGnTqFu3Ljt27GDhwoV88sknd7x3586dY86cOXh4eJCdnc3WrVtZtmwZFhYW5OXlYWFhcVe/EyFqigvZqYxs3B1HjTUFBj2d3Bpx+mYiN7W5vFK/Pc/UCeb0zavMO/1fsvT5Rcq6WTmQnHfT/Dol/ybNnUr+7BBCiNJIwiNEDWBhYYGfnx+nT58mNjaWgIAAGjRoQFxcHAaDgTNnzvDGG29gMpnYsmULR44cwWg0kpOTU+QLfePGjXF1dQXA39+f48eP33FfQUEBy5cv5/LlyyiVSm7cuMHly5dLTXhudWnLyclh+vTp7N+/n3bt2nHw4EEuXLjAli1bANBqtdSqVavEOtRqNU899RSHDh2ibt26HDx4EB8fH/M5u3btyooVK8jLy7vjvWvSpIm5q5+NjQ0eHh4sWrSIoKAgWrdujbW19R3rEKImi8u+xtexu1jSfhB5eh1nM5MxmoxsuLyfZecjMQGhjR9nfEBPph7fXNXhClGjVddJCyThEaKGuDWO59KlSzz99NMolUo8PDzYtWsXtra2uLm5ERUVxZkzZ5g+fTrW1tZs2rSJpKQkcx0ajcb8b6VSicFguOO+9evX4+TkRGhoKCqVio8//hidTnfHeG1tbWnevDnHjx+nXbt2mEwmJkyYgLu7e5muV6lUlmm8jVKpxPSPNnytVltkv5WVVZFjZ86cydmzZzl58iTvv/8+H3zwAfXr1y9TTELUVJsTDrM54TAAoxp3JyU/k3Rtjnn/pviDLGz7erFyqfmZeFg7ml+7WzmSmp9V8QELIaoVGX0rRA0REBDA0aNHycvLw8XFBYCmTZvy448/EhBQ2J8+JycHe3t7rK2tyc3NZffu0gcTl1VOTg6urq6oVCri4+OJiYkpUzm9Xs+5c+fMXdratGnD5s2bMRqNAGRmZpKamlqmuvz9/bl06RJXr14FYOfOnfj6+ponarg1Lkiv17Nv375S68nLyyMzM5OAgAD69etHvXr1SEhIKFMMQtRkzhaF49w8rBzp5hHAb1eP42ppZ97fzaMpF7KK//986uZVvG1r4WXthFqh4kmv5uxMOVNpcQtR05hMigr9qSrSwiNEDeHv709GRgadO/89rWtAQADfffcdL7zwAgBdunTh4MGDjBkzBkdHR5o0aVKsxaO8XnzxRRYtWsSOHTvw9PQ0J1elmTx5MgqFAp1OR0BAgHn80ODBg/n222+ZMGECUNiiNHjwYNzc3O4Yg4ODA6NGjWLhwoUYDAbzayi8L82bN2fcuHG4uLhQv359bty4UWI9ubm5zJs3D61Wi8lkwtfXl3bt2pXndghRI81r/QqOGhv0JiOzTv5Clj6fiYEv0tjBExMmEvMy+PjETwDUtrTno6DejDywBoPJyOyTv7Ck3SCUCiU/XTnMxeyyPegQQohbFCZTdZ2PQQghHhyJiYlVHYIQ5fL0kSVVHUKF+7XliKoOQYgyu9XjoSI13jS9Qus/2+ffFVp/aaRLmxBCCCGEEKLaki5tQgghhBBCiGo7S5u08AghhBBCCCGqLWnhEUKISvDolnVVHUKl2PNs/6oOQdwnMr5FiBqomo7sl4RHCCGEEEIIIV3ahBBCCCGEEOJhIy08QtRQoaGhTJw4kV9//ZUuXbrQtGnTu64rLCyMhg0b0rNnz3KV69evH97e3uZ1d9q3b8+rr756x3JTp07l2WefpXXr1rc9d2hoKBqNBo1Gg16v55lnnuHxxx8vV4z/G294eDhWVlZ3Xcf9MqRZK15pGoQC+O7McVadOMy4Nh15wscPk8lEWl4u70b+RmpuTrGyF4eO42x6GgBXszMZ+vvmyg1eCCHEA6m6LlYjCY8QNdzw4cOr9Pwff/wxVlZWFBQUMG7cONq0aUOjRo3uW/3jxo3D29ub+Ph4Jk6cSMuWLXFxcblv9VcFf2dXXmkaxPM/fovOYGD1033ZfjmWZccOMP/gbgAGN2vJO60f4cNdfxYrn2/Q8/R/wis7bCGEEKJKSMIjRA33v60lGo2GpKQkrl+/jr+/P6GhoSgUCtLT01m0aBEZGRm4u7tjMpkIDg4u1rKi1+tZv349p0+fRq/X4+3tzdChQ+/YKlJQUIDBYMDW1haA3NxcwsPDuXz5MjqdjsDAQAYNGoRSeXc9cb29vbGzsyM9PR0XFxcuXLjA119/TUFBAZaWlgwZMgQ/Pz8ADh06xA8//IDBYEChUBAaGkr9+vXNdRmNRsLDw8nIyDC3IlUmP2cXjqYmka/XA7AvKYGevo346tgB8zE2ak21fVInhBCiYlTXMTyS8AghikhISGDKlCkolUree+89Tpw4QVBQEKtWrSIwMJAXX3yRa9eu8e677xIcHFys/E8//YSNjQ2zZs0C4Ntvv+XHH38stava5MmTAUhKSqJHjx7mlaTDw8MJCAhg+PDhGI1GFi5cyI4dO+jevftdXdeZM2ewt7fHx8cHvV7PvHnzePvtt2nevDnHjx9n3rx5fPnll6SmprJ06VKmT5+Op6cnOp0O/f8nFgBarZawsDDc3Nx45513UCgq/4/D2fQ03m3bCSdLK/INeh7zbsDxa8kAvNu2E338A8jSanl1y/cllrdUqfm5z+sYjEaWHN3PtksXKjN8IYQQolJJwiOEKKJt27ZYWFgA4OvrS3JyMkFBQZw6dYo33ngDgNq1a9OsWbMSyx88eJC8vDz++usvoLDF55+tI//rVpe2nJwcpk+fzv79+2nXrh0HDx7kwoULbNmyBShMNGrVqlXu65k/fz4mk4nk5GTGjRuHWq0mPj4etVpN8+bNAQgKCkKtVpOYmMjp06dp2bIlnp6eAOYxQLd88sknPProozz33HPljuV+uZiRztKj+1nTqy+5eh2n01Ix/n9zztwD0cw9EM3bwe0Y1KwlCw7uKVa+49plpORmU8/ekfXP9uNM+jXiM29W9mUIIYR40EgLjxCiJriV7AAolUqMRmO563jzzTdLTYhKY2tra25tadeuHSaTiQkTJuDu7l7u8//TrTE8e/fuZfHixTRu3Pie6gsICODYsWM8+eSTWFpa3lNd92LD2ZNsOHsSgAntOpGUnV1k/+YLMXz91IslJjwpuYXHJmTd5K/EBAJruUvCI4QQotqSaamFEGUSGBhIZGQkAGlpaZw8ebLE41q3bs0vv/yCVqsFIC8vjytXrtyxfr1ez7lz58xd2tq0acPmzZvNCVdmZiapqal3Hf8jjzxCixYt2Lx5M15eXuj1evM1nDx5EoPBgJeXFy1atODIkSMkJSUBoNPpyMvLM9fTr18/mjdvzsyZM8nNzb3reO5VLSsbALzs7Onp04ifL8Tg4+Bk3v9EfT8uZqQXK+dgYYmFUgWAs5U1rT3qcP7G9UqJWQghxIPNZKrYn6oiLTxC1FAGg6FIa86dDB48mLCwMKKjo3Fzc8PPzw8bG5tix/Xu3ZsffviBSZMmoVAoUCgU9O3bl7p165ZY7+TJk83TUgcEBNCjRw/z+b799lsmTJgAFHYtGzx4MG5ubndxtYX69+/PxIkTef755xk/fnyRSQtudXfz9PTkrbfe4vPPP8doNKJUKgkNDcXb27vINVpYWDBjxgw+/PBD7Ozs7jqmu7Wkx3M4W1mjNxqYsns7mdoCPu3yJA2cXDCaTFzNzuTDqD8AaO7qzmsBLXg/aht+zrX4pPMTmDChQMGSI/u4kCEJjxBCiOpLYTLJPD5C1DQ3btxgzJgxLF++vMxJj1arRaVSoVKpuHHjBpMmTeLf//63uUVG3J7PV3OrOoRKsefZ/lUdghBCVEuV8fe2wbpPKrT+2P4fVGj9pZEWHiFqmF9//ZVt27YxYMCAcrXwJCUlsWjRIqCw+1nfvn0l2RFCCCGqEZmWWghRLTz99NM8/fTT5S5Xv3595syZUwERCSGEEEJUHEl4hBBCCCGEEFBNB7pIwiOEEJVAxrZUH/1j5ld1CJViXdNxVR2CEELcF5LwCCGEEEIIIR6oMTyHDx/m+++/R6/XY2dnR2hoaJGZWn/44Qd++OEH5s6dW2Qm1ZLIOjxCCCGEEEKIB0Z2djZhYWG88847zJs3j8cff5zly5eb98fGxnL+/Hlq165dpvok4RFCVEuhoaHEx8eXuG/BggX861//Qq/XF9ner18/8vPzS63zgw8+MK8LJMT98GK9Tnzd/l2+bv8ufet1BmCwbw9+6DiFFe3GsqLdWNrXalJi2e8e/YBV7cezot1Yvmr7TmWGLYSorkwV/FNGycnJODo6mmeDbdWqFceOHSMzMxOdTsfKlSt58803y1yfdGkTQtQo2dnZHD9+HC8vLw4ePEiHDh3KVC4hIYGMjAzUajWxsbE0aNCggiMV1Z2vrQfPeHVg+IEv0JsMfBb8JnvTTgOwMSGK7+N33rGOsYeXcFOXW9GhCiHEfZGTk0NOTk6x7ba2ttja2ppfe3l5kZGRwYULF/Dz82PXrl0ApKWlsWfPHjp37lyuhcgl4RFC1Ci7du2iVatWtGjRgoiIiDInPBEREYSEhKDRaNixY4ckPOKeedu6cTrzMgVGHQBHb8TSuXbzKo5KCFGzVewYnq1bt7Jx48Zi2/v27Uu/fv3Mr21sbBgzZgyrV69Gp9MRHByMra0t+fn5xMbG8tprr5XrvJLwCCFqlIiICAYOHEijRo34+uuvSU9Px8XF5bZl9Ho9u3btYsaMGajVaiZOnMjAgQPLtXCrEP8rLjuZNxs+hYPahgKjjg6uTTibeYVMXS4v1O1ID4/WnM26wuLzW8jW5xUrbwLmBA/DBGy5updfEvdV+jUIIUR59OrVi65duxbb/s/WnVuCgoIICgoCICMjgy1btnDmzBmuXr3KyJEjAbh+/TozZ87k7bffpkWLFqWeVxIeIUSNERcXR05ODoGBgSgUCtq3b8/OnTt54YUXblvu8OHDeHl54eHhAYCPjw/79++nU6dOlRG2qKbic1NZfymCOS2HkW/QciErEaPJyE9X9xAe9wcm4I0GT/J2o2f5LGZDsfKjDi0irSATJ40dc1sOIz73GsczYiv/QoQQ1UcFr8Pzv13XbicjIwMnJyeMRiPr16/niSeeoE+fPvTp08d8TGhoKBMnTrzjLG2S8AghaoyIiAhycnLMT4Z0Oh3W1tZ3THh27NjBlStXCA0NBSA/P5+IiAhJeMQ9+zVpP78m7QfgzYZPcS3/Jje02eb9WxP3MavFv0osm1aQCUCGLpvoaydp6lBPEh4hxL15gBYe/e677zh79ix6vZ6goCD697/79ewk4RFC1Ag6nY7o6Ghmz55tbqkBeOedd4iJiaFp06YllsvIyCAmJoalS5dibW0NgFar5a233iItLQ1XV9dKiV9UT04aOzJ02bhZOhFSuzlvH1yIi4U96dosADrVbkZcTlKxclZKCxQKBXmGAqyUFrRx8Sc87o/KDl8IISrM8OHD73hMWFhYmeqShEcIUW3NmDEDlUoFQFZWFq6urkWSHYDOnTsTERFhTnjeeecdFIrCQZuWlpY89thjBAcHm5MdAAsLC9q2bUtERAQvvfRSJV2NqI6mBw3EQWOL3mjg87ObyNbn80HAC/jZe2EymUjOv8G8M4UDfGtZODCh6Uu8f2wlzhZ2zAgaDIBKoWR7yhH2p5+twisRQlQLD9DCo/eTwmQyPUCNV0IIUT0lJiZWdQjiPukfM7+qQ6gU65qOq+oQhBD/cGtNmork8/VnFVr/pSHvVWj9pZEWHiGEEEIIIQTVtRlEWdUBCCGEEEIIIURFkRYeIYQQQgghxAM1S9v9JAmPEEIIUQ4KRTX9RiCqpTmpNWMs1gS3mjG2TtwdSXiEEEIIIYQQ1XaWNhnDI4QQQgghhKi27rqF5+TJkyiVSgICAu5nPEIIIYQQQogqUF177JY54fnoo4949dVXadKkCZs3b2br1q0olUqefPJJ+vTpU5ExCiGqodDQUCZOnIi3t/ddld+wYQPbtm3DxcWFgoICbGxs6Ny5Mz179kSpVJKens6XX37JRx99dNt6Tp06xZo1a5g9e3a59glxP7xYtzO9vNqjQMEviX/xnyu7GOTbg15eHbipzQZgReyv7Lt+plhZW7UVE5r0w9fWExMmPov5ntOZlyv7EkQNEvdrKgnbrwNQr1stfHu5AXDpt2tc3nYNhVKBW0sHmrxep0i57MR8jnx+yfw6L7WARi95mssLUdHKnPAkJCTg7+8PwPbt2/noo4+wsrJiypQpkvAIIapESEgIAwcOBCAlJYUvv/yS5ORk3njjDVxcXO6Y7AhRlXxsPejl1Z4RB79AZzLwWYuh7L1+GoCN8VFsSIi8bflRjXqz//pZpp4MR61QYanSVHzQosbKis8jYft1On7SGIVawYFPLuDW2pH8NC0pBzPo9FkTVBolBTd1xcraeVnR+bMmAJiMJrYPP4lHO6dKvgJRJjW9hcf0/ysRJScnA1C3bl0AcnJyKiAsIURNFR4eTkxMDHq9Hnt7e0aMGEHt2rXvWM7d3Z0RI0bw7rvv8sorr5Cdnc2kSZNYuXIlAAsXLiQxMRGdToeHhwcjRozAzs4OAIPBwKJFi4iNjcXS0pLQ0FDzZ9wtBoOB2bNnk5WVhVarxc/Pj2HDhqFWy9wv4u7Ut3EjJjOeAmPhF8RjGRcJqR1UprK2KiuCnBowO+Y7APQmA3q9ocJiFSL7aj5OjWxQWRYO/3YJsCd5XwY3Y3Np+Lw7Kk3hdkvH2yfeaSeysHW3xLq2RYXHLO5CNZ20oMx/qRs3bsyqVau4ceMGbdu2BQqTH3t7+woLTghR8/Tu3dvcarN9+3bWrl3LmDFjylS2Tp06WFhYkJiYiIODQ5F9gwcPNm/77rvv+Omnn3jttdcAuHz5MkOGDGHkyJFERkayaNGiYt3YlEolo0ePxt7eHpPJRFhYGDt27KBHjx73eMWiporLSeZfDZ/GQW1DgVFH+1pNOZt5hUx9Di/U7UgPz9acy7zC4gs/k63PK1LWw9qFDF0OE5u+QkM7L85lXWHRuc3kG7VVdDWiurOvZ83Z75PQZulRWSi5duQmjg1syEkqIP1MDme/T0KlUdLkdS+c/GxLrSdpzw08OzpXYuRClCPhCQ0NZcuWLTg4OPDcc88BkJiYyNNPP11hwQkhap6jR4/y+++/k5+fj8Fw/55YR0VFsWvXLvR6PQUFBXh6epr3eXh4mCdgCQkJYdmyZeTm5hYpbzKZ2LJlC0eOHMFoNJKTk4OFhTyhFHcvPjeV7y7vYE7wMPKMWi5kJWLEyM9X9rAm7g9MwBsNevK233N8dub7ImVVCiX+dnX48tyPxGTGM7LR87xavxtfx/23ai5GVHt2da1o+Jw7+2deQGWpxMHHBoVSgclgQpet59GP/bl5MZcjn1+i65cBKBTFWwqMeiMph27S+FWvKrgCUSY1vUubvb09/fv3L7KtVatW9z0gIUTNde3aNVavXs2sWbNwc3Pj7NmzLFy4sMzlExMT0Wq1eHl5kZ2dbd4eExPDtm3b+Pjjj3FwcCA6Opo///yzXLFFR0dz5swZpk+fjrW1NZs2bSIpKalcdQjxv35N2s+vSfsBeLPBU1wruMkN3d/v3V8S/2JW0L+KlbtWcJNrBTeJyYwHYGfqcfrX71Y5QYsaq163WtTrVguAs+sTsXLRkJ2Yj0c7JxQKBU5+tiiUoM3SY+lQvGvbtSOZOPraYOkk481E5SpX5/NLly4RExNDVlaWeUwPwMsvv3zfAxNC1Dx5eXmo1WqcnJwwGo388ccfZS6bmprKkiVLeOKJJ7CxsSmS8OTk5GBjY4OdnR06nY6IiIgiZVNSUoiJiaFp06ZER0fj7e2NjY1NkWNycnKwt7fH2tqa3Nxcdu/eTYMGDe7tgkWN56SxI0OXjZulE51rB/H2oS9wsbAnXZsFQOfazYnLSS5W7oY2i9SCDOrZ1CYh9xqtXBpxKSelssMXNUzBTR2Wjhry0rQk78/g0Y/9Qang+ulsajWzJzsxH6PehIV9yV8vE3ffwPNR6c72QKvpLTx//vknq1evJigoiKNHjxIcHMzx48dp06ZNRcYnhKjGZsyYgUqlMr+eO3cuHTp0YOzYsTg4ONCyZUtiYmJKLR8VFcXJkyfN01J36tSJp556qthxwcHB7Nq1i3feeQcHBweaNm3KhQsXzPu9vb3Zvn07K1aswMLCgpEjRxaro0uXLhw8eJAxY8bg6OhIkyZN0GplvIS4N9OaD8JBY4PBaOSLc5vI0eczOuAF/OzqYMJEct4N5p/9AYBaFg6826Qfk46vAGDhuR/5MOA11EoVSXnpfPr/ExgIUVEOz49Dl2VAoYLAN+qhsVVT7zEXji+JJ2p8DEq1gqC366NQKMhP13Hiq3jaTmoIgD7fQNqJLJoNu7ulCIS4FwrTP5tqbmPUqFG8/fbbNG3alCFDhvD1119z5MgRdu/eXeKXAyGEEH9LTEys6hDEffLamXlVHUKlWNtkfFWHIO6DOanjqjqESjHBbX5Vh1DhvLwqfuyTz+K5FVr/pbffrdD6S6Ms64GZmZk0bdoUAIVCgdFopGXLlhw6dKjCghNCCCGEEEKIe1HmLm0uLi6kpqbi5uaGp6cnBw8exN7eXtagEEIIIYQQojqo6evwPP/881y9ehU3Nzf69u3L/Pnz0ev1DBkypCLjE0KIaqF/TPXvbgGwrmn17z4jXb3Ew6QmdPUS4k7KnPB07drV/O+WLVvy9ddfo9frsbKyqoi4hBBCCCGEEJVIUU1naSvzGJ5jx44VGXSrVqtJT0/n+PHjFRKYEEIIIYQQohKZKvinipQ54Vm5ciXW1tZFtllZWbFy5cr7HpQQQgghhBBC3A9l7tJ28+ZNnJ2LLhbl7OxMRkbG/Y5JCFGJQkNDmThxIt7e97Y2wqVLl0hMTOTRRx8t9ZgLFy6wfv16UlNTsbOzw8rKipdeeomAgIByxXHx4kW2bt3K6NGj7ymeh9WL9TrxjFcHALYm7mNjwi4G+/agl1d7buoKF1xdfvE39l0/U6zsd49+QK6hAKPJiMFk5K0DX1Rq7EIIIURlK3PC4+7uzsmTJ2nWrJl526lTp3Bzc6uQwIQQD5dLly5x6NChUhOM+Ph4Zs+ezciRIwkODgYgOTmZS5cules8BoOBhg0b3jbZKUs8DytfWw+e8erA8ANfoDcZ+Cz4TfamnQZgY0IU38fvvGMdYw8v4aYut6JDFUIIIR4IZU54XnrpJebOnUu3bt1wd3cnJSWFiIgI3n777YqMTwhRRcLDw4mJiUGv12Nvb8+IESOoXbs2N2/eZOHChebW3ebNm/Piiy/y/fffk5eXx4QJE2jatClvvPFGkfo2b95Mt27dzMkOgIeHBx4eHubXe/fu5auvviIjI4Nnn32Wnj17AoWtUI8++ignT57E29ubkJAQ1qxZw+zZs8sVT79+/XjllVc4cOAAWVlZvPXWW5w4cYKjR49iMBgYO3YsdevWJSMjgy+++ILc3Fx0Oh2tWrXi9ddfB+DAgQN89913KJVKjEYjb7zxBoGBgRX3i/gf3rZunM68TIFRB8DRG7F0rt280s4vhBCi+qqukxaUOeFp27YtkydPZseOHRw+fJhatWrx4Ycf4ufnV5HxCSGqSO/evRk4cCAA27dvZ+3atYwZM4Zdu3bh7u7OlClTAMjOzsbOzo6XX36ZQ4cOMX58yVP2xsXF0aFDh9ues6CggJkzZ5Kamsr48ePp2rWreSbIvLw8Zs2aBRS2Lt9S3nhsbGyYNWsWe/fu5bPPPmPMmDH079+fn376iU2bNjF69GhsbGyYOHEiVlZW6PV6Zs6cydGjRwkODmbDhg289dZb+Pv7YzQayc/Pv4u7e/fispN5s+FTOKhtKDDq6ODahLOZV8jU5fJC3Y708GjN2awrLD6/hWx9XrHyJmBO8DBMwJare/klcV+lxi+EEEJUtnKtGurn5ycJjhA1xNGjR/n999/Jz8/HYDCYt/v7+7N161bWrFlDQEAALVq0uG/n7NixIwBubm7Y2dlx/fp16tSpA0BISEiJZcobz60ubr6+vigUClq3bg1AgwYN2L9/PwBGo5E1a9Zw7tw5TCYTGRkZXLp0ieDgYAIDA1m9ejXt27cnODj4nsc+lVd8birrL0Uwp+Uw8g1aLmQlYjQZ+enqHsLj/sAEvNHgSd5u9CyfxWwoVn7UoUWkFWTipLFjbsthxOde43hGbKVegxBCiAdUTVx4dNOmTfTp0weA77//vtTjXn755fsblRCiSl27do3Vq1cza9Ys3NzcOHv2LAsXLgQKE4zPPvuM48ePExUVxebNm5kxY8Yd6/T19eXChQu0a9eu1GM0Go3530qlskiiVdqaX+WNx8LCwlx/aef75ZdfyMnJYebMmVhYWPDVV1+h1WoBGDx4MPHx8Zw8eZIFCxbQq1cvunfvfsfrv59+TdrPr0mFydmbDZ/iWv5Nbmizzfu3Ju5jVot/lVg2rSATgAxdNtHXTtLUoZ4kPEIIIaq1205Lff369SL/Lu1HCFG95OXloVarcXJywmg08scff5j3paamYm1tTceOHRk0aBCxsbEYjUasra3JzS19IPxzzz3H9u3bi6zdlZqayl9//XVPsd5tPLeTm5uLk5MTFhYWpKenc/DgQfO+xMREvL29efrpp+ncuTMXL168p/jvhpPGDgA3SydCajdne8phXCzszfs71W5GXE5SsXJWSgusVZbmf7dx8ScuO7lyghZCCPHgq6br8Ny2hWfo0KHmf8vkBEJUXzNmzEClUplfz507lw4dOjB27FgcHBxo2bIlMTExQOH4mV9++QWlUonJZGLo0KEolUqaN2/Oli1bSp20wMfHh4kTJ/Ldd9+xfPlyLCwscHBwuOcW4ruN53aeeuop5s+fz/jx43FxcSkyO+XatWtJTk5GqVRia2vL8OHD7yn+uzE9aCAOGlv0RgOfn91Etj6fDwJewM/eC5PJRHL+Dead2QhALQsHJjR9ifePrcTZwo4ZQYMBUCmUbE85wv70s5UevxBCCFGZFCaTqUz51pUrV7Czs8PJyYn8/Hx+/vlnFAoFzz33HJaWlhUdpxBCPNS6bn+3qkOoFOuajqvqEIQQolry8vKq8HM0WDC/QuuPHVs1fyNu26Xtn25N0Qp/T1d7/vx5li1bVmHBCSGEEEIIIcS9KPMsbampqXh5FXaX2L9/P/Pnz8fCwoKRI0dWZHxCCCGEEEKISlDj1+GxsLAgLy+PK1eu4OrqioODAwaDAZ1OV5HxCSGEEEIIISpDTU94OnbsyPTp08nLyzOvfh4XF4ebm1uFBSeEENVFTRnbkmVoU9UhVDh71cE7HyQeChraVnUIFU7HgaoOQYgqV+aEZ/DgwRw7dgyVSmWesUihUDBo0KAKC04IIYQQQghRSWp6Cw9QbAXzhg0b3tdghBBCCCGEEOJ+KnPC8+9//xuFQlHivmnTpt23gIQQD4fQ0FAmTpyIt7f3Pdc1a9YshgwZgoeHR7nKpaWlER4eTmxsLAqFAg8PDwYMGHBXMfXr14+GDRsya9Ys87YNGzawceNGJk6cSOvWrctdp7g3P2/SsO1XDSYT9Hhax/Mv6oi9oGTx51bodKBSwfDR+fg3MRYpd/yoipVL/l4u4Uq8kgmT8+nQUV/ZlyBqkA0bNWzZqsZkguee0dOvr47zF5TMXWBJXh54eJj46MN8bG2Ll/1rv4ovFlliNMAzvXQM6C/jo0XVqJGTFqxbt45XXnkFpVJJt27diuzLyMggIiKCzp07V2iAQojqb9KkSeUuo9frmTlzJo8//jjjxhWOj/nrr7+YMWMGCxYswM7Ortx1mkwmrly5Qt26dTGZTOzevZt69eqVux5x7y7HKdn2q4Z5i3JRa2Dq+9a07aDnm+WWvDqwgNbtDBzcp+KbZZZ8Mj+vSNmgYANffFW4jEJWJrw1yI6WrSXZERUnNk7Jlq1qli/JQ62B8e9Z8egjej6da0no8AJaBhv55Vc16763YOgb2iJlDQaY/4UlC+bk4VbbxJvDren0qB5fn2r6zVOIKnDbhKegoIAZM2YwatQounbtWmx/hw4dWLx4MX379q2o+IQQD5mdO3eaFyZ2d3dn2LBhODo6Mnr0aMaNG4ePjw8A//3vf4mNjeXtt98u0lo0depUGjZsyLlz57hx4waPPPIIr732WrHz7N69GxsbG5555hnztg4dOrB3717++9//0rdvX8LCwtBoNCQlJXH9+nX8/f0JDQ0ttbW6S5cuREZG8vrrr3Pq1Cnq1atHdna2eX9ubi7h4eFcvnwZnU5HYGAggwYNQqks85JmoowS4pX4NzFgaVX4OrCFgb3RGhRAbk7h7y8nR4FLrdt/KdwdpaF1W725HiEqwqXLCgKaGrH6//dZyxYGdkapSbiiJLhFYQtk2zYGxr9XPOGJOaOkrpeROl6F7+Xu3fRE71bj6yOtPKIKmEr++/iwu+1f6SFDhvDaa69x9uzZEve7uLhw+fLlCglMCPHwiY+PZ926dUyePJm5c+dSr149Vq1aBRQmEzt37jQfGxERUeKDFCjsqjZt2jQ+++wzduzYQVJSUrFjLl++TKNGjYptb9SoUZHPpYSEBCZNmsT8+fOJjY3lxIkTpcb/yCOPcODAAYxGI5GRkcXiCw8PJyAggFmzZvHZZ59x8+ZNduzYcbtbIu5SfR8jp0+oybwJBflwaJ+atFQFb75dwNfLLHnjVVu+/sqSgW8W3LaeXZFqQrrJF0dRsRr4Gjl2QsXNm5CfD3v3qUm9psDXx8iu3SoAIiLVpKQW/zJ5LU2Bm9vfiXvt2iaupVXPL51CVJU7juHx8/PDz8+v2B91rVbLvn378Pf3r7DghBAPl1OnTtGyZUucnZ0BeOKJJ5gwYQJQmPB88MEHvP7661y9epXc3FyaNm1aYj2PPPIISqUSGxsb6tSpQ0pKCp6enncVU9u2bbGwsADA19eX5ORkgoKCSjzWysqKRo0asX//fs6ePcuIESP45ZdfzPsPHjzIhQsX2LJlC1D4OVirVq27ikvcXr36Rvq8ouWj922wtDLh29CAUgW/bdHw5ogCHg3REx2p5su5VsyYk1diHenXFVyOU9KyjaGSoxc1jU99E6+/omXsBGusraGRnxGlEia9l8/nX1ryTbgFnTrq0WiqOlIh7qCa9qQs86QFu3btKvLa0tKSxo0b06tXr/selBCi+nF1daVevXocOXKE06dP06VLl1K7lmn+8a1AqVRiMBT/wlq/fn22bdtWbPv58+epX7+++fWtZOdWXUajsViZf+ratSsLFiygS5cuqFSqIvtMJhMTJkzA3d39tnWI+6PHUzp6PFXYOhO+0gJXVxPhKy0ZGlrYqtOxi54v55feVy16p5oOHfWoyzUfqRB355leep7pVThW7KvlFtSubaS+t4kFc/IBiE9QsPev4m/G2q4mUv/R8nPtmoLartX0W6cQVeSOHc/T0tJIS0sjNDS0yM+bb75J9+7dKSi4fXcCIUTNERgYyJEjR8jIyABg+/btRVpTunTpwo4dO9i9e3ep3dnKqmPHjmRnZxdpgfnrr784ffq0eXHkuxEYGEjv3r1LrKNNmzZs3rzZnDRlZmaSmpp61+cSt5dxo/BL4LUUBXuj1YQ8rsPF1cjJY4WJ6PEjKrzqlJ7ARu3QENJNJisQlePG/79fk1MU7Nyl5onuevM2oxFWr7Hg+WeLd69s0sRIwlUliUkKdDr4c4eajo9Kq6SoGgpTxf5UlTs+9woNDb1jJd9///19CUYI8XCZMWNGkVaQuXPn0r9/f2bMmIFCocDNzY1hw4aZ97dv356VK1fi5+eHq6vrPZ1brVYzefJkVq9ezW+//YZSqcTNzY3Jkyff1QxttygUCp599tkS9w0ePJhvv/3W3E1Po9EwePBg3Nzc7vp8onSzp1mRlalApYbhowqws4ORYwtYvtgSgwEsLCB0bOHT8/Nnlfz3Fw2jxhc+hEtJVpB2TUGzIPniKCrHhx9ZkZmpQKUyMe6dAuztYMNGNZt+Kmyx7tJZT6+nChPwtDQFs+daMnd2PmoVjBtdwLj3rDEaoddTOhr43r4lWogKU00bFxUmk+m2l/bee++h1Wrp0qULnTt3xsXFpdgxMkOREELcXmJiYlWHUCmyDG2qOoQKZ686WNUhiPtEQ9uqDqHC6ThQ1SGI+8TLy6vCz9Fo1oIKrf/8pLEVWn9p7tjC89lnnxEfH8/OnTuZMmUKdevWJSQkhPbt2xfpGy+EEEIIIYR4eFXXhUfL1DTj7e3NgAEDCAsLo1evXhw6dIhhw4YRGxtb0fEJIYQQQgghxF0r19w1ycnJnD59mvPnz+Pr63tP/eSFEEIIIYQQD5Bq2sJzx4QnOzub6Ohodu7cSX5+Pp07d2batGn3POBYCCFE9VMTxreMuvRxVYdQKb70mVzVIVS4mjC+Zezl6VUdQqVYUP/fVR2CeIDdMeF56623cHNzo3PnzuZFRpOTk0lOTjYf06xZs4qLUAghhBBCCFHxamoLj5OTE1qtlu3bt7N9+/Zi+xUKBYsWLaqQ4IQQQgghhBDiXtwx4QkLC6uMOIQQNVRoaCg6nY6lS5eap7iPjIxk8eLFvPHGG/Ts2ZOYmBjWrVtHZmYmBoOBgIAABg4caB5HOHXqVK5cucKiRYuwsrIyb3v22Wdp3bq1+VwLFizg5MmTfPXVV6jVf3/8JSYmsnbtWi5fvoydnR0ajYZnn32Wdu3aAfDnn3/y66+/YjKZMBqNdOnShd69e8uU/OKepW2L50ZUIpjAuYsXrj28Abj+ZwLXt19BoVRg36IWHv0aFSubdeI6SevOgdGEc4gXtXv5VHL0oqa5ti2B6zuTwGTCpYsXbk/WK9z+xxXStl9FoQSHFrXwetmvWNn4lTFkHr2O2sGCJjPbVXboooyq6yxt5Zq0QAghKoKzszNHjx6lVatWQGHC4+vrCxR2oZ07dy7jx48nICAAo9FIeHg4CxYsYMqUKeY6LC0t2bJlCy+99FKJ58jOzub48eN4eXlx8OBBOnToAMCNGzf46KOPGDBggHlB0YyMDI4dOwZAVFQUv/76Kx988AGurq5kZ2czZ84cTCYTL774YoXdE1H95V/J5kZUIg2ntEWhVnBp/lHsW7iiS88n88g1/Ka3R6lRos/UFitrMppIXHMW33dbonaxJHb6AeyDXbGqI5MJiYqRdyWb6zuT8P93axRqBRfnHccxuBba9AJuHkmj8Yy2KDVKdCW8XwFcOnni+nhd4pfHVHLkQpRxWmohhKhIXbt2JTIyEoCUlBQKCgrw9i580r1p0ya6detGQEAAULjQ8euvv05iYiIxMX//4ezduzfbtm0jMzOzxHPs2rWLVq1a8eSTTxIREWHe/vvvvxMYGEhISIh5m5OTE126dAFgw4YNDBw40DxRi52dHUOHDuXHH39Ep9Pdv5sgapyCpBysGzigtFShUCmxbexM5qFrpEdcpfbTPig1hX+i1Q7F17zLi83E0s0aCzdrlGolju3cyTqSVtmXIGqQgsRcbP7xfrVr7ETGoWtc33EV917e5verpoT3K4BdYydUtvKcXVQNSXiEEFUuMDCQhIQEsrOz2blzZ5HkIz4+nkaNinbnUavV+Pr6cvnyZfM2FxcXQkJC2LRpU4nniIiI4LHHHqN9+/acO3eO9PR0AOLi4orVf0teXh6pqanF9tetWxeVSkVSUtJdXa8QAJZ17Mg9l4E+W4exwEDW8TR06flok3PJOZfBxRkHiJ19iNzY4km87kY+Ghcr82u1iyW6GwWVGb6oYazq2pLzj/dr5vHr6K4XkJ+cR/a5m5ybfpDzsw6X+H4VoqpJwiOEeCA88sgj7Nmzh927d9OpUyfzdpOp7B2Ke/fuze7du0lLK/qkOy4ujpycHAIDA7G0tKR9+/bs3LnznuJVKBT3VF4IKy9bXJ/24dLcI1yafxRrb3sUSgUmowlDjo4Gk9vg0c+PhCUnyvX/gRAVwcrLFrenvbk45ygX5x3D2tsOlAowmjBk62g0pTVeL/txafEpeb8+zEwV/FNFpG1RCPFA6NKlCx988AFNmzbF3t7evL1+/fqcP3/ePIEAgF6vJy4ujmeeeaZIHfb29vTs2ZMNGzYU2R4REUFOTg4jR44EQKfTYW1tzQsvvICvry8XLlwoMSZra2vc3Nw4f/48wcHB5u1XrlxBr9fj4eFxr5ctajiXEC9cQrwASN54AY2LFZqkHBxa10ahUGDTwBEUCgxZuiJd2zTOVujS882v9ekFaJwtKz1+UbPU6uJFrS6F79fEjRexcLaiICkXxzaF71fbBg6goNj7VTw8quukBdLCI4R4ILi7u/Pqq6/St2/fItt79+7Njh07OH36NABGo5Fvv/0WDw8P87ief+rVqxfHjh0jJSUFKExuoqOjmT17NmFhYYSFhbFs2TIAYmJi6NGjBydPniQ6Otpcx82bN80tQH379mXNmjXmVqPs7GxWrFhB7969sbCQP+ji3tyakEB7PZ/MQ9dw6uCOQ6va5Jy5AUBBci4mvRGVvaZIOWtfewpSc9Fey8OoN3Jzfwr2LWVBcFGxdP94v948mIZTBzccW7mSHVP4fs1PzsVkMBV7vwpR1aSFRwjxwOjevXuxbV5eXowfP55169aRlZWFXq8nICCA8ePHl1iHlZUVL7zwAqtWrQLgwIEDeHh4FGuN6dy5MxEREbz99ttMnTqVtWvX8t1332FpaYmVlRW9e/cGCidU0Gq1zJw5EwCDwUBISAh9+vS5j1cuaqr4Rccx5OhQqJR4DWiMykaDU2cvrq6M4fzkv1ColNR9MwCFQoHuRgFXv47BZ1xw4fGvNebSvCOYjODc2VNmaBMV7tKik+izdShUCuoObITaVoNLiCcJK89w5sP9KNQKvN9san6/xn99hobjWhSWXXKK7DOFY4BOjd2DR28fc2uReIBU0xYehUk6WgohRIVLTEys6hDEfTLq0sdVHUKl+NJnclWHIO6DsZenV3UIlWJB/X9XdQgVzsur4hPEJlMXVGj9Z6aOrdD6SyMtPEIIIYQQQohq28IjY3iEEEIIIYQQ1Za08AghhBBCCCGq7SxtkvAIIYQQ5aA1qKo6BHGfHC3oUdUhVDgLZYeqDkGIu3L48GG+//579Ho9dnZ2hIaGYm1tzaJFi0hOTkatVuPp6cmwYcNwcHC4bV3SpU0IIYQQQgjxwCw8mp2dTVhYGO+88w7z5s3j8ccfZ/ny5SgUCp577jm++OIL5s2bh7u7O2vXrr1jfZLwCCGEEEIIISpcTk4OqampxX5ycnKKHJecnIyjo6N5ZrpWrVpx7NgxjEYjgYGB5uMaNWpkXifvdqRLmxBCCCGEEKLCx/Bs3bqVjRs3Ftvet29f+vXrZ37t5eVFRkYGFy5cwM/Pj127dgGQlpZm7r5mNBr5448/aN269R3PKwmPEBUoNDQUnU7H0qVLUSoLG1QjIyNZvHgxb7zxBj179ixzXZGRkRw6dKjUBTcrSlmuYdu2bWi1Wp555pn7eu7s7GzeeustunfvzpAhQ8zbN2zYQH5+PgMHDrztfQkLC2Pnzp3MmzePevXqAZCamsqoUaNo164d48eP5+LFi2zdupXRo0ff19iFKIsbf17mZtQVABw718X5ifqk/XSBm7uuora3AKDWC37YBdUuU1lRdXZuNvDXb0ZMJnjkKSVdXlBx9aKJH740oNOaUKoU9B2ppH7j4p1r9v9h5I/1BgCeeFVFuycezA44yb9f5VpkMgC1u3jg0bNO4fZtV0ndnoRCqcCxhQver/gWKVdwvYDYZWfR3dSiUCio3dUDjyfrVHr8ogwqOOHp1asXXbt2Lbbd1ta2yGsbGxvGjBnD6tWr0el0BAcHY2tri0r19xjKVatWYWlpWabvUpLwCFHBnJ2dOXr0KK1atQIKkwVfX987lHqw3OkaevSomIG/0dHR+Pv7s3v3bgYMGIBaXf6PLF9fX3bu3Mnrr78OFMbu4+Nj3t+wYUNJdkSVKLiaxc2oK3h/2AGFWsHVzw9j+/+JjfMT9XF50qfcZS3cbSopevFPSZdM/PWbkbFfqFFp4KsPDQS0N/HzSgNPvqakaVslp/cb2bLCyMg5RZOZnCwTv681MO5LNQpg3ig9zToosLFXVM3FlCL3Sg7XIpMJmBqMUq3k7JyTOLV0QXu9gIzD6TT7uBVKjRJdprZYWYVKgferDbD1scOQp+fkv4/i2MwJ6zq2JZxJVGe2trbFkpvSBAUFERQUBEBGRgZbtmzB3d0dgPDwcJKTk5k4caL5YeztSMIjRAXr2rUrkZGRtGrVipSUFAoKCvD29gZAq9UycuRIPv30U5ydnYHCJxZOTk706dOnTPVnZGSwfPlyUlJSMJlMPPfcc3Tp0oWoqCj27dvHhAkTADAYDLz99tvMmDEDNzc3Nm/ezL59+zAajTg7OzN8+HCcnJzKfQ1QvMUlOjoaW1tbEhISsLW1Zfz48ea6y3PeiIgIXn/9dTZv3syBAwd45JFHynRP/umRRx4hIiKC/v37o1Ao2L17N927d+fcuXMAnDp1ijVr1jB79mxSU1OZNGkS3bt358iRIxQUFDBixAiaNGkCFM4Y8+OPP6LValGr1QwaNAh/f/9yxyQEgDYpB6sGTigtC59YWvs7k3045Z7Kujz1cD1MqS5S4k3Ub6zAwqowSfFrruD4biMKID+38Jj8HHCsVbzs2YMmGrdUYvv/CU7jlkrOHDTR6rEHK+HJT8zFtqE9qv9/z9k3ceTGwTRy4rLxfKYuSk3hl06Ng0WxshZOFlg4FW5XWaux9rJGe0MrCc+D6AGaljojIwMnJyeMRiPr16/niSeewMrKinXr1hEXF8f777+PRqMpU10PZpupENVIYGAgCQkJZGdns3PnTkJCQsz7LCws6NKlC3/++ScA+fn57Nmzh8cff7zM9X/99dfUq1ePuXPnMnnyZNatW0d8fDzt27fnzJkzZGZmAnDkyBG8vLxwc3MjKiqKlJQUZs6cyaeffkqrVq0IDw+/q2soycWLFxkwYADz58+nTp06/PbbbwDlOu/ly5fJzs6mWbNmdO3alYiIiDLfk3+ysrKiUaNGHDt2jFOnTlGvXj3s7e1LPT4rKwt/f38+++wz+vbta579JTk5mf/85z9MmjSJTz/9lOHDh7NgwYK7ikkIAAsvO/LO38CQrcVYYCDnRBr6G/kAZOyI59JHe0j++iSGHF25yorK5+mjIPaUiZxME9p8E6cPmMi4Bi8MV/HzCgPTXtfx8woDvYYUn9L85nUTTv/osejkWrjtQWNdx5ass5nosnQYCgxkHEun4HoB+cl5ZJ3L5NTUo8TMPEZ2bNZt6ym4lk/u5RzsGpb+OSwEwHfffcfYsWN55513UKvV9O/fn4SEBDZv3kx6ejqTJ09mwoQJzJkz5451SQuPEJXgkUceYc+ePezevZuPP/6Y2NhY874nn3ySjz76iD59+hAVFUVQUBCOjo5lrvvEiRMMHDgQKOx61rJlS06dOoW3tzdt27YlOjqap59+msjISHO/2YMHDxIbG8vEiROBwoF/Nja37wpzu2v4X40bN8bV1RUAf39/jh8/Xu7z7tixg5CQEBQKBe3bt2fVqlWkp6fj4uJS5ntzS9euXfnzzz9Rq9V07dqV7OzsUo+1srIyD4Bs1KiROSE7duwYKSkpfPTRR+ZjjUaj+QmUEOVl6WWHS08frsw/hNJShWU9e1AqcOpaj1rPNgTg+uYLXNtwFo8hzcpUVlQNd28F3V5SsfQDPRZWCuo0VKBUwu5fjPR+S0WLTkqORBn5boGBt2c/nF+9rOvY4PVMXc7OOYnKUoltfVsUSgUmgwl9to6Aj1qQE5vNhUUxtJjXFoWi+PvRkG/g/JcxeL/WAJX1w3kfqrsHaeHR4cOHF9tWr149NmzYUO665N0mRCXo0qULH3zwAU2bNi3WuuDq6kqDBg04cOAAv//+O2+99dZ9O2/Xrl35+uuv6dy5MzExMYwaNcq8r0+fPnTr1u2+XMP/+mcTs1KpxGAwlOu8er2e6OhoNBoNUVFRQGGXvMjIyDJ39funwMBAVq5ciV6vZ8SIEebZXsoSu9FoBMBkMhEcHMzIkSPLfX4hSuPYuS6OnesCkLbpPGpnS9SOln/vD6nL1YWHy1xWVJ0OPZV06FnYcWbr1wYcXWHr10ZeGFH4VSu4s4LvPy/+bdKxloILx//enpEGfkEPZvJau4sHtbt4AJDwwyUsnC3IT8rDpY0rCoUCu4b2KJQK9Fm6Yl3bjHoj5xeeptYjtXFp61oV4YsaTLq0CVEJ3N3defXVV+nbt2+J+5966ilWr16NWq0u95iQ5s2bs337dqCwv+uRI0do1qzwaXCTJk3Iy8tj3bp1tG3bFkvLwi9Ebdq0Ydu2beaWDp1Ox6VLl+7pGsqirOc9cOAAXl5eLF26lLCwMMLCwpg8eTKRkZF3dV6FQsGgQYMYNGhQkRleyqNFixYcPXqUhIQE87YLFy7cVV1C3KLPLABAdz2PrMMp2Lf3RJ9RYN6ffTgVyzolP2AoqayoOlkZhUnLjVQTx3cbaf2YEodacPH/k5nzR03U9ipernEbBWcPG8nNMpGbZeLsYSON2zyYCc+tCQkK0vK5cTCNWo+44dy6FpkxGQDkJeVi0htR2xcdV2EymYhbeR5rLxs8n6pb2WGL8nhAFh6936SFR4hK0r1791L3BQQEoNFo7jjb2ZEjR4o08Xbt2pUhQ4awbNky3n33XUwmE/379zdPwQyFLTPff/8906dPN28LCQkhMzOTqVOnAoV/jHr06FFk9rLyXkNZlPW8ERERdO7cucg2f39/TCYTp0+fvqtzBwcH31W5Wzw9PRk1ahRLly5Fq9Wi1+tp3Lgxfn5+91SvqNmSlhzDkK0DlQL315qistGQtO4EBQmF4yA0rta4DwgAQJ+RT/I3p6k7plWpZUXV+XqGgdwsEyoVvBiqwtpOwcvvqPhxqQGjwYDaQkG/dwq/dsWfM7Jnq5FXxqqxtVfQo7+KBaP1APR4TWWewOBBc35hDPpsHQqVkvoDG6K2VeMa4k7cinOcmHQIhVpBg2GNUSgUaG8UELfyPI3fbUb2uUyu707Fup4NJycXtljWfckHpxbl76IsxN1QmEymB6i3nhA1U2pqKlOmTGHhwoXmVhhRvSQmJlZ1COI+eevirKoOoVJ81XBSVYdQ4Y4WVMyU+g+S9akdqjqESvFpvel3Pugh5+VVQhPhfRY4sWIn4zn16dgKrb800sIjRBX7/vvviYiIYMCAAZLsCCGEEELcZ5LwCFHFXn75ZV5++eWqDkMIIYQQNdyDNEvb/SQJjxBCCFEONaGrF8C/2lb/rnsrD2yr6hAqXHC9Ox8jRHUnCY8QQgghhBCiSmdSq0iS8AghhBBCCCGqbZc2WYdHCCGEEEIIUW1JC48QgtDQUKysrJgzZw5KpdK8beLEiXh7e7N06VK6dOlC06ZNb1tPWFgYDRs2pGfPnsX27d+/HxcXl9uuW7Nr1y62bNmCVqvF0tIST09PXn/9dYxGI5MmTWLlypX3dqFCiCrRe+hj9Hz1EUwmE5fOJDF/3Ld8sn4k1naFM1M61bLn7NHLzPjX8iLlgh5txLCpfcyv6zV0Z/bb37D39+OVGr8QNUY1beGRhEcIAUB+fj5RUVF07dq12L5/LnZ6tw4cOEDDhg1LTXi2b9/OL7/8wnvvvYenZ+GK8adOnSIjIwMHB4d7Pr8QomrU8nDk+Te68NZjM9Hm65i0dAhdnm/NhD6fm4/5cNm/+GvbiWJlj+85z8genwJg52TDquh/c3hnTGWFLoSoJiThEUIA8NJLL7Fx40Y6deqEWl30o2Hq1Kk8++yztG7dmvT0dBYtWkRGRgbu7u6YTCaCg4PNrTrx8fFMmzaN69ev4+/vT2hoKMeOHePgwYOcOHGC7du388wzz9ClS5ci59i4cSNvvfWWOdkBCAwMBAoXZgVYv349R44coaCggBEjRtCkSRMMBgOzZ88mKysLrVaLn58fw4YNQ61WExkZSXR0NLa2tiQkJGBra8v48eNxcnJCr9ezcuVKTp8+jYODAz4+PmRkZDB+/HgANm/ezL59+zAajTg7OzN8+HCcnJw4cOAA3333HUqlEqPRyBtvvGGOUwhRMpVaiYWVBr3OgKW1BenJN837bOysaNHRnwXj1t62js69gjkYcZqCfF1FhytEzSUtPEKI6qxBgwY0aNCAbdu28fTTT5d63KpVqwgMDOTFF1/k2rVrvPvuuwQHB5v3JyQkMGXKFJRKJe+99x4nTpwgODiYNm3alNrd7ebNm1y/fp1GjRqVet6srCz8/f159dVX2bVrF2vXrmXGjBkolUpGjx6Nvb09JpOJsLAwduzYQY8ehSuoX7x4kTlz5uDq6srSpUv57bffePXVV/njjz9IS0tj/vz5GAwGpk2bhouLCwBRUVGkpKQwc+ZMlEol27ZtIzw8nNGjR7Nhwwbeeust/P39MRqN5Ofn3+UdF6JmuJ58k/8s3U74/ulo87Uc3nmGw1FnzPsf6RnEsd1nyc2+/f9LIc+35sdlOyo6XCFENSQJjxDC7JVXXmHatGl069at1GNOnTrFG2+8AUDt2rVp1qxZkf1t27bFwsICAF9fX5KTkwkKCrrn2KysrGjdujUAjRo1Ijw8HACTycSWLVs4cuQIRqORnJwc8/kBGjdujKurKwD+/v4cP37cfB0hISGoVCpUKhUdO3YkJqawq8zBgweJjY1l4sSJABiNRmxsbIDCVqfVq1fTvn17goOD8fb2vudrE6I6s3O0psOTQQzpMJXszFw++OpfPNanDRGbDgLQ5fnW/L5+z23rcHZzwLeJJ4cipTubEBVJUdUBVBBJeIQQZl5eXrRs2ZJffvnlruv4Z7Jxq9vXnTg6OuLi4sKFCxdo0aJFicdoNJoS642OjubMmTNMnz4da2trNm3aRFJSUqnlDAZDma6jT58+JSZ+gwcPJj4+npMnT7JgwQJ69epF9+7dy1SnEDVRcOfGpMRf52Z6NgB7fjtGQJsGRGw6iIOzLY1b1mfGm8tvW0fIsy3Z89txDPo7f54IIcT/kmmphRBFvPTSS/z+++/k5eWVuD8wMJDIyEgA0tLSOHnyZJnqtba2Jjc3t9T9L774IuHh4SQnJ5u3nT59mgsXLty23pycHOzt7c317969u0zxBAQEEB0djcFgQKvVsmfP30+Y27Rpw7Zt28jOLvyCptPpuHTpEgCJiYl4e3vz9NNP07lzZy5evFim8wlRU127eoMmrXywtCp8+BDcyZ+E84X/n3d6Jpj9f55EV6C/bR1de7cm8qdDFR6rEDWeqYJ/qoi08AghiqhVqxadO3cutZVn8ODBhIWFER0djZubG35+fubuXrcTEhLC4sWL2bt3b4mTFjzxxBNYWFgwf/58tFotCoWC+vXrm6elLk2XLl04ePAgY8aMwdHRkSZNmqDVau8YT48ePbh8+TLjxo3D3t6eOnXqFIk1MzOTqVOnAoXd5nr06IGPjw9r164lOTkZpVKJra3tfZnBTojq7OyRy0RvPcqXv0/EoDdw8dQVfltb+IChy3Ot2RD2R5HjGwXV4+kBnfhiwnoA3Oq64OrpzIm9t3/4IYQQpVGYTKZqOh+DEKIiaLVa87iXGzduMGnSJP7973/j5eVV1aGVW15eHtbW1uh0Oj777DM6dOjA448/XiHnSkxMrJB6hago/2o7q6pDqHArD0yq6hCEKLPK+DvbYsyCCq3/2OdjK7T+0kgLjxCiXJKSkli0aBEAer2evn37PpTJDsCMGTPQ6XTodDqaN29e4hpEQgghRI1RTZtBJOERQpRL/fr1mTNnTlWHcV988sknVR2CEEIIISqYJDxCCCGEEEIIaeERQgghRM2h9/Wo6hCEEOK+kIRHCCGEEEIIgaKatvDIOjxCCCGEEEKIaktaeIQQD43Q0FA0Gg0ajQaj0UifPn3o2LFjuer47rvv+Ouvv3BwcGD69OnljiE1NZXjx4/TvXv3cpcVoqbq068dTz0bjMlk4lLsNeZ8soXAZnUZFtodtUbJ+bPJzJv9C0ZD8cfLT/RszmuDOgGwdnU0f/z3RGWHL0TNUU1beCThEUI8VMaNG4e3tzdxcXFMnjyZ5s2b4+DgcMdyBoMBlUrFli1bWLJkSZnKlOTatWv8+eefkvAIUUa1XO3p3bctb77+FVqtnsnTX6DbE80Y+EYI741Zy9WEdAb9K4QePYP479ZjRcra21sx4I3OhP5rFSZg8co32Lv7PNlZ+VVzMUKIh5IkPEKIh5Kvry/W1tZcvXqV5cuXk5aWhlarpWPHjvTp0wcobBF69NFHOXnyJN7e3iQlJaHT6Zg+fTotWrRgwIABREZGsm3bNgwGAzY2NgwdOtS8rtCPP/5IdHQ0SqUSS0tLpk+fzsqVK0lNTWXChAl4eHgwfvz4qrwNQjwUVCollpZq9AYDlpYa8vO06PUGriakA3DoQByvDni0WMLTpn0DDh2II+v/E5xDB+Jo274BEX+ervRrEKImqK5jeCThEUI8lE6ePIlOp2Pjxo28+OKLBAQEoNfrmT59On5+fgQFBQGQl5fHrFl/rxjfr18/Pv74Y6ysrIiJiWHv3r1MmzYNjUbDkSNHWLJkCTNmzCAyMpKDBw/y8ccfY21tTVZWFkqlkn/961+sWbOG2bNnV9WlC/FQuZ6Wxcbv/mLtf0ZRUKDj0IE4du6IYejbj+Pf2JNzZ5MIeawJtd2Kt7rWqm3PtdRM8+u01Cxq1bavzPCFENWAJDxCiIfK/Pnz0Wg02NjYMHLkSObPn09m5t9fiPLz87ly5Yo54QkJCSm1rkOHDnH58mU++OAD87bs7GwADh8+TI8ePbC2tgbA3l6+ZAlxN+zsrXikkz8D+oWRnZXPlBl9eLxHM2Z+9CPDR3dHo1Fz6EAsRmM1fbQsxMOkmv5vKAmPEOKhcmsMDxS23gDMmjULtbrkjzMrK6tS6zKZTDz22GO8/PLL9z9QIQQArdr4kJyUwc2MXACio84S0Lwu27edZFzoGgBat/Wlbj2XYmWvX8siqGV982tXN3uOH7lcOYELUQNV1y5tMi21EOKhZW1tTdOmTdm8ebN5W1paGhkZGWUq37p1a6Kiorh+/ToARqOR2NhYAFq1asW2bdvMSVVWVpb5nLm5uffvIoSo5lJTMmkaWAdLy8KHEi1b+xB/KQ0nJxsANBoVL7/2CL9sPlys7MF9sbRu2wA7eyvs7K1o3bYBB/fFVmr8QoiHn7TwCCEeaqNHj+abb74xTx5gbW3NiBEjcHJyumPZgIAAXnnlFT777DOMRiN6vZ4OHTrQoEEDunTpQnp6Oh9++CEqlQorKyumTZtG/fr18fLyYvz48eb/CiFKd+Z0IrsizrB41b8wGIxcPJfCrz8fYfDQLnR4tBEKpYItPx7i6OHClhv/xp4807sV8z/dSlZWPmtXR7No+RAA1n6zyzyBgRCiAlTTFh6FyWSqppcmhBAPjsTExKoOQYhyGdTv66oOocKt3jCkqkMQosxuzSBakVoNX1Ch9R9eOrZC6y+NtPAIIYQQQgghqm0Lj4zhEUIIIYQQQlRb0sIjhBBCCCGEqLaztEnCI4QQQohiasL4lu77l1V1CBXuz3bDqjoEIaqcJDxCCCGEEEIIGcMjhBBCCCGEEA8baeERogqFhoai0WjQaDQYjUb69OlDx44diYyM5NChQ1W6xktkZCTffPMNtWvXRq/XU6dOHYYPH46dnR2hoaFMnDgRb2/vKovvQb53Qoia5/UG7XnJpzUK4IfLh1lz8S/zvsF+j/Besyd59NfPyNAWXbi4nasP7zfvaX7ta+fKuwc3sj3pTGWFLoSZopquViMJjxBVbNy4cXh7exMXF8fkyZNp3rx5VYdk1rx5c8aPH4/RaGTBggX85z//YdCgQVUdltmDfO+EEDWHn70bL/m05uWdy9EZDSx75HV2Jp8jPicdD2sHHq3dkMTcjBLL7k+7RJ+IpQA4aqz57xOj2Z16sRKjF6L6k4RHiAeEr68v1tbWpKamFtsXGRnJtm3bMBgM2NjYMHToULy8vIiPj2fFihUUFBSg1Wrp3r07vXr1AuDPP/9k69atqNVqTCYTY8eOpU6dOiQmJvLNN9+QlZWFXq/n6aef5rHHHrttbEqlkmbNmnH48OFi+27cuMGqVatIS0tDq9XSsWNH+vTpA0B4eDgxMTHo9Xrs7e0ZMWIEtWvX5ubNmyxcuJCMjAygMLEaPHgwAJs3b2bfvn0YjUacnZ0ZPnw4Tk5OD+29E0JUfw3tXTl+4wr5Bh0AB65fortnU1Zd2M3EZj2Zd+oPFnV49Y719PAKYFfKeXM9QlS66tnAIwmPEA+KkydPotPp8PT05MqVK+btMTEx7N27l2nTpqHRaDhy5AhLlixhxowZ1K5dmylTpqDRaMjPz2fSpEm0aNGCunXrsmbNGj7//HOcnZ3R6XQYjUYMBgNffPEFo0ePpk6dOuTl5fH+++/j7+9PnTp1So1Np9Nx8OBBGjZsWGzfokWLePHFFwkICECv1zN9+nT8/PwICgqid+/eDBw4EIDt27ezdu1axowZw65du3B3d2fKlCkAZGdnAxAVFUVKSgozZ85EqVSybds2wsPDGT169EN774QQ1d/5zFTeCXgcR401BUY9Ie6NOJWRSDePxqTmZ3I2M6VM9TxVtxmrL+yt4GiFKJ1MSy2EqBDz589Ho9FgY2PD+PHjsbW1LbL/0KFDXL58mQ8++MC87VaCUFBQwPLly7l8+TJKpZIbN25w+fJl6tatS7NmzQgLC6N169a0atUKd3d3rly5wtWrV/n888/Nden1eq5evVril/YTJ04wYcIEABo3bkzv3r2L7M/Pz+f06dNkZmYW2XblyhWCgoI4evQov//+O/n5+RgMBvMx/v7+bN26lTVr1hAQEECLFi0AOHjwILGxsUycOBEAo9GIjY3NQ3nvhBA1R2x2GivOR7Oi4wDy9DrO3ExGo1QzzL8zb+5ZU6Y6XC3t8HdwY3fqhQqOVoiaRxIeIarYrXEopTGZTDz22GO8/PLLxfatX78eJycnQkNDUalUfPzxx+h0hV0h3n33XS5evMjJkyeZNm0aQ4cOxdXVFXt7e+bMmVOm2G6N4bldbACzZs1CrS76cXLt2jVWr17NrFmzcHNz4+zZsyxcuBAoTHg+++wzjh8/TlRUFJs3b2bGjBkA9OnTh27dupUpvgf53gkhapZNl4+w6fIRAMY0fZy0gmwe92zCj91GAOBu5cB/ur7FyzuXk1aQXax8zzqB/Jl0Br3JWKlxC1FENW3hkWmphXjAtW7dmqioKK5fvw4UtnrExsYCkJOTg6urKyqVivj4eGJiYgAwGAykpKTg5+dH7969CQoKIi4uDi8vLywtLYmKijLXf/XqVXJzc4ufuAysra1p2rQpmzdvNm9LS0sjIyODvLw81Go1Tk5OGI1G/vjjD/MxqampWFtb07FjRwYNGkRsbCxGo5E2bdqwbds2cyuMTqfj0qVLdxUbPNj3TghRvbhYFLYwe1o70t2rKT8lHKPzb3N4YtvnPLHtc1LyM3kx8qsSkx2AXnWb8+uVE5UZshA1hrTwCPGACwgI4JVXXuGzzz7DaDSi1+vp0KEDDRo04MUXX2TRokXs2LEDT09PAgICgMIv9osXLyYnJwelUkmtWrV47bXXUKlUTJw4kW+++Yaff/4Zo9GIo6MjY8eOvev4Ro8ezTfffGNuCbK2tmbEiBF4e3vToUMHxo4di4ODAy1btjQnFadOneKXX35BqVRiMpkYOnQoSqWSkJAQMjMzmTp1KlDYQtOjRw98fHyq5b0TQlQfX7Trh5OFDTqTgY+PbSVLl1/qsYFOXrzs04Z/H/0ZAC8bJzysHTiQdrmywhWiRNV1DI/CZKqmE24LIcQDJDExsapDEEL8j+77l1V1CBXuz3bDqjoEcZ94eXlV+DnaDZ5fofXv/2ZchdZfGmnhEUIIIYQQQsgYHiGEEEIIIYR42EgLjxBCCCGEEKLajuGRhEcIIYQQNVI/vyNVHYK4T+Zfq/4TyMz1+r6qQ3hoScIjhBBCCCGEqLZjeCThEUIIIYQQQkiXNiFuJzQ0FI1Gg0ajQa/X88wzz/D444/fdX39+vUjPDwcKyurItu///576tWrx6OPPnrb8hs2bMDNzY2uXbuWuP/KlSuMGzeOgQMH8swzz9x1nPdDWFgYDRs2pGfPnuZtWVlZTJ8+HYD8/Hxu3LiBp6cnAK1atcLT05NDhw6Z1765W3q9nv/85z/s2bMHjUaDUqmkWbNm9O/fn+jo6HKdY+nSpXTp0oWmTZuWeszWrVvp1KkTjo6O9xR3ea1YsYKzZ88Chb97d3d3NBoNAJ9++ilKpczfIoS4N2d/SefinxmYTNDwCSeaPOPC7nlXyUzUAqDLMaCxVfHUPN9iZROPZHN4VSomo4mGjzsR0KdWZYcv/iH212vEb7+OyQT1H3ehQS83AOJ+u0bc72kolArcWzkQ8HrxaaIv/pJK/I50FAqwr2dF8NveqCzkb0xVk4RH3Dfjxo3D29ub+Ph4Jk6cSMuWLXFxcbmv53j55ZfvSz0RERE0a9aMyMjIUhMeg8GASqW6L+crL3t7e+bMmQMULtK5Zs0aZs+ebd4fGRl5X86zePFitFots2fPxtraGoPBQEREBHq9vlz1GI1Ghg8ffsfjfv31V5o3b17pCc+bb75p/ndoaKj5vfpPVfn7FkI83DLiC7j4ZwY9PvVBqVYQOSOBOq3t6Di+jvmYw9+kYGFT/DPGaDBxaHkKj/27Hta1NGybeIk6be1wrGdZmZcg/l9mfB7x26/T6RN/lGoF+z65iHtrR/LStCQfvEmXOY1RaZQU3NQVK5uXriXutzQeW9AElYWSg/MvkbjnBvW6PkQJbDVdnlMSHnHfeXt7Y2dnR3p6Oi4uLly4cIGvv/6agoICLC0tGTJkCH5+fgAcOnSIH374AYPBgEKhIDQ0lPr165vrMhqNhIeHk5GRQWhoKMuWLTO3hmzYsIHExETy8vJISUnB3d2dcePGYWlpiZWVFRYWFiXGZzAY2LVrF9OnT+eTTz7hwoUL5njCwsJQqVTmeufMmcPmzZvZtWsXAA0bNuSNN97AysqqWMvMP1+HhYWh0WhISkri+vXr+Pv7ExoaikKhID09nUWLFnHjxg3c3NxQKBR3dZ/z8vJYsGABCQkJ2NraMn78eJycnADYvHkz+/btw2g04uzszPDhw837bklKSuLAgQMsWbIEa2trAFQqFd27d7/jOSIjI9m1axdWVlYkJyczatQovvnmG5599llat27Nn3/+ydatW1Gr1ZhMJsaOHcu+fftIT09n/vz5aDQa3nnnHfbs2WO+14mJiTRo0IDevXsTHh5OWloa7dq1Y8CAAQBs2bKFPXv2YDAY0Gg0DB06FB8fHwoKCggLCyMhIQG1Wo2npyfjxpVtYbOSft+RkZFs27YNg8GAjY0NQ4cONS/2Vpb7KoSoeTKvFFCrkTVqy8In+W6BNiTsyyKgd+EXXZPJRMKeLLpN9S5WNv1CPnYeFth5FP7N8u7kwJUD2ZLwVJHsqwU4+dmYf5e1mtqRtC+DjIt5+D3vjkpTuN3SUVNieZPRhEFrRKFSYNAasXQu+ThRuSThEffdmTNnsLe3x8fHB71ez7x583j77bdp3rw5x48fZ968eXz55ZekpqaydOlSpk+fjqenJzqdrkjLglarJSwsDDc3N955550SE4PY2FhmzZqFjY0NM2fOZNeuXXTv3p3nnnuu1PgOHz6Mp6cnHh4edO3alYiICHPCA3Dp0iWmTp2KlZUVR44cYdeuXcyYMQNra2vCwsLYuHEjr7/++h3vQ0JCAlOmTEGpVPLee+9x4sQJgoKCWLVqFU2bNuWll14iJSWFCRMmEBwcXL6bDFy8eJE5c+bg6urK0qVL+e2333j11VeJiooiJSWFmTNnolQq2bZtG+Hh4YwePbpI+bi4ODw8PLCzsyv3OQDOnTvHnDlz8PDwKFZuzZo1fP755zg7O6PT6TAajfTp04ft27cXa12JjY1l9uzZWFlZMXHiRNatW8cHH3yAwWBg5MiRdO/eHU9PT7p06cKzzz4LwPHjx1m+fDkzZ87k2LFj5sQMIDs7u1z38Z+/75iYGPbu3cu0adPQaDQcOXKEJUuWMGPGjDLfVyFEzePobcnxddcoyDKgslCQeDgbl4Z/d8m+djoPKyc19l7FH8Tlpuuwcf3765iNi5rr5/MqJW5RnH09K858l4Q2S4/SQknqkUwcG9qQk5RP+plsznyXhFKjIHBAHZz8bIqUtXaxoOGzbvw54jQqCwW1Wzjg1sKhiq7k7sgYHiHuYP78+ZhMJpKTkxk3bhxqtZr4+HjUajXNmzcHICgoCLVaTWJiIqdPn6Zly5bmsSm3xgDd8sknn/Doo4/eNnlp0aIFtra2APj5+ZGSknLHOCMiIujSpQsAISEhvPfeewwaNMjcItShQwfz2KETJ07w6KOPYmNT+KHWvXt3vv766zLdj7Zt25rr9PX1JTk5maCgIE6dOsUbb7wBgLu7O82aNStTff+rcePGuLq6AuDv78/x48cBOHjwILGxsUycOBEobCW7Ff/9OgdAkyZNSkx2AJo1a0ZYWBitW7emVatWuLu7l3qOFi1amOPz9vamfv365veCl5cXKSkpeHp6Ehsby48//kh2djYKhYKkpCQA6tevz5UrV1ixYgWBgYG0atWqXNf4z9/3oUOHuHz5Mh988IF5/60E6n7eVyFE9eJY15KmvWsRMT0etaUSZx8rFMq/H9Jdjs7Eu5N9FUYoysq+rhV+z7vx18cXUVkpcfCxRqEEkxG02QY6zWxExsVcDi64xOOLmhZ5GKvN1pN84CaPhwWgsVFxcH4cV6LSqRtyf7v3i/KThEfcN7ee3O/du5fFixfTuHHje6ovICCAY8eO8eSTT2JpWXLT/j8TJKVSiVarvW2dGRkZHDt2jLi4OP7zn/8AUFBQwL59++jcuTNAsYkSSqNSqTAajebXOl3R/rz/7FKnVCqLHHs//O+1GwwG8+s+ffrQrVu325a/lYRlZ2eX2spzu3Pc7j69++67XLx4kZMnTzJt2jSGDh1Ky5Yty3SO/71vBoPB3FI4bdo0GjRoQHp6unnMkLu7O/Pnz+fEiRMcPXqU9evXM3fu3FK7NP6vf16HyWTiscceK3WsWFnuqxCiZmrY3YmG3Z0AOLb2Gja1Cr9iGQ0mEvZl0XOOT4nlbFw05Kb93bshN12PdS3pBlWVvLvVwrtbYXfEmHWJWNeyIPtqAZ7tHFEoFDj72aJQgjbLgKXD31+l005kY+NmYd7m2d6J9HM5D1fCU01beGTaCHHfPfLII7Ro0YLNmzfj5eWFXq/n5MmTAJw8eRKDwYCXlxctWrTgyJEj5if1Op2OvLy/m/H79etH8+bNmTlzJrm5ufcltqioKNq3b8+SJUsICwsjLCyMESNGEBERUeLxzZs3Z8+ePeTl5WEymdi+fTtBQUEAeHh4cPHiRQBu3LjBqVOnyhRDs2bNzOdLTU0135v7pU2bNmzbts3cMqHT6bh06VKx4zw9PWndujXLli0z33ej0cj27dvJz8+/6/MbDAZSUlLw8/Ojd+/eBAUFERcXB4C1tfVd/S61Wi1Go9Hc2rRt2zbzvuvXr6NUKmnXrh2DBg0iMzOz3N3abmndujVRUVFcv34dKLwfsbGxQNnvqxCiZsq/WZi05FzTkfBXFvU7F3ZlSj6eg0MdC2xKSWJc/KzIStKSnaLFoDMRH51J3TaldzUWFe/WhAS5aVqS9t+kTicnPNo6knaq8PM/OzEfo96EhX3RSSisXTXcOJ+LvsCIyWQi7UQW9nXK9hBVVCxp4REVon///kycOJHnn3+e8ePHF5m04FZ3N09PT9566y0+//xzjEYjSqWS0NDQIuM7evfujYWFBTNmzODDDz+857giIiIYOHBgkW1t27Zl+fLlpKamFju+ZcuWXL58mcmTJwPQoEEDXnzxRQAef/xx5s+fz9ixY/H09CwyDuh2hgwZwqJFi4iOjsbNzY2AgIB7vKqiQkJCyMzMZOrUqUBhq0WPHj3w8fEpduzIkSP54YcfeP/991Gr1RiNRlq2bIlaffcfDUajkcWLF5OTk4NSqaRWrVq89tprADz11FMsWbIECwsL3nnnnTLXaWNjQ79+/Zg0aRJ2dnZ06NDBvC8+Pp5169aZz927d++7nh0wICCAV155hc8++wyj0Yher6dDhw40aNCgXPdVCFHzRM+5SkGWAaVKQZuh7ljYFn4Zjo/OpH6nouM4ctN17F+cTNfJ9QqPf9OdyBkJmIzQoJsjjt4yYUFVOjjvUuEYHrWC5v+qi8ZWjXc3F44uTiBy/BkUagUtQ71RKBTkp+s49lU87Sc1xLmRLV4dHImaeBalSoGDjzXe3R+iGdoAxf3tjPLAUJhM1XT+OSGEeIAkJiZWdQhCiP+xLH1EVYdQ4Ya5LKnqECrF/GtjqzqECje3xfcVfo5HX55XofXv+f7e1g+8W9LCI4QQQgghhJAxPEIIIYQQQgjxsJEWHiGEEEIIIcQDtQ7P4cOH+f7779Hr9djZ2REaGoqbmxuJiYmEhYWZZ5kdOXKkeYmT0kjCI4QQQpTD6ow3qzqESjHIaUVVh1Dhasr4lppgXO0FVR1C9fCADO3Pzs4mLCyMGTNm4OXlRVRUFMuXL+fDDz9k+fLlPPnkk4SEhBAVFcWyZcv46KOPblufdGkTQgghhBBCVLicnBxSU1OL/eTk5BQ5Ljk5GUdHR7y8vABo1aoVx44d4+bNm8TFxdGpUycAOnXqRFxcHJmZmbc9r7TwCCGEEEIIISq8S9vWrVvZuHFjse19+/alX79+5tdeXl5kZGRw4cIF/Pz82LVrF1C49p6LiwtKZWGbjVKpxNnZmbS0NBwcHIrVe4skPEIIUQqdTsdvv/3GU089hUYjK58LIYQQ96JXr1507dq12HZbW9sir21sbBgzZgyrV69Gp9MRHByMra3tXS+MLgmPEOK+2rt3Lz/++CMmkwmdToevr695kdEJEyYwc+ZMLCwsipQ5deoU06ZNo3///vTu3du8bc2aNcyePbtc5586dSppaWlYW1ubt7355ps0bty4xONzcnL4888/ef7554vtW7NmDY0aNZJkR1SY01syOPdHYVeMRk84EPisE5Fzk7l5tXCld22OEQtbJc8vqFesbPSXqVw5mIOVo4reC72L7RdCiHKr4BYeW1vbYslNaYKCgggKCgIgIyODLVu2ULt2bdLT080L1huNRm7cuIGrq+tt65KERwhx39y4cYMVK1bw6aef4urqislk4tKlS+b9c+bMKbWss7MzW7du5Yknnijzh2FphgwZQuvWrct0bE5ODj///HOxhCcnJwd/f39zP2Eh7rcblws490cmz8ypi1Kt4I/pSdRrY0vXdz3Mxxz4Og2NTcnDbf262dP0aUd2fZFSWSELIUSlycjIwMnJCaPRyPr163niiSeoXbs2Pj4+REdHExISQnR0NL6+vrftzgaS8Agh7qOMjAzUajX29vYAKBQKfH19zfv79etHeHg4VlZWxco6Ozvj7+/PTz/9RP/+/Yvt37lzJz///DMKhQJ3d3eGDRuGo6NjmWMzGo2sWrWKkydPotFosLKyYsaMGaxcuZKcnBwmTJiApaUlH3/8MVu2bGHPnj0YDAZ+++03hg4dio+PDwUFBYSFhZGQkIBarcbT05Nx48bdxZ0S/9fevcfnWP8PHH9d92lHM9sMwxjbzA42x5ySRFGSfBWKUMih+PoWIn0jleMoUhLyJVI5l68omVPONofNaZhZs81ss/N2n35/3F93+W1E2e7t9n4+Hh7c1319Ptf7urfrdr2vz0nAjSQ91QMd0ThYEpqaIY5cPpBL2LPVADCbzVzal0vX93xKLV8zxImcNH25xSuEsH8VaVrqNWvWcPbsWQwGA02aNLHeGwwdOpSFCxeybt06XFxceO211/60Lkl4hBD3Tb169WjYsCEjR44kODiYoKAgOnToYE2A/kyvXr1488036dat2y3bExMTWb16NTNmzKBatWqsWbOGZcuWMXbs2FLr+fLLL1mzZo319eTJk8nIyCA2Npa5c+eiUqnIzc0F4JVXXmHixIm3tD498sgjPP300wCcOHGCL774gg8++IDjx49TUFDAvHmW6U9v1iHEX+Huq+PYqgwKs41oHBSSjubj6e9gfT81rhAndw1uPro71CKEEPZp+PDhpW6vXbs2H3744T3VJQmPEOK+UalUjB8/nsTEROLi4jh8+DCbN28mMjISV1fXPy3v7u5O586dWbduHW3atLFuj42NpWnTplSrZnny3aVLF8aNG3fbclLRfwAATxdJREFUekrr0qbVajEYDCxatIjQ0FCaNWt22/IJCQls3ryZoqIiFEWxdsurV68eSUlJLFmyhJCQkDvWIcSfca+rI7SXOz9NTUbjqMLDzwFFpVjfv7QnF7+H//y6EUKI+6aCrMNzv8k6PEKI+87X15euXbvyzjvv4OzsTGxs7F2X7dGjB4cOHSI19f6OS3B2dmbu3Lm0bduWy5cv88Ybb5CVlVViP4PBQGRkJC+99BLTpk3jn//8J3q9pdtQjRo1mDt3Lk2aNOHkyZOMGzeO4uLi+xqneLAEdnbj6ci6dPugNjpXFVV9LBNkmIxmLh/Iw6+dJDxCCPF3ScIjhLhvMjIyOHfunPX19evXyc7Oxtvb+67rcHZ2pnv37qxbt866LSQkhOjoaGuCsmPHDuvMLXcrOzuboqIiIiIiePHFF3F2diY1NRVnZ2eKioowGo0AFBcXYzAYcHd3B2D79u23nI9KpaJVq1YMHDiQ7Oxs6dYm/paCLAMAudf0lgSngyXBST5eQNXaWly8pCOGEKL8KOay/WMr8k0qhLhvjEYj3377LdeuXUOn02E2m+nbt+8tExfcja5du7J161bra19fX1544QWmTZuGoih4e3szbNiw25b//2N4+vTpg4eHB59//jkmkwmj0UhERAQBAQGoVCrat2/Pm2++iYuLC++//z69e/fmrbfeokqVKrRu3dpaz82xRGCZBKFnz554eHjc07kJ8Uc7Z6VSlGNEpVFoPcwLBxc1AJf2luzOlp9hYN/Ca3R5pxYAuyJTSYktoDDbyLdDEojo60Fg5zvPVCSEEHdknz3aUMxmO+2sJ4QQFUhycrKtQxD3yX+yhtg6hHIx0H2JrUMQQvyBj0/pMzbeTx163H75iPth9+bbj78tS9LCI4QQQgghhKhQ01LfTzKGRwghhBBCCGG3pIVHCCGEuAfS1UuIiuez66NsHUKZm+azoewPYrLPJh5p4RFCCCGEEELYLWnhEUIIIYQQQtjtLG3SwiOEEEIIIYSwW9LCI4S4a/v372fDhg2YzWb0ej1+fn6MGTMGgG+//ZZevXqh0Vi+Vr755hvq1q1L27Ztb1tfVFQUR48e5Y033rjjcXNzc1myZAlXrlwBQKVSMXDgQEJDQ+/TmQkhhBAW57Zc5+LPWWCGBp3dCezuCcD5/2YQ/2MGikqhVnNXwgfUuOuylYW9ztImCY8Q4q5kZmayZMkSZs6ciZeXF2azmYSEBOv7a9eupUePHtaEp0+fPvft2GvWrMHT05MxY8agKAo5OTkUFRXdt/qFEEIIgBuJhVz8OYvOM/xQaRR2v59IreZVKLiu57fDOTwe2QC1VkXhDcNdl61SS2eDMxF/JAmPEOKuZGVlodFoqFKlCgCKouDn5wfAkiWWWasmT56MoihMmTKF5cuX07BhQ7p27YrBYGD16tUcP34clUqFt7c348bduvhYeno6c+bMoUePHiVahTIyMggODkZRFACqVKlijcNgMPD1118TFxeHwWDA19eXoUOH4ujoyN69e/nvf/+LwWD5j2nAgAGEhYVhMplYtmwZp06dQqvV4ujoyLRp0wDYtWsXmzdvRlEUatSowbBhw6hatSpRUVHs3bsXFxcXrly5gouLC2+88Qbu7u5l84ELIYQod9lJxXgGOKFxsIz6qB7szG8Hs8m4UEjjZz1Ray3bHauWvIW+Xdmgnl7ldwJ/l9k+m3gk4RFC3JV69erRsGFDRo4cSXBwMEFBQXTo0IEqVaowZMgQtm/fzvvvv4+jo2OJshs2bCAtLY2ZM2ei0WjIzs6+5f2EhAQWLFjAkCFDaNy4cYny3bp1Y+7cuezbt49GjRrRokULa3e2TZs24ezszPTp0wH46quv2LBhA/369SM8PJx27dqhKArJycm89957LFq0iMuXLxMbG8vcuXNRqVTk5uYCkJiYyOrVq5kxYwbVqlVjzZo1LFu2jLFjxwJw4cIFZs+ejZeXF4sWLWLr1q3069fvvn7OQgghbKeqrwMnv06jKMeAWqciJTqXag0dyb1axLXT+ZxcnYZapyL8pRp4+DvdVVlhe5LwCCHuikqlYvz48SQmJhIXF8fhw4fZvHkzkZGRuLq63rHssWPHGDBggLW7m5ubm/W9xMREIiMjmTBhAnXq1Cm1fFhYGJ9++imxsbGcOXOGuXPn0qNHD3r27MmRI0coKCjgwIEDgKXFp169egCkpqby8ccfk5GRgVqtJisri6ysLGrUqIHBYGDRokWEhobSrFkzAGJjY2natCnVqlUDoEuXLre0RDVq1AgvL8uTusDAQE6cOPFXPkohhBAVlFsdB4J6erJ7WiJqBxXu9R1RVAomIxTnGnlsuh8Z8YXsn5vEkwv9rT0P7lS2MpExPEIIAfj6+uLr60vXrl0ZO3YssbGxPPTQQ3+5Pg8PDwoLC4mLi7ttwgPg5OREixYtaNGiBQ0aNGD9+vX07NkTgCFDhpQ6gcHHH3/MgAEDaNWqFSaTiQEDBlBcXIy7uztz584lNjaWkydPsmrVKmbOnPmnsWq1Wuu/VSoVRqPx3k9YCCFEhdbgsWo0eMzy4OvEqlScPbXk/FZEnYfcUBQFzwAnUKAo21iia1tpZSsVO014ZFpqIcRdycjI4Ny5c9bX169fJzs7G29vb8CSkOTn55datlmzZreMpfljlzZXV1feeecddu/ezQ8//FBq+RMnTljrNpvNXLp0yXrc5s2b88MPP1BcXAxAQUEBSUlJAOTl5Vn327lzJ3q93nr8oqIiIiIiePHFF3F2diY1NZWQkBCio6PJysoCYMeOHTRp0uTePywhhBCV1s0JCfKu6fntYA6+D1fFp2UV0k7lAZCTXITJYMbBTX1XZYXtSQuPEOKuGI1Gvv32W65du4ZOp8NsNtO3b1/rxAXdu3dn6tSp6HQ6pkyZckvZnj17snr1asaNG4dGo6FmzZq3TEXt7OzM5MmTmTFjBoWFhfTu3fuW8pcvX+Y///mP9XXNmjV5+eWXrXV/9913TJw4EUVRUBSF3r17U6dOHQYNGsTs2bNxdXUlPDzcOtFBeno6n3/+OSaTCaPRSEREBAEBAahUKl544QWmTZuGoih4e3szbNiwsvg4hRBCVFC/zr5Cca4RRa3QbEhNdC5q/DpV4/Cnyfw49gIqjUKr12qjKAoFGXoOf3aVDm/73rZsZaLY6aQFitlsp2cmhBAVSHJysq1DEEIIu/XZ9VG2DqHMTQvbUObH6NRlRpnW/8tPb5Vp/bcjLTxCCCGEEEIIMNk6gLIhY3iEEEIIIYQQdktaeIQQQgghhBB2O4ZHEh4hhBD3zZTkibYOoczlGXW2DqFczK471dYhiPtgccYIW4dQLkKdZJykuD1JeIQQQgghhBCyDo8QQgghhBBCVDbSwiOEKHf79+9nw4YNmM1m9Ho9fn5+jBkzhm+//ZZevXqh0chXk4CkH69ydWcamKHWo97U6VYLgN+2pfDbTykoKgWPCHcavlCv1PJmk5ljk0+iq6YjbFxQeYZ+11K3/ca1qKsAVH+kJjW61rFs3/4b13Ykg0qhargHdfs2uKVc8fVCLi0+i/6GHhSo3rEWNZ6oXe7xiwfP2R8yuPBzFmYzNOziTlB3D/ZF/kZ2smXxZ32eEa2Lmm6RfiXKJkfncmxZGmaTmYaPuRPcy7O8w78r+zcVcXSbHrMZmj+hpW1PB76dkU96kmUKs8I8M44uCiM/cS1R9tcNRRzdrkdRoEY9FT3HOqHVKeV9Cn+djOERQoi/LzMzkyVLljBz5ky8vLwwm80kJCQAsHbtWnr06FFqwmM0GlGrbbuAm8lkQqWShvHykHcln6s702j2XigqjYoTM0/j2bQahdeLSD+aQYvpTVBpVRTf0N+2jqQfU3D2ccJQYCzHyO9eQVIe16Ku0nhKU1QaFedmn6RqU0+KrxeRdew6we83R6VVoc8uLllYrVCnXwNc6lfBWGAg7t/RuIW641TbpfxPRDwwshKLuPBzFo/PrI9KoxA17Qq1m7vS7o3fk+1jy1PROZf8rjYZzRz9IpVH/10XJ08t2yckULulK1XrOpTnKfyp1AQjR7fpGTbXBbUWVr6TT6NWWp5/y9m6z49LCnFwLpnEZKebOPB9Ma9/5orWQeGb6fmc2qWnaZfKM+5Psc98RxIeIUT5ysrKQqPRUKVKFQAURcHPz48lS5YAMHnyZBRFYcqUKSxfvhy1Wk1ycjIFBQXMnj2b+fPnk5ycjF6vp2bNmowYMQJXV1diY2NZvnw5AQEBnDt3DkVRGDNmDHXqWJ6Yf/311/z6669UqVKF4OBgTp06xYwZlgXWoqKi2L59O0ajEWdnZ4YOHYqPjw9RUVHs2bMHR0dHUlJSeP311zl8+DD79u1Dq9WiKArvvvsuLi5yk3m/5ScX4NbQFbWD5cbJvbEb1w5nkHspF98etVFpLYmnrqq21PJF14vIiMnE95naJP33arnFfS8KkvNxbVjFeo5VgqqSeSSd/Es51Ope13qOWreSN0s6dwd07pYbRbWTBicfZ4oziyXhEWUqO6kIzwAnNA6W303vEGeuHMwhuKelpcZsNnPl1xw6TfEtUTYjvhDXmjpca1p+n33bu5F0OLfCJTzXrpioE6hG52hJaOqHaYj7Vc/DvS1xms1mTu3RM/hD51LLm4ygLwaVxoy+CKp4ykOyikASHiFEuapXrx4NGzZk5MiRBAcHExQURIcOHRgyZAjbt2/n/fffx9HR0bp/QkICU6ZMsW4bNGgQbm5uAKxZs4ZNmzbx4osvApCUlMTIkSMZNmwY69evZ/369YwePZojR45w7NgxZs+ejU6nY+7cudb6T58+zf79+5k6dSparZbo6Gg+++wzpk2bBsC5c+eYPXs2NWvWJDc3ly1btrB48WJ0Oh0FBQXodJXnyV1l4lzHmUvfXkGfo0elU3E9JosqDVzIv1rIjTPZXPo2EZVWRYMX6uHWsGS3kviVl2nQzxdjBW3dAXCq7cJv3yVgyNGj6FTcOJ6Bi18VClMKyDl3g9/WJqBoVdTt1wCXBlVuW0/RtULyL+fi2vD2+whxP1T1deDE6msU5RhR6xSSj+Xi0fD37+trcQU4umuo4lPyezE/Q4+z1++3nc4eGq6fLyiXuO9FjXoqdqwwkp9tQqNTOHfEQG3/35OWy7FGXN0VPGuXbMVy81LRrpeOuYNy0OgU/Jup8W9WyW61pUubEEL8fSqVivHjx5OYmEhcXByHDx9m8+bNREZGlrp/69atb0mAdu/ezZ49ezAYDBQVFVGrVi3rez4+Pvj5WfqNBwQEcPToUQBiY2Np06aNtZ5HHnmEdevWAXD06FEuX77MpEmTrPXk5uZa/x0UFETNmjUBcHZ2pmbNmnzyySc0adKE5s2b4+TkdD8+FvH/uNR2ou7TPpyYcQa1gwrXes4oKgWzyYw+z0DTqaHkXMzj9ILztJoXgaL83r3k+rFMdFW1VPFzJSvuhg3P4s6cajtTs3sdzs0+icpBhXM9V1ApmI1mjLkGgt6NIO9iDhc+iSMsstUt53iTsdDIhQVx1H2xIWon+S9dlK2qdRxo3NOTne8lonFQUa2+I4rq99/Ly3uz8W1fuRPv6r5q2vfW8Z/J+egcFWo1UKGofz/Hk7v0hD1SestyQY6ZMwcMjF3miqOLwjfTCzj+SzHhneTBmK3Jt6MQwiZ8fX3x9fWla9eujB07ltjY2FL3+2Oyc/r0aWsrkJubG3v37uXnn3+2vq/V/v6fkEqlwmj886f7ZrOZRx99lD59+vzp8VUqFR988AFnz57l1KlTvPXWW0yaNIl69UofNC/+nlodvanV0RuAi98k4uChIz+5AK8WHiiKYmnZUUCfY0Dn9vvP/sa5HNKPZnI9JhOT3oyxwMjpT+NpPNLfVqdyW9UfqUX1RyxJe9J3l9BVc6Dwaj7uLbxQFAXXhm4oKgVDjr5E1zaTwcSF+XF4tPGmWksvW4QvHkANO7vTsLM7AMdXXcPZ03IraTKauXIwh66z65daztlDS366wfo6P8OAk2fpiYOtNX9CR/MnLNfbT/8ppOr/uqUZjWbifjUw/OPSu45eiDFQrYYKl6qW/YPbakg8bSS8U/nEfT8oJltHUDakY6EQolxlZGRw7tw56+vr16+TnZ2Nt7c3Tk5O5Ofn37ZsXl4ezs7OuLq6otfr2blz510dMyQkhAMHDlBUVITJZGL37t3W95o3b87u3bu5fv06YJmY4OLFi6XWU1BQQHZ2NsHBwTz//PPUrVuXK1eu3FUM4t7dnJCgML2I9MMZ1GjrhVdzD7JOZwOQf7UAs8GMtsqtz+4a9PWlzSfNaP1xM4Jf88c92K1CJjuAdUKCovRCso6k49HGG/fmnuSczgKg8Go+JoMJTZVbbwzNZjOXl57D0ceZmt3qlHfY4gFWeMOStORd03PlQA71HrZ0MU45kYdbbR3Ot0liPPwdyblaTG5qMUa9mcS92dRpUbI7akWQm2W5689KM3H6VwNhHS3ndDHaiFcdFVW9Sr99rlpd4cpZI8WFZsxmMxePG6le17aT7QgLaeERQpQro9HIt99+y7Vr19DpdJjNZvr27Yufnx/du3dn6tSp6HQ6pkyZUqJsREQEe/bsYcyYMbi5udG4cWPi4+P/9JgtWrTg7NmzvPnmm7i6uhIQEEBeXh4AwcHB9O3bl1mzZmEymTAYDLRu3ZoGDRqUqCc/P5/IyEiKi4sxm834+fnRqlWrv/2ZiNLFfnwOQ44BRaMQMMgPjYuGmh2rc3bxRQ5POI5Ko9BoeEMURaEos5hzX1wkbHzFnH76di7Mj8OQa0BRK/i+5I/GRYNXh5okLDnHqYlHUGlU+A1rhKIoFGcWkbD0HIFvhpF7Lpvr+9JwqutC7GRL183az/nhHu5h4zMS9m7v7N8oyjGiUiu0GFoDnYvlhj5xbzb12rvdsm9+hp5Dn6bQcXJdy/5DahA17QpmEzToVJWqvhVrwoKb1nxYQEG2GZUGnhrhiJOrpUvbyd16mvy/7mzZ101sml/IgKnO1A3SENJOw6IxeajUUKuBmhbdKmYr1m3Z6RgexWy20zMTQog/KCgowMnJCZPJxKJFi/Dw8KBv377ldvzk5ORyO5YtTUmeaOsQylye8cHojz+77lRbhyDug8UZI2wdQrlo7Gj/37F9/A+X+TG6tHu/TOv/ad/kMq3/dqSFRwjxQPjkk0+4du0axcXFNGjQgB49etg6JCGEEKJisdNmEEl4hBAPhHHjxtk6BCGEEELYgCQ8QgghhBBCCBQ7HekiCY8QQoj7ZorPdFuHIO6Tfq+usnUIZe7rz1+0dQhlbpjHZ7YOQVQmdprwyLTUQgghhBBCCLslLTxCCCGEEEIIsNOFRyXhEULYvTVr1pCTk8PQoUMBOHr0KDNnziQyMpK6desCMGPGDFq1asWqVatYunSpLcMVwu4890xznnq8CWazmUsJ6cz4eCshjWsz8uWOaDQqzsWnMmv+jxhNt3anaRpWl1FDfl+m3reOB+/N/p69B/58/S0hhLhJurQJIexeSEgIcXFx1tdxcXEEBAQQGxsLgMlk4syZMwQHB9sqRCHslpeHK/94uhnDxq5k8GvLUakVOj/SmEn/7MbUWd8z+LXlpF7L5onHQkuUjT55hSFj/sOQMf9h7NvfUFSk53B0QvmfhBAPCMVsLtM/tiItPEIIu9eoUSPS0tLIysrC3d2duLg4nnvuOaKioujatSuXLl3CyckJlcryDOjrr78mOjqaoqIiRowYQVBQEAC7du1i8+bNKIpCjRo1GDZsGFWrVrXlqQlRKahVKhx0GowGIw4OWgoK9egNJpKSMwE4Ep3Ai8+15r8/nbxtHR3bBXLw6CWKigzlFbYQwk5IC48Qwu7pdDr8/f2Ji4ujoKCAoqIiIiIiSEhIACA2NpaQkBAAcnJyCAwMZNasWfTu3ZtVqywzVSUmJrJ69WomT57MnDlzqFu3LsuWLbPVKQlRaaRn5LJmw2G+XfYq61eMJC+viJ17z6JWKzTyrwHAI+0a4e1V5Y71dHo4iB27T5dHyEI8uMzmsv1jI5LwCCEeCMHBwcTGxnLmzBmCgoJQqVTUqlWLK1euEBcXZ014HB0dad68OQABAQGkpKQAlqSoadOmVKtWDYAuXbpw8uTtn0YLISxcXRxo/5A/fYcsptfAz3B01NKlYzDvzfqB14Z0YlFkf/ILikuM3/kjj2ouNKhfnUPHEsovcCGE3ZAubUKIB0JISAhLly7F2dnZOlancePGnDx5kjNnzvDyyy8DoNVqrWVUKhUmk51OWSNEOWkRUY+rqTe4kV0AwJ5fzxPa2IefouJ4/a2vLfs0rU/d2tVuW8ej7RuxZ/95jEa5HoUoU7IOjxBCVF6BgYGkpaVx8ODBWxKebdu24eLigre39x3Lh4SEEB0dTVZWFgA7duygSZMmZR22EJVe6rUcgoN8cHCwPGNtFu7L5SvXca/qDIBWo+aFf7Ri09bjt63jsQ6NpTubEOIvkxYeIcQDQafTERAQQEZGBh4eHgA0bNiQjIwMWrdu/aflfX19eeGFF5g2bRqKouDt7c2wYcPKOmwhKr3T566ya985vvjoJYxGE/EX0/j+xxO8MqA9bVs2RFEUNm2NIfpEIgCN/GvQo1sEsxdsA6Cmtxve1asQc+qKLU9DiAeDnTaiKmaznbZdCSFEBZKcnGzrEIS4J/1eXWXrEMrc15+/aOsQhLhrPj4+ZX6MJ5q+W6b1b4ueWqb134608AghhBBCCCFsulZOWZKERwghhBBCCCGTFgghhBBCCCFEZSMtPEIIIYQowfn4b7YOQQhR3qSFRwghhBBCCCEqF2nhEUIIIYQQQkgLjxBCCCGEEEJUNtLCI4R4IDz//POsWLECR0fHe3pPCPH39XzlEbr2a43ZDAlnrjL3zdV8uGoETi6Wa87dy5WzMYlMG7q0RNmXJz1Nq07BKIqK6L1nWfTu+vIOX4gHh50uPCoJjxBCCCHKjGeNqjwzuAOvPjaD4iI9Ez8dyCNPN2Nc7wXWfd5eNJgDP50qUbZx8/oEt/Bj5OOzAJizbgxhrf05eSC+3OIXQlR+kvAIIR4Ymzdv5vDhwxQXF9OvXz9at25dYp//39rzx9fnz59n9erV5OfnA9CnTx+aNWtWrucgRGWk1qjQOWoxGIw4OOnISL1hfc/Z1YHwdgHMe3N1iXJmM+gctGi0GhQF1FoVWek55Rm6EA8UWXhUCCEqOZVKxezZs0lOTmby5Mk0btyYqlWr3lXZvLw8vvjiCyZOnEi1atXIzMxk4sSJREZG4uLiUsaRC1F5XU+9wbrFO1lx4F2KC/Uc232GY3vOWt9v80QTju87R35uUYmyZ44lcOLX86w68h6KAt//Zw9X4lPLM3whhB2QhEcI8cDo1KkTAD4+Pvj5+XH+/HlatGhxV2XPnj1LWloaH374oXWboiikpKTQsGHDMolXCHvgWtWJ1l1CGdzuPXKzC5j02WAefbY5OzccBeCRHs3YtmZ/qWVr1fOirn8NBjz0LgAfrhpJSKszxB66WG7xC/FAkRYeIYSwfyqVCpPJMmqzuLj4lvfq1avH1KlTbRGWEJVWRPtAUq9kcCMjD4BffzxBcHM/dm44ils1FxpF+DJtWMnJCgDadg3jTPRlCvMt1+KRqNM0blZfEh4hyorJPhMemZZaCPHA2LlzJwBXr14lISGBgICAEvvUrFmTCxcuALB3717r9sDAQK5evcqpU78PrI6Pj8dsp0/DhLhfrv2WRVCzejg4agGIaBdg7ZbW/qlwDu2IRV9kKL1schZhrRuiUqtQa1SEtW4oXdqEEPdMWniEEA8Mo9HI+PHjKSoqYujQoaWO33nppZdYvHgxzs7OtGnTxrrd1dWV8ePH89VXX/Gf//wHg8GAt7c3EyZMQFGU8jwNISqVszGX2fvf4yz475sYjSYuxCaxdfWvADzydDO+/fTnW/YPaFKXJ19sy8cTvmHvlhjC2wbw2fYJgJkjUWc4+HOsDc5CiAeEnT7EU8zyeFIIIcpccnKyrUMQ4p680nqWrUMoc0sPjLd1CELcNR8fnzI/RrfACWVa/9ZzM8u0/tuRFh4hhBBCCCFEhWrhOXr0KN98842163jv3r156KGHbrv9TiThEUIIIYQQQlQYZrOZTz75hKlTp+Lr68vly5d55513aNmy5W23q1S3n5pAEh4hhCgHNVUdbR1CuTivz7V1CGXux7xgW4dQLpYeWGHrEMR9UGhqbusQyoWH6kG4pb1S9oco4xaevLw88vLySmx3cXEpsaadoijWhb7z8vKoVq0aiqKUuv1OyQ5IwiOEEEIIIYQoB1u2bGHt2rUltvfu3Zvnn3/e+lpRFMaOHcvs2bNxcHCgoKCAiRMn3nb7n5GERwghhBBCCFHm6/A89dRTdOzYscT2/9+6YzQa2bhxI+PGjSMoKIgzZ84wb9485s2bd9vtjo6Otz2uJDxCCCGEEEKIMlda17XSJCQkkJGRQVBQEABBQUE4OjqSlJR02+3+/v63rU8SHiGEuINRo0YxYcIEfH19bR3KLVashe9+sHS3fq47DHwOzsTDlEjIL4DaNWH2O+B6m/9XjEZ4bhh4V4dFM8o39ru1eb2W7f/VYjbD40/qeeYfei7Gq/j0I0f0elCrYfjoQgKDTLeUOxGjZulnDtbXSYkqxk0upHW70he3tKXj3+dwensuZjMEP+5KeI8qbJuVTlayJdbiPBM6FxV9Pqp5SzlDsZmNk9Iw6s2YjGYatnWm1Qsl15US4n7buE7Hj/+7Lrs+pefZfxRzIV7Fgo8c0RcrqNUwakwBjf7fdXk8Ws3iz35/An8lUcVbkwto277iXZdr1mrYtEWD2QzPdDfQr7eBc/EKM+fpKChQqFXTzNS3i0r9fp02U8e+A2qquZv5+svC8g/+7zKb/nyfcuDp6UlGRgbJycn4+PiQlJREVlYWHh4epW6vWbPmHeuThEcIYXeMRiNqtdrWYZSZcxctyc63i0CrgaHjoWMbeGcWjBsJrSJg3RZYugbGvFJ6HSvXQoN6kJtfrqHftcuXVGz/r5bIT/LRaGHKW060bG1g+RcO9HupiOatjBw5qGb5Ygc+nFtwS9kmEUY+/txyYjnZ8OpAV5o2r3g3VdcvF3N6ey7/mFMDtUbhhynXqN/SkSfGe1n32bcsE51zycG4ai08M606WicVRoOZDW+l4dvckZqNHErsK8T9knBJxY//1fLRwjy0Wpj8ljMPtdazdLEjLw4opuVDBg4d1LB0sSOz5t765RLe1MjCxZbB6jnZ8PJLVWjWouJdlxcuKWzaouHLzwrRaOGf4x1o38bIh3N0jB6up1mEic3/VfPVN1qGv6wvUb57VwPPPatn6nS5Fv8Od3d3hgwZQmRkpHVCghEjRuDh4VHqdldX1zvWJwmPEKJSOXDgAGvWrEGn09G6dWvWrFnDihUreOmll+jduzfR0dGEh4fTo0cPVqxYweXLl9Hr9YSEhDBw4EBUKhWZmZksW7aM9PR0iouLadeuHb169QLg9OnTLFmyBIDg4GDrPP/79+8nKirKOjhSr9czatQoPvzwQ7y8vEoPtoxcvAxNGoPT/x6WtgyHn3ZDQpLl3wBtW8LQN0tPeFLSYNcBeHUALP+2/OK+F1cSVQQGGXH43zmGhBvZv1eLAuTnKQDk5Sl4eN65v/m+3VqatzRY66lIMpMMeAc6oHWw/KftE+rAxf0FNO2lBSzTssbvLeCZ96uXKKsoClony+dgMlpaeZTyC108oK4kqmgUZOTmUImwJgb27dGiKPC/SbPIzwPPP7ku9+zW0qKVgTsMubCZhMsqQhqbrLE1DTcStVtNYpKKpuGW1o+HWpgYPb70hKdpuInklEp8NVagdXgefvhhHn744bvefid3nsNNCCEqkKysLBYvXsyECROYNWsWOp3ulvd1Oh3Tp0+nb9++rFixguDgYKZPn86sWbO4ceMGv/zyCwCffPIJ3bp1Y/r06cycOZOYmBhOnDiBXq/no48+4uWXXyYyMpLGjRuTnp4OQKtWrbhy5QppaWmAJQEKCAgo92QHIMAPjp6AzBtQUAi7D1iSGP/6sGOvZZ9tO+FqWunlp38Cbw4HVQX+P7lefRNxJzVk34CiQjh6UEN6msKQkUV8udiBl/u58OXnDrw0pOiO9eyJ0tChU8mbkorAw1fL1bgiCrON6ItMXD5aSG660fr+1bginN1VuPtoSy1vMpr55p8pfPlSMnUjHKkhrTuijNWrbyL2pJrsGwqFhXD4oIZr11S8OrKQpYsdGdDXlSWLHBk05M5duXbv1NLx0Yp5XTbwMxFzUsWNG1BYCL8eVJN6TaFBfRO791l6DuyIUpOWVoG/QP8Ok7ls/9iItPAIISqN+Ph4/Pz8qFWrFgCdOnVixYrf1wr548wvR44cIT4+nu+//x6A4uJiPD09KSwsJC4ujuzsbOu+hYWFJCUlUbVqVRwcHAgJCQGgbdu2LF68GAC1Wk3nzp3Zvn07/fv3Z9u2bfTp06esT7lUDevDkBdgyJuWVp4gf1Cp4YMJ8MF8+GwFdGoH2lLuk3f+Ch7uENIIDkWXd+R3r249E736FvPuW844OJrxa2hEpYat32sZMqKIth0M7I3SsGCOI9NmF5RaR8Z1hcuXVDRtYSz1fVvzqKulaa8qfD/lGhoHFV5+WpQ/PIY8vzufgA7Oty2vUiv0+agmRbkmtk5P5/rlYjzr6W67vxB/l289E8/1LebtCc44Oppp4G9CpTKz5Xstw0YU0r6Dgd1RGj6a48T02aX3l824rnDpkormLStedzYAv3pmXuqr5/Vxjjg5mQn0N6FSweTxxUQu0LF0hZYO7QxoSn8OISooSXiEEHbjj1NSms1mxo0bR40aNW7Zp6DAcnM8ffp0NJpbvwIvX75cok5F+f0pXufOnZkwYQItWrQgLy+PsLCw+xn+Pen9lOUPwLzFUKO6ZUzO0kjLtktXYNf+kuWiT1mSnt0HobgYcvNg/Pswa3L5xX63Hu+m5/FulqfAK5bq8PIys2KpA0NHWVp12j1iYMHc2/eJ2btLQ+t2BjQV+H+64C6uBHex9D0/sDILV0/LE2ST0czF/QU8N7fGnYoD4OCqonaYA4nHCiXhEWXuiSf1PPGk5bpcvsQBr+omvlzqyPBROQA8/IiBjyKdblt+d5SWtu0r9nXZ4ykjPZ6yPCj59Ast3tXN1Pc1s2C25bsn8YrCvgN2Ok60AnVpu5+kS5sQotLw9/fn0qVLpKSkABAVFXXbfVu0aMHGjRsxmSx9rrOzs0lLS8PJyYnGjRuzceNG677p6elkZWXh4+NDcXExp0+fBizjhf64IrSbmxthYWF8/PHHPP7447ckQ+Xteqbl7+RU+GkPdO/8+zaTCRatgD49Spb71zCIWgs7voHIf8NDzSpmsgOQlWn5fK+lKuzfq6HDY3o8vEycOm650TgRrcan9u1nFNr9i5YOnSrmU+Sb8rMsN1U51wxc3F9AQAfLtE9JxwupVkeLq1fpd4UFN4wU5VrO3VBksu4vRFm7eV2mpSrs26uh42N6PD1NnPzfdRkTrab2Ha7LqJ2aCtud7aaM/32XpqQqRO1R80Rng3WbyQTLVmp59umK/d0iblWB82shhLiVu7s7Q4cOZfr06Tg4ONCsWTPUanWJsTwAgwYN4quvvmLcuHEAaLVaBg0ahLe3N6NHj2b58uW88cYbADg5OTFixAjc3d0ZM2YMS5YsQVEUGjduXGKMTqdOndi/f3+pC6eVpzHvQFY2aDTwzj/BrYplqurVGyzvd+kAvZ60/DstHSbPgsWzbBbuXzJjqiM52QpqDQx/vQhXV3htbBFffOqA0Qg6HYwaaxkrcP6sih9/0PL6G5YnsKkpCunXFEKbVMzubDdtm5lOYbYJlUahw6vVcHC1PIc8vycf/4dv7c6Wd93IzoUZdP93dfIyjfzyUQYmE2A207CdM/Vb3v6puhD3y/tTnMjOVtBoYOToQlxdYfS/Cvl8oaP1uhz9L0tL+rmzKv77vY5/vmm5TlNTFNLTVISFV+zr8q13HbiRraBRw7gxxVRxtUxVvXaT5bb50YeNPN3Ncg7X0hU+mKPjoxmW757J03Qci1GTdQO6P+fIsEF6a2tRpWCnLTyK2WynZyaEsEsFBQU4OVlu7Hbu3Mkvv/zCtGnTyu3469atIzMzkyFDhtxTOVNKYBlFVLGc1+faOoQy92NesK1DKBfPua34851EhVdoam7rEMqFh8r+n+G7+1wp82N0qzO6TOvfmjS/TOu/Hfv/7RBC2JWtW7eyf/9+TCYTrq6uvPrqq+V27H/961+o1WrefvvtcjumEEIIUW7stB1EEh4hRKXSq1cv65o55W3u3Lk2Oa4QQggh/jpJeIQQQgghhBCWWRnskCQ8QghRDnJNd16Iz15UUR+xdQhl7jk3W0cg7peYosdtHUKZ+yLZNi3i5W2hn/13NXa3dQCVmCQ8QgghhBBCCBnDI4QQQgghhLBjdprwyMKjQvzBuHHjKC4uLrE9KiqKyEjLEvYXLlxg/nzLtIppaWm88sorf+uYUVFRJCcnl3qsB93ChQv58ccfS2z/48/gQfT1WjV9Bjvw/CAHVq+1LPZ3Ll7h5VEO9H3ZgbGTdOTmlV72vZlaHn/WkT6DHcoxYiHs366NRma+qmfGMD27NljWXfntgpmP/mlg9kg9ka8buHy29PERh34y8cHLej54Wc+hnyruGIrrPyVy4Z39XJi8n+vbEwFI23iBc//aw4V3D3Dh3QPknEi/67JClBdp4RHiD2bPnv2n+zRs2JDRo+/fPPVRUVFUqVIFHx+f+1anvbvfP4PKJP6SwsYtGv7zWREaLYwer+PhNiben6NjzHA9zSNMbP6vmpXfaBjxcsmVwLt3NfL8swbenV5ysVYhxF9zNcHMga0mxn6sQa2Fz982EvyQmc1LjTzxoorGLVXEHTLx/RITr82+9VlzXo6ZbauM/GuBBgWIfN1AaGsF5yqKbU7mNgqTcsna/Rt+k1uhaBQS58ZQJdyyMLPH4754da13z2V1NZxvW0bYiMk+W3gk4RHiD55//nlWrFiBo6PjbfeJjY1l5cqVzJgx45bter2eTz75BE9PTwYMGEB0dDQbNmyguLgYjUbDwIEDCQy8dfHJnTt3cuHCBb788kvWrFnDgAEDAMvimvPmzePKlSu4uLjwxhtv4O7uDsDGjRs5ePAgJpOJatWqMXz4cOt7N/30009cvnyZIUOGEB8fz6RJk/jwww/x9/dnyZIl1K9fn86dOzN//nySk5PR6/XUrFmTESNG4OrqyvTp0+nYsSNt2rQB4ODBg/z0009Mnjz5luPcab+UlBQWL15MdnY2arWafv36ERERQVpaGhMnTmTp0qUAJV7fzqlTp1i+fDmjR48mJyfH+jO4ceMG8+fPJysrC4CwsDAGDRrE2bNnWbZsGSaTCaPRSK9evWjfvv0tdd489mOPPUZMTAzFxcWMHj2a7du3Ex8fj06nY/z48ff02Ze1hMsKoY1N3PwVbRZuYuduNYlJCs3CLU+GW7UwMXq8rtSEp1m4ieSUinUjJURll5popl4jBZ2j5dryD1M4sc+EAhTmW/YpzIOqniXLnj1iplFTFS7/S3AaNVVx5oiZZo9WrOu0+GoeTn5VUTlYWpWdG7mTfSztb5X16la/rMIV4hbSpU2I+yA3N5cPPviARo0a8dJLL5Gamsq6deuYOHEiM2fOZPjw4cybN69EuUcffZSGDRsyePBgZs+eTZMmTQBLl60BAwYwd+5cateuzdatWwHYvXs3qampfPDBB8ycOZNmzZqxYkXJ1dDDwsI4deoUACdPniQwMPCW16GhoQAMGjSIGTNmEBkZSd26ddm0aRMA3bp1Y/v27db6tm3bxhNPPFHiOHfab/78+bRv3545c+bw+uuvs2DBArKzs+/9wwX27NnDqlWrmDRpEr6+viXeq1GjBpGRkURGRtK7d28ANm3axNNPP83s2bOJjIykadOmpdadk5NDUFAQs2bNolOnTrz33nt07dqVOXPm0KBBA2uXurv97MtaQz8zMSdVZN2AwkL49aCa1GsKDeqb2LXP8pW+I0pNalrFulkSwp7Vqq9wMdZMXraZ4kIzcYfNZF2DZ4er2bzEyNT+ejYvMfLUYHWJsjeum3Gv/vtrdy/LtorGobYr+eezMOQWYyoyknvyOvoMy+yTmTuucOHfB0heFosxT39PZUXFYjabyvSPrUgLjxB/U3FxMe+88w7PP/+8taXj+PHjpKam8u6771r3M5lMZGVl3VWLQKNGjfDysnQVCAwM5MSJEwAcOXKEixcvMmHCBGudzs4luwTUrFmT4uJirl+/zqlTp+jXrx/r16+nffv2GAwGatasCVhu4vfs2YPBYKCoqIhatWoBEB4ezvLly0lKSgIgNTWV5s2blzjO7fYrKCggISGBjh07AlCnTh3q16/PuXPnSiQsf2bnzp3odDreeeedUs81MDCQLVu2sHLlSoKDgwkPDwcgJCSE9evXk5qaSpMmTQgICCi1fkdHR5o1awaAn58fnp6e1K9fH4AGDRrc82df1vzqmXmpr4HXxzng5GQm0N+ESgX/Hq9nzgItS1codGhnRKst99CEeGDV8FXo9JyaRZMM6BwVajdUUKlg3w8mer6qJry9iujdJtbMMzJyRuW89XLwccGzWz0SI6NROahxrOuKoih4PFqH6j0aAHBtwwVSvzmHz8shd1VWiPJSOa86ISoQjUZDQEAAR44c4aGHHkKlUmE2m4mIiOC11177S3Vq/3C3qlKpMBqN1te9evWiU6dOf1pHaGgoR48eJSsri5CQEJYtW8axY8cICbH8R3T69Gm2b9/O+++/j5ubG3v37uXnn38GQFEUunbtam296dy5MypVyQbhu93vj9RqNaY/LGym15d8GvhH9erV4/Tp0/z222+lJi2BgYHMmjWLEydOsHv3bjZu3Mi0adN46qmnaN68OSdPnmTZsmWEh4fTt2/fEuX//2d9Pz77svbMU0aeecoS18IvNHhXN1Pf18wnsy0Tbly+orD3QMknyUKIstO6q4rWXS3ff1u+NFLVC7Z8aeLZEZZbrYiHFb75qGTLTVVPhfgTv2/PSgf/JhUzGajWoTbVOtQGIHVdPNpqDmiq/j4BivsjtbnyccxdlxUVkJ2O4ZEubUL8TSqVihEjRuDk5MS8efMwGAyEh4cTExPDlStXrPvFx8eXWt7JyYn8/Py7OlaLFi3Yvn07ubm5gCVZSEhIKHXf0NBQNm3aRKNGjQBLq9GmTZsICwsDIC8vD2dnZ1xdXdHr9ezcufOW8o888giHDx/m119/5bHHHrttTKXt5+TkRP369dm1axcASUlJJCQkEBgYiLu7O0ajkZSUFAD27t17x3Nu0KABb775JvPnzycuLq7E+2lpaTg5OdGuXTsGDhzIxYsXMZlMJCcnU7NmTbp06cKTTz5528//bt3LZ1/WMjItf6ekKuzco6ZrZ6N1m8kEy1Zq+MfTJcfvCCHKTk6W5UYxM83MiX0mmj+qws0TLvwvmTkfY6Z6KXPTNGqhcPaYifwcM/k5Zs4eM9GoRcVMeAzZlocq+uuF5BxNo2rrmuiziqzv5xxLw6G2612XFaK8SAuPEPeBoigMGTKEFStWMHv2bN544w1ef/11Fi1aRHFxMQaDgUaNGuHv71+ibOfOnVmxYgWbN2+2TlpwOx06dCA7O5spU6YAYDabefzxx61dsP4oNDSUTz75xJrghIaG8vPPP1vH70RERLBnzx7GjBmDm5sbjRs3viUpcHJyIjw8nOLiYtzcbr+0/O32Gz16NIsXL2bLli2o1Wpef/116/uDBg1i2rRpuLm5WbuT3Um9evV46623mDlzJi+//PItrTCxsbH88MMP1pa1oUOHolKp2Lp1K7GxsWg0GrRaLYMHD/7T49zJvXz2ZW3CuzpuZCto1DB+jJ4qrpapqtdusnyld3zYyNPdLC1A19Lh/Tk6Pp5hudl4e5qWozFqsm7AU885MmyQ3tpaJIT4676cZiQ/x4xaDf8YpcbJVaHPGDUbFhkxGY1odArPj7Fco4nnTPy6xUTfsRpcqig8/oKaeaMtDykef1FtncCgormy8ATGXD2KWqFm/yDUzlpSVp2iMDEHFAWtlyO1XmoMgD6ziKvL4/Ad2/S2ZUUFZKfr8Chms52emRDibzEajbz55puMGjWq1ETtXvd70GUn39vYpcoqlwO2DkGIuxZT9LitQyhzXyQ/YusQysVCv7dtHUKZK4/lK7pWG1Km9f+YuaRM678daeERQpRw5MgRli1bRqtWre6YxNztfkIIIYSoBEwVd+Hbv0MSHiFECS1atKBFixb3bT8hhBBCCFuRhEcIIYQQQghht2N4JOERQohyIGNb7Md7VyfYOoRy8e9aM20dQpmLcNj+5ztVcgv9bB2BqEzMdtqlTaalFkIIIYQQQtgtaeERQgghhBBC2G2XNmnhEUKUm+eff57CwsIyP05sbCxvvfXWXyp3/PjxMj2GEH90ZWsKh8af5OC4k1zZmmLdnrQthYNvnODguJPEr04stez+0TEcmnCSwxNPceTtU+UVshBCVDrSwiOEEP8TGxtLYWEh4eHhtg5FPAByr+Rzdec1mk8LRtGoODHjLJ5N3Sm6Xkz6kSxazghFpVVRfEN/2zoi3g5C5yYLOAoh7hOTfbbwSMIjhLCJ+Ph4vvzyS4qKinBwcGDw4MH4+/uzaNEifH19efLJJwFITExk1qxZLFiwgIKCAlasWMHly5fR6/WEhIQwcOBAVKqSjdVGo5HFixdz7tw5FEVhzJgx1KlTB4CNGzeyZ88eABo2bMjLL79MWloaP/30E2azmZMnT9KuXTt69uzJsWPH2LBhA8XFxWg0GgYOHEhgYGD5fVDCbuX/VoibvwtqBzUA7o2rcO1wJjkX8/DtUQuV1vJ7rasqCY0QQvwd0qVNCFHuDAYDkZGR9O3blzlz5tCnTx8iIyMxGAx07NiRXbt2WfeNioqiY8eOKIrCihUrCA4OZvr06cyaNYsbN27wyy+/lHqMpKQkunTpwpw5c2jTpg3r168HIDo6mj179jBt2jTmzJmDyWRi7dq1+Pr60qVLFzp06MDs2bPp2bMnKSkprFu3jokTJzJz5kyGDx/OvHnzyuUzEvbPpa4TWWdy0OfoMRYZuR6TRdH1IgpSCrlxNocj78Ry7L3TZF/ILb0CBY7POMvhSadI3pFWvsELIeyT2VS2f2xEWniEEOUuOTkZjUZDWFgYAE2aNEGj0ZCcnExQUBAFBQUkJiZSu3Zt9u3bx/vvvw/AkSNHiI+P5/vvvweguLgYT0/PUo/h4+ODn59lPtaAgACOHj0KwMmTJ2nbti3Ozs4AdO7cmS+//LLUOo4fP05qairvvvuudZvJZCIrK+vvfwjigedS2wnfp32ImX4WtaMa13ouKCoFs9GMPtdA8/eCybmQR+z8eFp/FI6iKLeUb/ZuMA4eOopv6ImZfgZnH0fcG7vZ6GyEEKLikoRHCFHhPPLII0RFRREcHEzt2rWpXr06AGazmXHjxlGjRo0/rUOr/b0bkEqlwmg03nMcZrOZiIgIXnvttRLv/fbbb/dcnxD/n8+j1fF51PL7fWHNFRw9deQnF1K9pQeKouDm7wqKgj7HUGKsjoOHDrB0eaveohrZF/Ik4RFC/C1mOx3DI13ahBDlzsfHB4PBwKlTlpmlTp06hdFoxMfHB7AkPPv27eOXX36hY8eO1nItWrRg48aNmP63MFp2djZpaffWlScsLIxff/2VgoICzGYzO3bsoEmTJgA4OzuTn59v3Tc8PJyYmBiuXLli3RYfH/+XzlmI0tyckKAwvYj0w5l4t/XEq0U1MuOyAci/WoDZYEZb5dbnk8ZCI4YCo/XfGSezcanrVL7BCyFEJSEtPEKIcqfRaHjjjTdumbTgX//6FxqN5SvJy8uLOnXqEBsby5gxY6zlBg0axFdffcW4ceMASyvOoEGD8Pb2vutjN23alMuXLzN58mQAGjRowD/+8Q8AWrVqxa5duxg3bpx10oLXX3+dRYsWUVxcjMFgoFGjRvj7+9+vj0I84E59dB59rgFFrRAwuB5aFw21Onpx5vNLHBp/EkWj0HhEAxRFoSizmDOLLxE+oRHFN/ScnHceALMRarTzxDPc3bYnI4So/Gw4zqYsKWazna4wJIQQFUhycrKtQxD3yXtXJ9g6hHLx71ozbR2CEOIPbvaCKEtd1H3KtP6fjN+Uaf23I13ahBBCCCGEEHZLurQJIYQQQggh7LZLm7TwCCGEEEIIIeyWjOERQgghhBBC2C1p4RFCCCGEEELYLUl4hBBCCCGEEHZLEh4hhBBCCCGE3ZKERwghhBBCCGG3JOERQgghhBBC2C1JeIQQQgghhBB2SxIeIYQQQgghhN2ShEcIIYQQQghhtyThEUIIIYQQQtgtSXiEEEIIIYQQdksSHiGEEEIIcd+ZzWZbhyAEIAmPEEIIIWwoPT2drKwsW4ch7qOEhASKi4tRFMXWoZQJSeQqH0l4hBDCDhmNxlte2+N/0NnZ2ZhMJgwGA2Cf53ivTCaTrUO4JxkZGaxYsYK9e/dy48YNW4cj7oPo6GgiIyOJjo6222uyqKjolteV7bp7EGlsHYAQQoj768SJE/zyyy94eHjg7+9P27Zt7e5J67Fjx9iwYQMuLi7Ur1+fp556iipVqtg6LJs4d+4cq1evZsqUKahUKkwmEypVxX6eaTabURQFDw8PQkNDOXPmDBqNhtatW+Pu7m7r8MpEXFwcx48fx8fHh4YNG1KnTh1bh3TfRUdHs2bNGkaNGkVQUJCtwykT586dY/r06Tz33HNUr16dli1bWq+3ynDtPajkpyKEEHYkJiaGVatWUb9+fYxGI7t27eLKlSvW9+3hieuxY8f49ttvef755wkNDSUlJYXLly8D9nF+9yowMJDMzEzef/99AGvSU5E/i/z8fOu/H3/8cSIiIoiLi+PAgQN22b0tJiaGL774gsLCQrZu3cru3bsxGAwV+md0rwwGA7t27aJfv34EBQWRn59PQkIC3333HSdOnOD69eu2DvFvufmzSk9PJz8/n/z8fNauXcuiRYs4evQoBoNBkp0KTH4yQghhJ86dO0dkZCQDBw6kZ8+ePPXUU2i12lu6X9xs6amsN1rJycksWbKEhx9+mLCwMLp3746rqyvx8fGYzWb0er2tQywXN39+xcXFAHz88cfk5OQwdepUwJL03Nznl19+4fjx47YJtBSnT59m+PDhLFiwgLVr15Kenk779u1p164dFy9e5MCBA3bVve3MmTN8/vnnDBs2jMGDB/PCCy9w9OhRbty4YVctryaTiYyMDPLz88nLy2PlypWsXbuWffv2sWHDBvbv34/ZbK603z3p6ekAtG3bliZNmqDRaHj77bepUaMGmzdvZtq0acTGxlofvoiKRRIeIYSwE3l5eYSEhHDmzBkAvL29yc3N5auvvuLTTz9l06ZNJCQkYDQaK+WN1rlz5zh8+DDNmjUjIyOD8+fPA5bzjoqKYtKkScyaNYuoqCiSkpJsHG3ZSklJAUCn01m3zZw5k7y8vFuSnp9//plvvvmmwnQTy8/PJzMzEw8PD4qKijh8+DBr1qxh4sSJ5OXlkZOTQ1xcHLt27bqlFaiyunjxIjt37qRevXpoNJZRBE2aNMHd3Z3Nmzezbds2Tpw4YR2HVhnFxcVx+vRpdDodXbp0YfHixfzrX//CaDTy2GOP8dFHH9GmTRvi4uJQFKVSfvecOnWKf/7zn1y8eBGAjh07kpqaipubG35+fqSnp1O9enW2bt3KV199RWFhYaVN7OyVjOERQohK7sKFC2RmZlK1alUeffRRDh06xHfffUdRURFms5mOHTuSk5PDrl27uHTpEoMHD6Zq1aq2Dvue3BwbMHr0aBRF4eeff2bfvn1s2bKF/Px8/v3vfxMfH09CQgIHDhygSZMmtg65zCQlJfHGG2/w2GOP4evre8u4l1mzZjFu3DhmzZpFq1at2LRpE5MmTaJevXq2DRrIzc1l6tSpDBs2jJ49e3LhwgXCw8Np3rw5Z86cIT09nczMTBITE4mPj6dTp062DvkvM5vNpKSksHLlSvr378/+/fvZuXMnRqORQ4cOkZmZiZ+fHydOnGD9+vWEhoYybNgwHBwcbB36PTtz5gybNm3irbfe4uGHH6Zhw4bk5+fj7+9vHcyv1WrR6XQUFxffkqRXBtHR0axcufKWBKZ+/fqsW7eONWvWcODAAQYPHkyLFi1IT0/H0dERR0dHG0YsSqOYJQUVQohK69ixY6xcuZIaNWpgMpno378/6enpbNu2jYSEBBYuXGh9slxcXIxer8fFxcXGUd+bmJgY1qxZw4svvkhYWBhGo5Ho6GhOnDjB8ePHGT58OI0bN7buXxlvqu5FUlISkydPJiQkhFq1arFnzx5efPFFvLy8CA4OBmDChAkkJCQwa9asCpHs3HT8+HG++eYbhgwZwvnz5zlz5gyhoaG0b98eBwcHCgsLSUtLw9nZGS8vL1uH+7fk5eUxY8YMpk2bRlZWFhs2bODSpUvo9XqmTZuGRqPBZDKRn59PYWFhpTrfm7eON1trNm7cyI8//siYMWNuuRYB9u7dy/fff8+oUaPw9fUt91j/juPHj7N69WpGjx7Ntm3b8Pf3p0OHDgD8+OOPrFq1ihEjRtC2bVsbRyr+jLTwCCFEJRUTE8N3333HyJEjCQgIYPr06Vy9epW6devSoUMHqlevzsaNG3n22WdRq9XodLpKlwjk5+cTGRlJnz59CAsLIy0tjYULF/LKK6/QpUsX1Go1hw8fxmQyERISAlieJtsrs9lMnTp16Nu3L8nJyfTv35/Q0FC2bNnC5cuX6dixIy1atGDmzJlkZGTg4eFh65BvER4ejlqt5vPPP+fVV19FpVJx8uRJAJo3b467u3uluyn+//Ly8nBxcSEnJwez2UxhYSHu7u4899xzbNiwgby8POLj4wkICECtVuPq6oqrq6utw74nBoMBrVaLwWBAo9HQs2dPTCYTCxYsYOzYsQQEBJCVlcX27ds5ePAgY8aMqXQ/1xMnTrB8+XKGDh1K7dq1ycrKIjk5GbCMVwoMDMTf3986G53M0FaxyU9GCCEqoZuJQLt27QgICCA7O5uLFy/y008/8dVXX3Ho0CECAwNJSEhgw4YNtg73L3N2dmbChAn8+uuvHDhwgIULF9KyZUt8fX2pW7cu7du3p6CggKNHj1oH8FfGMQJ36+a5eXt7W2ff8/b2Jjk5mX79+pGSksKPP/5IdnZ2hUt2bgoNDWXAgAF8/vnnNGzYkNDQUA4fPkxMTEylX88kNzeXyZMnc+rUKfLz8zGbzdabYFdXV5555hmqVq3K9u3biY2NtXG0f012djbDhw/n2rVraDQa6/ijXr160blzZz788EMyMjJwd3enZcuWTJgwodIlO0ajkatXr/Lqq69aW00bNGhg/Y5RqVQ0aNCArKwsvvrqK+s2UXFJlzYhhKikTp06xerVq+nRowfbtm2jVatWdOvWjZiYGLZv307Hjh1xcHCgbt26Ffbm927FxcUxa9YsOnbsyKBBg4Df13JJSEjA3d29wgzMv99Onz7N6dOnqVOnDs2aNbN2UZw7dy7p6enk5OTwwgsv0KZNG+tgaScnJxtH/edu/v4OHjyY3377jSZNmlT631OwtAx8/fXXPPnkkxw8eNDa9RAsCWtiYiInT55k5MiRlfZ39tChQyxdupQPPvgALy8va0sPwEcffURgYCBPPvmkjaP8e2622Nz8OyoqiqioKKZMmQLAr7/+ytKlS5k8eTJ+fn62DVb8KUlHhRCikgoNDaV///4sWrSIevXq0a1bNwAiIiKsT8rDw8Pt4iYyODiYt956i9jYWM6dOwf83tpRv379Snvj+GdiYmJYtGgRhYWFLFy4kFOnTlnf69GjB9nZ2QwcOJA2bdpgMBhwdHSsFMkOWH5/n3/+eVavXk27du3s4vcULLOw9e/fn8WLF3Pp0iWOHz/O9u3b+fHHH1m/fj0XLlxgwIABlfp3tlWrVgwbNoyJEyeSnp6ORqPBaDQCUK1atUrXdbY0N1tsbv7t5uZGQUEBYBmXtGXLFqZMmSLJTiUhY3iEEKISu5kILF26lLNnz9KoUSMOHDjA9evXK9Rg9fshKCiIgQMH8sUXXzB48GBrVxN7deTIETZt2sSwYcMICQlBq9Vy5swZdDodHh4e1K9fnypVqnDt2jUA1Gq1jSO+dxEREQQFBdnduKuQkBDeeecdFixYQK9evQgMDLS+98fWkMqsefPmDB8+nEmTJjF58mRq1apFdHQ0Z86c4YknnrB1ePddgwYN8Pb2Zvv27fzyyy+MGjWKunXr2joscZekS5sQQtiBU6dOsXLlSsLDw4mNjWX48OF2+5/x8ePH+e677/j3v/9tF0+SS2MwGHj99dfx8fHhnXfeIT09nYkTJxIWFkZqairVq1fnhRdeID4+nh07djBu3DgcHBzsevxSZXTzuuzfvz9hYWHA710x7cXNLnze3t5kZGQwdOjQSjdm527cuHGDYcOGUaNGDSZMmEDt2rVtHZK4B5LwCCGEnTh16hQLFy7k7bffpk6dOrYOp0wVFRVVyjVL/swfb4bT0tKYMGECLVq0ICMjg5YtW9K1a1cSExNZtWoVrVq1ok2bNuj1+kq3rtKD5MSJE3z77bd2naBnZWVRWFiIo6Njpe6qdydGo5Hly5fTtWtXSXYqIUl4hBDCjtj7GjT2rrCwEAcHB/Lz83FxcSEtLY0pU6ZQtWpVpk+fbt3vyy+/pEqVKvTu3duG0Yq7Za8J+oPGXrojPogk4RFCCCEqgGPHjrFz506Ki4sxGo107NiR9u3bk5GRwdixY3n00UcZNGgQe/fuZf369bz55pv4+PjYOmwhhKjwJOERQgghbOzo0aN89dVXDB48GIDU1FRWrlxJr1696NmzJ2lpaUycOJHq1auj0+kYNmyY3XdbFEKI+0Xa5YQQQggbys7OZtOmTQwdOpTg4GBMJhNNmjShevXqREZG4u3tTdu2bZkxYwazZs3ilVdekWRHCCHugazDI4QQQtiQ0WhEr9dTo0YN6zaTyURERAT9+vVj//79FBQUUL16dWbOnGl3040LIURZk4RHCCGEsCG1Wo2Liwt5eXkl3vPw8EBRFOtiojcXQRRCCHH35JtTCCGEsAGTyQRYVnB3cnLis88+AyxJzc3EJjc3F61Wi16vR4bcCiHEXyOTFgghhBDlKD09HS8vL+DWaW4nTpwIwODBg3Fzc+Ps2bNs3ryZMWPG2OVCjkIIUV4k4RFCCCHKSWZmJkuXLiUgIIBnnnkGuDXpmT9/Prm5uRQWFqLRaBg0aJAkO0II8TdJwiOEEEKUg5ur0cfFxXHy5EkCAgJ48skngVsXjE1PT8fd3R2DwYCjo6MtQxZCCLsg01ILIYQQZSwmJoYtW7bQpk0b6tSpg0aj4dChQ5jNZp566ilrsrN7924SExN54YUXJNkRQoj7RCYtEEIIIcrQsWPHWLVqFd27dyciIoLAwEDatGlDq1atuHDhAj/88AMAu3btYtWqVXTo0EFmYxNCiPtIurQJIYQQZSQhIYF58+YxYsQIgoKCrNt//vln0tPTqVWrFmfPnuXatWukpKTw5ptvyjo7Qghxn0mXNiGEEKKMpKenExQURFBQECaTCZVKxbJlyzh58iSNGjUiLy+PBg0akJiYyBtvvCHJjhBClAFJeIQQQogykpGRQU5ODmBZX6ewsBBfX1/69OnD2bNnOX78OE2aNKFt27Y4OzvbOFohhLBP0klYCCGEKCP+/v7ExsZy6NAhABwcHHj00UdxcXEhKyuLzMxM3NzcJNkRQogyJAmPEEIIUUYaNGjAs88+y6ZNmzhw4ACKoqBWq9m9ezc7duygb9++MhubEEKUMZm0QAghhChDeXl57Nixg3Xr1hEYGIirqyuXL1/mn//8pywqKoQQ5UASHiGEEKIcJCYmkpSUhJubG7Vq1cLT09PWIQkhxANBEh4hhBBCCCGE3ZIxPEIIIYQQQgi7JQmPEEIIIYQQwm5JwiOEEEIIIYSwW5LwCCGEEEIIIeyWJDxCCCGEEEIIuyUJjxBCCCGEEMJuScIjhBBCiAplzpw5bNmyxdZhCCHshMbWAQghhBDCPo0aNYqsrCxUKhWOjo5ERETwyiuv4OjoeNsye/bsQa1W89RTT5VjpEIIeyYtPEIIIYQoMxMmTGDlypXMnDmTixcvsm7dujvun5eXx4gRI8opOiHEg0BaeIQQQghR5jw8PIiIiCAxMZEZM2Zw/vx5TCYTjRo1YujQoXh6egJw4MABtFotjz32GCkpKXz22WckJCSg0WgIDQ1l7NixNj4TIURlIy08QgghhChz6enpREdHU6NGDTp27Minn37Kp59+ik6nY+nSpaWWWbNmDeHh4Xz55Zd89tlndOvWrZyjFkLYA2nhEUIIIUSZmT17Nmq1GmdnZ5o1a0b//v3R6XTW93v16sXUqVNLLavRaLh27RqZmZl4enoSFBRUXmELIeyIJDxCCCGEKDPjxo2jSZMm1tdFRUUsXryYmJgY8vLyACgoKMBkMqFS3drxpH///qxZs4ZJkybh4uJC9+7d6dSpU7nGL4So/CThEUIIIUS5+f7770lOTubDDz/E3d2dhIQExo8fj9lsLrGvu7s7w4cPB+DMmTNMmzaN4OBgatasWd5hCyEqMRnDI4QQQohyU1hYiE6nw9nZmdzcXL777rvb7rt//36uX78OgIuLCwCKopRLnEII+yEtPEIIIYQoN08++STz58/nlVdewcPDg+7du3P48OFS971w4QLLly8nPz8fd3d3Bg8eTI0aNco5YiFEZaeYS2tDFkIIIYQQQgg7IF3ahBBCCCGEEHZLEh4hhBBCCCGE3ZKERwghhBBCCGG3JOERQgghhBBC2C1JeIQQQgghhBB2SxIeIYQQQgghhN2ShEcIIYQQQghhtyThEUIIIYQQQtit/wPkzt/ZH6i97gAAAABJRU5ErkJggg==\n",
       "datasetInfos": [],
       "metadata": {},
       "removedWidgets": [],
       "type": "image"
      }
     },
     "output_type": "display_data"
    }
   ],
   "source": [
    "df_global = top_global_tracks.toPandas().assign(country='GLOBAL')\n",
    "df_br = top_br_tracks.toPandas().assign(country='BR')\n",
    "df_us = top_us_tracks.toPandas().assign(country='US')\n",
    "df_in = top_in_tracks.toPandas().assign(country='IN')\n",
    "df_fr = top_fr_tracks.toPandas().assign(country='FR')\n",
    "df_kr = top_kr_tracks.toPandas().assign(country='KR')\n",
    "df_za = top_za_tracks.toPandas().assign(country='ZA')\n",
    "\n",
    "# Unificar todos\n",
    "df_all = pd.concat([df_global, df_br, df_us, df_in, df_fr, df_kr, df_za])\n",
    "\n",
    "# Pivot para heatmap\n",
    "heatmap_df = df_all.pivot_table(index='track_name', columns='country', values='avg_popularity')\n",
    "\n",
    "plt.figure(figsize=(12, 8))\n",
    "sns.heatmap(heatmap_df, annot=True, cmap=\"viridis\", fmt=\".1f\")\n",
    "plt.title(\"Popularidade Média das Músicas por País (Top 10)\")\n",
    "plt.ylabel(\"Músicas\")\n",
    "plt.xlabel(\"País\")\n",
    "plt.xticks(rotation=45)\n",
    "plt.tight_layout()\n",
    "plt.show()\n"
   ]
  },
  {
   "cell_type": "code",
   "execution_count": 0,
   "metadata": {
    "application/vnd.databricks.v1+cell": {
     "cellMetadata": {
      "byteLimit": 2048000,
      "rowLimit": 10000
     },
     "inputWidgets": {},
     "nuid": "8ee5ecb4-b04a-4972-b760-b25c4c64c5a5",
     "showTitle": false,
     "tableResultSettingsMap": {},
     "title": ""
    }
   },
   "outputs": [
    {
     "output_type": "stream",
     "name": "stdout",
     "output_type": "stream",
     "text": [
      "\n=== TOP 10 ÁLBUNS - GLOBAL ===\n+--------------------------------------+---------------------+-----------------+\n|album_name                            |artist_name          |avg_popularity   |\n+--------------------------------------+---------------------+-----------------+\n|Die With A Smile                      |Lady Gaga, Bruno Mars|97.79274611398964|\n|Seven (feat. Latto)                   |Jung Kook, Latto     |97.44444444444444|\n|greedy                                |Tate McRae           |97.3125          |\n|Si No Estás                           |iñigo quintero       |97.12962962962963|\n|Espresso                              |Sabrina Carpenter    |96.59333333333333|\n|love hotel                            |leftovermax          |96.5             |\n|Strangers                             |Kenya Grace          |96.18543046357615|\n|The Land Is Inhospitable and So Are We|Mitski               |95.86147186147186|\n|Beautiful Things                      |Benson Boone         |95.6891891891892 |\n|La Diabla                             |Xavi                 |95.55555555555556|\n+--------------------------------------+---------------------+-----------------+\n\n\n=== TOP 10 ÁLBUNS - BRASIL ===\n+--------------------------+---------------------+-----------------+\n|album_name                |artist_name          |avg_popularity   |\n+--------------------------+---------------------+-----------------+\n|Beautiful Things          |Benson Boone         |99.91666666666667|\n|greedy                    |Tate McRae           |99.41666666666667|\n|i like the way you kiss me|Artemas              |99.125           |\n|Merry Christmas           |Mariah Carey         |98.5             |\n|Lover                     |Taylor Swift         |98.42857142857143|\n|DECIDE                    |Djo                  |98.0             |\n|Die With A Smile          |Lady Gaga, Bruno Mars|97.86842105263158|\n|Espresso                  |Sabrina Carpenter    |96.18181818181819|\n|LAST CHRISTMAS            |Wham!                |95.5             |\n|APT.                      |ROSÉ, Bruno Mars     |94.875           |\n+--------------------------+---------------------+-----------------+\n\n\n=== TOP 10 ÁLBUNS - EUA ===\n+-------------------------------------------------------+----------------------------------+-----------------+\n|album_name                                             |artist_name                       |avg_popularity   |\n+-------------------------------------------------------+----------------------------------+-----------------+\n|greedy                                                 |Tate McRae                        |98.73118279569893|\n|Die With A Smile                                       |Lady Gaga, Bruno Mars             |97.76315789473684|\n|Strangers                                              |Kenya Grace                       |96.96153846153847|\n|Lover                                                  |Taylor Swift                      |96.74683544303798|\n|La Diabla                                              |Xavi                              |96.67961165048544|\n|Espresso                                               |Sabrina Carpenter                 |96.60759493670886|\n|The Land Is Inhospitable and So Are We                 |Mitski                            |96.24747474747475|\n|Gata Only                                              |FloyyMenor, Cris Mj               |96.14678899082568|\n|The Idol Episode 4 (Music from the HBO Original Series)|The Weeknd, JENNIE, Lily-Rose Depp|96.0             |\n|i like the way you kiss me                             |Artemas                           |95.9375          |\n+-------------------------------------------------------+----------------------------------+-----------------+\n\n\n=== TOP 10 ÁLBUNS - ÍNDIA ===\n+----------------+---------------------+-----------------+\n|album_name      |artist_name          |avg_popularity   |\n+----------------+---------------------+-----------------+\n|Die With A Smile|Lady Gaga, Bruno Mars|99.07339449541284|\n|Espresso        |Sabrina Carpenter    |97.58695652173913|\n|APT.            |ROSÉ, Bruno Mars     |95.35897435897436|\n|AM              |Arctic Monkeys       |95.0             |\n|MUSE            |Jimin                |89.66666666666667|\n|Big Dawgs       |Hanumankind, Kalmi   |89.28571428571429|\n|÷ (Deluxe)      |Ed Sheeran           |89.0             |\n|blue            |yung kai             |87.78823529411764|\n|FOUR (Deluxe)   |One Direction        |87.66666666666667|\n|rosie           |ROSÉ, Bruno Mars     |86.94827586206897|\n+----------------+---------------------+-----------------+\n\n\n=== TOP 10 ÁLBUNS - FRANÇA ===\n+----------------+---------------------+-----------------+\n|album_name      |artist_name          |avg_popularity   |\n+----------------+---------------------+-----------------+\n|Lover           |Taylor Swift         |98.7872340425532 |\n|Die With A Smile|Lady Gaga, Bruno Mars|98.74866310160428|\n|Beautiful Things|Benson Boone         |98.71929824561404|\n|greedy          |Tate McRae           |98.67692307692307|\n|Lovin On Me     |Jack Harlow          |98.66666666666667|\n|Espresso        |Sabrina Carpenter    |97.81818181818181|\n|Good Luck, Babe!|Chappell Roan        |97.0             |\n|DECIDE          |Djo                  |96.9375          |\n|Strangers       |Kenya Grace          |96.44604316546763|\n|Gata Only       |FloyyMenor, Cris Mj  |96.33333333333333|\n+----------------+---------------------+-----------------+\n\n\n=== TOP 10 ÁLBUNS - COREIA DO SUL ===\n+--------------------------------------+----------------------------------------------------------+-----------------+\n|album_name                            |artist_name                                               |avg_popularity   |\n+--------------------------------------+----------------------------------------------------------+-----------------+\n|Lovin On Me                           |Jack Harlow                                               |99.0             |\n|Beautiful Things                      |Benson Boone                                              |98.24590163934427|\n|Merry Christmas                       |Mariah Carey                                              |98.21052631578948|\n|The Land Is Inhospitable and So Are We|Mitski                                                    |98.01219512195122|\n|i like the way you kiss me            |Artemas                                                   |98.0             |\n|Die With A Smile                      |Lady Gaga, Bruno Mars                                     |97.79274611398964|\n|Seven (feat. Latto)                   |Jung Kook, Latto                                          |97.44444444444444|\n|Espresso                              |Sabrina Carpenter                                         |97.34756097560975|\n|Merry Christmas From Brenda Lee       |Brenda Lee                                                |97.0             |\n|VULTURES 1                            |¥$, Kanye West, Ty Dolla $ign, Rich The Kid, Playboi Carti|96.66666666666667|\n+--------------------------------------+----------------------------------------------------------+-----------------+\n\n\n=== TOP 10 ÁLBUNS - ÁFRICA DO SUL ===\n+-------------------------------------------------------+----------------------------------+-----------------+\n|album_name                                             |artist_name                       |avg_popularity   |\n+-------------------------------------------------------+----------------------------------+-----------------+\n|greedy                                                 |Tate McRae                        |99.10714285714286|\n|Lover                                                  |Taylor Swift                      |99.0             |\n|Die With A Smile                                       |Lady Gaga, Bruno Mars             |98.64324324324325|\n|Merry Christmas                                        |Mariah Carey                      |98.57142857142857|\n|Espresso                                               |Sabrina Carpenter                 |97.84666666666666|\n|Strangers                                              |Kenya Grace                       |97.75            |\n|The Idol Episode 4 (Music from the HBO Original Series)|The Weeknd, JENNIE, Lily-Rose Depp|97.02941176470588|\n|Stick Season                                           |Noah Kahan                        |96.9423076923077 |\n|DECIDE                                                 |Djo                               |96.88888888888889|\n|Merry Christmas From Brenda Lee                        |Brenda Lee                        |96.75            |\n+-------------------------------------------------------+----------------------------------+-----------------+\n\n"
     ]
    }
   ],
   "source": [
    "# Função para gerar o ranking dos 10 álbuns mais populares por país\n",
    "def top_albuns_por_pais(pais_nome):\n",
    "    return (\n",
    "        spark.table(\"spotify_gold.fact_streams\")\n",
    "        .filter(col(\"country\") == pais_nome)\n",
    "        .join(spark.table(\"spotify_gold.dim_track\"), \"spotify_id\")\n",
    "        .join(spark.table(\"spotify_gold.dim_album\"), \"album_id\")\n",
    "        .join(spark.table(\"spotify_gold.dim_artist\"), \"artist_id\")\n",
    "        .groupBy(\"album_name\", \"artist_name\")\n",
    "        .agg(avg(\"popularity\").alias(\"avg_popularity\"))\n",
    "        .orderBy(col(\"avg_popularity\").desc())\n",
    "        .limit(10)\n",
    "    )\n",
    "\n",
    "# Lista de países com nomes legíveis\n",
    "paises = {\n",
    "    \"GLOBAL\": \"GLOBAL\",\n",
    "    \"BR\": \"BRASIL\",\n",
    "    \"US\": \"EUA\",\n",
    "    \"IN\": \"ÍNDIA\",\n",
    "    \"FR\": \"FRANÇA\",\n",
    "    \"KR\": \"COREIA DO SUL\",\n",
    "    \"ZA\": \"ÁFRICA DO SUL\"\n",
    "}\n",
    "\n",
    "# Gera e exibe os rankings\n",
    "for codigo, nome_exibicao in paises.items():\n",
    "    print(f\"\\n=== TOP 10 ÁLBUNS - {nome_exibicao} ===\")\n",
    "    ranking = top_albuns_por_pais(codigo)\n",
    "    ranking.show(truncate=False)"
   ]
  },
  {
   "cell_type": "markdown",
   "metadata": {
    "application/vnd.databricks.v1+cell": {
     "cellMetadata": {
      "byteLimit": 2048000,
      "rowLimit": 10000
     },
     "inputWidgets": {},
     "nuid": "f8d098b1-85a8-4123-b8f3-31e193dc7526",
     "showTitle": false,
     "tableResultSettingsMap": {},
     "title": ""
    }
   },
   "source": [
    "Mesmo em países diferentes ao redor do mundo, as músicas e os álbuns mais ouvidas em cada país são semelhantes às do ranking global."
   ]
  },
  {
   "cell_type": "code",
   "execution_count": 0,
   "metadata": {
    "application/vnd.databricks.v1+cell": {
     "cellMetadata": {
      "byteLimit": 2048000,
      "rowLimit": 10000
     },
     "inputWidgets": {},
     "nuid": "4e2ac82e-0d53-48e0-bfe9-9a784b45128c",
     "showTitle": false,
     "tableResultSettingsMap": {},
     "title": ""
    }
   },
   "outputs": [
    {
     "output_type": "stream",
     "name": "stdout",
     "output_type": "stream",
     "text": [
      "\n=== TOP 10 ARTISTAS - GLOBAL ===\n+-----------------+-------------+\n|artist_name      |total_streams|\n+-----------------+-------------+\n|Sabrina Carpenter|72728        |\n|KAROL G          |50846        |\n|Taylor Swift     |49222        |\n|Bad Bunny        |48636        |\n|Tate McRae       |40906        |\n|Ariana Grande    |36582        |\n|Jimin            |32718        |\n|Chappell Roan    |31778        |\n|Billie Eilish    |30809        |\n|Feid             |25322        |\n+-----------------+-------------+\n\n\n=== TOP 10 ARTISTAS - BRASIL ===\n+------------------------------------------------------------------+-------------+\n|artist_name                                                       |total_streams|\n+------------------------------------------------------------------+-------------+\n|Henrique & Juliano                                                |1024         |\n|Léo Foguete                                                       |756          |\n|Simone Mendes                                                     |695          |\n|Zé Neto & Cristiano                                               |598          |\n|DJ JZ, Humberto & Ronaldo, Mc Mininin, DJ LG PROD, Silvanno Salles|498          |\n|Murilo Huff                                                       |494          |\n|Matuê                                                             |410          |\n|Luan Santana                                                      |392          |\n|Ana Castela                                                       |344          |\n|Felipe e Rodrigo                                                  |319          |\n+------------------------------------------------------------------+-------------+\n\n\n=== TOP 10 ARTISTAS - EUA ===\n+-----------------+-------------+\n|artist_name      |total_streams|\n+-----------------+-------------+\n|Morgan Wallen    |3514         |\n|Taylor Swift     |3286         |\n|Sabrina Carpenter|3134         |\n|Chappell Roan    |2994         |\n|Zach Bryan       |1952         |\n|Noah Kahan       |1670         |\n|Tate McRae       |1214         |\n|SZA              |1094         |\n|Kendrick Lamar   |1064         |\n|Ariana Grande    |1008         |\n+-----------------+-------------+\n\n\n=== TOP 10 ARTISTAS - ÍNDIA ===\n+---------------------------------------------------------+-------------+\n|artist_name                                              |total_streams|\n+---------------------------------------------------------+-------------+\n|Shubh                                                    |2884         |\n|Karan Aujla, Ikky                                        |994          |\n|Anuv Jain                                                |938          |\n|Yo Yo Honey Singh                                        |692          |\n|Diljit Dosanjh                                           |616          |\n|Vishal Mishra                                            |555          |\n|Sachin-Jigar, Arijit Singh, Amitabh Bhattacharya         |549          |\n|Vishal Mishra, Raj Shekhar                               |534          |\n|Darshan Raval                                            |533          |\n|Sachet Tandon, Parampara Tandon, Kumaar, Sachet-Parampara|492          |\n+---------------------------------------------------------+-------------+\n\n\n=== TOP 10 ARTISTAS - FRANÇA ===\n+---------------------------------------------+-------------+\n|artist_name                                  |total_streams|\n+---------------------------------------------+-------------+\n|Werenoi                                      |1405         |\n|KeBlack                                      |1072         |\n|Dua Lipa                                     |900          |\n|Tate McRae                                   |780          |\n|SDM                                          |750          |\n|Sabrina Carpenter                            |750          |\n|Booba, SDM                                   |720          |\n|Jul                                          |706          |\n|Jungeli, Imen Es, Alonzo, Abou Debeing, Lossa|677          |\n|UZI                                          |662          |\n+---------------------------------------------+-------------+\n\n\n=== TOP 10 ARTISTAS - COREIA DO SUL ===\n+-----------------+-------------+\n|artist_name      |total_streams|\n+-----------------+-------------+\n|Jimin            |8384         |\n|Lim Young Woong  |5897         |\n|NewJeans         |2100         |\n|Jung Kook        |1064         |\n|aespa            |1014         |\n|V                |973          |\n|Sabrina Carpenter|842          |\n|LE SSERAFIM      |716          |\n|DAY6             |608          |\n|Jung Kook, Latto |515          |\n+-----------------+-------------+\n\n\n=== TOP 10 ARTISTAS - ÁFRICA DO SUL ===\n+----------------------------+-------------+\n|artist_name                 |total_streams|\n+----------------------------+-------------+\n|Chris Brown                 |862          |\n|Sabrina Carpenter           |834          |\n|SZA                         |812          |\n|Kendrick Lamar              |624          |\n|Billie Eilish               |563          |\n|Tate McRae                  |560          |\n|DJ Stokie, Eemoh            |530          |\n|Tyla                        |509          |\n|Miguel                      |432          |\n|Mthandeni SK, Lwah Ndlunkulu|431          |\n+----------------------------+-------------+\n\n"
     ]
    }
   ],
   "source": [
    "# Função para gerar o ranking dos 10 artistas mais ouvidos por país\n",
    "def top_artistas_por_pais(pais_nome):\n",
    "\n",
    "    df = spark.table(\"spotify_gold.fact_streams\")\n",
    "    \n",
    "    if pais_nome != \"GLOBAL\":\n",
    "        df = df.filter(col(\"country\") == pais_nome)\n",
    "    \n",
    "    return (\n",
    "        df.join(spark.table(\"spotify_gold.dim_artist\"), \"artist_id\")\n",
    "        .groupBy(\"artist_name\")\n",
    "        .agg(sum(\"stream_count\").alias(\"total_streams\"))\n",
    "        .orderBy(col(\"total_streams\").desc())\n",
    "        .limit(10)\n",
    "    )\n",
    "\n",
    "# Lista de países com nomes legíveis\n",
    "paises = {\n",
    "    \"GLOBAL\": \"GLOBAL\",\n",
    "    \"BR\": \"BRASIL\",\n",
    "    \"US\": \"EUA\",\n",
    "    \"IN\": \"ÍNDIA\",\n",
    "    \"FR\": \"FRANÇA\",\n",
    "    \"KR\": \"COREIA DO SUL\",\n",
    "    \"ZA\": \"ÁFRICA DO SUL\"\n",
    "}\n",
    "\n",
    "# Gera e exibe os rankings\n",
    "for codigo, nome_exibicao in paises.items():\n",
    "    print(f\"\\n=== TOP 10 ARTISTAS - {nome_exibicao} ===\")\n",
    "    ranking = top_artistas_por_pais(codigo)\n",
    "    ranking.show(truncate=False)\n"
   ]
  },
  {
   "cell_type": "markdown",
   "metadata": {
    "application/vnd.databricks.v1+cell": {
     "cellMetadata": {
      "byteLimit": 2048000,
      "rowLimit": 10000
     },
     "inputWidgets": {},
     "nuid": "4256b87e-5202-4304-9670-f5c5a9a3bb07",
     "showTitle": false,
     "tableResultSettingsMap": {},
     "title": ""
    }
   },
   "source": [
    "Já os artistas mais populares de cada país são mais variados."
   ]
  },
  {
   "cell_type": "code",
   "execution_count": 0,
   "metadata": {
    "application/vnd.databricks.v1+cell": {
     "cellMetadata": {
      "byteLimit": 2048000,
      "rowLimit": 10000
     },
     "inputWidgets": {},
     "nuid": "b6c9824d-01a0-4950-b4f3-2f21704b171e",
     "showTitle": false,
     "tableResultSettingsMap": {},
     "title": ""
    }
   },
   "outputs": [
    {
     "output_type": "stream",
     "name": "stdout",
     "output_type": "stream",
     "text": [
      "Top 10 Músicas com Maior Duração:\n+------------------------------------------------------------------------------------------------------------------+------------+\n|track_name                                                                                                        |duration_min|\n+------------------------------------------------------------------------------------------------------------------+------------+\n|Flamazo Navideño:                                                                                                 |15.66       |\n|מחרוזת פורים שמח                                                                                                  |15.56       |\n|Kabza Chant (feat. Young Stunna, Nkosazana Daughter, Mthunzi, Nokwazi, Anzo, Mashudu, Murumba Pitch & Tman Xpress)|15.53       |\n|iLanga (feat. MaWhoo, Kagiso & Maremo Violin)                                                                     |13.89       |\n|Jesús                                                                                                             |13.69       |\n|Noite Carioca                                                                                                     |13.5        |\n|Worthy of My Praise                                                                                               |13.48       |\n|Let's Go 5                                                                                                        |13.05       |\n|Tintsumi                                                                                                          |12.65       |\n|Poesia Acústica 16                                                                                                |12.63       |\n+------------------------------------------------------------------------------------------------------------------+------------+\n\nTop 10 Músicas com Menor Duração:\n+-----------------------------+------------+\n|track_name                   |duration_min|\n+-----------------------------+------------+\n|My Love, Coconut             |0.27        |\n|Skit Tiefgaragen             |0.53        |\n|clip 1                       |0.54        |\n|Tambourine Dream             |0.55        |\n|A MEGOLDÁS INTERLUDE         |0.57        |\n|Hore, hore, pastuškové       |0.57        |\n|naabrimees                   |0.57        |\n|Keď budeš veľký - Skit       |0.57        |\n|Rauður Suzuki interlude      |0.6         |\n|Sinterklaas Wie Kent Hem Niet|0.6         |\n+-----------------------------+------------+\n\n"
     ]
    }
   ],
   "source": [
    "# Tabela de músicas\n",
    "track_df = spark.table(\"spotify_gold.dim_track\")\n",
    "\n",
    "# Top 10 músicas mais longas\n",
    "top_longest = (track_df\n",
    "    .select(\"track_name\", \"duration_min\")\n",
    "    .orderBy(col(\"duration_min\").desc())\n",
    "    .limit(10))\n",
    "\n",
    "print(\"Top 10 Músicas com Maior Duração:\")\n",
    "top_longest.show(truncate=False)\n",
    "\n",
    "# Top 10 músicas mais curtas\n",
    "top_shortest = (track_df\n",
    "    .select(\"track_name\", \"duration_min\")\n",
    "    .orderBy(col(\"duration_min\").asc())\n",
    "    .limit(10))\n",
    "\n",
    "print(\"Top 10 Músicas com Menor Duração:\")\n",
    "top_shortest.show(truncate=False)\n"
   ]
  },
  {
   "cell_type": "markdown",
   "metadata": {
    "application/vnd.databricks.v1+cell": {
     "cellMetadata": {
      "byteLimit": 2048000,
      "rowLimit": 10000
     },
     "inputWidgets": {},
     "nuid": "68dc83ae-7f84-44dc-b3e7-a02b20716374",
     "showTitle": false,
     "tableResultSettingsMap": {},
     "title": ""
    }
   },
   "source": [
    "O dataset contém músicas com durações que variam de 16 segundos a quase 16 minutos."
   ]
  },
  {
   "cell_type": "code",
   "execution_count": 0,
   "metadata": {
    "application/vnd.databricks.v1+cell": {
     "cellMetadata": {
      "byteLimit": 2048000,
      "rowLimit": 10000
     },
     "inputWidgets": {},
     "nuid": "dd195f63-78ef-4cd9-ab3c-cda4239f2135",
     "showTitle": false,
     "tableResultSettingsMap": {},
     "title": ""
    }
   },
   "outputs": [
    {
     "output_type": "stream",
     "name": "stdout",
     "output_type": "stream",
     "text": [
      "Correlação com a Popularidade:\nloudness            0.123652\nvalence             0.076648\nduration_min        0.069200\nacousticness        0.050478\nenergy              0.039421\nmode                0.029420\nkey                 0.020018\nliveness            0.013928\ntempo              -0.009074\ndanceability       -0.019646\ntime_signature     -0.020976\ninstrumentalness   -0.080604\nspeechiness        -0.109614\nName: popularity, dtype: float64\n"
     ]
    },
    {
     "output_type": "display_data",
     "data": {
      "image/png": "[encoded data removed]"
     },
     "metadata": {
      "application/vnd.databricks.v1+output": {
       "addedWidgets": {},
       "arguments": {},
       "data": "data:image/png;base64,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\n",
       "datasetInfos": [],
       "metadata": {},
       "removedWidgets": [],
       "type": "image"
      }
     },
     "output_type": "display_data"
    }
   ],
   "source": [
    "# Junta track com popularidade média por música\n",
    "track_popularity = (\n",
    "    spark.table(\"spotify_gold.fact_streams\")\n",
    "    .join(spark.table(\"spotify_gold.dim_track\"), \"spotify_id\")\n",
    "    .groupBy(\"spotify_id\", \"track_name\", \"duration_min\", \"danceability\", \"energy\", \"key\",\n",
    "             \"loudness\", \"mode\", \"speechiness\", \"acousticness\", \"instrumentalness\",\n",
    "             \"liveness\", \"valence\", \"tempo\", \"time_signature\")\n",
    "    .agg(avg(\"popularity\").alias(\"popularity\"))\n",
    ")\n",
    "\n",
    "# Seleciona colunas de interesse\n",
    "features = [\n",
    "    \"duration_min\", \"danceability\", \"energy\", \"key\", \"loudness\", \"mode\",\n",
    "    \"speechiness\", \"acousticness\", \"instrumentalness\", \"liveness\",\n",
    "    \"valence\", \"tempo\", \"time_signature\", \"popularity\"\n",
    "]\n",
    "\n",
    "# Coleta os dados para pandas\n",
    "track_pd = track_popularity.select(features).toPandas()\n",
    "\n",
    "# Garante que todas as colunas sejam numéricas (evita erro)\n",
    "track_pd = track_pd.apply(pd.to_numeric, errors='coerce')\n",
    "\n",
    "# Calcula correlação com a popularidade\n",
    "correlations = track_pd.corr()[\"popularity\"].drop(\"popularity\").sort_values(ascending=False)\n",
    "\n",
    "# Mostra em formato de tabela\n",
    "print(\"Correlação com a Popularidade:\")\n",
    "print(correlations)\n",
    "\n",
    "# Plot em gráfico de barras\n",
    "plt.figure(figsize=(10, 6))\n",
    "sns.barplot(x=correlations.values, y=correlations.index, palette=\"viridis\")\n",
    "plt.title(\"Correlação de Atributos Musicais com a Popularidade\")\n",
    "plt.xlabel(\"Coeficiente de Correlação\")\n",
    "plt.ylabel(\"Atributo Musical\")\n",
    "plt.grid(True, linestyle=\"--\", alpha=0.5)\n",
    "plt.tight_layout()\n",
    "plt.show()\n"
   ]
  },
  {
   "cell_type": "markdown",
   "metadata": {
    "application/vnd.databricks.v1+cell": {
     "cellMetadata": {
      "byteLimit": 2048000,
      "rowLimit": 10000
     },
     "inputWidgets": {},
     "nuid": "019ebbed-68b8-4464-9fa6-213da6f6654b",
     "showTitle": false,
     "tableResultSettingsMap": {},
     "title": ""
    }
   },
   "source": [
    "A análise de correlação revelou que atributos classificados pelo Spotify, como loudness, valence e duration, tendem a apresentar uma relação mais forte com a popularidade das músicas, enquanto características como instrumentalness e speechiness demonstram correlação negativa."
   ]
  },
  {
   "cell_type": "code",
   "execution_count": 0,
   "metadata": {
    "application/vnd.databricks.v1+cell": {
     "cellMetadata": {
      "byteLimit": 2048000,
      "rowLimit": 10000
     },
     "inputWidgets": {},
     "nuid": "a6229b6e-92ae-4e64-b5ba-6cd8fdf6acf6",
     "showTitle": false,
     "tableResultSettingsMap": {},
     "title": ""
    }
   },
   "outputs": [
    {
     "output_type": "display_data",
     "data": {
      "image/png": "[encoded data removed]"
     },
     "metadata": {
      "application/vnd.databricks.v1+output": {
       "addedWidgets": {},
       "arguments": {},
       "data": "data:image/png;base64,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\n",
       "datasetInfos": [],
       "metadata": {},
       "removedWidgets": [],
       "type": "image"
      }
     },
     "output_type": "display_data"
    }
   ],
   "source": [
    "# Junta fact_streams com dim_artist pela chave artist_id\n",
    "explicit_popularity = (\n",
    "    spark.table(\"spotify_gold.fact_streams\")\n",
    "    .join(spark.table(\"spotify_gold.dim_artist\"), \"artist_id\")\n",
    "    .groupBy(\"is_explicit\")\n",
    "    .agg(avg(\"popularity\").alias(\"avg_popularity\"))\n",
    "    .orderBy(\"is_explicit\")\n",
    ")\n",
    "\n",
    "# Converte para Pandas\n",
    "explicit_pd = explicit_popularity.toPandas()\n",
    "explicit_pd[\"is_explicit\"] = explicit_pd[\"is_explicit\"].map({True: \"Explícito\", False: \"Não Explícito\"})\n",
    "\n",
    "# Gráfico\n",
    "plt.figure(figsize=(6, 5))\n",
    "sns.barplot(data=explicit_pd, x=\"is_explicit\", y=\"avg_popularity\", palette=\"pastel\")\n",
    "plt.title(\"Popularidade Média: Músicas Explícitas vs Não Explícitas\")\n",
    "plt.xlabel(\"Conteúdo da Música\")\n",
    "plt.ylabel(\"Popularidade Média\")\n",
    "plt.ylim(0, 100)\n",
    "plt.grid(True, axis='y', linestyle=\"--\", alpha=0.5)\n",
    "plt.tight_layout()\n",
    "plt.show()\n"
   ]
  },
  {
   "cell_type": "markdown",
   "metadata": {
    "application/vnd.databricks.v1+cell": {
     "cellMetadata": {
      "byteLimit": 2048000,
      "rowLimit": 10000
     },
     "inputWidgets": {},
     "nuid": "c5c1c2cb-8525-4351-9233-455f9690762f",
     "showTitle": false,
     "tableResultSettingsMap": {},
     "title": ""
    }
   },
   "source": [
    "Por fim, o fato de uma música conter ou não conteúdo explícito não parece ser um fator determinante para sua popularidade, indicando que esse atributo tem pouca influência na preferência do público."
   ]
  }
 ],
 "metadata": {
  "application/vnd.databricks.v1+notebook": {
   "computePreferences": null,
   "dashboards": [],
   "environmentMetadata": {
    "base_environment": "",
    "environment_version": "1"
   },
   "inputWidgetPreferences": null,
   "language": "python",
   "notebookMetadata": {
    "mostRecentlyExecutedCommandWithImplicitDF": {
     "commandId": 1088828470938899,
     "dataframes": [
      "_sqldf"
     ]
    },
    "pythonIndentUnit": 4
   },
   "notebookName": "Spotify_MVP",
   "widgets": {}
  }
 },
 "nbformat": 4,
 "nbformat_minor": 0
}