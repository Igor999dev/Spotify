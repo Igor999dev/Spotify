{
 "cells": [
  {
   "cell_type": "markdown",
   "metadata": {
    "application/vnd.databricks.v1+cell": {
     "cellMetadata": {
      "byteLimit": 2048000,
      "rowLimit": 10000
     },
     "inputWidgets": {},
     "nuid": "87a31060-76e6-459f-aad9-77a9abae09e5",
     "showTitle": false,
     "tableResultSettingsMap": {},
     "title": ""
    }
   },
   "source": [
    "# **Análise de dados sobre os hábitos de escuta dos usuários do spotify**\n",
    "### **Aluno:** Igor Klippel Campos\n",
    "### **MVP (Produto Mínimo Viável) do Sprint:** Engenharia de Dados (40530010057_20250_01)\n",
    "\n",
    "Objetivos Principais:\n",
    "1. Analisar padrões nas músicas do Spotify Top 50\n",
    "2. Identificar relações entre atributos musicais e performance no ranking\n",
    "3. Comparar desempenho entre países/regiões\n",
    "\n",
    "Estrutura do Projeto:\n",
    "1. Carga e qualidade dos dados\n",
    "2. Modelagem em esquema estrela\n",
    "3. Análise exploratória\n",
    "4. Resposta às perguntas de negócio"
   ]
  },
  {
   "cell_type": "code",
   "execution_count": 0,
   "metadata": {
    "application/vnd.databricks.v1+cell": {
     "cellMetadata": {
      "byteLimit": 2048000,
      "rowLimit": 10000
     },
     "inputWidgets": {},
     "nuid": "b488ec8b-42e6-455c-b418-bec045a6088b",
     "showTitle": false,
     "tableResultSettingsMap": {},
     "title": ""
    }
   },
   "outputs": [],
   "source": [
    "# Bibliotecas essenciais\n",
    "from pyspark.sql import SparkSession\n",
    "from pyspark.sql.functions import *\n",
    "import matplotlib.pyplot as plt\n",
    "import seaborn as sns\n",
    "\n",
    "# Configurações de visualização\n",
    "plt.style.use('ggplot')\n",
    "sns.set_palette(\"husl\")\n",
    "\n",
    "# Inicializar Spark\n",
    "spark = (SparkSession.builder\n",
    "         .appName(\"Spotify_MVP\")\n",
    "         .config(\"spark.sql.legacy.timeParserPolicy\", \"LEGACY\")\n",
    "         .getOrCreate())"
   ]
  },
  {
   "cell_type": "code",
   "execution_count": 0,
   "metadata": {
    "application/vnd.databricks.v1+cell": {
     "cellMetadata": {
      "byteLimit": 2048000,
      "rowLimit": 10000
     },
     "inputWidgets": {},
     "nuid": "66816e46-92c5-4740-bc41-c16340a1dff8",
     "showTitle": false,
     "tableResultSettingsMap": {},
     "title": ""
    }
   },
   "outputs": [
    {
     "output_type": "stream",
     "name": "stdout",
     "output_type": "stream",
     "text": [
      "Camada bronze salva com sucesso!\n"
     ]
    },
    {
     "output_type": "display_data",
     "data": {
      "text/html": [
       "\n",
       "    <h3>Metadados da Fonte</h3>\n",
       "    <ul>\n",
       "      <li><b>Dataset:</b> Universal Top Spotify Songs</li>\n",
       "      <li><b>Origem:</b> Kaggle</li>\n",
       "      <li><b>Licença:</b> CC0: Public Domain</li>\n",
       "      <li><b>Período:</b> 2023-2024</li>\n",
       "    </ul>\n",
       "    "
      ]
     },
     "metadata": {
      "application/vnd.databricks.v1+output": {
       "addedWidgets": {},
       "arguments": {},
       "data": "\n    <h3>Metadados da Fonte</h3>\n    <ul>\n      <li><b>Dataset:</b> Universal Top Spotify Songs</li>\n      <li><b>Origem:</b> Kaggle</li>\n      <li><b>Licença:</b> CC0: Public Domain</li>\n      <li><b>Período:</b> 2023-2024</li>\n    </ul>\n    ",
       "datasetInfos": [],
       "metadata": {},
       "removedWidgets": [],
       "textData": null,
       "type": "htmlSandbox"
      }
     },
     "output_type": "display_data"
    }
   ],
   "source": [
    "BRONZE_PATH = \"dbfs:/mnt/spotify/bronze\"\n",
    "dbutils.fs.mkdirs(BRONZE_PATH)\n",
    "\n",
    "try:\n",
    "    bronze_df = (spark.read\n",
    "                .option(\"header\", \"true\")\n",
    "                .option(\"inferSchema\", \"true\")\n",
    "                .option(\"escape\", \"\\\"\")\n",
    "                .csv(\"dbfs:/FileStore/tables/universal_top_spotify_songs.csv\"))\n",
    "    \n",
    "    bronze_df.write.mode(\"overwrite\").format(\"delta\").save(\"dbfs:/mnt/spotify/bronze/universal_top_songs\")\n",
    "    print(\"Camada bronze salva com sucesso!\")\n",
    "    \n",
    "    # Documentação da fonte\n",
    "    displayHTML(\"\"\"\n",
    "    <h3>Metadados da Fonte</h3>\n",
    "    <ul>\n",
    "      <li><b>Dataset:</b> Universal Top Spotify Songs</li>\n",
    "      <li><b>Origem:</b> Kaggle</li>\n",
    "      <li><b>Licença:</b> CC0: Public Domain</li>\n",
    "      <li><b>Período:</b> 2023-2024</li>\n",
    "    </ul>\n",
    "    \"\"\")\n",
    "    \n",
    "except Exception as e:\n",
    "    print(f\"Erro na camada bronze: {str(e)}\")\n",
    "    raise"
   ]
  },
  {
   "cell_type": "code",
   "execution_count": 0,
   "metadata": {
    "application/vnd.databricks.v1+cell": {
     "cellMetadata": {
      "byteLimit": 2048000,
      "rowLimit": 10000
     },
     "inputWidgets": {},
     "nuid": "ac79c6f1-a688-4035-9a60-106075e3e6f3",
     "showTitle": false,
     "tableResultSettingsMap": {},
     "title": ""
    }
   },
   "outputs": [
    {
     "output_type": "stream",
     "name": "stdout",
     "output_type": "stream",
     "text": [
      "Análise de Qualidade:\n"
     ]
    },
    {
     "output_type": "display_data",
     "data": {
      "text/html": [
       "<style scoped>\n",
       "  .table-result-container {\n",
       "    max-height: 300px;\n",
       "    overflow: auto;\n",
       "  }\n",
       "  table, th, td {\n",
       "    border: 1px solid black;\n",
       "    border-collapse: collapse;\n",
       "  }\n",
       "  th, td {\n",
       "    padding: 5px;\n",
       "  }\n",
       "  th {\n",
       "    text-align: left;\n",
       "  }\n",
       "</style><div class='table-result-container'><table class='table-result'><thead style='background-color: white'><tr><th>spotify_id_nulls</th><th>name_nulls</th><th>artists_nulls</th><th>daily_rank_nulls</th><th>daily_movement_nulls</th><th>weekly_movement_nulls</th><th>country_nulls</th><th>snapshot_date_nulls</th><th>popularity_nulls</th><th>is_explicit_nulls</th><th>album_name_nulls</th><th>album_release_date_nulls</th><th>danceability_nulls</th><th>energy_nulls</th><th>key_nulls</th><th>loudness_nulls</th><th>mode_nulls</th><th>speechiness_nulls</th><th>acousticness_nulls</th><th>instrumentalness_nulls</th><th>liveness_nulls</th><th>valence_nulls</th><th>tempo_nulls</th><th>time_signature_nulls</th><th>artists_array_nulls</th><th>duration_min_nulls</th><th>is_global_nulls</th></tr></thead><tbody><tr><td>0</td><td>30</td><td>29</td><td>0</td><td>0</td><td>0</td><td>25557</td><td>0</td><td>0</td><td>0</td><td>822</td><td>659</td><td>0</td><td>0</td><td>0</td><td>0</td><td>0</td><td>0</td><td>0</td><td>0</td><td>0</td><td>0</td><td>0</td><td>0</td><td>29</td><td>0</td><td>0</td></tr></tbody></table></div>"
      ]
     },
     "metadata": {
      "application/vnd.databricks.v1+output": {
       "addedWidgets": {},
       "aggData": [],
       "aggError": "",
       "aggOverflow": false,
       "aggSchema": [],
       "aggSeriesLimitReached": false,
       "aggType": "",
       "arguments": {},
       "columnCustomDisplayInfos": {},
       "data": [
        [
         0,
         30,
         29,
         0,
         0,
         0,
         25557,
         0,
         0,
         0,
         822,
         659,
         0,
         0,
         0,
         0,
         0,
         0,
         0,
         0,
         0,
         0,
         0,
         0,
         29,
         0,
         0
        ]
       ],
       "datasetInfos": [],
       "dbfsResultPath": null,
       "isJsonSchema": true,
       "metadata": {},
       "overflow": false,
       "plotOptions": {
        "customPlotOptions": {},
        "displayType": "table",
        "pivotAggregation": null,
        "pivotColumns": null,
        "xColumns": null,
        "yColumns": null
       },
       "removedWidgets": [],
       "schema": [
        {
         "metadata": "{}",
         "name": "spotify_id_nulls",
         "type": "\"long\""
        },
        {
         "metadata": "{}",
         "name": "name_nulls",
         "type": "\"long\""
        },
        {
         "metadata": "{}",
         "name": "artists_nulls",
         "type": "\"long\""
        },
        {
         "metadata": "{}",
         "name": "daily_rank_nulls",
         "type": "\"long\""
        },
        {
         "metadata": "{}",
         "name": "daily_movement_nulls",
         "type": "\"long\""
        },
        {
         "metadata": "{}",
         "name": "weekly_movement_nulls",
         "type": "\"long\""
        },
        {
         "metadata": "{}",
         "name": "country_nulls",
         "type": "\"long\""
        },
        {
         "metadata": "{}",
         "name": "snapshot_date_nulls",
         "type": "\"long\""
        },
        {
         "metadata": "{}",
         "name": "popularity_nulls",
         "type": "\"long\""
        },
        {
         "metadata": "{}",
         "name": "is_explicit_nulls",
         "type": "\"long\""
        },
        {
         "metadata": "{}",
         "name": "album_name_nulls",
         "type": "\"long\""
        },
        {
         "metadata": "{}",
         "name": "album_release_date_nulls",
         "type": "\"long\""
        },
        {
         "metadata": "{}",
         "name": "danceability_nulls",
         "type": "\"long\""
        },
        {
         "metadata": "{}",
         "name": "energy_nulls",
         "type": "\"long\""
        },
        {
         "metadata": "{}",
         "name": "key_nulls",
         "type": "\"long\""
        },
        {
         "metadata": "{}",
         "name": "loudness_nulls",
         "type": "\"long\""
        },
        {
         "metadata": "{}",
         "name": "mode_nulls",
         "type": "\"long\""
        },
        {
         "metadata": "{}",
         "name": "speechiness_nulls",
         "type": "\"long\""
        },
        {
         "metadata": "{}",
         "name": "acousticness_nulls",
         "type": "\"long\""
        },
        {
         "metadata": "{}",
         "name": "instrumentalness_nulls",
         "type": "\"long\""
        },
        {
         "metadata": "{}",
         "name": "liveness_nulls",
         "type": "\"long\""
        },
        {
         "metadata": "{}",
         "name": "valence_nulls",
         "type": "\"long\""
        },
        {
         "metadata": "{}",
         "name": "tempo_nulls",
         "type": "\"long\""
        },
        {
         "metadata": "{}",
         "name": "time_signature_nulls",
         "type": "\"long\""
        },
        {
         "metadata": "{}",
         "name": "artists_array_nulls",
         "type": "\"long\""
        },
        {
         "metadata": "{}",
         "name": "duration_min_nulls",
         "type": "\"long\""
        },
        {
         "metadata": "{}",
         "name": "is_global_nulls",
         "type": "\"long\""
        }
       ],
       "type": "table"
      }
     },
     "output_type": "display_data"
    },
    {
     "output_type": "display_data",
     "data": {
      "text/html": [
       "<style scoped>\n",
       "  .table-result-container {\n",
       "    max-height: 300px;\n",
       "    overflow: auto;\n",
       "  }\n",
       "  table, th, td {\n",
       "    border: 1px solid black;\n",
       "    border-collapse: collapse;\n",
       "  }\n",
       "  th, td {\n",
       "    padding: 5px;\n",
       "  }\n",
       "  th {\n",
       "    text-align: left;\n",
       "  }\n",
       "</style><div class='table-result-container'><table class='table-result'><thead style='background-color: white'><tr><th>invalid_ranks</th><th>invalid_popularity</th></tr></thead><tbody><tr><td>0</td><td>0</td></tr></tbody></table></div>"
      ]
     },
     "metadata": {
      "application/vnd.databricks.v1+output": {
       "addedWidgets": {},
       "aggData": [],
       "aggError": "",
       "aggOverflow": false,
       "aggSchema": [],
       "aggSeriesLimitReached": false,
       "aggType": "",
       "arguments": {},
       "columnCustomDisplayInfos": {},
       "data": [
        [
         0,
         0
        ]
       ],
       "datasetInfos": [],
       "dbfsResultPath": null,
       "isJsonSchema": true,
       "metadata": {},
       "overflow": false,
       "plotOptions": {
        "customPlotOptions": {},
        "displayType": "table",
        "pivotAggregation": null,
        "pivotColumns": null,
        "xColumns": null,
        "yColumns": null
       },
       "removedWidgets": [],
       "schema": [
        {
         "metadata": "{}",
         "name": "invalid_ranks",
         "type": "\"long\""
        },
        {
         "metadata": "{}",
         "name": "invalid_popularity",
         "type": "\"long\""
        }
       ],
       "type": "table"
      }
     },
     "output_type": "display_data"
    },
    {
     "output_type": "stream",
     "name": "stdout",
     "output_type": "stream",
     "text": [
      "Camada silver salva com sucesso!\n"
     ]
    }
   ],
   "source": [
    "# 3. Camada Silver (Processed Data)\n",
    "SILVER_PATH = \"dbfs:/mnt/spotify/silver\"\n",
    "dbutils.fs.mkdirs(SILVER_PATH)\n",
    "\n",
    "# Transformações\n",
    "silver_df = (bronze_df\n",
    "    .withColumn(\"artists_array\", split(col(\"artists\"), \",\\s*\"))\n",
    "    .withColumn(\"duration_min\", round(col(\"duration_ms\")/60000, 2))\n",
    "    .withColumn(\"snapshot_date\", to_date(col(\"snapshot_date\"), \"yyyy-MM-dd\"))\n",
    "    .withColumn(\"is_global\", when(col(\"country\").isNull(), 1).otherwise(0))\n",
    "    .drop(\"duration_ms\")\n",
    ")\n",
    "\n",
    "# Controle de qualidade\n",
    "def data_quality_check(df):\n",
    "    from pyspark.sql.functions import col, sum as spark_sum\n",
    "    \n",
    "    # Verificação de nulos\n",
    "    null_report = df.select([\n",
    "        spark_sum(col(c).isNull().cast(\"int\")).alias(f\"{c}_nulls\") \n",
    "        for c in df.columns\n",
    "    ])\n",
    "    \n",
    "    # Verificação de domínios\n",
    "    domain_check = df.select(\n",
    "        count(when(~col(\"daily_rank\").between(1, 50), True)).alias(\"invalid_ranks\"),\n",
    "        count(when(~col(\"popularity\").between(0, 100), True)).alias(\"invalid_popularity\")\n",
    "    )\n",
    "    \n",
    "    display(null_report)\n",
    "    display(domain_check)\n",
    "\n",
    "print(\"Análise de Qualidade:\")\n",
    "data_quality_check(silver_df)\n",
    "\n",
    "# Persistência\n",
    "silver_df.write.mode(\"overwrite\").format(\"delta\").save(\"dbfs:/mnt/spotify/silver/processed_songs\")\n",
    "print(\"Camada silver salva com sucesso!\")"
   ]
  },
  {
   "cell_type": "code",
   "execution_count": 0,
   "metadata": {
    "application/vnd.databricks.v1+cell": {
     "cellMetadata": {
      "byteLimit": 2048000,
      "rowLimit": 10000
     },
     "inputWidgets": {},
     "nuid": "a00e6f03-d2e7-4e14-a59f-d8531e61524a",
     "showTitle": false,
     "tableResultSettingsMap": {},
     "title": ""
    }
   },
   "outputs": [
    {
     "output_type": "stream",
     "name": "stdout",
     "output_type": "stream",
     "text": [
      "✅ Camada Gold persistida com sucesso em: dbfs:/mnt/spotify/gold\n\n📝 Estrutura criada:\n"
     ]
    },
    {
     "output_type": "display_data",
     "data": {
      "text/html": [
       "<style scoped>\n",
       "  .table-result-container {\n",
       "    max-height: 300px;\n",
       "    overflow: auto;\n",
       "  }\n",
       "  table, th, td {\n",
       "    border: 1px solid black;\n",
       "    border-collapse: collapse;\n",
       "  }\n",
       "  th, td {\n",
       "    padding: 5px;\n",
       "  }\n",
       "  th {\n",
       "    text-align: left;\n",
       "  }\n",
       "</style><div class='table-result-container'><table class='table-result'><thead style='background-color: white'><tr><th>path</th><th>name</th><th>size</th><th>modificationTime</th></tr></thead><tbody><tr><td>dbfs:/mnt/spotify/gold/dim_artists/</td><td>dim_artists/</td><td>0</td><td>0</td></tr><tr><td>dbfs:/mnt/spotify/gold/dim_country/</td><td>dim_country/</td><td>0</td><td>0</td></tr><tr><td>dbfs:/mnt/spotify/gold/dim_time/</td><td>dim_time/</td><td>0</td><td>0</td></tr><tr><td>dbfs:/mnt/spotify/gold/fact_songs/</td><td>fact_songs/</td><td>0</td><td>0</td></tr></tbody></table></div>"
      ]
     },
     "metadata": {
      "application/vnd.databricks.v1+output": {
       "addedWidgets": {},
       "aggData": [],
       "aggError": "",
       "aggOverflow": false,
       "aggSchema": [],
       "aggSeriesLimitReached": false,
       "aggType": "",
       "arguments": {},
       "columnCustomDisplayInfos": {},
       "data": [
        [
         "dbfs:/mnt/spotify/gold/dim_artists/",
         "dim_artists/",
         0,
         0
        ],
        [
         "dbfs:/mnt/spotify/gold/dim_country/",
         "dim_country/",
         0,
         0
        ],
        [
         "dbfs:/mnt/spotify/gold/dim_time/",
         "dim_time/",
         0,
         0
        ],
        [
         "dbfs:/mnt/spotify/gold/fact_songs/",
         "fact_songs/",
         0,
         0
        ]
       ],
       "datasetInfos": [],
       "dbfsResultPath": null,
       "isJsonSchema": true,
       "metadata": {},
       "overflow": false,
       "plotOptions": {
        "customPlotOptions": {},
        "displayType": "table",
        "pivotAggregation": null,
        "pivotColumns": null,
        "xColumns": null,
        "yColumns": null
       },
       "removedWidgets": [],
       "schema": [
        {
         "metadata": "{}",
         "name": "path",
         "type": "\"string\""
        },
        {
         "metadata": "{}",
         "name": "name",
         "type": "\"string\""
        },
        {
         "metadata": "{}",
         "name": "size",
         "type": "\"long\""
        },
        {
         "metadata": "{}",
         "name": "modificationTime",
         "type": "\"long\""
        }
       ],
       "type": "table"
      }
     },
     "output_type": "display_data"
    },
    {
     "output_type": "stream",
     "name": "stdout",
     "output_type": "stream",
     "text": [
      "\n🔍 Contagem de registros:\n- Artistas: 11177\n- Datas: 516\n- Países: 73\n- Músicas: 2982295\n"
     ]
    }
   ],
   "source": [
    "# Definir caminhos\n",
    "GOLD_PATH = \"dbfs:/mnt/spotify/gold\"\n",
    "dbutils.fs.mkdirs(GOLD_PATH)\n",
    "\n",
    "# Configuração do Delta Lake para evitar problemas de schema\n",
    "spark.conf.set(\"spark.databricks.delta.schema.autoMerge.enabled\", \"true\")\n",
    "\n",
    "# 1. DIMENSÃO DE ARTISTAS\n",
    "\n",
    "dim_artists = (silver_df\n",
    "              .select(explode(col(\"artists_array\")).alias(\"artist_name\"))\n",
    "              .distinct()\n",
    "              .withColumn(\"artist_id\", sha2(col(\"artist_name\"), 256))\n",
    "              .select(\"artist_id\", \"artist_name\"))  # Ordem consistente\n",
    "\n",
    "# 2. DIMENSÃO DE TEMPO (COM ORDEM FIXA)\n",
    "\n",
    "dim_time = (silver_df\n",
    "           .select(\n",
    "               col(\"snapshot_date\").alias(\"date\"),\n",
    "               year(col(\"snapshot_date\")).alias(\"year\"),\n",
    "               month(col(\"snapshot_date\")).alias(\"month\"),\n",
    "               dayofmonth(col(\"snapshot_date\")).alias(\"day\"),\n",
    "               quarter(col(\"snapshot_date\")).alias(\"quarter\"),\n",
    "               dayofweek(col(\"snapshot_date\")).alias(\"day_of_week\"),\n",
    "               weekofyear(col(\"snapshot_date\")).alias(\"week_of_year\")\n",
    "           )\n",
    "           .distinct()\n",
    "           .select(\n",
    "               \"date\", \"year\", \"month\", \"day\", \n",
    "               \"quarter\", \"day_of_week\", \"week_of_year\"\n",
    "           ))  # Ordem fixa\n",
    "\n",
    "# 3. DIMENSÃO DE PAÍS\n",
    "\n",
    "dim_country = (silver_df\n",
    "              .select(\n",
    "                  coalesce(col(\"country\"), lit(\"GLB\")).alias(\"country_code\"),\n",
    "                  col(\"is_global\"),\n",
    "                  when(col(\"country\").isNull(), \"Global\")\n",
    "                    .otherwise(concat(col(\"country\"), lit(\" Country\"))).alias(\"country_name\")\n",
    "              )\n",
    "              .distinct()\n",
    "              .select(\"country_code\", \"country_name\", \"is_global\"))  # Ordem fixa\n",
    "\n",
    "# 4. TABELA FATO (COM JOIN OTIMIZADO)\n",
    "\n",
    "fact_songs = (silver_df\n",
    "             .withColumnRenamed(\"snapshot_date\", \"date\")\n",
    "             .withColumn(\"country_code\", coalesce(col(\"country\"), lit(\"GLB\")))\n",
    "             .join(broadcast(dim_artists), \n",
    "                  array_contains(col(\"artists_array\"), col(\"artist_name\")), \n",
    "                  \"left\")\n",
    "             .select(\n",
    "                 col(\"spotify_id\"),\n",
    "                 col(\"date\"),\n",
    "                 col(\"country_code\"),\n",
    "                 col(\"artist_id\"),\n",
    "                 col(\"daily_rank\"),\n",
    "                 col(\"popularity\"),\n",
    "                 col(\"danceability\"),\n",
    "                 col(\"energy\"),\n",
    "                 col(\"duration_min\"),\n",
    "                 col(\"is_explicit\"),\n",
    "                 col(\"loudness\"),\n",
    "                 col(\"valence\")\n",
    "             )\n",
    "             .orderBy(\"date\", \"daily_rank\"))  # Ordenação para partição\n",
    "\n",
    "# PERSISTÊNCIA COM CONTROLE DE ERROS\n",
    "\n",
    "try:\n",
    "    # Limpar diretórios existentes para escrita limpa\n",
    "    dbutils.fs.rm(f\"{GOLD_PATH}/dim_artists\", recurse=True)\n",
    "    dbutils.fs.rm(f\"{GOLD_PATH}/dim_time\", recurse=True)\n",
    "    dbutils.fs.rm(f\"{GOLD_PATH}/dim_country\", recurse=True)\n",
    "    dbutils.fs.rm(f\"{GOLD_PATH}/fact_songs\", recurse=True)\n",
    "    \n",
    "    # Escrever tabelas com schema merging\n",
    "    (dim_artists.write\n",
    "     .mode(\"overwrite\")\n",
    "     .format(\"delta\")\n",
    "     .option(\"overwriteSchema\", \"true\")\n",
    "     .save(f\"{GOLD_PATH}/dim_artists\"))\n",
    "    \n",
    "    (dim_time.write\n",
    "     .mode(\"overwrite\")\n",
    "     .format(\"delta\")\n",
    "     .option(\"overwriteSchema\", \"true\")\n",
    "     .save(f\"{GOLD_PATH}/dim_time\"))\n",
    "    \n",
    "    (dim_country.write\n",
    "     .mode(\"overwrite\")\n",
    "     .format(\"delta\")\n",
    "     .option(\"overwriteSchema\", \"true\")\n",
    "     .save(f\"{GOLD_PATH}/dim_country\"))\n",
    "    \n",
    "    (fact_songs.write\n",
    "     .mode(\"overwrite\")\n",
    "     .format(\"delta\")\n",
    "     .option(\"overwriteSchema\", \"true\")\n",
    "     .partitionBy(\"date\")\n",
    "     .save(f\"{GOLD_PATH}/fact_songs\"))\n",
    "    \n",
    "    # Verificação final\n",
    "    print(f\"Camada Gold persistida com sucesso em: {GOLD_PATH}\")\n",
    "    print(\"\\nEstrutura criada:\")\n",
    "    display(dbutils.fs.ls(GOLD_PATH))\n",
    "    \n",
    "    print(\"\\nContagem de registros:\")\n",
    "    print(f\"- Artistas: {spark.read.format('delta').load(f'{GOLD_PATH}/dim_artists').count()}\")\n",
    "    print(f\"- Datas: {spark.read.format('delta').load(f'{GOLD_PATH}/dim_time').count()}\")\n",
    "    print(f\"- Países: {spark.read.format('delta').load(f'{GOLD_PATH}/dim_country').count()}\")\n",
    "    print(f\"- Músicas: {spark.read.format('delta').load(f'{GOLD_PATH}/fact_songs').count()}\")\n",
    "    \n",
    "except Exception as e:\n",
    "    print(f\"Erro crítico ao persistir camada Gold: {str(e)}\")\n",
    "\n",
    "    # Tentativa de limpeza em caso de falha\n",
    "\n",
    "    dbutils.fs.rm(GOLD_PATH, recurse=True)\n",
    "    raise"
   ]
  },
  {
   "cell_type": "code",
   "execution_count": 0,
   "metadata": {
    "application/vnd.databricks.v1+cell": {
     "cellMetadata": {
      "byteLimit": 2048000,
      "rowLimit": 10000
     },
     "inputWidgets": {},
     "nuid": "93eb2a7a-cabd-404a-9d32-cc9252b62d57",
     "showTitle": false,
     "tableResultSettingsMap": {},
     "title": ""
    }
   },
   "outputs": [
    {
     "output_type": "display_data",
     "data": {
      "text/html": [
       "<style scoped>\n",
       "  .table-result-container {\n",
       "    max-height: 300px;\n",
       "    overflow: auto;\n",
       "  }\n",
       "  table, th, td {\n",
       "    border: 1px solid black;\n",
       "    border-collapse: collapse;\n",
       "  }\n",
       "  th, td {\n",
       "    padding: 5px;\n",
       "  }\n",
       "  th {\n",
       "    text-align: left;\n",
       "  }\n",
       "</style><div class='table-result-container'><table class='table-result'><thead style='background-color: white'><tr><th>is_explicit</th><th>avg_rank</th><th>avg_popularity</th></tr></thead><tbody><tr><td>true</td><td>24.993011937003992</td><td>77.44048723052693</td></tr><tr><td>false</td><td>25.660481828261542</td><td>74.13906557564599</td></tr></tbody></table></div>"
      ]
     },
     "metadata": {
      "application/vnd.databricks.v1+output": {
       "addedWidgets": {},
       "aggData": [],
       "aggError": "",
       "aggOverflow": false,
       "aggSchema": [],
       "aggSeriesLimitReached": false,
       "aggType": "",
       "arguments": {},
       "columnCustomDisplayInfos": {},
       "data": [
        [
         true,
         24.993011937003992,
         77.44048723052693
        ],
        [
         false,
         25.660481828261542,
         74.13906557564599
        ]
       ],
       "datasetInfos": [],
       "dbfsResultPath": null,
       "isJsonSchema": true,
       "metadata": {},
       "overflow": false,
       "plotOptions": {
        "customPlotOptions": {},
        "displayType": "table",
        "pivotAggregation": null,
        "pivotColumns": null,
        "xColumns": null,
        "yColumns": null
       },
       "removedWidgets": [],
       "schema": [
        {
         "metadata": "{}",
         "name": "is_explicit",
         "type": "\"boolean\""
        },
        {
         "metadata": "{}",
         "name": "avg_rank",
         "type": "\"double\""
        },
        {
         "metadata": "{}",
         "name": "avg_popularity",
         "type": "\"double\""
        }
       ],
       "type": "table"
      }
     },
     "output_type": "display_data"
    },
    {
     "output_type": "display_data",
     "data": {
      "image/png": "[encoded data removed]"
     },
     "metadata": {
      "application/vnd.databricks.v1+output": {
       "addedWidgets": {},
       "arguments": {},
       "data": "data:image/png;base64,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\n",
       "datasetInfos": [],
       "metadata": {},
       "removedWidgets": [],
       "type": "image"
      }
     },
     "output_type": "display_data"
    }
   ],
   "source": [
    "# Consulta 1: Relação entre explicit e popularidade\n",
    "analysis1 = spark.sql(\"\"\"\n",
    "SELECT \n",
    "    is_explicit,\n",
    "    AVG(daily_rank) as avg_rank,\n",
    "    AVG(popularity) as avg_popularity\n",
    "FROM delta.`dbfs:/mnt/spotify/gold/fact_songs`\n",
    "GROUP BY is_explicit\n",
    "\"\"\")\n",
    "\n",
    "display(analysis1)\n",
    "\n",
    "# Visualização\n",
    "plt.figure(figsize=(8,5))\n",
    "sns.barplot(x=\"is_explicit\", y=\"avg_rank\", data=analysis1.toPandas())\n",
    "plt.title(\"Ranking Médio por Conteúdo Explícito\")\n",
    "plt.show()"
   ]
  },
  {
   "cell_type": "code",
   "execution_count": 0,
   "metadata": {
    "application/vnd.databricks.v1+cell": {
     "cellMetadata": {
      "byteLimit": 2048000,
      "rowLimit": 10000
     },
     "inputWidgets": {},
     "nuid": "f8258abb-7a83-410d-97fc-ac51d404fe70",
     "showTitle": false,
     "tableResultSettingsMap": {},
     "title": ""
    }
   },
   "outputs": [
    {
     "output_type": "display_data",
     "data": {
      "text/plain": [
       ""
      ]
     },
     "metadata": {
      "application/vnd.databricks.v1+output": {
       "arguments": {},
       "data": "",
       "errorSummary": "Command skipped",
       "errorTraceType": "ansi",
       "metadata": {},
       "type": "ipynbError"
      }
     },
     "output_type": "display_data"
    }
   ],
   "source": [
    "# 6. CATÁLOGO DE DADOS ========================================================\n",
    "displayHTML(\"\"\"\n",
    "<h2>CATÁLOGO DE DADOS</h2>\n",
    "\n",
    "<h3>fact_songs</h3>\n",
    "<table border=\"1\">\n",
    "  <tr>\n",
    "    <th>Coluna</th>\n",
    "    <th>Tipo</th>\n",
    "    <th>Descrição</th>\n",
    "    <th>Domínio</th>\n",
    "  </tr>\n",
    "  <tr>\n",
    "    <td>daily_rank</td>\n",
    "    <td>integer</td>\n",
    "    <td>Posição no ranking diário</td>\n",
    "    <td>1-50</td>\n",
    "  </tr>\n",
    "  <tr>\n",
    "    <td>danceability</td>\n",
    "    <td>float</td>\n",
    "    <td>Índice de dançabilidade</td>\n",
    "    <td>0.0-1.0</td>\n",
    "  </tr>\n",
    "  <!-- Adicione outras colunas -->\n",
    "</table>\n",
    "\n",
    "<h3>Linhas de Dados</h3>\n",
    "<ul>\n",
    "  <li>Origem: Kaggle (Universal Top Spotify Songs)</li>\n",
    "  <li>Transformações: Conversão de milissegundos para minutos, normalização de artistas</li>\n",
    "</ul>\n",
    "\"\"\")"
   ]
  },
  {
   "cell_type": "code",
   "execution_count": 0,
   "metadata": {
    "application/vnd.databricks.v1+cell": {
     "cellMetadata": {
      "byteLimit": 2048000,
      "rowLimit": 10000
     },
     "inputWidgets": {},
     "nuid": "02a15a4c-366c-4ddc-bc06-65e21d7be134",
     "showTitle": false,
     "tableResultSettingsMap": {},
     "title": ""
    }
   },
   "outputs": [
    {
     "output_type": "display_data",
     "data": {
      "text/plain": [
       ""
      ]
     },
     "metadata": {
      "application/vnd.databricks.v1+output": {
       "arguments": {},
       "data": "",
       "errorSummary": "Command skipped",
       "errorTraceType": "ansi",
       "metadata": {},
       "type": "ipynbError"
      }
     },
     "output_type": "display_data"
    }
   ],
   "source": [
    "# 7. AUTOAVALIAÇÃO ============================================================\n",
    "displayHTML(\"\"\"\n",
    "<h2>AUTOAVALIAÇÃO</h2>\n",
    "\n",
    "<h3>Objetivos Alcançados</h3>\n",
    "<ul>\n",
    "  <li>✅ Modelagem dimensional completa (esquema estrela)</li>\n",
    "  <li>✅ Pipeline ETL documentado</li>\n",
    "  <li>✅ 3/5 perguntas respondidas</li>\n",
    "</ul>\n",
    "\n",
    "<h3>Dificuldades</h3>\n",
    "<ul>\n",
    "  <li>Limitação na análise temporal (dados diários)</li>\n",
    "  <li>Restrições na Community Edition para processamento</li>\n",
    "</ul>\n",
    "\n",
    "<h3>Melhorias Futuras</h3>\n",
    "<ul>\n",
    "  <li>Incluir dados demográficos por país</li>\n",
    "  <li>Analisar tendências temporais mais longas</li>\n",
    "</ul>\n",
    "\"\"\")\n"
   ]
  },
  {
   "cell_type": "code",
   "execution_count": 0,
   "metadata": {
    "application/vnd.databricks.v1+cell": {
     "cellMetadata": {
      "byteLimit": 2048000,
      "rowLimit": 10000
     },
     "inputWidgets": {},
     "nuid": "1e0be200-6232-43f8-b422-21676dd26fb8",
     "showTitle": false,
     "tableResultSettingsMap": {},
     "title": ""
    }
   },
   "outputs": [
    {
     "output_type": "display_data",
     "data": {
      "text/plain": [
       ""
      ]
     },
     "metadata": {
      "application/vnd.databricks.v1+output": {
       "arguments": {},
       "data": "",
       "errorSummary": "Command skipped",
       "errorTraceType": "ansi",
       "metadata": {},
       "type": "ipynbError"
      }
     },
     "output_type": "display_data"
    }
   ],
   "source": [
    "# 8. EVIDÊNCIAS ==============================================================\n",
    "# Célula para screenshots (executar manualmente)\n",
    "print(\"Evidências de execução:\")\n",
    "print(\"1. Screenshot do schema final - /tmp/schema.png\")\n",
    "print(\"2. Screenshot dos resultados - /tmp/results.png\")"
   ]
  },
  {
   "cell_type": "code",
   "execution_count": 0,
   "metadata": {
    "application/vnd.databricks.v1+cell": {
     "cellMetadata": {
      "byteLimit": 2048000,
      "rowLimit": 10000
     },
     "inputWidgets": {},
     "nuid": "4e2ac82e-0d53-48e0-bfe9-9a784b45128c",
     "showTitle": false,
     "tableResultSettingsMap": {
      "0": {
       "filterBlob": "{\"filterGroups\":[],\"syncTimestamp\":1743367807764}",
       "tableResultIndex": 0
      }
     },
     "title": ""
    }
   },
   "outputs": [
    {
     "output_type": "display_data",
     "data": {
      "text/html": [
       "<style scoped>\n",
       "  .table-result-container {\n",
       "    max-height: 300px;\n",
       "    overflow: auto;\n",
       "  }\n",
       "  table, th, td {\n",
       "    border: 1px solid black;\n",
       "    border-collapse: collapse;\n",
       "  }\n",
       "  th, td {\n",
       "    padding: 5px;\n",
       "  }\n",
       "  th {\n",
       "    text-align: left;\n",
       "  }\n",
       "</style><div class='table-result-container'><table class='table-result'><thead style='background-color: white'><tr><th>country_code</th><th>artist_name</th><th>appearances</th><th>avg_rank</th></tr></thead><tbody><tr><td>AE</td><td>The Weeknd</td><td>1706</td><td>24.639507620164128</td></tr><tr><td>AE</td><td>SZA</td><td>1172</td><td>30.013651877133107</td></tr><tr><td>AE</td><td>Jung Kook</td><td>1056</td><td>22.605113636363637</td></tr><tr><td>AE</td><td>Playboi Carti</td><td>1001</td><td>19.145854145854145</td></tr><tr><td>AE</td><td>Taylor Swift</td><td>988</td><td>25.62854251012146</td></tr><tr><td>AE</td><td>Jin</td><td>981</td><td>17.56269113149847</td></tr><tr><td>AE</td><td>Billie Eilish</td><td>963</td><td>20.031152647975077</td></tr><tr><td>AE</td><td>Sabrina Carpenter</td><td>937</td><td>17.22198505869797</td></tr><tr><td>AE</td><td>Travis Scott</td><td>800</td><td>29.2825</td></tr><tr><td>AE</td><td>Kendrick Lamar</td><td>759</td><td>18.914361001317523</td></tr><tr><td>AE</td><td>Coldplay</td><td>640</td><td>29.2296875</td></tr><tr><td>AE</td><td>Metro Boomin</td><td>624</td><td>31.996794871794872</td></tr><tr><td>AE</td><td>JENNIE</td><td>604</td><td>20.038079470198674</td></tr><tr><td>AE</td><td>Ariana Grande</td><td>554</td><td>23.989169675090253</td></tr><tr><td>AE</td><td>Drake</td><td>528</td><td>31.223484848484848</td></tr><tr><td>AE</td><td>Bruno Mars</td><td>501</td><td>13.347305389221557</td></tr><tr><td>AE</td><td>Lily-Rose Depp</td><td>496</td><td>19.00201612903226</td></tr><tr><td>AE</td><td>Latto</td><td>459</td><td>16.48148148148148</td></tr><tr><td>AE</td><td>Future</td><td>444</td><td>29.88963963963964</td></tr><tr><td>AE</td><td>Arijit Singh</td><td>437</td><td>24.89016018306636</td></tr><tr><td>AE</td><td>Tyla</td><td>375</td><td>22.602666666666668</td></tr><tr><td>AE</td><td>Arctic Monkeys</td><td>371</td><td>33.26954177897574</td></tr><tr><td>AE</td><td>Jack Harlow</td><td>370</td><td>21.705405405405404</td></tr><tr><td>AE</td><td>Don Toliver</td><td>367</td><td>34.02724795640327</td></tr><tr><td>AE</td><td>Benson Boone</td><td>364</td><td>20.085164835164836</td></tr><tr><td>AE</td><td>Tate McRae</td><td>351</td><td>18.871794871794872</td></tr><tr><td>AE</td><td>V</td><td>350</td><td>27.86</td></tr><tr><td>AE</td><td>Dionela</td><td>346</td><td>22.248554913294797</td></tr><tr><td>AE</td><td>Daft Punk</td><td>334</td><td>33.68562874251497</td></tr><tr><td>AE</td><td>Teddy Swims</td><td>309</td><td>31.23948220064725</td></tr><tr><td>AE</td><td>Doja Cat</td><td>304</td><td>19.960526315789473</td></tr><tr><td>AE</td><td>21 Savage</td><td>293</td><td>28.160409556313994</td></tr><tr><td>AE</td><td>Dua Lipa</td><td>279</td><td>33.204301075268816</td></tr><tr><td>AE</td><td>Djo</td><td>278</td><td>21.31294964028777</td></tr><tr><td>AE</td><td>Anuv Jain</td><td>277</td><td>23.422382671480143</td></tr><tr><td>AE</td><td>Central Cee</td><td>277</td><td>21.862815884476536</td></tr><tr><td>AE</td><td>Chappell Roan</td><td>272</td><td>19.091911764705884</td></tr><tr><td>AE</td><td>Hozier</td><td>262</td><td>21.454198473282442</td></tr><tr><td>AE</td><td>Anirudh Ravichander</td><td>252</td><td>23.96031746031746</td></tr><tr><td>AE</td><td>Orso</td><td>245</td><td>22.318367346938775</td></tr><tr><td>AE</td><td>Malachiii</td><td>245</td><td>22.318367346938775</td></tr><tr><td>AE</td><td>Stryv</td><td>245</td><td>22.318367346938775</td></tr><tr><td>AE</td><td>Adam Port</td><td>245</td><td>22.318367346938775</td></tr><tr><td>AE</td><td>Keinemusik</td><td>245</td><td>22.318367346938775</td></tr><tr><td>AE</td><td>Lady Gaga</td><td>239</td><td>6.644351464435147</td></tr><tr><td>AE</td><td>One Direction</td><td>238</td><td>37.96638655462185</td></tr><tr><td>AE</td><td>Harry Styles</td><td>237</td><td>31.447257383966246</td></tr><tr><td>AE</td><td>Mitski</td><td>229</td><td>13.825327510917031</td></tr><tr><td>AE</td><td>Jay R</td><td>228</td><td>25.153508771929825</td></tr><tr><td>AE</td><td>Gracie Abrams</td><td>220</td><td>21.081818181818182</td></tr><tr><td>AE</td><td>Madonna</td><td>214</td><td>18.425233644859812</td></tr><tr><td>AE</td><td>Vinayak Sasikumar</td><td>210</td><td>29.942857142857143</td></tr><tr><td>AE</td><td>FloyyMenor</td><td>198</td><td>15.98989898989899</td></tr><tr><td>AE</td><td>Cris Mj</td><td>198</td><td>15.98989898989899</td></tr><tr><td>AE</td><td>Sushin Shyam</td><td>189</td><td>29.015873015873016</td></tr><tr><td>AE</td><td>Gigi Perez</td><td>187</td><td>22.02139037433155</td></tr><tr><td>AE</td><td>Ty Dolla $ign</td><td>184</td><td>20.92391304347826</td></tr><tr><td>AE</td><td>Kanye West</td><td>182</td><td>20.675824175824175</td></tr><tr><td>AE</td><td>Tommy Richman</td><td>182</td><td>16.895604395604394</td></tr><tr><td>AE</td><td>Jimin</td><td>179</td><td>20.463687150837988</td></tr><tr><td>AE</td><td>Dabzee</td><td>174</td><td>29.022988505747126</td></tr><tr><td>AE</td><td>ROSÉ</td><td>171</td><td>7.894736842105263</td></tr><tr><td>AE</td><td>Arash</td><td>168</td><td>39.55357142857143</td></tr><tr><td>AE</td><td>Topic</td><td>168</td><td>39.55357142857143</td></tr><tr><td>AE</td><td>HUGEL</td><td>168</td><td>39.55357142857143</td></tr><tr><td>AE</td><td>The Neighbourhood</td><td>168</td><td>40.79761904761905</td></tr><tr><td>AE</td><td>Daecolm</td><td>168</td><td>39.55357142857143</td></tr><tr><td>AE</td><td>Artemas</td><td>159</td><td>20.037735849056602</td></tr><tr><td>AE</td><td>Kenya Grace</td><td>158</td><td>14.829113924050633</td></tr><tr><td>AE</td><td>Lola Young</td><td>156</td><td>29.96794871794872</td></tr><tr><td>AE</td><td>BINI</td><td>153</td><td>38.705882352941174</td></tr><tr><td>AE</td><td>Shilpa Rao</td><td>150</td><td>18.02</td></tr><tr><td>AE</td><td>Justin Bieber</td><td>150</td><td>40.026666666666664</td></tr><tr><td>AE</td><td>Kumaar</td><td>149</td><td>17.80536912751678</td></tr><tr><td>AE</td><td>Selena Gomez</td><td>146</td><td>28.184931506849313</td></tr><tr><td>AE</td><td>Rema</td><td>145</td><td>28.03448275862069</td></tr><tr><td>AE</td><td>Post Malone</td><td>144</td><td>27.305555555555557</td></tr><tr><td>AE</td><td>¥$</td><td>139</td><td>20.546762589928058</td></tr><tr><td>AE</td><td>Gunna</td><td>138</td><td>28.130434782608695</td></tr><tr><td>AE</td><td>Yeat</td><td>137</td><td>28.72992700729927</td></tr><tr><td>AE</td><td>Wizkid</td><td>136</td><td>39.713235294117645</td></tr><tr><td>AE</td><td>Prashant Pandey</td><td>136</td><td>27.573529411764707</td></tr><tr><td>AE</td><td>Ram Sampath</td><td>136</td><td>27.573529411764707</td></tr><tr><td>AE</td><td>Kyla</td><td>136</td><td>39.713235294117645</td></tr><tr><td>AE</td><td>Sai Abhyankkar</td><td>128</td><td>23.890625</td></tr><tr><td>AE</td><td>Mitraz</td><td>123</td><td>26.065040650406505</td></tr><tr><td>AE</td><td>Maki</td><td>122</td><td>25.934426229508198</td></tr><tr><td>AE</td><td>Tory Lanez</td><td>121</td><td>37.099173553719005</td></tr><tr><td>AE</td><td>The Kid LAROI</td><td>116</td><td>37.87068965517241</td></tr><tr><td>AE</td><td>Olivia Rodrigo</td><td>115</td><td>32.904347826086955</td></tr><tr><td>AE</td><td>Dave</td><td>113</td><td>21.38053097345133</td></tr><tr><td>AE</td><td>Lefty Gunplay</td><td>111</td><td>27.63963963963964</td></tr><tr><td>AE</td><td>Taka</td><td>110</td><td>11.127272727272727</td></tr><tr><td>AE</td><td>Miley Cyrus</td><td>107</td><td>38.39252336448598</td></tr><tr><td>AE</td><td>Hanumankind</td><td>107</td><td>17.39252336448598</td></tr><tr><td>AE</td><td>Myles Smith</td><td>106</td><td>40.43396226415094</td></tr><tr><td>AE</td><td>Vishal Mishra</td><td>105</td><td>19.057142857142857</td></tr><tr><td>AE</td><td>Raj Shekhar</td><td>105</td><td>19.057142857142857</td></tr><tr><td>AE</td><td>The Chainsmokers</td><td>104</td><td>31.0</td></tr><tr><td>AE</td><td>Lil Baby</td><td>101</td><td>18.81188118811881</td></tr></tbody></table></div>"
      ]
     },
     "metadata": {
      "application/vnd.databricks.v1+output": {
       "addedWidgets": {},
       "aggData": [],
       "aggError": "",
       "aggOverflow": false,
       "aggSchema": [],
       "aggSeriesLimitReached": false,
       "aggType": "",
       "arguments": {},
       "columnCustomDisplayInfos": {},
       "data": [
        [
         "AE",
         "The Weeknd",
         1706,
         24.639507620164128
        ],
        [
         "AE",
         "SZA",
         1172,
         30.013651877133107
        ],
        [
         "AE",
         "Jung Kook",
         1056,
         22.605113636363637
        ],
        [
         "AE",
         "Playboi Carti",
         1001,
         19.145854145854145
        ],
        [
         "AE",
         "Taylor Swift",
         988,
         25.62854251012146
        ],
        [
         "AE",
         "Jin",
         981,
         17.56269113149847
        ],
        [
         "AE",
         "Billie Eilish",
         963,
         20.031152647975077
        ],
        [
         "AE",
         "Sabrina Carpenter",
         937,
         17.22198505869797
        ],
        [
         "AE",
         "Travis Scott",
         800,
         29.2825
        ],
        [
         "AE",
         "Kendrick Lamar",
         759,
         18.914361001317523
        ],
        [
         "AE",
         "Coldplay",
         640,
         29.2296875
        ],
        [
         "AE",
         "Metro Boomin",
         624,
         31.996794871794872
        ],
        [
         "AE",
         "JENNIE",
         604,
         20.038079470198674
        ],
        [
         "AE",
         "Ariana Grande",
         554,
         23.989169675090253
        ],
        [
         "AE",
         "Drake",
         528,
         31.223484848484848
        ],
        [
         "AE",
         "Bruno Mars",
         501,
         13.347305389221557
        ],
        [
         "AE",
         "Lily-Rose Depp",
         496,
         19.00201612903226
        ],
        [
         "AE",
         "Latto",
         459,
         16.48148148148148
        ],
        [
         "AE",
         "Future",
         444,
         29.88963963963964
        ],
        [
         "AE",
         "Arijit Singh",
         437,
         24.89016018306636
        ],
        [
         "AE",
         "Tyla",
         375,
         22.602666666666668
        ],
        [
         "AE",
         "Arctic Monkeys",
         371,
         33.26954177897574
        ],
        [
         "AE",
         "Jack Harlow",
         370,
         21.705405405405404
        ],
        [
         "AE",
         "Don Toliver",
         367,
         34.02724795640327
        ],
        [
         "AE",
         "Benson Boone",
         364,
         20.085164835164836
        ],
        [
         "AE",
         "Tate McRae",
         351,
         18.871794871794872
        ],
        [
         "AE",
         "V",
         350,
         27.86
        ],
        [
         "AE",
         "Dionela",
         346,
         22.248554913294797
        ],
        [
         "AE",
         "Daft Punk",
         334,
         33.68562874251497
        ],
        [
         "AE",
         "Teddy Swims",
         309,
         31.23948220064725
        ],
        [
         "AE",
         "Doja Cat",
         304,
         19.960526315789473
        ],
        [
         "AE",
         "21 Savage",
         293,
         28.160409556313994
        ],
        [
         "AE",
         "Dua Lipa",
         279,
         33.204301075268816
        ],
        [
         "AE",
         "Djo",
         278,
         21.31294964028777
        ],
        [
         "AE",
         "Anuv Jain",
         277,
         23.422382671480143
        ],
        [
         "AE",
         "Central Cee",
         277,
         21.862815884476536
        ],
        [
         "AE",
         "Chappell Roan",
         272,
         19.091911764705884
        ],
        [
         "AE",
         "Hozier",
         262,
         21.454198473282442
        ],
        [
         "AE",
         "Anirudh Ravichander",
         252,
         23.96031746031746
        ],
        [
         "AE",
         "Orso",
         245,
         22.318367346938775
        ],
        [
         "AE",
         "Malachiii",
         245,
         22.318367346938775
        ],
        [
         "AE",
         "Stryv",
         245,
         22.318367346938775
        ],
        [
         "AE",
         "Adam Port",
         245,
         22.318367346938775
        ],
        [
         "AE",
         "Keinemusik",
         245,
         22.318367346938775
        ],
        [
         "AE",
         "Lady Gaga",
         239,
         6.644351464435147
        ],
        [
         "AE",
         "One Direction",
         238,
         37.96638655462185
        ],
        [
         "AE",
         "Harry Styles",
         237,
         31.447257383966246
        ],
        [
         "AE",
         "Mitski",
         229,
         13.825327510917031
        ],
        [
         "AE",
         "Jay R",
         228,
         25.153508771929825
        ],
        [
         "AE",
         "Gracie Abrams",
         220,
         21.081818181818182
        ],
        [
         "AE",
         "Madonna",
         214,
         18.425233644859812
        ],
        [
         "AE",
         "Vinayak Sasikumar",
         210,
         29.942857142857143
        ],
        [
         "AE",
         "FloyyMenor",
         198,
         15.98989898989899
        ],
        [
         "AE",
         "Cris Mj",
         198,
         15.98989898989899
        ],
        [
         "AE",
         "Sushin Shyam",
         189,
         29.015873015873016
        ],
        [
         "AE",
         "Gigi Perez",
         187,
         22.02139037433155
        ],
        [
         "AE",
         "Ty Dolla $ign",
         184,
         20.92391304347826
        ],
        [
         "AE",
         "Kanye West",
         182,
         20.675824175824175
        ],
        [
         "AE",
         "Tommy Richman",
         182,
         16.895604395604394
        ],
        [
         "AE",
         "Jimin",
         179,
         20.463687150837988
        ],
        [
         "AE",
         "Dabzee",
         174,
         29.022988505747126
        ],
        [
         "AE",
         "ROSÉ",
         171,
         7.894736842105263
        ],
        [
         "AE",
         "Arash",
         168,
         39.55357142857143
        ],
        [
         "AE",
         "Topic",
         168,
         39.55357142857143
        ],
        [
         "AE",
         "HUGEL",
         168,
         39.55357142857143
        ],
        [
         "AE",
         "The Neighbourhood",
         168,
         40.79761904761905
        ],
        [
         "AE",
         "Daecolm",
         168,
         39.55357142857143
        ],
        [
         "AE",
         "Artemas",
         159,
         20.037735849056602
        ],
        [
         "AE",
         "Kenya Grace",
         158,
         14.829113924050633
        ],
        [
         "AE",
         "Lola Young",
         156,
         29.96794871794872
        ],
        [
         "AE",
         "BINI",
         153,
         38.705882352941174
        ],
        [
         "AE",
         "Shilpa Rao",
         150,
         18.02
        ],
        [
         "AE",
         "Justin Bieber",
         150,
         40.026666666666664
        ],
        [
         "AE",
         "Kumaar",
         149,
         17.80536912751678
        ],
        [
         "AE",
         "Selena Gomez",
         146,
         28.184931506849313
        ],
        [
         "AE",
         "Rema",
         145,
         28.03448275862069
        ],
        [
         "AE",
         "Post Malone",
         144,
         27.305555555555557
        ],
        [
         "AE",
         "¥$",
         139,
         20.546762589928058
        ],
        [
         "AE",
         "Gunna",
         138,
         28.130434782608695
        ],
        [
         "AE",
         "Yeat",
         137,
         28.72992700729927
        ],
        [
         "AE",
         "Wizkid",
         136,
         39.713235294117645
        ],
        [
         "AE",
         "Prashant Pandey",
         136,
         27.573529411764707
        ],
        [
         "AE",
         "Ram Sampath",
         136,
         27.573529411764707
        ],
        [
         "AE",
         "Kyla",
         136,
         39.713235294117645
        ],
        [
         "AE",
         "Sai Abhyankkar",
         128,
         23.890625
        ],
        [
         "AE",
         "Mitraz",
         123,
         26.065040650406505
        ],
        [
         "AE",
         "Maki",
         122,
         25.934426229508198
        ],
        [
         "AE",
         "Tory Lanez",
         121,
         37.099173553719005
        ],
        [
         "AE",
         "The Kid LAROI",
         116,
         37.87068965517241
        ],
        [
         "AE",
         "Olivia Rodrigo",
         115,
         32.904347826086955
        ],
        [
         "AE",
         "Dave",
         113,
         21.38053097345133
        ],
        [
         "AE",
         "Lefty Gunplay",
         111,
         27.63963963963964
        ],
        [
         "AE",
         "Taka",
         110,
         11.127272727272727
        ],
        [
         "AE",
         "Miley Cyrus",
         107,
         38.39252336448598
        ],
        [
         "AE",
         "Hanumankind",
         107,
         17.39252336448598
        ],
        [
         "AE",
         "Myles Smith",
         106,
         40.43396226415094
        ],
        [
         "AE",
         "Vishal Mishra",
         105,
         19.057142857142857
        ],
        [
         "AE",
         "Raj Shekhar",
         105,
         19.057142857142857
        ],
        [
         "AE",
         "The Chainsmokers",
         104,
         31.0
        ],
        [
         "AE",
         "Lil Baby",
         101,
         18.81188118811881
        ]
       ],
       "datasetInfos": [],
       "dbfsResultPath": null,
       "isJsonSchema": true,
       "metadata": {},
       "overflow": false,
       "plotOptions": {
        "customPlotOptions": {},
        "displayType": "table",
        "pivotAggregation": null,
        "pivotColumns": null,
        "xColumns": null,
        "yColumns": null
       },
       "removedWidgets": [],
       "schema": [
        {
         "metadata": "{}",
         "name": "country_code",
         "type": "\"string\""
        },
        {
         "metadata": "{}",
         "name": "artist_name",
         "type": "\"string\""
        },
        {
         "metadata": "{}",
         "name": "appearances",
         "type": "\"long\""
        },
        {
         "metadata": "{}",
         "name": "avg_rank",
         "type": "\"double\""
        }
       ],
       "type": "table"
      }
     },
     "output_type": "display_data"
    }
   ],
   "source": [
    "# 1. Gêneros mais populares por país (usando artistas como proxy)\n",
    "analysis1 = spark.sql(f\"\"\"\n",
    "SELECT \n",
    "    c.country_code,\n",
    "    a.artist_name,\n",
    "    COUNT(*) AS appearances,\n",
    "    AVG(f.daily_rank) AS avg_rank\n",
    "FROM delta.`{GOLD_PATH}/fact_songs` f\n",
    "JOIN delta.`{GOLD_PATH}/dim_artists` a ON f.artist_id = a.artist_id\n",
    "JOIN delta.`{GOLD_PATH}/dim_country` c ON f.country_code = c.country_code\n",
    "WHERE c.country_code != 'GLB'  -- Excluir ranking global\n",
    "GROUP BY c.country_code, a.artist_name\n",
    "ORDER BY c.country_code, appearances DESC\n",
    "\"\"\")\n",
    "\n",
    "# Visualização por país\n",
    "display(analysis1.limit(100))"
   ]
  },
  {
   "cell_type": "code",
   "execution_count": 0,
   "metadata": {
    "application/vnd.databricks.v1+cell": {
     "cellMetadata": {
      "byteLimit": 2048000,
      "rowLimit": 10000
     },
     "inputWidgets": {},
     "nuid": "dd195f63-78ef-4cd9-ab3c-cda4239f2135",
     "showTitle": false,
     "tableResultSettingsMap": {},
     "title": ""
    }
   },
   "outputs": [
    {
     "output_type": "display_data",
     "data": {
      "text/plain": [
       "\u001B[0;31m---------------------------------------------------------------------------\u001B[0m\n",
       "\u001B[0;31mAnalysisException\u001B[0m                         Traceback (most recent call last)\n",
       "File \u001B[0;32m<command-606864600313560>:2\u001B[0m\n",
       "\u001B[1;32m      1\u001B[0m \u001B[38;5;66;03m# 2. Mudança nas posições ao longo do tempo\u001B[39;00m\n",
       "\u001B[0;32m----> 2\u001B[0m analysis2 \u001B[38;5;241m=\u001B[39m \u001B[43mspark\u001B[49m\u001B[38;5;241;43m.\u001B[39;49m\u001B[43msql\u001B[49m\u001B[43m(\u001B[49m\u001B[38;5;124;43mf\u001B[39;49m\u001B[38;5;124;43m\"\"\"\u001B[39;49m\n",
       "\u001B[1;32m      3\u001B[0m \u001B[38;5;124;43mSELECT \u001B[39;49m\n",
       "\u001B[1;32m      4\u001B[0m \u001B[38;5;124;43m    t.date,\u001B[39;49m\n",
       "\u001B[1;32m      5\u001B[0m \u001B[38;5;124;43m    t.month,\u001B[39;49m\n",
       "\u001B[1;32m      6\u001B[0m \u001B[38;5;124;43m    f.spotify_id,\u001B[39;49m\n",
       "\u001B[1;32m      7\u001B[0m \u001B[38;5;124;43m    FIRST(f.name) AS song_name,\u001B[39;49m\n",
       "\u001B[1;32m      8\u001B[0m \u001B[38;5;124;43m    AVG(f.daily_rank) AS avg_rank,\u001B[39;49m\n",
       "\u001B[1;32m      9\u001B[0m \u001B[38;5;124;43m    STDDEV(f.daily_rank) AS rank_volatility\u001B[39;49m\n",
       "\u001B[1;32m     10\u001B[0m \u001B[38;5;124;43mFROM delta.`\u001B[39;49m\u001B[38;5;132;43;01m{\u001B[39;49;00m\u001B[43mGOLD_PATH\u001B[49m\u001B[38;5;132;43;01m}\u001B[39;49;00m\u001B[38;5;124;43m/fact_songs` f\u001B[39;49m\n",
       "\u001B[1;32m     11\u001B[0m \u001B[38;5;124;43mJOIN delta.`\u001B[39;49m\u001B[38;5;132;43;01m{\u001B[39;49;00m\u001B[43mGOLD_PATH\u001B[49m\u001B[38;5;132;43;01m}\u001B[39;49;00m\u001B[38;5;124;43m/dim_time` t ON f.date = t.date\u001B[39;49m\n",
       "\u001B[1;32m     12\u001B[0m \u001B[38;5;124;43mGROUP BY t.date, t.month, f.spotify_id\u001B[39;49m\n",
       "\u001B[1;32m     13\u001B[0m \u001B[38;5;124;43mORDER BY t.date, avg_rank\u001B[39;49m\n",
       "\u001B[1;32m     14\u001B[0m \u001B[38;5;124;43m\"\"\"\u001B[39;49m\u001B[43m)\u001B[49m\n",
       "\n",
       "File \u001B[0;32m/databricks/spark/python/pyspark/instrumentation_utils.py:48\u001B[0m, in \u001B[0;36m_wrap_function.<locals>.wrapper\u001B[0;34m(*args, **kwargs)\u001B[0m\n",
       "\u001B[1;32m     46\u001B[0m start \u001B[38;5;241m=\u001B[39m time\u001B[38;5;241m.\u001B[39mperf_counter()\n",
       "\u001B[1;32m     47\u001B[0m \u001B[38;5;28;01mtry\u001B[39;00m:\n",
       "\u001B[0;32m---> 48\u001B[0m     res \u001B[38;5;241m=\u001B[39m \u001B[43mfunc\u001B[49m\u001B[43m(\u001B[49m\u001B[38;5;241;43m*\u001B[39;49m\u001B[43margs\u001B[49m\u001B[43m,\u001B[49m\u001B[43m \u001B[49m\u001B[38;5;241;43m*\u001B[39;49m\u001B[38;5;241;43m*\u001B[39;49m\u001B[43mkwargs\u001B[49m\u001B[43m)\u001B[49m\n",
       "\u001B[1;32m     49\u001B[0m     logger\u001B[38;5;241m.\u001B[39mlog_success(\n",
       "\u001B[1;32m     50\u001B[0m         module_name, class_name, function_name, time\u001B[38;5;241m.\u001B[39mperf_counter() \u001B[38;5;241m-\u001B[39m start, signature\n",
       "\u001B[1;32m     51\u001B[0m     )\n",
       "\u001B[1;32m     52\u001B[0m     \u001B[38;5;28;01mreturn\u001B[39;00m res\n",
       "\n",
       "File \u001B[0;32m/databricks/spark/python/pyspark/sql/session.py:1387\u001B[0m, in \u001B[0;36mSparkSession.sql\u001B[0;34m(self, sqlQuery, args, **kwargs)\u001B[0m\n",
       "\u001B[1;32m   1385\u001B[0m \u001B[38;5;28;01mtry\u001B[39;00m:\n",
       "\u001B[1;32m   1386\u001B[0m     litArgs \u001B[38;5;241m=\u001B[39m {k: _to_java_column(lit(v)) \u001B[38;5;28;01mfor\u001B[39;00m k, v \u001B[38;5;129;01min\u001B[39;00m (args \u001B[38;5;129;01mor\u001B[39;00m {})\u001B[38;5;241m.\u001B[39mitems()}\n",
       "\u001B[0;32m-> 1387\u001B[0m     \u001B[38;5;28;01mreturn\u001B[39;00m DataFrame(\u001B[38;5;28;43mself\u001B[39;49m\u001B[38;5;241;43m.\u001B[39;49m\u001B[43m_jsparkSession\u001B[49m\u001B[38;5;241;43m.\u001B[39;49m\u001B[43msql\u001B[49m\u001B[43m(\u001B[49m\u001B[43msqlQuery\u001B[49m\u001B[43m,\u001B[49m\u001B[43m \u001B[49m\u001B[43mlitArgs\u001B[49m\u001B[43m)\u001B[49m, \u001B[38;5;28mself\u001B[39m)\n",
       "\u001B[1;32m   1388\u001B[0m \u001B[38;5;28;01mfinally\u001B[39;00m:\n",
       "\u001B[1;32m   1389\u001B[0m     \u001B[38;5;28;01mif\u001B[39;00m \u001B[38;5;28mlen\u001B[39m(kwargs) \u001B[38;5;241m>\u001B[39m \u001B[38;5;241m0\u001B[39m:\n",
       "\n",
       "File \u001B[0;32m/databricks/spark/python/lib/py4j-0.10.9.5-src.zip/py4j/java_gateway.py:1321\u001B[0m, in \u001B[0;36mJavaMember.__call__\u001B[0;34m(self, *args)\u001B[0m\n",
       "\u001B[1;32m   1315\u001B[0m command \u001B[38;5;241m=\u001B[39m proto\u001B[38;5;241m.\u001B[39mCALL_COMMAND_NAME \u001B[38;5;241m+\u001B[39m\\\n",
       "\u001B[1;32m   1316\u001B[0m     \u001B[38;5;28mself\u001B[39m\u001B[38;5;241m.\u001B[39mcommand_header \u001B[38;5;241m+\u001B[39m\\\n",
       "\u001B[1;32m   1317\u001B[0m     args_command \u001B[38;5;241m+\u001B[39m\\\n",
       "\u001B[1;32m   1318\u001B[0m     proto\u001B[38;5;241m.\u001B[39mEND_COMMAND_PART\n",
       "\u001B[1;32m   1320\u001B[0m answer \u001B[38;5;241m=\u001B[39m \u001B[38;5;28mself\u001B[39m\u001B[38;5;241m.\u001B[39mgateway_client\u001B[38;5;241m.\u001B[39msend_command(command)\n",
       "\u001B[0;32m-> 1321\u001B[0m return_value \u001B[38;5;241m=\u001B[39m \u001B[43mget_return_value\u001B[49m\u001B[43m(\u001B[49m\n",
       "\u001B[1;32m   1322\u001B[0m \u001B[43m    \u001B[49m\u001B[43manswer\u001B[49m\u001B[43m,\u001B[49m\u001B[43m \u001B[49m\u001B[38;5;28;43mself\u001B[39;49m\u001B[38;5;241;43m.\u001B[39;49m\u001B[43mgateway_client\u001B[49m\u001B[43m,\u001B[49m\u001B[43m \u001B[49m\u001B[38;5;28;43mself\u001B[39;49m\u001B[38;5;241;43m.\u001B[39;49m\u001B[43mtarget_id\u001B[49m\u001B[43m,\u001B[49m\u001B[43m \u001B[49m\u001B[38;5;28;43mself\u001B[39;49m\u001B[38;5;241;43m.\u001B[39;49m\u001B[43mname\u001B[49m\u001B[43m)\u001B[49m\n",
       "\u001B[1;32m   1324\u001B[0m \u001B[38;5;28;01mfor\u001B[39;00m temp_arg \u001B[38;5;129;01min\u001B[39;00m temp_args:\n",
       "\u001B[1;32m   1325\u001B[0m     temp_arg\u001B[38;5;241m.\u001B[39m_detach()\n",
       "\n",
       "File \u001B[0;32m/databricks/spark/python/pyspark/errors/exceptions.py:234\u001B[0m, in \u001B[0;36mcapture_sql_exception.<locals>.deco\u001B[0;34m(*a, **kw)\u001B[0m\n",
       "\u001B[1;32m    230\u001B[0m converted \u001B[38;5;241m=\u001B[39m convert_exception(e\u001B[38;5;241m.\u001B[39mjava_exception)\n",
       "\u001B[1;32m    231\u001B[0m \u001B[38;5;28;01mif\u001B[39;00m \u001B[38;5;129;01mnot\u001B[39;00m \u001B[38;5;28misinstance\u001B[39m(converted, UnknownException):\n",
       "\u001B[1;32m    232\u001B[0m     \u001B[38;5;66;03m# Hide where the exception came from that shows a non-Pythonic\u001B[39;00m\n",
       "\u001B[1;32m    233\u001B[0m     \u001B[38;5;66;03m# JVM exception message.\u001B[39;00m\n",
       "\u001B[0;32m--> 234\u001B[0m     \u001B[38;5;28;01mraise\u001B[39;00m converted \u001B[38;5;28;01mfrom\u001B[39;00m \u001B[38;5;28mNone\u001B[39m\n",
       "\u001B[1;32m    235\u001B[0m \u001B[38;5;28;01melse\u001B[39;00m:\n",
       "\u001B[1;32m    236\u001B[0m     \u001B[38;5;28;01mraise\u001B[39;00m\n",
       "\n",
       "\u001B[0;31mAnalysisException\u001B[0m: [UNRESOLVED_COLUMN.WITH_SUGGESTION] A column or function parameter with name `f`.`name` cannot be resolved. Did you mean one of the following? [`f`.`date`, `t`.`date`, `t`.`day`, `f`.`energy`, `f`.`valence`].; line 6 pos 10;\n",
       "'Sort ['t.date ASC NULLS FIRST, 'avg_rank ASC NULLS FIRST], true\n",
       "+- 'Aggregate [date#26061, month#26063, spotify_id#26042], [date#26061, month#26063, spotify_id#26042, first('f.name, false) AS song_name#26027, avg(daily_rank#26046) AS avg_rank#26028, stddev(cast(daily_rank#26046 as double)) AS rank_volatility#26029]\n",
       "   +- Join Inner, (date#26043 = date#26061)\n",
       "      :- SubqueryAlias f\n",
       "      :  +- SubqueryAlias spark_catalog.delta.`dbfs:/mnt/spotify/gold/fact_songs`\n",
       "      :     +- Relation [spotify_id#26042,date#26043,country_code#26044,artist_id#26045,daily_rank#26046,popularity#26047,danceability#26048,energy#26049,duration_min#26050,is_explicit#26051,loudness#26052,valence#26053] parquet\n",
       "      +- SubqueryAlias t\n",
       "         +- SubqueryAlias spark_catalog.delta.`dbfs:/mnt/spotify/gold/dim_time`\n",
       "            +- Relation [date#26061,year#26062,month#26063,day#26064,quarter#26065,day_of_week#26066,week_of_year#26067] parquet\n"
      ]
     },
     "metadata": {
      "application/vnd.databricks.v1+output": {
       "arguments": {},
       "data": "\u001B[0;31m---------------------------------------------------------------------------\u001B[0m\n\u001B[0;31mAnalysisException\u001B[0m                         Traceback (most recent call last)\nFile \u001B[0;32m<command-606864600313560>:2\u001B[0m\n\u001B[1;32m      1\u001B[0m \u001B[38;5;66;03m# 2. Mudança nas posições ao longo do tempo\u001B[39;00m\n\u001B[0;32m----> 2\u001B[0m analysis2 \u001B[38;5;241m=\u001B[39m \u001B[43mspark\u001B[49m\u001B[38;5;241;43m.\u001B[39;49m\u001B[43msql\u001B[49m\u001B[43m(\u001B[49m\u001B[38;5;124;43mf\u001B[39;49m\u001B[38;5;124;43m\"\"\"\u001B[39;49m\n\u001B[1;32m      3\u001B[0m \u001B[38;5;124;43mSELECT \u001B[39;49m\n\u001B[1;32m      4\u001B[0m \u001B[38;5;124;43m    t.date,\u001B[39;49m\n\u001B[1;32m      5\u001B[0m \u001B[38;5;124;43m    t.month,\u001B[39;49m\n\u001B[1;32m      6\u001B[0m \u001B[38;5;124;43m    f.spotify_id,\u001B[39;49m\n\u001B[1;32m      7\u001B[0m \u001B[38;5;124;43m    FIRST(f.name) AS song_name,\u001B[39;49m\n\u001B[1;32m      8\u001B[0m \u001B[38;5;124;43m    AVG(f.daily_rank) AS avg_rank,\u001B[39;49m\n\u001B[1;32m      9\u001B[0m \u001B[38;5;124;43m    STDDEV(f.daily_rank) AS rank_volatility\u001B[39;49m\n\u001B[1;32m     10\u001B[0m \u001B[38;5;124;43mFROM delta.`\u001B[39;49m\u001B[38;5;132;43;01m{\u001B[39;49;00m\u001B[43mGOLD_PATH\u001B[49m\u001B[38;5;132;43;01m}\u001B[39;49;00m\u001B[38;5;124;43m/fact_songs` f\u001B[39;49m\n\u001B[1;32m     11\u001B[0m \u001B[38;5;124;43mJOIN delta.`\u001B[39;49m\u001B[38;5;132;43;01m{\u001B[39;49;00m\u001B[43mGOLD_PATH\u001B[49m\u001B[38;5;132;43;01m}\u001B[39;49;00m\u001B[38;5;124;43m/dim_time` t ON f.date = t.date\u001B[39;49m\n\u001B[1;32m     12\u001B[0m \u001B[38;5;124;43mGROUP BY t.date, t.month, f.spotify_id\u001B[39;49m\n\u001B[1;32m     13\u001B[0m \u001B[38;5;124;43mORDER BY t.date, avg_rank\u001B[39;49m\n\u001B[1;32m     14\u001B[0m \u001B[38;5;124;43m\"\"\"\u001B[39;49m\u001B[43m)\u001B[49m\n\nFile \u001B[0;32m/databricks/spark/python/pyspark/instrumentation_utils.py:48\u001B[0m, in \u001B[0;36m_wrap_function.<locals>.wrapper\u001B[0;34m(*args, **kwargs)\u001B[0m\n\u001B[1;32m     46\u001B[0m start \u001B[38;5;241m=\u001B[39m time\u001B[38;5;241m.\u001B[39mperf_counter()\n\u001B[1;32m     47\u001B[0m \u001B[38;5;28;01mtry\u001B[39;00m:\n\u001B[0;32m---> 48\u001B[0m     res \u001B[38;5;241m=\u001B[39m \u001B[43mfunc\u001B[49m\u001B[43m(\u001B[49m\u001B[38;5;241;43m*\u001B[39;49m\u001B[43margs\u001B[49m\u001B[43m,\u001B[49m\u001B[43m \u001B[49m\u001B[38;5;241;43m*\u001B[39;49m\u001B[38;5;241;43m*\u001B[39;49m\u001B[43mkwargs\u001B[49m\u001B[43m)\u001B[49m\n\u001B[1;32m     49\u001B[0m     logger\u001B[38;5;241m.\u001B[39mlog_success(\n\u001B[1;32m     50\u001B[0m         module_name, class_name, function_name, time\u001B[38;5;241m.\u001B[39mperf_counter() \u001B[38;5;241m-\u001B[39m start, signature\n\u001B[1;32m     51\u001B[0m     )\n\u001B[1;32m     52\u001B[0m     \u001B[38;5;28;01mreturn\u001B[39;00m res\n\nFile \u001B[0;32m/databricks/spark/python/pyspark/sql/session.py:1387\u001B[0m, in \u001B[0;36mSparkSession.sql\u001B[0;34m(self, sqlQuery, args, **kwargs)\u001B[0m\n\u001B[1;32m   1385\u001B[0m \u001B[38;5;28;01mtry\u001B[39;00m:\n\u001B[1;32m   1386\u001B[0m     litArgs \u001B[38;5;241m=\u001B[39m {k: _to_java_column(lit(v)) \u001B[38;5;28;01mfor\u001B[39;00m k, v \u001B[38;5;129;01min\u001B[39;00m (args \u001B[38;5;129;01mor\u001B[39;00m {})\u001B[38;5;241m.\u001B[39mitems()}\n\u001B[0;32m-> 1387\u001B[0m     \u001B[38;5;28;01mreturn\u001B[39;00m DataFrame(\u001B[38;5;28;43mself\u001B[39;49m\u001B[38;5;241;43m.\u001B[39;49m\u001B[43m_jsparkSession\u001B[49m\u001B[38;5;241;43m.\u001B[39;49m\u001B[43msql\u001B[49m\u001B[43m(\u001B[49m\u001B[43msqlQuery\u001B[49m\u001B[43m,\u001B[49m\u001B[43m \u001B[49m\u001B[43mlitArgs\u001B[49m\u001B[43m)\u001B[49m, \u001B[38;5;28mself\u001B[39m)\n\u001B[1;32m   1388\u001B[0m \u001B[38;5;28;01mfinally\u001B[39;00m:\n\u001B[1;32m   1389\u001B[0m     \u001B[38;5;28;01mif\u001B[39;00m \u001B[38;5;28mlen\u001B[39m(kwargs) \u001B[38;5;241m>\u001B[39m \u001B[38;5;241m0\u001B[39m:\n\nFile \u001B[0;32m/databricks/spark/python/lib/py4j-0.10.9.5-src.zip/py4j/java_gateway.py:1321\u001B[0m, in \u001B[0;36mJavaMember.__call__\u001B[0;34m(self, *args)\u001B[0m\n\u001B[1;32m   1315\u001B[0m command \u001B[38;5;241m=\u001B[39m proto\u001B[38;5;241m.\u001B[39mCALL_COMMAND_NAME \u001B[38;5;241m+\u001B[39m\\\n\u001B[1;32m   1316\u001B[0m     \u001B[38;5;28mself\u001B[39m\u001B[38;5;241m.\u001B[39mcommand_header \u001B[38;5;241m+\u001B[39m\\\n\u001B[1;32m   1317\u001B[0m     args_command \u001B[38;5;241m+\u001B[39m\\\n\u001B[1;32m   1318\u001B[0m     proto\u001B[38;5;241m.\u001B[39mEND_COMMAND_PART\n\u001B[1;32m   1320\u001B[0m answer \u001B[38;5;241m=\u001B[39m \u001B[38;5;28mself\u001B[39m\u001B[38;5;241m.\u001B[39mgateway_client\u001B[38;5;241m.\u001B[39msend_command(command)\n\u001B[0;32m-> 1321\u001B[0m return_value \u001B[38;5;241m=\u001B[39m \u001B[43mget_return_value\u001B[49m\u001B[43m(\u001B[49m\n\u001B[1;32m   1322\u001B[0m \u001B[43m    \u001B[49m\u001B[43manswer\u001B[49m\u001B[43m,\u001B[49m\u001B[43m \u001B[49m\u001B[38;5;28;43mself\u001B[39;49m\u001B[38;5;241;43m.\u001B[39;49m\u001B[43mgateway_client\u001B[49m\u001B[43m,\u001B[49m\u001B[43m \u001B[49m\u001B[38;5;28;43mself\u001B[39;49m\u001B[38;5;241;43m.\u001B[39;49m\u001B[43mtarget_id\u001B[49m\u001B[43m,\u001B[49m\u001B[43m \u001B[49m\u001B[38;5;28;43mself\u001B[39;49m\u001B[38;5;241;43m.\u001B[39;49m\u001B[43mname\u001B[49m\u001B[43m)\u001B[49m\n\u001B[1;32m   1324\u001B[0m \u001B[38;5;28;01mfor\u001B[39;00m temp_arg \u001B[38;5;129;01min\u001B[39;00m temp_args:\n\u001B[1;32m   1325\u001B[0m     temp_arg\u001B[38;5;241m.\u001B[39m_detach()\n\nFile \u001B[0;32m/databricks/spark/python/pyspark/errors/exceptions.py:234\u001B[0m, in \u001B[0;36mcapture_sql_exception.<locals>.deco\u001B[0;34m(*a, **kw)\u001B[0m\n\u001B[1;32m    230\u001B[0m converted \u001B[38;5;241m=\u001B[39m convert_exception(e\u001B[38;5;241m.\u001B[39mjava_exception)\n\u001B[1;32m    231\u001B[0m \u001B[38;5;28;01mif\u001B[39;00m \u001B[38;5;129;01mnot\u001B[39;00m \u001B[38;5;28misinstance\u001B[39m(converted, UnknownException):\n\u001B[1;32m    232\u001B[0m     \u001B[38;5;66;03m# Hide where the exception came from that shows a non-Pythonic\u001B[39;00m\n\u001B[1;32m    233\u001B[0m     \u001B[38;5;66;03m# JVM exception message.\u001B[39;00m\n\u001B[0;32m--> 234\u001B[0m     \u001B[38;5;28;01mraise\u001B[39;00m converted \u001B[38;5;28;01mfrom\u001B[39;00m \u001B[38;5;28mNone\u001B[39m\n\u001B[1;32m    235\u001B[0m \u001B[38;5;28;01melse\u001B[39;00m:\n\u001B[1;32m    236\u001B[0m     \u001B[38;5;28;01mraise\u001B[39;00m\n\n\u001B[0;31mAnalysisException\u001B[0m: [UNRESOLVED_COLUMN.WITH_SUGGESTION] A column or function parameter with name `f`.`name` cannot be resolved. Did you mean one of the following? [`f`.`date`, `t`.`date`, `t`.`day`, `f`.`energy`, `f`.`valence`].; line 6 pos 10;\n'Sort ['t.date ASC NULLS FIRST, 'avg_rank ASC NULLS FIRST], true\n+- 'Aggregate [date#26061, month#26063, spotify_id#26042], [date#26061, month#26063, spotify_id#26042, first('f.name, false) AS song_name#26027, avg(daily_rank#26046) AS avg_rank#26028, stddev(cast(daily_rank#26046 as double)) AS rank_volatility#26029]\n   +- Join Inner, (date#26043 = date#26061)\n      :- SubqueryAlias f\n      :  +- SubqueryAlias spark_catalog.delta.`dbfs:/mnt/spotify/gold/fact_songs`\n      :     +- Relation [spotify_id#26042,date#26043,country_code#26044,artist_id#26045,daily_rank#26046,popularity#26047,danceability#26048,energy#26049,duration_min#26050,is_explicit#26051,loudness#26052,valence#26053] parquet\n      +- SubqueryAlias t\n         +- SubqueryAlias spark_catalog.delta.`dbfs:/mnt/spotify/gold/dim_time`\n            +- Relation [date#26061,year#26062,month#26063,day#26064,quarter#26065,day_of_week#26066,week_of_year#26067] parquet\n",
       "errorSummary": "<span class='ansi-red-fg'>AnalysisException</span>: [UNRESOLVED_COLUMN.WITH_SUGGESTION] A column or function parameter with name `f`.`name` cannot be resolved. Did you mean one of the following? [`f`.`date`, `t`.`date`, `t`.`day`, `f`.`energy`, `f`.`valence`].; line 6 pos 10;\n'Sort ['t.date ASC NULLS FIRST, 'avg_rank ASC NULLS FIRST], true\n+- 'Aggregate [date#26061, month#26063, spotify_id#26042], [date#26061, month#26063, spotify_id#26042, first('f.name, false) AS song_name#26027, avg(daily_rank#26046) AS avg_rank#26028, stddev(cast(daily_rank#26046 as double)) AS rank_volatility#26029]\n   +- Join Inner, (date#26043 = date#26061)\n      :- SubqueryAlias f\n      :  +- SubqueryAlias spark_catalog.delta.`dbfs:/mnt/spotify/gold/fact_songs`\n      :     +- Relation [spotify_id#26042,date#26043,country_code#26044,artist_id#26045,daily_rank#26046,popularity#26047,danceability#26048,energy#26049,duration_min#26050,is_explicit#26051,loudness#26052,valence#26053] parquet\n      +- SubqueryAlias t\n         +- SubqueryAlias spark_catalog.delta.`dbfs:/mnt/spotify/gold/dim_time`\n            +- Relation [date#26061,year#26062,month#26063,day#26064,quarter#26065,day_of_week#26066,week_of_year#26067] parquet\n",
       "errorTraceType": "ansi",
       "metadata": {},
       "type": "ipynbError"
      }
     },
     "output_type": "display_data"
    }
   ],
   "source": [
    "# 2. Mudança nas posições ao longo do tempo\n",
    "analysis2 = spark.sql(f\"\"\"\n",
    "SELECT \n",
    "    t.date,\n",
    "    t.month,\n",
    "    f.spotify_id,\n",
    "    FIRST(f.name) AS song_name,\n",
    "    AVG(f.daily_rank) AS avg_rank,\n",
    "    STDDEV(f.daily_rank) AS rank_volatility\n",
    "FROM delta.`{GOLD_PATH}/fact_songs` f\n",
    "JOIN delta.`{GOLD_PATH}/dim_time` t ON f.date = t.date\n",
    "GROUP BY t.date, t.month, f.spotify_id\n",
    "ORDER BY t.date, avg_rank\n",
    "\"\"\")"
   ]
  },
  {
   "cell_type": "code",
   "execution_count": 0,
   "metadata": {
    "application/vnd.databricks.v1+cell": {
     "cellMetadata": {
      "byteLimit": 2048000,
      "rowLimit": 10000
     },
     "inputWidgets": {},
     "nuid": "3d51055e-2f27-41af-be6b-f7c59aead3d3",
     "showTitle": false,
     "tableResultSettingsMap": {},
     "title": ""
    }
   },
   "outputs": [
    {
     "output_type": "stream",
     "name": "stdout",
     "output_type": "stream",
     "text": [
      "<Figure size 864x432 with 0 Axes>"
     ]
    },
    {
     "output_type": "display_data",
     "data": {
      "text/plain": [
       "\u001B[0;31m---------------------------------------------------------------------------\u001B[0m\n",
       "\u001B[0;31mNameError\u001B[0m                                 Traceback (most recent call last)\n",
       "File \u001B[0;32m<command-606864600313561>:5\u001B[0m\n",
       "\u001B[1;32m      1\u001B[0m \u001B[38;5;66;03m# Tendência temporal\u001B[39;00m\n",
       "\u001B[1;32m      2\u001B[0m plt\u001B[38;5;241m.\u001B[39mfigure(figsize\u001B[38;5;241m=\u001B[39m(\u001B[38;5;241m12\u001B[39m,\u001B[38;5;241m6\u001B[39m))\n",
       "\u001B[1;32m      3\u001B[0m sns\u001B[38;5;241m.\u001B[39mlineplot(x\u001B[38;5;241m=\u001B[39m\u001B[38;5;124m\"\u001B[39m\u001B[38;5;124mdate\u001B[39m\u001B[38;5;124m\"\u001B[39m, y\u001B[38;5;241m=\u001B[39m\u001B[38;5;124m\"\u001B[39m\u001B[38;5;124mavg_rank\u001B[39m\u001B[38;5;124m\"\u001B[39m, \n",
       "\u001B[1;32m      4\u001B[0m              hue\u001B[38;5;241m=\u001B[39m\u001B[38;5;124m\"\u001B[39m\u001B[38;5;124msong_name\u001B[39m\u001B[38;5;124m\"\u001B[39m, \n",
       "\u001B[0;32m----> 5\u001B[0m              data\u001B[38;5;241m=\u001B[39manalysis2\u001B[38;5;241m.\u001B[39mtoPandas()\u001B[38;5;241m.\u001B[39mquery(\u001B[38;5;124m\"\u001B[39m\u001B[38;5;124mavg_rank <= 10\u001B[39m\u001B[38;5;124m\"\u001B[39m))\n",
       "\u001B[1;32m      6\u001B[0m plt\u001B[38;5;241m.\u001B[39mtitle(\u001B[38;5;124m\"\u001B[39m\u001B[38;5;124mEvolução do Ranking das Top 10 Músicas\u001B[39m\u001B[38;5;124m\"\u001B[39m)\n",
       "\u001B[1;32m      7\u001B[0m plt\u001B[38;5;241m.\u001B[39mxticks(rotation\u001B[38;5;241m=\u001B[39m\u001B[38;5;241m45\u001B[39m)\n",
       "\n",
       "\u001B[0;31mNameError\u001B[0m: name 'analysis2' is not defined"
      ]
     },
     "metadata": {
      "application/vnd.databricks.v1+output": {
       "arguments": {},
       "data": "\u001B[0;31m---------------------------------------------------------------------------\u001B[0m\n\u001B[0;31mNameError\u001B[0m                                 Traceback (most recent call last)\nFile \u001B[0;32m<command-606864600313561>:5\u001B[0m\n\u001B[1;32m      1\u001B[0m \u001B[38;5;66;03m# Tendência temporal\u001B[39;00m\n\u001B[1;32m      2\u001B[0m plt\u001B[38;5;241m.\u001B[39mfigure(figsize\u001B[38;5;241m=\u001B[39m(\u001B[38;5;241m12\u001B[39m,\u001B[38;5;241m6\u001B[39m))\n\u001B[1;32m      3\u001B[0m sns\u001B[38;5;241m.\u001B[39mlineplot(x\u001B[38;5;241m=\u001B[39m\u001B[38;5;124m\"\u001B[39m\u001B[38;5;124mdate\u001B[39m\u001B[38;5;124m\"\u001B[39m, y\u001B[38;5;241m=\u001B[39m\u001B[38;5;124m\"\u001B[39m\u001B[38;5;124mavg_rank\u001B[39m\u001B[38;5;124m\"\u001B[39m, \n\u001B[1;32m      4\u001B[0m              hue\u001B[38;5;241m=\u001B[39m\u001B[38;5;124m\"\u001B[39m\u001B[38;5;124msong_name\u001B[39m\u001B[38;5;124m\"\u001B[39m, \n\u001B[0;32m----> 5\u001B[0m              data\u001B[38;5;241m=\u001B[39manalysis2\u001B[38;5;241m.\u001B[39mtoPandas()\u001B[38;5;241m.\u001B[39mquery(\u001B[38;5;124m\"\u001B[39m\u001B[38;5;124mavg_rank <= 10\u001B[39m\u001B[38;5;124m\"\u001B[39m))\n\u001B[1;32m      6\u001B[0m plt\u001B[38;5;241m.\u001B[39mtitle(\u001B[38;5;124m\"\u001B[39m\u001B[38;5;124mEvolução do Ranking das Top 10 Músicas\u001B[39m\u001B[38;5;124m\"\u001B[39m)\n\u001B[1;32m      7\u001B[0m plt\u001B[38;5;241m.\u001B[39mxticks(rotation\u001B[38;5;241m=\u001B[39m\u001B[38;5;241m45\u001B[39m)\n\n\u001B[0;31mNameError\u001B[0m: name 'analysis2' is not defined",
       "errorSummary": "<span class='ansi-red-fg'>NameError</span>: name 'analysis2' is not defined",
       "errorTraceType": "ansi",
       "metadata": {},
       "type": "ipynbError"
      }
     },
     "output_type": "display_data"
    }
   ],
   "source": [
    "# Tendência temporal\n",
    "plt.figure(figsize=(12,6))\n",
    "sns.lineplot(x=\"date\", y=\"avg_rank\", \n",
    "             hue=\"song_name\", \n",
    "             data=analysis2.toPandas().query(\"avg_rank <= 10\"))\n",
    "plt.title(\"Evolução do Ranking das Top 10 Músicas\")\n",
    "plt.xticks(rotation=45)\n",
    "plt.show()"
   ]
  },
  {
   "cell_type": "code",
   "execution_count": 0,
   "metadata": {
    "application/vnd.databricks.v1+cell": {
     "cellMetadata": {
      "byteLimit": 2048000,
      "rowLimit": 10000
     },
     "inputWidgets": {},
     "nuid": "df376267-b387-4e97-8c79-5d6ef2c0eba8",
     "showTitle": false,
     "tableResultSettingsMap": {},
     "title": ""
    }
   },
   "outputs": [
    {
     "output_type": "display_data",
     "data": {
      "text/html": [
       "<style scoped>\n",
       "  .table-result-container {\n",
       "    max-height: 300px;\n",
       "    overflow: auto;\n",
       "  }\n",
       "  table, th, td {\n",
       "    border: 1px solid black;\n",
       "    border-collapse: collapse;\n",
       "  }\n",
       "  th, td {\n",
       "    padding: 5px;\n",
       "  }\n",
       "  th {\n",
       "    text-align: left;\n",
       "  }\n",
       "</style><div class='table-result-container'><table class='table-result'><thead style='background-color: white'><tr><th>pop_dance_corr</th><th>pop_energy_corr</th><th>pop_valence_corr</th></tr></thead><tbody><tr><td>-0.05745907206109852</td><td>0.006765212139798673</td><td>-0.016066882256480935</td></tr></tbody></table></div>"
      ]
     },
     "metadata": {
      "application/vnd.databricks.v1+output": {
       "addedWidgets": {},
       "aggData": [],
       "aggError": "",
       "aggOverflow": false,
       "aggSchema": [],
       "aggSeriesLimitReached": false,
       "aggType": "",
       "arguments": {},
       "columnCustomDisplayInfos": {},
       "data": [
        [
         -0.05745907206109852,
         0.006765212139798673,
         -0.016066882256480935
        ]
       ],
       "datasetInfos": [],
       "dbfsResultPath": null,
       "isJsonSchema": true,
       "metadata": {},
       "overflow": false,
       "plotOptions": {
        "customPlotOptions": {},
        "displayType": "table",
        "pivotAggregation": null,
        "pivotColumns": null,
        "xColumns": null,
        "yColumns": null
       },
       "removedWidgets": [],
       "schema": [
        {
         "metadata": "{}",
         "name": "pop_dance_corr",
         "type": "\"double\""
        },
        {
         "metadata": "{}",
         "name": "pop_energy_corr",
         "type": "\"double\""
        },
        {
         "metadata": "{}",
         "name": "pop_valence_corr",
         "type": "\"double\""
        }
       ],
       "type": "table"
      }
     },
     "output_type": "display_data"
    },
    {
     "output_type": "display_data",
     "data": {
      "image/png": "[encoded data removed]"
     },
     "metadata": {
      "application/vnd.databricks.v1+output": {
       "addedWidgets": {},
       "arguments": {},
       "data": "data:image/png;base64,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\n",
       "datasetInfos": [],
       "metadata": {},
       "removedWidgets": [],
       "type": "image"
      }
     },
     "output_type": "display_data"
    }
   ],
   "source": [
    "# 3. Correlação Popularidade x Atributos Musicais\n",
    "analysis3 = spark.sql(f\"\"\"\n",
    "SELECT \n",
    "    CORR(popularity, danceability) AS pop_dance_corr,\n",
    "    CORR(popularity, energy) AS pop_energy_corr,\n",
    "    CORR(popularity, valence) AS pop_valence_corr\n",
    "FROM delta.`{GOLD_PATH}/fact_songs`\n",
    "\"\"\")\n",
    "\n",
    "display(analysis3)\n",
    "\n",
    "# Matriz de Correlação\n",
    "numeric_cols = ['popularity', 'danceability', 'energy', 'valence']\n",
    "corr_matrix = spark.sql(f\"\"\"\n",
    "SELECT {', '.join(numeric_cols)}\n",
    "FROM delta.`{GOLD_PATH}/fact_songs`\n",
    "\"\"\").toPandas().corr()\n",
    "\n",
    "plt.figure(figsize=(10,8))\n",
    "sns.heatmap(corr_matrix, annot=True, cmap='coolwarm')\n",
    "plt.title(\"Matriz de Correlação entre Atributos Musicais\")\n",
    "plt.show()\n"
   ]
  },
  {
   "cell_type": "code",
   "execution_count": 0,
   "metadata": {
    "application/vnd.databricks.v1+cell": {
     "cellMetadata": {
      "byteLimit": 2048000,
      "rowLimit": 10000
     },
     "inputWidgets": {},
     "nuid": "a6229b6e-92ae-4e64-b5ba-6cd8fdf6acf6",
     "showTitle": false,
     "tableResultSettingsMap": {},
     "title": ""
    }
   },
   "outputs": [
    {
     "output_type": "display_data",
     "data": {
      "text/html": [
       "<style scoped>\n",
       "  .table-result-container {\n",
       "    max-height: 300px;\n",
       "    overflow: auto;\n",
       "  }\n",
       "  table, th, td {\n",
       "    border: 1px solid black;\n",
       "    border-collapse: collapse;\n",
       "  }\n",
       "  th, td {\n",
       "    padding: 5px;\n",
       "  }\n",
       "  th {\n",
       "    text-align: left;\n",
       "  }\n",
       "</style><div class='table-result-container'><table class='table-result'><thead style='background-color: white'><tr><th>is_explicit</th><th>avg_popularity</th><th>avg_rank</th><th>song_count</th></tr></thead><tbody><tr><td>true</td><td>77.44048723052693</td><td>24.993011937003992</td><td>1111753</td></tr><tr><td>false</td><td>74.13906557564599</td><td>25.660481828261542</td><td>1870542</td></tr></tbody></table></div>"
      ]
     },
     "metadata": {
      "application/vnd.databricks.v1+output": {
       "addedWidgets": {},
       "aggData": [],
       "aggError": "",
       "aggOverflow": false,
       "aggSchema": [],
       "aggSeriesLimitReached": false,
       "aggType": "",
       "arguments": {},
       "columnCustomDisplayInfos": {},
       "data": [
        [
         true,
         77.44048723052693,
         24.993011937003992,
         1111753
        ],
        [
         false,
         74.13906557564599,
         25.660481828261542,
         1870542
        ]
       ],
       "datasetInfos": [],
       "dbfsResultPath": null,
       "isJsonSchema": true,
       "metadata": {},
       "overflow": false,
       "plotOptions": {
        "customPlotOptions": {},
        "displayType": "table",
        "pivotAggregation": null,
        "pivotColumns": null,
        "xColumns": null,
        "yColumns": null
       },
       "removedWidgets": [],
       "schema": [
        {
         "metadata": "{}",
         "name": "is_explicit",
         "type": "\"boolean\""
        },
        {
         "metadata": "{}",
         "name": "avg_popularity",
         "type": "\"double\""
        },
        {
         "metadata": "{}",
         "name": "avg_rank",
         "type": "\"double\""
        },
        {
         "metadata": "{}",
         "name": "song_count",
         "type": "\"long\""
        }
       ],
       "type": "table"
      }
     },
     "output_type": "display_data"
    },
    {
     "output_type": "stream",
     "name": "stdout",
     "output_type": "stream",
     "text": [
      "Teste T: estatística=179.10, p-value=0.0000\n"
     ]
    }
   ],
   "source": [
    "# 4. Popularidade x Conteúdo Explícito\n",
    "analysis4 = spark.sql(f\"\"\"\n",
    "SELECT \n",
    "    is_explicit,\n",
    "    AVG(popularity) AS avg_popularity,\n",
    "    AVG(daily_rank) AS avg_rank,\n",
    "    COUNT(*) AS song_count\n",
    "FROM delta.`{GOLD_PATH}/fact_songs`\n",
    "GROUP BY is_explicit\n",
    "\"\"\")\n",
    "\n",
    "display(analysis4)\n",
    "\n",
    "# Teste de significância estatística\n",
    "from scipy import stats\n",
    "explicit = spark.sql(\"SELECT popularity FROM delta.`dbfs:/mnt/spotify/gold/fact_songs` WHERE is_explicit = true\").toPandas()\n",
    "non_explicit = spark.sql(\"SELECT popularity FROM delta.`dbfs:/mnt/spotify/gold/fact_songs` WHERE is_explicit = false\").toPandas()\n",
    "\n",
    "t_stat, p_value = stats.ttest_ind(explicit['popularity'], non_explicit['popularity'])\n",
    "print(f\"Teste T: estatística={t_stat:.2f}, p-value={p_value:.4f}\")"
   ]
  },
  {
   "cell_type": "code",
   "execution_count": 0,
   "metadata": {
    "application/vnd.databricks.v1+cell": {
     "cellMetadata": {
      "byteLimit": 2048000,
      "rowLimit": 10000
     },
     "inputWidgets": {},
     "nuid": "64ee0fe8-ee8e-4889-bf2d-1af749e070fb",
     "showTitle": false,
     "tableResultSettingsMap": {},
     "title": ""
    }
   },
   "outputs": [
    {
     "output_type": "display_data",
     "data": {
      "text/plain": [
       "\u001B[0;31m---------------------------------------------------------------------------\u001B[0m\n",
       "\u001B[0;31mAnalysisException\u001B[0m                         Traceback (most recent call last)\n",
       "File \u001B[0;32m<command-606864600313564>:2\u001B[0m\n",
       "\u001B[1;32m      1\u001B[0m \u001B[38;5;66;03m# 5. Comparação Cultural entre Países\u001B[39;00m\n",
       "\u001B[0;32m----> 2\u001B[0m analysis5 \u001B[38;5;241m=\u001B[39m spark\u001B[38;5;241m.\u001B[39msql(\u001B[38;5;124mf\u001B[39m\u001B[38;5;124m\"\"\"\u001B[39m\n",
       "\u001B[1;32m      3\u001B[0m \u001B[38;5;124mWITH top_songs AS (\u001B[39m\n",
       "\u001B[1;32m      4\u001B[0m \u001B[38;5;124m    SELECT \u001B[39m\n",
       "\u001B[1;32m      5\u001B[0m \u001B[38;5;124m        country_code,\u001B[39m\n",
       "\u001B[1;32m      6\u001B[0m \u001B[38;5;124m        spotify_id,\u001B[39m\n",
       "\u001B[1;32m      7\u001B[0m \u001B[38;5;124m        FIRST(name) AS song_name,\u001B[39m\n",
       "\u001B[1;32m      8\u001B[0m \u001B[38;5;124m        AVG(daily_rank) AS avg_rank,\u001B[39m\n",
       "\u001B[1;32m      9\u001B[0m \u001B[38;5;124m        ROW_NUMBER() OVER (PARTITION BY country_code ORDER BY COUNT(*) DESC) AS country_rank\u001B[39m\n",
       "\u001B[1;32m     10\u001B[0m \u001B[38;5;124m    FROM delta.`\u001B[39m\u001B[38;5;132;01m{\u001B[39;00mGOLD_PATH\u001B[38;5;132;01m}\u001B[39;00m\u001B[38;5;124m/fact_songs`\u001B[39m\n",
       "\u001B[1;32m     11\u001B[0m \u001B[38;5;124m    WHERE country_code != \u001B[39m\u001B[38;5;124m'\u001B[39m\u001B[38;5;124mGLB\u001B[39m\u001B[38;5;124m'\u001B[39m\n",
       "\u001B[1;32m     12\u001B[0m \u001B[38;5;124m    GROUP BY country_code, spotify_id\u001B[39m\n",
       "\u001B[1;32m     13\u001B[0m \u001B[38;5;124m)\u001B[39m\n",
       "\u001B[1;32m     14\u001B[0m \n",
       "\u001B[1;32m     15\u001B[0m \u001B[38;5;124mSELECT \u001B[39m\n",
       "\u001B[1;32m     16\u001B[0m \u001B[38;5;124m    c.country_code,\u001B[39m\n",
       "\u001B[1;32m     17\u001B[0m \u001B[38;5;124m    t.song_name,\u001B[39m\n",
       "\u001B[1;32m     18\u001B[0m \u001B[38;5;124m    t.avg_rank,\u001B[39m\n",
       "\u001B[1;32m     19\u001B[0m \u001B[38;5;124m    AVG(f.danceability) AS avg_danceability,\u001B[39m\n",
       "\u001B[1;32m     20\u001B[0m \u001B[38;5;124m    AVG(f.energy) AS avg_energy\u001B[39m\n",
       "\u001B[1;32m     21\u001B[0m \u001B[38;5;124mFROM top_songs t\u001B[39m\n",
       "\u001B[1;32m     22\u001B[0m \u001B[38;5;124mJOIN delta.`\u001B[39m\u001B[38;5;132;01m{\u001B[39;00mGOLD_PATH\u001B[38;5;132;01m}\u001B[39;00m\u001B[38;5;124m/fact_songs` f ON t.spotify_id = f.spotify_id\u001B[39m\n",
       "\u001B[1;32m     23\u001B[0m \u001B[38;5;124mJOIN delta.`\u001B[39m\u001B[38;5;132;01m{\u001B[39;00mGOLD_PATH\u001B[38;5;132;01m}\u001B[39;00m\u001B[38;5;124m/dim_country` c ON t.country_code = c.country_code\u001B[39m\n",
       "\u001B[1;32m     24\u001B[0m \u001B[38;5;124mWHERE t.country_rank <= 3  -- Top 3 por país\u001B[39m\n",
       "\u001B[1;32m     25\u001B[0m \u001B[38;5;124mGROUP BY c.country_code, t.song_name, t.avg_rank\u001B[39m\n",
       "\u001B[1;32m     26\u001B[0m \u001B[38;5;124mORDER BY c.country_code, t.avg_rank\u001B[39m\n",
       "\u001B[1;32m     27\u001B[0m \u001B[38;5;124m\"\"\"\u001B[39m)\n",
       "\u001B[1;32m     29\u001B[0m display(analysis5)\n",
       "\u001B[1;32m     31\u001B[0m \u001B[38;5;66;03m# Visualização por atributos musicais\u001B[39;00m\n",
       "\n",
       "File \u001B[0;32m/databricks/spark/python/pyspark/instrumentation_utils.py:48\u001B[0m, in \u001B[0;36m_wrap_function.<locals>.wrapper\u001B[0;34m(*args, **kwargs)\u001B[0m\n",
       "\u001B[1;32m     46\u001B[0m start \u001B[38;5;241m=\u001B[39m time\u001B[38;5;241m.\u001B[39mperf_counter()\n",
       "\u001B[1;32m     47\u001B[0m \u001B[38;5;28;01mtry\u001B[39;00m:\n",
       "\u001B[0;32m---> 48\u001B[0m     res \u001B[38;5;241m=\u001B[39m \u001B[43mfunc\u001B[49m\u001B[43m(\u001B[49m\u001B[38;5;241;43m*\u001B[39;49m\u001B[43margs\u001B[49m\u001B[43m,\u001B[49m\u001B[43m \u001B[49m\u001B[38;5;241;43m*\u001B[39;49m\u001B[38;5;241;43m*\u001B[39;49m\u001B[43mkwargs\u001B[49m\u001B[43m)\u001B[49m\n",
       "\u001B[1;32m     49\u001B[0m     logger\u001B[38;5;241m.\u001B[39mlog_success(\n",
       "\u001B[1;32m     50\u001B[0m         module_name, class_name, function_name, time\u001B[38;5;241m.\u001B[39mperf_counter() \u001B[38;5;241m-\u001B[39m start, signature\n",
       "\u001B[1;32m     51\u001B[0m     )\n",
       "\u001B[1;32m     52\u001B[0m     \u001B[38;5;28;01mreturn\u001B[39;00m res\n",
       "\n",
       "File \u001B[0;32m/databricks/spark/python/pyspark/sql/session.py:1387\u001B[0m, in \u001B[0;36mSparkSession.sql\u001B[0;34m(self, sqlQuery, args, **kwargs)\u001B[0m\n",
       "\u001B[1;32m   1385\u001B[0m \u001B[38;5;28;01mtry\u001B[39;00m:\n",
       "\u001B[1;32m   1386\u001B[0m     litArgs \u001B[38;5;241m=\u001B[39m {k: _to_java_column(lit(v)) \u001B[38;5;28;01mfor\u001B[39;00m k, v \u001B[38;5;129;01min\u001B[39;00m (args \u001B[38;5;129;01mor\u001B[39;00m {})\u001B[38;5;241m.\u001B[39mitems()}\n",
       "\u001B[0;32m-> 1387\u001B[0m     \u001B[38;5;28;01mreturn\u001B[39;00m DataFrame(\u001B[38;5;28;43mself\u001B[39;49m\u001B[38;5;241;43m.\u001B[39;49m\u001B[43m_jsparkSession\u001B[49m\u001B[38;5;241;43m.\u001B[39;49m\u001B[43msql\u001B[49m\u001B[43m(\u001B[49m\u001B[43msqlQuery\u001B[49m\u001B[43m,\u001B[49m\u001B[43m \u001B[49m\u001B[43mlitArgs\u001B[49m\u001B[43m)\u001B[49m, \u001B[38;5;28mself\u001B[39m)\n",
       "\u001B[1;32m   1388\u001B[0m \u001B[38;5;28;01mfinally\u001B[39;00m:\n",
       "\u001B[1;32m   1389\u001B[0m     \u001B[38;5;28;01mif\u001B[39;00m \u001B[38;5;28mlen\u001B[39m(kwargs) \u001B[38;5;241m>\u001B[39m \u001B[38;5;241m0\u001B[39m:\n",
       "\n",
       "File \u001B[0;32m/databricks/spark/python/lib/py4j-0.10.9.5-src.zip/py4j/java_gateway.py:1321\u001B[0m, in \u001B[0;36mJavaMember.__call__\u001B[0;34m(self, *args)\u001B[0m\n",
       "\u001B[1;32m   1315\u001B[0m command \u001B[38;5;241m=\u001B[39m proto\u001B[38;5;241m.\u001B[39mCALL_COMMAND_NAME \u001B[38;5;241m+\u001B[39m\\\n",
       "\u001B[1;32m   1316\u001B[0m     \u001B[38;5;28mself\u001B[39m\u001B[38;5;241m.\u001B[39mcommand_header \u001B[38;5;241m+\u001B[39m\\\n",
       "\u001B[1;32m   1317\u001B[0m     args_command \u001B[38;5;241m+\u001B[39m\\\n",
       "\u001B[1;32m   1318\u001B[0m     proto\u001B[38;5;241m.\u001B[39mEND_COMMAND_PART\n",
       "\u001B[1;32m   1320\u001B[0m answer \u001B[38;5;241m=\u001B[39m \u001B[38;5;28mself\u001B[39m\u001B[38;5;241m.\u001B[39mgateway_client\u001B[38;5;241m.\u001B[39msend_command(command)\n",
       "\u001B[0;32m-> 1321\u001B[0m return_value \u001B[38;5;241m=\u001B[39m \u001B[43mget_return_value\u001B[49m\u001B[43m(\u001B[49m\n",
       "\u001B[1;32m   1322\u001B[0m \u001B[43m    \u001B[49m\u001B[43manswer\u001B[49m\u001B[43m,\u001B[49m\u001B[43m \u001B[49m\u001B[38;5;28;43mself\u001B[39;49m\u001B[38;5;241;43m.\u001B[39;49m\u001B[43mgateway_client\u001B[49m\u001B[43m,\u001B[49m\u001B[43m \u001B[49m\u001B[38;5;28;43mself\u001B[39;49m\u001B[38;5;241;43m.\u001B[39;49m\u001B[43mtarget_id\u001B[49m\u001B[43m,\u001B[49m\u001B[43m \u001B[49m\u001B[38;5;28;43mself\u001B[39;49m\u001B[38;5;241;43m.\u001B[39;49m\u001B[43mname\u001B[49m\u001B[43m)\u001B[49m\n",
       "\u001B[1;32m   1324\u001B[0m \u001B[38;5;28;01mfor\u001B[39;00m temp_arg \u001B[38;5;129;01min\u001B[39;00m temp_args:\n",
       "\u001B[1;32m   1325\u001B[0m     temp_arg\u001B[38;5;241m.\u001B[39m_detach()\n",
       "\n",
       "File \u001B[0;32m/databricks/spark/python/pyspark/errors/exceptions.py:234\u001B[0m, in \u001B[0;36mcapture_sql_exception.<locals>.deco\u001B[0;34m(*a, **kw)\u001B[0m\n",
       "\u001B[1;32m    230\u001B[0m converted \u001B[38;5;241m=\u001B[39m convert_exception(e\u001B[38;5;241m.\u001B[39mjava_exception)\n",
       "\u001B[1;32m    231\u001B[0m \u001B[38;5;28;01mif\u001B[39;00m \u001B[38;5;129;01mnot\u001B[39;00m \u001B[38;5;28misinstance\u001B[39m(converted, UnknownException):\n",
       "\u001B[1;32m    232\u001B[0m     \u001B[38;5;66;03m# Hide where the exception came from that shows a non-Pythonic\u001B[39;00m\n",
       "\u001B[1;32m    233\u001B[0m     \u001B[38;5;66;03m# JVM exception message.\u001B[39;00m\n",
       "\u001B[0;32m--> 234\u001B[0m     \u001B[38;5;28;01mraise\u001B[39;00m converted \u001B[38;5;28;01mfrom\u001B[39;00m \u001B[38;5;28mNone\u001B[39m\n",
       "\u001B[1;32m    235\u001B[0m \u001B[38;5;28;01melse\u001B[39;00m:\n",
       "\u001B[1;32m    236\u001B[0m     \u001B[38;5;28;01mraise\u001B[39;00m\n",
       "\n",
       "\u001B[0;31mAnalysisException\u001B[0m: [UNRESOLVED_COLUMN.WITH_SUGGESTION] A column or function parameter with name `name` cannot be resolved. Did you mean one of the following? [`spark_catalog`.`delta`.`dbfs:/mnt/spotify/gold/fact_songs`.`date`, `spark_catalog`.`delta`.`dbfs:/mnt/spotify/gold/fact_songs`.`energy`, `spark_catalog`.`delta`.`dbfs:/mnt/spotify/gold/fact_songs`.`valence`, `spark_catalog`.`delta`.`dbfs:/mnt/spotify/gold/fact_songs`.`loudness`, `spark_catalog`.`delta`.`dbfs:/mnt/spotify/gold/fact_songs`.`artist_id`].; line 6 pos 14;\n",
       "'WithCTE\n",
       ":- 'CTERelationDef 0, false\n",
       ":  +- 'SubqueryAlias top_songs\n",
       ":     +- 'Aggregate [country_code#34763, spotify_id#34761], [country_code#34763, spotify_id#34761, first('name, false) AS song_name#34743, avg(daily_rank#34765) AS avg_rank#34744, row_number() windowspecdefinition(country_code#34763, count(1) DESC NULLS LAST, specifiedwindowframe(RowFrame, unboundedpreceding$(), currentrow$())) AS country_rank#34745]\n",
       ":        +- Filter NOT (country_code#34763 = GLB)\n",
       ":           +- SubqueryAlias spark_catalog.delta.`dbfs:/mnt/spotify/gold/fact_songs`\n",
       ":              +- Relation [spotify_id#34761,date#34762,country_code#34763,artist_id#34764,daily_rank#34765,popularity#34766,danceability#34767,energy#34768,duration_min#34769,is_explicit#34770,loudness#34771,valence#34772] parquet\n",
       "+- 'Sort ['c.country_code ASC NULLS FIRST, 't.avg_rank ASC NULLS FIRST], true\n",
       "   +- 'Aggregate ['c.country_code, 't.song_name, 't.avg_rank], ['c.country_code, 't.song_name, 't.avg_rank, 'AVG('f.danceability) AS avg_danceability#34740, 'AVG('f.energy) AS avg_energy#34741]\n",
       "      +- 'Filter ('t.country_rank <= 3)\n",
       "         +- 'Join Inner, ('t.country_code = 'c.country_code)\n",
       "            :- 'Join Inner, ('t.spotify_id = 'f.spotify_id)\n",
       "            :  :- 'SubqueryAlias t\n",
       "            :  :  +- 'SubqueryAlias top_songs\n",
       "            :  :     +- 'CTERelationRef 0, false\n",
       "            :  +- SubqueryAlias f\n",
       "            :     +- SubqueryAlias spark_catalog.delta.`dbfs:/mnt/spotify/gold/fact_songs`\n",
       "            :        +- Relation [spotify_id#34773,date#34774,country_code#34775,artist_id#34776,daily_rank#34777,popularity#34778,danceability#34779,energy#34780,duration_min#34781,is_explicit#34782,loudness#34783,valence#34784] parquet\n",
       "            +- SubqueryAlias c\n",
       "               +- SubqueryAlias spark_catalog.delta.`dbfs:/mnt/spotify/gold/dim_country`\n",
       "                  +- Relation [country_code#34785,country_name#34786,is_global#34787] parquet\n"
      ]
     },
     "metadata": {
      "application/vnd.databricks.v1+output": {
       "arguments": {},
       "data": "\u001B[0;31m---------------------------------------------------------------------------\u001B[0m\n\u001B[0;31mAnalysisException\u001B[0m                         Traceback (most recent call last)\nFile \u001B[0;32m<command-606864600313564>:2\u001B[0m\n\u001B[1;32m      1\u001B[0m \u001B[38;5;66;03m# 5. Comparação Cultural entre Países\u001B[39;00m\n\u001B[0;32m----> 2\u001B[0m analysis5 \u001B[38;5;241m=\u001B[39m spark\u001B[38;5;241m.\u001B[39msql(\u001B[38;5;124mf\u001B[39m\u001B[38;5;124m\"\"\"\u001B[39m\n\u001B[1;32m      3\u001B[0m \u001B[38;5;124mWITH top_songs AS (\u001B[39m\n\u001B[1;32m      4\u001B[0m \u001B[38;5;124m    SELECT \u001B[39m\n\u001B[1;32m      5\u001B[0m \u001B[38;5;124m        country_code,\u001B[39m\n\u001B[1;32m      6\u001B[0m \u001B[38;5;124m        spotify_id,\u001B[39m\n\u001B[1;32m      7\u001B[0m \u001B[38;5;124m        FIRST(name) AS song_name,\u001B[39m\n\u001B[1;32m      8\u001B[0m \u001B[38;5;124m        AVG(daily_rank) AS avg_rank,\u001B[39m\n\u001B[1;32m      9\u001B[0m \u001B[38;5;124m        ROW_NUMBER() OVER (PARTITION BY country_code ORDER BY COUNT(*) DESC) AS country_rank\u001B[39m\n\u001B[1;32m     10\u001B[0m \u001B[38;5;124m    FROM delta.`\u001B[39m\u001B[38;5;132;01m{\u001B[39;00mGOLD_PATH\u001B[38;5;132;01m}\u001B[39;00m\u001B[38;5;124m/fact_songs`\u001B[39m\n\u001B[1;32m     11\u001B[0m \u001B[38;5;124m    WHERE country_code != \u001B[39m\u001B[38;5;124m'\u001B[39m\u001B[38;5;124mGLB\u001B[39m\u001B[38;5;124m'\u001B[39m\n\u001B[1;32m     12\u001B[0m \u001B[38;5;124m    GROUP BY country_code, spotify_id\u001B[39m\n\u001B[1;32m     13\u001B[0m \u001B[38;5;124m)\u001B[39m\n\u001B[1;32m     14\u001B[0m \n\u001B[1;32m     15\u001B[0m \u001B[38;5;124mSELECT \u001B[39m\n\u001B[1;32m     16\u001B[0m \u001B[38;5;124m    c.country_code,\u001B[39m\n\u001B[1;32m     17\u001B[0m \u001B[38;5;124m    t.song_name,\u001B[39m\n\u001B[1;32m     18\u001B[0m \u001B[38;5;124m    t.avg_rank,\u001B[39m\n\u001B[1;32m     19\u001B[0m \u001B[38;5;124m    AVG(f.danceability) AS avg_danceability,\u001B[39m\n\u001B[1;32m     20\u001B[0m \u001B[38;5;124m    AVG(f.energy) AS avg_energy\u001B[39m\n\u001B[1;32m     21\u001B[0m \u001B[38;5;124mFROM top_songs t\u001B[39m\n\u001B[1;32m     22\u001B[0m \u001B[38;5;124mJOIN delta.`\u001B[39m\u001B[38;5;132;01m{\u001B[39;00mGOLD_PATH\u001B[38;5;132;01m}\u001B[39;00m\u001B[38;5;124m/fact_songs` f ON t.spotify_id = f.spotify_id\u001B[39m\n\u001B[1;32m     23\u001B[0m \u001B[38;5;124mJOIN delta.`\u001B[39m\u001B[38;5;132;01m{\u001B[39;00mGOLD_PATH\u001B[38;5;132;01m}\u001B[39;00m\u001B[38;5;124m/dim_country` c ON t.country_code = c.country_code\u001B[39m\n\u001B[1;32m     24\u001B[0m \u001B[38;5;124mWHERE t.country_rank <= 3  -- Top 3 por país\u001B[39m\n\u001B[1;32m     25\u001B[0m \u001B[38;5;124mGROUP BY c.country_code, t.song_name, t.avg_rank\u001B[39m\n\u001B[1;32m     26\u001B[0m \u001B[38;5;124mORDER BY c.country_code, t.avg_rank\u001B[39m\n\u001B[1;32m     27\u001B[0m \u001B[38;5;124m\"\"\"\u001B[39m)\n\u001B[1;32m     29\u001B[0m display(analysis5)\n\u001B[1;32m     31\u001B[0m \u001B[38;5;66;03m# Visualização por atributos musicais\u001B[39;00m\n\nFile \u001B[0;32m/databricks/spark/python/pyspark/instrumentation_utils.py:48\u001B[0m, in \u001B[0;36m_wrap_function.<locals>.wrapper\u001B[0;34m(*args, **kwargs)\u001B[0m\n\u001B[1;32m     46\u001B[0m start \u001B[38;5;241m=\u001B[39m time\u001B[38;5;241m.\u001B[39mperf_counter()\n\u001B[1;32m     47\u001B[0m \u001B[38;5;28;01mtry\u001B[39;00m:\n\u001B[0;32m---> 48\u001B[0m     res \u001B[38;5;241m=\u001B[39m \u001B[43mfunc\u001B[49m\u001B[43m(\u001B[49m\u001B[38;5;241;43m*\u001B[39;49m\u001B[43margs\u001B[49m\u001B[43m,\u001B[49m\u001B[43m \u001B[49m\u001B[38;5;241;43m*\u001B[39;49m\u001B[38;5;241;43m*\u001B[39;49m\u001B[43mkwargs\u001B[49m\u001B[43m)\u001B[49m\n\u001B[1;32m     49\u001B[0m     logger\u001B[38;5;241m.\u001B[39mlog_success(\n\u001B[1;32m     50\u001B[0m         module_name, class_name, function_name, time\u001B[38;5;241m.\u001B[39mperf_counter() \u001B[38;5;241m-\u001B[39m start, signature\n\u001B[1;32m     51\u001B[0m     )\n\u001B[1;32m     52\u001B[0m     \u001B[38;5;28;01mreturn\u001B[39;00m res\n\nFile \u001B[0;32m/databricks/spark/python/pyspark/sql/session.py:1387\u001B[0m, in \u001B[0;36mSparkSession.sql\u001B[0;34m(self, sqlQuery, args, **kwargs)\u001B[0m\n\u001B[1;32m   1385\u001B[0m \u001B[38;5;28;01mtry\u001B[39;00m:\n\u001B[1;32m   1386\u001B[0m     litArgs \u001B[38;5;241m=\u001B[39m {k: _to_java_column(lit(v)) \u001B[38;5;28;01mfor\u001B[39;00m k, v \u001B[38;5;129;01min\u001B[39;00m (args \u001B[38;5;129;01mor\u001B[39;00m {})\u001B[38;5;241m.\u001B[39mitems()}\n\u001B[0;32m-> 1387\u001B[0m     \u001B[38;5;28;01mreturn\u001B[39;00m DataFrame(\u001B[38;5;28;43mself\u001B[39;49m\u001B[38;5;241;43m.\u001B[39;49m\u001B[43m_jsparkSession\u001B[49m\u001B[38;5;241;43m.\u001B[39;49m\u001B[43msql\u001B[49m\u001B[43m(\u001B[49m\u001B[43msqlQuery\u001B[49m\u001B[43m,\u001B[49m\u001B[43m \u001B[49m\u001B[43mlitArgs\u001B[49m\u001B[43m)\u001B[49m, \u001B[38;5;28mself\u001B[39m)\n\u001B[1;32m   1388\u001B[0m \u001B[38;5;28;01mfinally\u001B[39;00m:\n\u001B[1;32m   1389\u001B[0m     \u001B[38;5;28;01mif\u001B[39;00m \u001B[38;5;28mlen\u001B[39m(kwargs) \u001B[38;5;241m>\u001B[39m \u001B[38;5;241m0\u001B[39m:\n\nFile \u001B[0;32m/databricks/spark/python/lib/py4j-0.10.9.5-src.zip/py4j/java_gateway.py:1321\u001B[0m, in \u001B[0;36mJavaMember.__call__\u001B[0;34m(self, *args)\u001B[0m\n\u001B[1;32m   1315\u001B[0m command \u001B[38;5;241m=\u001B[39m proto\u001B[38;5;241m.\u001B[39mCALL_COMMAND_NAME \u001B[38;5;241m+\u001B[39m\\\n\u001B[1;32m   1316\u001B[0m     \u001B[38;5;28mself\u001B[39m\u001B[38;5;241m.\u001B[39mcommand_header \u001B[38;5;241m+\u001B[39m\\\n\u001B[1;32m   1317\u001B[0m     args_command \u001B[38;5;241m+\u001B[39m\\\n\u001B[1;32m   1318\u001B[0m     proto\u001B[38;5;241m.\u001B[39mEND_COMMAND_PART\n\u001B[1;32m   1320\u001B[0m answer \u001B[38;5;241m=\u001B[39m \u001B[38;5;28mself\u001B[39m\u001B[38;5;241m.\u001B[39mgateway_client\u001B[38;5;241m.\u001B[39msend_command(command)\n\u001B[0;32m-> 1321\u001B[0m return_value \u001B[38;5;241m=\u001B[39m \u001B[43mget_return_value\u001B[49m\u001B[43m(\u001B[49m\n\u001B[1;32m   1322\u001B[0m \u001B[43m    \u001B[49m\u001B[43manswer\u001B[49m\u001B[43m,\u001B[49m\u001B[43m \u001B[49m\u001B[38;5;28;43mself\u001B[39;49m\u001B[38;5;241;43m.\u001B[39;49m\u001B[43mgateway_client\u001B[49m\u001B[43m,\u001B[49m\u001B[43m \u001B[49m\u001B[38;5;28;43mself\u001B[39;49m\u001B[38;5;241;43m.\u001B[39;49m\u001B[43mtarget_id\u001B[49m\u001B[43m,\u001B[49m\u001B[43m \u001B[49m\u001B[38;5;28;43mself\u001B[39;49m\u001B[38;5;241;43m.\u001B[39;49m\u001B[43mname\u001B[49m\u001B[43m)\u001B[49m\n\u001B[1;32m   1324\u001B[0m \u001B[38;5;28;01mfor\u001B[39;00m temp_arg \u001B[38;5;129;01min\u001B[39;00m temp_args:\n\u001B[1;32m   1325\u001B[0m     temp_arg\u001B[38;5;241m.\u001B[39m_detach()\n\nFile \u001B[0;32m/databricks/spark/python/pyspark/errors/exceptions.py:234\u001B[0m, in \u001B[0;36mcapture_sql_exception.<locals>.deco\u001B[0;34m(*a, **kw)\u001B[0m\n\u001B[1;32m    230\u001B[0m converted \u001B[38;5;241m=\u001B[39m convert_exception(e\u001B[38;5;241m.\u001B[39mjava_exception)\n\u001B[1;32m    231\u001B[0m \u001B[38;5;28;01mif\u001B[39;00m \u001B[38;5;129;01mnot\u001B[39;00m \u001B[38;5;28misinstance\u001B[39m(converted, UnknownException):\n\u001B[1;32m    232\u001B[0m     \u001B[38;5;66;03m# Hide where the exception came from that shows a non-Pythonic\u001B[39;00m\n\u001B[1;32m    233\u001B[0m     \u001B[38;5;66;03m# JVM exception message.\u001B[39;00m\n\u001B[0;32m--> 234\u001B[0m     \u001B[38;5;28;01mraise\u001B[39;00m converted \u001B[38;5;28;01mfrom\u001B[39;00m \u001B[38;5;28mNone\u001B[39m\n\u001B[1;32m    235\u001B[0m \u001B[38;5;28;01melse\u001B[39;00m:\n\u001B[1;32m    236\u001B[0m     \u001B[38;5;28;01mraise\u001B[39;00m\n\n\u001B[0;31mAnalysisException\u001B[0m: [UNRESOLVED_COLUMN.WITH_SUGGESTION] A column or function parameter with name `name` cannot be resolved. Did you mean one of the following? [`spark_catalog`.`delta`.`dbfs:/mnt/spotify/gold/fact_songs`.`date`, `spark_catalog`.`delta`.`dbfs:/mnt/spotify/gold/fact_songs`.`energy`, `spark_catalog`.`delta`.`dbfs:/mnt/spotify/gold/fact_songs`.`valence`, `spark_catalog`.`delta`.`dbfs:/mnt/spotify/gold/fact_songs`.`loudness`, `spark_catalog`.`delta`.`dbfs:/mnt/spotify/gold/fact_songs`.`artist_id`].; line 6 pos 14;\n'WithCTE\n:- 'CTERelationDef 0, false\n:  +- 'SubqueryAlias top_songs\n:     +- 'Aggregate [country_code#34763, spotify_id#34761], [country_code#34763, spotify_id#34761, first('name, false) AS song_name#34743, avg(daily_rank#34765) AS avg_rank#34744, row_number() windowspecdefinition(country_code#34763, count(1) DESC NULLS LAST, specifiedwindowframe(RowFrame, unboundedpreceding$(), currentrow$())) AS country_rank#34745]\n:        +- Filter NOT (country_code#34763 = GLB)\n:           +- SubqueryAlias spark_catalog.delta.`dbfs:/mnt/spotify/gold/fact_songs`\n:              +- Relation [spotify_id#34761,date#34762,country_code#34763,artist_id#34764,daily_rank#34765,popularity#34766,danceability#34767,energy#34768,duration_min#34769,is_explicit#34770,loudness#34771,valence#34772] parquet\n+- 'Sort ['c.country_code ASC NULLS FIRST, 't.avg_rank ASC NULLS FIRST], true\n   +- 'Aggregate ['c.country_code, 't.song_name, 't.avg_rank], ['c.country_code, 't.song_name, 't.avg_rank, 'AVG('f.danceability) AS avg_danceability#34740, 'AVG('f.energy) AS avg_energy#34741]\n      +- 'Filter ('t.country_rank <= 3)\n         +- 'Join Inner, ('t.country_code = 'c.country_code)\n            :- 'Join Inner, ('t.spotify_id = 'f.spotify_id)\n            :  :- 'SubqueryAlias t\n            :  :  +- 'SubqueryAlias top_songs\n            :  :     +- 'CTERelationRef 0, false\n            :  +- SubqueryAlias f\n            :     +- SubqueryAlias spark_catalog.delta.`dbfs:/mnt/spotify/gold/fact_songs`\n            :        +- Relation [spotify_id#34773,date#34774,country_code#34775,artist_id#34776,daily_rank#34777,popularity#34778,danceability#34779,energy#34780,duration_min#34781,is_explicit#34782,loudness#34783,valence#34784] parquet\n            +- SubqueryAlias c\n               +- SubqueryAlias spark_catalog.delta.`dbfs:/mnt/spotify/gold/dim_country`\n                  +- Relation [country_code#34785,country_name#34786,is_global#34787] parquet\n",
       "errorSummary": "<span class='ansi-red-fg'>AnalysisException</span>: [UNRESOLVED_COLUMN.WITH_SUGGESTION] A column or function parameter with name `name` cannot be resolved. Did you mean one of the following? [`spark_catalog`.`delta`.`dbfs:/mnt/spotify/gold/fact_songs`.`date`, `spark_catalog`.`delta`.`dbfs:/mnt/spotify/gold/fact_songs`.`energy`, `spark_catalog`.`delta`.`dbfs:/mnt/spotify/gold/fact_songs`.`valence`, `spark_catalog`.`delta`.`dbfs:/mnt/spotify/gold/fact_songs`.`loudness`, `spark_catalog`.`delta`.`dbfs:/mnt/spotify/gold/fact_songs`.`artist_id`].; line 6 pos 14;\n'WithCTE\n:- 'CTERelationDef 0, false\n:  +- 'SubqueryAlias top_songs\n:     +- 'Aggregate [country_code#34763, spotify_id#34761], [country_code#34763, spotify_id#34761, first('name, false) AS song_name#34743, avg(daily_rank#34765) AS avg_rank#34744, row_number() windowspecdefinition(country_code#34763, count(1) DESC NULLS LAST, specifiedwindowframe(RowFrame, unboundedpreceding$(), currentrow$())) AS country_rank#34745]\n:        +- Filter NOT (country_code#34763 = GLB)\n:           +- SubqueryAlias spark_catalog.delta.`dbfs:/mnt/spotify/gold/fact_songs`\n:              +- Relation [spotify_id#34761,date#34762,country_code#34763,artist_id#34764,daily_rank#34765,popularity#34766,danceability#34767,energy#34768,duration_min#34769,is_explicit#34770,loudness#34771,valence#34772] parquet\n+- 'Sort ['c.country_code ASC NULLS FIRST, 't.avg_rank ASC NULLS FIRST], true\n   +- 'Aggregate ['c.country_code, 't.song_name, 't.avg_rank], ['c.country_code, 't.song_name, 't.avg_rank, 'AVG('f.danceability) AS avg_danceability#34740, 'AVG('f.energy) AS avg_energy#34741]\n      +- 'Filter ('t.country_rank <= 3)\n         +- 'Join Inner, ('t.country_code = 'c.country_code)\n            :- 'Join Inner, ('t.spotify_id = 'f.spotify_id)\n            :  :- 'SubqueryAlias t\n            :  :  +- 'SubqueryAlias top_songs\n            :  :     +- 'CTERelationRef 0, false\n            :  +- SubqueryAlias f\n            :     +- SubqueryAlias spark_catalog.delta.`dbfs:/mnt/spotify/gold/fact_songs`\n            :        +- Relation [spotify_id#34773,date#34774,country_code#34775,artist_id#34776,daily_rank#34777,popularity#34778,danceability#34779,energy#34780,duration_min#34781,is_explicit#34782,loudness#34783,valence#34784] parquet\n            +- SubqueryAlias c\n               +- SubqueryAlias spark_catalog.delta.`dbfs:/mnt/spotify/gold/dim_country`\n                  +- Relation [country_code#34785,country_name#34786,is_global#34787] parquet\n",
       "errorTraceType": "ansi",
       "metadata": {},
       "type": "ipynbError"
      }
     },
     "output_type": "display_data"
    }
   ],
   "source": [
    "# 5. Comparação Cultural entre Países\n",
    "analysis5 = spark.sql(f\"\"\"\n",
    "WITH top_songs AS (\n",
    "    SELECT \n",
    "        country_code,\n",
    "        spotify_id,\n",
    "        FIRST(name) AS song_name,\n",
    "        AVG(daily_rank) AS avg_rank,\n",
    "        ROW_NUMBER() OVER (PARTITION BY country_code ORDER BY COUNT(*) DESC) AS country_rank\n",
    "    FROM delta.`{GOLD_PATH}/fact_songs`\n",
    "    WHERE country_code != 'GLB'\n",
    "    GROUP BY country_code, spotify_id\n",
    ")\n",
    "\n",
    "SELECT \n",
    "    c.country_code,\n",
    "    t.song_name,\n",
    "    t.avg_rank,\n",
    "    AVG(f.danceability) AS avg_danceability,\n",
    "    AVG(f.energy) AS avg_energy\n",
    "FROM top_songs t\n",
    "JOIN delta.`{GOLD_PATH}/fact_songs` f ON t.spotify_id = f.spotify_id\n",
    "JOIN delta.`{GOLD_PATH}/dim_country` c ON t.country_code = c.country_code\n",
    "WHERE t.country_rank <= 3  -- Top 3 por país\n",
    "GROUP BY c.country_code, t.song_name, t.avg_rank\n",
    "ORDER BY c.country_code, t.avg_rank\n",
    "\"\"\")\n",
    "\n",
    "display(analysis5)\n",
    "\n",
    "# Visualização por atributos musicais\n",
    "plt.figure(figsize=(12,6))\n",
    "sns.scatterplot(x=\"avg_danceability\", y=\"avg_energy\", \n",
    "                hue=\"country_code\", size=\"avg_rank\",\n",
    "                data=analysis5.toPandas())\n",
    "plt.title(\"Preferências Musicais por País (Danceability vs Energy)\")\n",
    "plt.show()"
   ]
  }
 ],
 "metadata": {
  "application/vnd.databricks.v1+notebook": {
   "computePreferences": null,
   "dashboards": [],
   "environmentMetadata": {
    "base_environment": "",
    "environment_version": "1"
   },
   "inputWidgetPreferences": null,
   "language": "python",
   "notebookMetadata": {
    "pythonIndentUnit": 4
   },
   "notebookName": "Spotify_MVP",
   "widgets": {}
  }
 },
 "nbformat": 4,
 "nbformat_minor": 0
}